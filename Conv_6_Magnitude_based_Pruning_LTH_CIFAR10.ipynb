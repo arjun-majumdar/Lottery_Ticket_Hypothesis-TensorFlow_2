{
 "cells": [
  {
   "cell_type": "markdown",
   "metadata": {},
   "source": [
    "# Lottery Ticket Hypothesis: _Conv-6_ CNN for CIFAR10\n",
    "\n",
    "Implementation of the hypothesis using 4 convolutional layers with the following architecture:\n",
    "\n",
    "1. __Convolutional Layers:__ 64, 64, pool\n",
    "1. __Convolutional Layers:__ 128, 128, pool\n",
    "1. __Convolutional Layers:__ 256, 256, pool\n",
    "1. __Dense Layers:__ 256, 256, 10\n",
    "\n",
    "Filter/Kernel size for convolutional layers is 3 x 3, with padding and stride of 1.\n",
    "\n",
    "Filter and Stride for max-pooling layers is 2 x 2"
   ]
  },
  {
   "cell_type": "code",
   "execution_count": 1,
   "metadata": {},
   "outputs": [
    {
     "name": "stderr",
     "output_type": "stream",
     "text": [
      "/opt/conda/lib/python3.7/site-packages/tensorboard/compat/tensorflow_stub/dtypes.py:541: FutureWarning: Passing (type, 1) or '1type' as a synonym of type is deprecated; in a future version of numpy, it will be understood as (type, (1,)) / '(1,)type'.\n",
      "  _np_qint8 = np.dtype([(\"qint8\", np.int8, 1)])\n",
      "/opt/conda/lib/python3.7/site-packages/tensorboard/compat/tensorflow_stub/dtypes.py:542: FutureWarning: Passing (type, 1) or '1type' as a synonym of type is deprecated; in a future version of numpy, it will be understood as (type, (1,)) / '(1,)type'.\n",
      "  _np_quint8 = np.dtype([(\"quint8\", np.uint8, 1)])\n",
      "/opt/conda/lib/python3.7/site-packages/tensorboard/compat/tensorflow_stub/dtypes.py:543: FutureWarning: Passing (type, 1) or '1type' as a synonym of type is deprecated; in a future version of numpy, it will be understood as (type, (1,)) / '(1,)type'.\n",
      "  _np_qint16 = np.dtype([(\"qint16\", np.int16, 1)])\n",
      "/opt/conda/lib/python3.7/site-packages/tensorboard/compat/tensorflow_stub/dtypes.py:544: FutureWarning: Passing (type, 1) or '1type' as a synonym of type is deprecated; in a future version of numpy, it will be understood as (type, (1,)) / '(1,)type'.\n",
      "  _np_quint16 = np.dtype([(\"quint16\", np.uint16, 1)])\n",
      "/opt/conda/lib/python3.7/site-packages/tensorboard/compat/tensorflow_stub/dtypes.py:545: FutureWarning: Passing (type, 1) or '1type' as a synonym of type is deprecated; in a future version of numpy, it will be understood as (type, (1,)) / '(1,)type'.\n",
      "  _np_qint32 = np.dtype([(\"qint32\", np.int32, 1)])\n",
      "/opt/conda/lib/python3.7/site-packages/tensorboard/compat/tensorflow_stub/dtypes.py:550: FutureWarning: Passing (type, 1) or '1type' as a synonym of type is deprecated; in a future version of numpy, it will be understood as (type, (1,)) / '(1,)type'.\n",
      "  np_resource = np.dtype([(\"resource\", np.ubyte, 1)])\n"
     ]
    }
   ],
   "source": [
    "import tensorflow as tf\n",
    "import numpy as np\n",
    "import matplotlib.pyplot as plt\n",
    "import math\n",
    "import tensorflow_model_optimization as tfmot\n",
    "from tensorflow_model_optimization.sparsity import keras as sparsity\n",
    "# from tensorflow.keras import datasets, layers, models\n",
    "import matplotlib.pyplot as plt\n",
    "from tensorflow.keras.layers import AveragePooling2D, Conv2D, MaxPooling2D, ReLU\n",
    "from tensorflow.keras import models, layers, datasets\n",
    "from tensorflow.keras.layers import Dense, Flatten, Reshape, Input, InputLayer\n",
    "from tensorflow.keras.models import Sequential, Model\n",
    "from tensorflow.keras.initializers import RandomNormal\n",
    "# import math\n",
    "from sklearn.metrics import accuracy_score, precision_score, recall_score"
   ]
  },
  {
   "cell_type": "code",
   "execution_count": null,
   "metadata": {},
   "outputs": [],
   "source": []
  },
  {
   "cell_type": "code",
   "execution_count": null,
   "metadata": {},
   "outputs": [],
   "source": []
  },
  {
   "cell_type": "code",
   "execution_count": 2,
   "metadata": {},
   "outputs": [
    {
     "data": {
      "text/plain": [
       "'2.0.0'"
      ]
     },
     "execution_count": 2,
     "metadata": {},
     "output_type": "execute_result"
    }
   ],
   "source": [
    "tf.__version__"
   ]
  },
  {
   "cell_type": "code",
   "execution_count": 3,
   "metadata": {},
   "outputs": [
    {
     "name": "stdout",
     "output_type": "stream",
     "text": [
      "env: CUDA_DEVICE_ORDER=PCI_BUS_ID\n",
      "env: CUDA_VISIBLE_DEVICES=2\n"
     ]
    }
   ],
   "source": [
    "%env CUDA_DEVICE_ORDER=PCI_BUS_ID\n",
    "%env CUDA_VISIBLE_DEVICES = 2"
   ]
  },
  {
   "cell_type": "code",
   "execution_count": 4,
   "metadata": {},
   "outputs": [],
   "source": [
    "batch_size = 60\n",
    "num_classes = 10\n",
    "num_epochs = 100"
   ]
  },
  {
   "cell_type": "code",
   "execution_count": 5,
   "metadata": {},
   "outputs": [],
   "source": [
    "# Data preprocessing and cleaning:\n",
    "# input image dimensions\n",
    "img_rows, img_cols = 32, 32\n",
    "\n",
    "# Load CIFAR-10 dataset-\n",
    "(X_train, y_train), (X_test, y_test) = tf.keras.datasets.cifar10.load_data()"
   ]
  },
  {
   "cell_type": "code",
   "execution_count": 6,
   "metadata": {},
   "outputs": [
    {
     "name": "stdout",
     "output_type": "stream",
     "text": [
      "\n",
      "'input_shape' which will be used = (32, 32, 3)\n",
      "\n"
     ]
    }
   ],
   "source": [
    "if tf.keras.backend.image_data_format() == 'channels_first':\n",
    "    X_train = X_train.reshape(X_train.shape[0], 3, img_rows, img_cols)\n",
    "    X_test = X_test.reshape(X_test.shape[0], 3, img_rows, img_cols)\n",
    "    input_shape = (3, img_rows, img_cols)\n",
    "else:\n",
    "    X_train = X_train.reshape(X_train.shape[0], img_rows, img_cols, 3)\n",
    "    X_test = X_test.reshape(X_test.shape[0], img_rows, img_cols, 3)\n",
    "    input_shape = (img_rows, img_cols, 3)\n",
    "\n",
    "print(\"\\n'input_shape' which will be used = {0}\\n\".format(input_shape))"
   ]
  },
  {
   "cell_type": "code",
   "execution_count": 7,
   "metadata": {},
   "outputs": [],
   "source": [
    "# Convert datasets to floating point types-\n",
    "X_train = X_train.astype('float32')\n",
    "X_test = X_test.astype('float32')\n",
    "\n",
    "# Normalize the training and testing datasets-\n",
    "X_train /= 255.0\n",
    "X_test /= 255.0"
   ]
  },
  {
   "cell_type": "code",
   "execution_count": 8,
   "metadata": {},
   "outputs": [],
   "source": [
    "# convert class vectors/target to binary class matrices or one-hot encoded values-\n",
    "y_train = tf.keras.utils.to_categorical(y_train, num_classes)\n",
    "y_test = tf.keras.utils.to_categorical(y_test, num_classes)"
   ]
  },
  {
   "cell_type": "code",
   "execution_count": 9,
   "metadata": {},
   "outputs": [
    {
     "name": "stdout",
     "output_type": "stream",
     "text": [
      "\n",
      "Dimensions of training and testing sets are:\n",
      "X_train.shape = (50000, 32, 32, 3), y_train.shape = (50000, 10)\n",
      "X_test.shape = (10000, 32, 32, 3), y_test.shape = (10000, 10)\n"
     ]
    }
   ],
   "source": [
    "print(\"\\nDimensions of training and testing sets are:\")\n",
    "print(\"X_train.shape = {0}, y_train.shape = {1}\".format(X_train.shape, y_train.shape))\n",
    "print(\"X_test.shape = {0}, y_test.shape = {1}\".format(X_test.shape, y_test.shape))"
   ]
  },
  {
   "cell_type": "code",
   "execution_count": null,
   "metadata": {},
   "outputs": [],
   "source": []
  },
  {
   "cell_type": "code",
   "execution_count": null,
   "metadata": {},
   "outputs": [],
   "source": []
  },
  {
   "cell_type": "markdown",
   "metadata": {},
   "source": [
    "### Prepare CIFAR10 dataset for _GradientTape_ training:"
   ]
  },
  {
   "cell_type": "code",
   "execution_count": 10,
   "metadata": {},
   "outputs": [],
   "source": [
    "# Create training and testing datasets-\n",
    "train_dataset = tf.data.Dataset.from_tensor_slices((X_train, y_train))\n",
    "test_dataset = tf.data.Dataset.from_tensor_slices((X_test, y_test))"
   ]
  },
  {
   "cell_type": "code",
   "execution_count": 11,
   "metadata": {},
   "outputs": [],
   "source": [
    "train_dataset = train_dataset.shuffle(buffer_size = 20000, reshuffle_each_iteration = True).batch(batch_size = batch_size, drop_remainder = False)"
   ]
  },
  {
   "cell_type": "code",
   "execution_count": 12,
   "metadata": {},
   "outputs": [],
   "source": [
    "test_dataset = test_dataset.batch(batch_size=batch_size, drop_remainder=False)"
   ]
  },
  {
   "cell_type": "code",
   "execution_count": 13,
   "metadata": {},
   "outputs": [],
   "source": [
    "# Choose an optimizer and loss function for training-\n",
    "loss_fn = tf.keras.losses.CategoricalCrossentropy()\n",
    "optimizer = tf.keras.optimizers.Adam(lr = 0.0003)"
   ]
  },
  {
   "cell_type": "code",
   "execution_count": 14,
   "metadata": {},
   "outputs": [],
   "source": [
    "# Select metrics to measure the error & accuracy of model.\n",
    "# These metrics accumulate the values over epochs and then\n",
    "# print the overall result-\n",
    "train_loss = tf.keras.metrics.Mean(name = 'train_loss')\n",
    "train_accuracy = tf.keras.metrics.CategoricalAccuracy(name = 'train_accuracy')\n",
    "\n",
    "test_loss = tf.keras.metrics.Mean(name = 'test_loss')\n",
    "test_accuracy = tf.keras.metrics.CategoricalAccuracy(name = 'test_accuracy')"
   ]
  },
  {
   "cell_type": "code",
   "execution_count": null,
   "metadata": {},
   "outputs": [],
   "source": []
  },
  {
   "cell_type": "code",
   "execution_count": null,
   "metadata": {},
   "outputs": [],
   "source": []
  },
  {
   "cell_type": "code",
   "execution_count": 15,
   "metadata": {},
   "outputs": [],
   "source": [
    "def conv6_cnn():\n",
    "    \"\"\"\n",
    "    Function to define the architecture of a neural network model\n",
    "    following Conv-6 architecture for CIFAR-10 dataset and using\n",
    "    provided parameter which are used to prune the model.\n",
    "    \n",
    "    Conv-6 architecture-\n",
    "    64, 64, pool  -- convolutional layers\n",
    "    128, 128, pool -- convolutional layers\n",
    "    256, 256, pool -- convolutional layers\n",
    "    256, 256, 10  -- fully connected layers\n",
    "    \n",
    "    Output: Returns designed and compiled neural network model\n",
    "    \"\"\"\n",
    "    \n",
    "    l = tf.keras.layers\n",
    "    \n",
    "    model = Sequential()\n",
    "    \n",
    "    model.add(\n",
    "        Conv2D(\n",
    "            filters = 64, kernel_size = (3, 3),\n",
    "            activation='relu', kernel_initializer = tf.initializers.GlorotNormal(),\n",
    "            strides = (1, 1), padding = 'same',\n",
    "            input_shape=(32, 32, 3)\n",
    "        )    \n",
    "    )\n",
    "        \n",
    "    model.add(\n",
    "        Conv2D(\n",
    "            filters = 64, kernel_size = (3, 3),\n",
    "            activation='relu', kernel_initializer = tf.initializers.GlorotNormal(),\n",
    "            strides = (1, 1), padding = 'same'\n",
    "        )\n",
    "    )\n",
    "    \n",
    "    model.add(\n",
    "        MaxPooling2D(\n",
    "            pool_size = (2, 2),\n",
    "            strides = (2, 2)\n",
    "        )\n",
    "    )\n",
    "    \n",
    "    model.add(\n",
    "        Conv2D(\n",
    "            filters = 128, kernel_size = (3, 3),\n",
    "            activation='relu', kernel_initializer = tf.initializers.GlorotNormal(),\n",
    "            strides = (1, 1), padding = 'same'\n",
    "        )\n",
    "    )\n",
    "\n",
    "    model.add(\n",
    "        Conv2D(\n",
    "            filters = 128, kernel_size = (3, 3),\n",
    "            activation='relu', kernel_initializer = tf.initializers.GlorotNormal(),\n",
    "            strides = (1, 1), padding = 'same'\n",
    "        )\n",
    "    )\n",
    "\n",
    "    model.add(\n",
    "        MaxPooling2D(\n",
    "            pool_size = (2, 2),\n",
    "            strides = (2, 2)\n",
    "        )\n",
    "    )\n",
    "\n",
    "    model.add(\n",
    "        Conv2D(\n",
    "            filters = 256, kernel_size = (3, 3),\n",
    "            activation='relu', kernel_initializer = tf.initializers.GlorotNormal(),\n",
    "            strides = (1, 1), padding = 'same'\n",
    "        )\n",
    "    )\n",
    "\n",
    "    model.add(\n",
    "        Conv2D(\n",
    "            filters = 256, kernel_size = (3, 3),\n",
    "            activation='relu', kernel_initializer = tf.initializers.GlorotNormal(),\n",
    "            strides = (1, 1), padding = 'same'\n",
    "        )\n",
    "    )\n",
    "\n",
    "    model.add(\n",
    "        MaxPooling2D(\n",
    "            pool_size = (2, 2),\n",
    "            strides = (2, 2)\n",
    "        )\n",
    "    )\n",
    "    \n",
    "    model.add(Flatten())\n",
    "    \n",
    "    model.add(\n",
    "        Dense(\n",
    "            units = 256, activation='relu',\n",
    "            kernel_initializer = tf.initializers.GlorotNormal()\n",
    "        )\n",
    "    )\n",
    "    \n",
    "    model.add(\n",
    "        Dense(\n",
    "            units = 256, activation='relu',\n",
    "            kernel_initializer = tf.initializers.GlorotNormal()\n",
    "        )\n",
    "    )\n",
    "    \n",
    "    model.add(\n",
    "        Dense(\n",
    "            units = 10, activation='softmax'\n",
    "        )\n",
    "    )\n",
    "    \n",
    "\n",
    "    # Compile pruned CNN-\n",
    "    model.compile(\n",
    "        loss=tf.keras.losses.categorical_crossentropy,\n",
    "        # optimizer='adam',\n",
    "        optimizer=tf.keras.optimizers.Adam(lr = 0.0003),\n",
    "        metrics=['accuracy']\n",
    "    )\n",
    "    \n",
    "    \n",
    "    return model\n"
   ]
  },
  {
   "cell_type": "code",
   "execution_count": null,
   "metadata": {},
   "outputs": [],
   "source": []
  },
  {
   "cell_type": "code",
   "execution_count": 16,
   "metadata": {},
   "outputs": [],
   "source": [
    "# Initialize a CNN model-\n",
    "orig_model = conv6_cnn()"
   ]
  },
  {
   "cell_type": "code",
   "execution_count": 17,
   "metadata": {},
   "outputs": [],
   "source": [
    "orig_model.load_weights(\"Conv_6_CIFAR_Random_Weights.h5\")"
   ]
  },
  {
   "cell_type": "code",
   "execution_count": 23,
   "metadata": {},
   "outputs": [],
   "source": [
    "# Save random weights-\n",
    "orig_model.save_weights(\"Conv_6_CIFAR_Random_Weights.h5\", overwrite=True)"
   ]
  },
  {
   "cell_type": "code",
   "execution_count": null,
   "metadata": {},
   "outputs": [],
   "source": []
  },
  {
   "cell_type": "code",
   "execution_count": 18,
   "metadata": {},
   "outputs": [
    {
     "name": "stdout",
     "output_type": "stream",
     "text": [
      "Model: \"sequential\"\n",
      "_________________________________________________________________\n",
      "Layer (type)                 Output Shape              Param #   \n",
      "=================================================================\n",
      "conv2d (Conv2D)              (None, 32, 32, 64)        1792      \n",
      "_________________________________________________________________\n",
      "conv2d_1 (Conv2D)            (None, 32, 32, 64)        36928     \n",
      "_________________________________________________________________\n",
      "max_pooling2d (MaxPooling2D) (None, 16, 16, 64)        0         \n",
      "_________________________________________________________________\n",
      "conv2d_2 (Conv2D)            (None, 16, 16, 128)       73856     \n",
      "_________________________________________________________________\n",
      "conv2d_3 (Conv2D)            (None, 16, 16, 128)       147584    \n",
      "_________________________________________________________________\n",
      "max_pooling2d_1 (MaxPooling2 (None, 8, 8, 128)         0         \n",
      "_________________________________________________________________\n",
      "conv2d_4 (Conv2D)            (None, 8, 8, 256)         295168    \n",
      "_________________________________________________________________\n",
      "conv2d_5 (Conv2D)            (None, 8, 8, 256)         590080    \n",
      "_________________________________________________________________\n",
      "max_pooling2d_2 (MaxPooling2 (None, 4, 4, 256)         0         \n",
      "_________________________________________________________________\n",
      "flatten (Flatten)            (None, 4096)              0         \n",
      "_________________________________________________________________\n",
      "dense (Dense)                (None, 256)               1048832   \n",
      "_________________________________________________________________\n",
      "dense_1 (Dense)              (None, 256)               65792     \n",
      "_________________________________________________________________\n",
      "dense_2 (Dense)              (None, 10)                2570      \n",
      "=================================================================\n",
      "Total params: 2,262,602\n",
      "Trainable params: 2,262,602\n",
      "Non-trainable params: 0\n",
      "_________________________________________________________________\n"
     ]
    }
   ],
   "source": [
    "orig_model.summary()"
   ]
  },
  {
   "cell_type": "code",
   "execution_count": null,
   "metadata": {},
   "outputs": [],
   "source": []
  },
  {
   "cell_type": "code",
   "execution_count": 18,
   "metadata": {},
   "outputs": [
    {
     "name": "stdout",
     "output_type": "stream",
     "text": [
      "\n",
      "Number of training weights = 2262602 and non-trainabel weights = 0.0\n",
      "\n",
      "Total number of parameters = 2262602.0\n",
      "\n"
     ]
    }
   ],
   "source": [
    "import tensorflow.keras.backend as K\n",
    "\n",
    "\n",
    "# METHOD-1: This also counts biases\n",
    "trainable_wts = np.sum([K.count_params(w) for w in orig_model.trainable_weights])\n",
    "non_trainable_wts = np.sum([K.count_params(w) for w in orig_model.non_trainable_weights])\n",
    "\n",
    "print(\"\\nNumber of training weights = {0} and non-trainabel weights = {1}\\n\".format(\n",
    "    trainable_wts, non_trainable_wts\n",
    "))\n",
    "print(\"Total number of parameters = {0}\\n\".format(trainable_wts + non_trainable_wts))\n"
   ]
  },
  {
   "cell_type": "code",
   "execution_count": null,
   "metadata": {},
   "outputs": [],
   "source": []
  },
  {
   "cell_type": "code",
   "execution_count": null,
   "metadata": {},
   "outputs": [],
   "source": []
  },
  {
   "cell_type": "markdown",
   "metadata": {},
   "source": [
    "### Layer-wise pruning:\n",
    "The Lottery Ticket Hypothesis follows a _layer-wise pruning_ heuristic for __Conv-6 Convolutional Neural Network__ for _CIFAR10_ dataset.. The pruning rates are:\n",
    "\n",
    "1. __conv layer__: 15%\n",
    "1. __dense layer__: 20%\n",
    "1. __output layer__: 10%\n",
    "\n",
    "Therefore, there is a need to compute the percentage of weights being pruned for each layer."
   ]
  },
  {
   "cell_type": "code",
   "execution_count": 19,
   "metadata": {},
   "outputs": [],
   "source": [
    "def layer_wise_pruning():\n",
    "    '''\n",
    "    Function to compute layer-wise pruning using a winning ticket for\n",
    "    Conv-6 CNN for CIFAR-10\n",
    "    '''\n",
    "    \n",
    "    # number of convolutional parameters-\n",
    "    conv1 = 1792\n",
    "    conv2 = 36928\n",
    "    conv3 = 73856\n",
    "    conv4 = 147584\n",
    "    conv5 = 295168\n",
    "    conv6 = 590080\n",
    "\n",
    "    # number of fully-connected dense parameters-\n",
    "    dense1 = 1048832\n",
    "    dense2 = 65792\n",
    "    op_layer = 2570\n",
    "\n",
    "\n",
    "    # total number of parameters-\n",
    "    total_params = conv1 + conv2 + conv3 + conv4 + conv5 + conv6 + dense1 + dense2 + op_layer\n",
    "    print(\"\\nTotal number of trainable parameters = {0}\\n\".format(total_params))\n",
    "    \n",
    "    # maximum pruning performed is till 0.5% of all parameters-\n",
    "    max_pruned_params = 0.005 * total_params\n",
    "        \n",
    "    loc_tot_params = total_params\n",
    "    loc_conv1 = conv1\n",
    "    loc_conv2 = conv2\n",
    "    loc_conv3 = conv3\n",
    "    loc_conv4 = conv4\n",
    "    loc_conv5 = conv5\n",
    "    loc_conv6 = conv6\n",
    "    loc_dense1 = dense1\n",
    "    loc_dense2 = dense2\n",
    "    loc_op_layer = op_layer\n",
    "\n",
    "    # variable to count number of pruning rounds-\n",
    "    n = 0\n",
    "        \n",
    "    # Lists to hold percentage of weights pruned in each round for all layers in CNN-\n",
    "    conv1_pruning = []\n",
    "    conv2_pruning = []\n",
    "    conv3_pruning = []\n",
    "    conv4_pruning = []\n",
    "    conv5_pruning = []\n",
    "    conv6_pruning = []\n",
    "    dense1_pruning = []\n",
    "    dense2_pruning = []\n",
    "    op_layer_pruning = []\n",
    "    \n",
    "    \n",
    "    while loc_tot_params >= max_pruned_params:\n",
    "        loc_conv1 *= 0.85    # 15% weights are pruned\n",
    "        loc_conv2 *= 0.85    # 15% weights are pruned\n",
    "        loc_conv3 *= 0.85    # 15% weights are pruned\n",
    "        loc_conv4 *= 0.85    # 15% weights are pruned\n",
    "        loc_conv5 *= 0.85    # 15% weights are pruned\n",
    "        loc_conv6 *= 0.85    # 15% weights are pruned\n",
    "        loc_dense1 *= 0.8   # 20% weights are pruned\n",
    "        loc_dense2 *= 0.8   # 20% weights are pruned\n",
    "        loc_op_layer *= 0.9 # 10% weights are pruned\n",
    "\n",
    "        conv1_pruning.append(((conv1 - loc_conv1) / conv1) * 100)\n",
    "        conv2_pruning.append(((conv2 - loc_conv2) / conv2) * 100)\n",
    "        conv3_pruning.append(((conv3 - loc_conv3) / conv3) * 100)\n",
    "        conv4_pruning.append(((conv4 - loc_conv4) / conv4) * 100)\n",
    "        conv5_pruning.append(((conv5 - loc_conv5) / conv5) * 100)\n",
    "        conv6_pruning.append(((conv6 - loc_conv6) / conv6) * 100)\n",
    "        dense1_pruning.append(((dense1 - loc_dense1) / dense1) * 100)\n",
    "        dense2_pruning.append(((dense2 - loc_dense2) / dense2) * 100)\n",
    "        op_layer_pruning.append(((op_layer - loc_op_layer) / op_layer) * 100)\n",
    "\n",
    "        loc_tot_params = loc_conv1 + loc_conv2 + loc_conv3 + loc_conv4 + \\\n",
    "        loc_conv5 + loc_conv6 + loc_dense1 + loc_dense2 + loc_op_layer\n",
    "\n",
    "        n += 1\n",
    "\n",
    "        '''\n",
    "        print(\"\\nConv1 = {0:.3f}, Conv2 = {1:.3f}, Conv3 = {2:.4f}\".format(loc_conv1, loc_conv2, loc_conv3))\n",
    "        print(\"Conv4 = {0:.3f}, Conv5 = {1:.3f} & Conv6 = {2:.3f}\".format(loc_conv4, loc_conv5, loc_conv6))\n",
    "        print(\"Dense1 = {0:.3f}, Dense2 = {1:.3f} & O/p layer = {2:.3f}\".format(\n",
    "            loc_dense1, loc_dense2, loc_op_layer))\n",
    "        print(\"Total number of parameters = {0:.3f}\\n\".format(loc_tot_params))\n",
    "        '''\n",
    "    \n",
    "    # print(\"\\nnumber of pruning rounds = {0}\\n\\n\".format(n))\n",
    "    \n",
    "    # Convert from list to np.array-\n",
    "    conv1_pruning = np.array(conv1_pruning)\n",
    "    conv2_pruning = np.array(conv2_pruning)\n",
    "    conv3_pruning = np.array(conv3_pruning)\n",
    "    conv4_pruning = np.array(conv4_pruning)\n",
    "    conv5_pruning = np.array(conv5_pruning)\n",
    "    conv6_pruning = np.array(conv6_pruning)\n",
    "    dense1_pruning = np.array(dense1_pruning)\n",
    "    dense2_pruning = np.array(dense2_pruning)\n",
    "    op_layer_pruning = np.array(op_layer_pruning)\n",
    "\n",
    "    # Round off numpy arrays to 3 decimal digits-\n",
    "    conv1_pruning = np.round(conv1_pruning, decimals=3)\n",
    "    conv2_pruning = np.round(conv2_pruning, decimals=3)\n",
    "    conv3_pruning = np.round(conv3_pruning, decimals = 3)\n",
    "    conv4_pruning = np.round(conv4_pruning, decimals = 3)\n",
    "    conv5_pruning = np.round(conv5_pruning, decimals = 3)\n",
    "    conv6_pruning = np.round(conv6_pruning, decimals = 3)\n",
    "    dense1_pruning = np.round(dense1_pruning, decimals=3)\n",
    "    dense2_pruning = np.round(dense2_pruning, decimals=3)\n",
    "    op_layer_pruning = np.round(op_layer_pruning, decimals=3)\n",
    "\n",
    "    \n",
    "    # Python 3 dict to hold layer\n",
    "    pruning_layers = {}\n",
    "    \n",
    "    pruning_layers['conv1_pruning'] = conv1_pruning\n",
    "    pruning_layers['conv2_pruning'] = conv2_pruning\n",
    "    pruning_layers['conv3_pruning'] = conv3_pruning\n",
    "    pruning_layers['conv4_pruning'] = conv4_pruning\n",
    "    pruning_layers['conv5_pruning'] = conv5_pruning\n",
    "    pruning_layers['conv6_pruning'] = conv6_pruning\n",
    "    pruning_layers['dense1_pruning'] = dense1_pruning\n",
    "    pruning_layers['dense2_pruning'] = dense2_pruning\n",
    "    pruning_layers['op_layer'] = op_layer_pruning\n",
    "    \n",
    "    return pruning_layers, n"
   ]
  },
  {
   "cell_type": "code",
   "execution_count": null,
   "metadata": {},
   "outputs": [],
   "source": []
  },
  {
   "cell_type": "code",
   "execution_count": 20,
   "metadata": {},
   "outputs": [
    {
     "name": "stdout",
     "output_type": "stream",
     "text": [
      "\n",
      "Total number of trainable parameters = 2262602\n",
      "\n"
     ]
    }
   ],
   "source": [
    "pruning_layers, num_pruning_rounds = layer_wise_pruning()"
   ]
  },
  {
   "cell_type": "code",
   "execution_count": 21,
   "metadata": {
    "colab": {},
    "colab_type": "code",
    "id": "7X1MRMkjMKXj"
   },
   "outputs": [
    {
     "name": "stdout",
     "output_type": "stream",
     "text": [
      "\n",
      "number of pruning rounds = 30\n",
      "\n"
     ]
    }
   ],
   "source": [
    "print(\"\\nnumber of pruning rounds = {0}\\n\".format(num_pruning_rounds))"
   ]
  },
  {
   "cell_type": "code",
   "execution_count": null,
   "metadata": {
    "colab": {},
    "colab_type": "code",
    "id": "sUaiIEotMKXp"
   },
   "outputs": [],
   "source": []
  },
  {
   "cell_type": "code",
   "execution_count": 22,
   "metadata": {
    "colab": {},
    "colab_type": "code",
    "id": "_StqHUjFMKXs"
   },
   "outputs": [
    {
     "data": {
      "text/plain": [
       "array([15.   , 27.75 , 38.588, 47.799, 55.629, 62.285, 67.942, 72.751,\n",
       "       76.838, 80.313, 83.266, 85.776, 87.909, 89.723, 91.265, 92.575,\n",
       "       93.689, 94.635, 95.44 , 96.124, 96.705, 97.2  , 97.62 , 97.977,\n",
       "       98.28 , 98.538, 98.757, 98.944, 99.102, 99.237])"
      ]
     },
     "execution_count": 22,
     "metadata": {},
     "output_type": "execute_result"
    }
   ],
   "source": [
    "# Sanity check-\n",
    "pruning_layers['conv1_pruning']"
   ]
  },
  {
   "cell_type": "code",
   "execution_count": 23,
   "metadata": {
    "colab": {
     "base_uri": "https://localhost:8080/",
     "height": 86
    },
    "colab_type": "code",
    "id": "WXpjS1enMKX1",
    "outputId": "92a48358-48c0-41c2-bc90-7fdb6a7d300b"
   },
   "outputs": [
    {
     "data": {
      "text/plain": [
       "array([20.   , 36.   , 48.8  , 59.04 , 67.232, 73.786, 79.028, 83.223,\n",
       "       86.578, 89.263, 91.41 , 93.128, 94.502, 95.602, 96.482, 97.185,\n",
       "       97.748, 98.199, 98.559, 98.847, 99.078, 99.262, 99.41 , 99.528,\n",
       "       99.622, 99.698, 99.758, 99.807, 99.845, 99.876])"
      ]
     },
     "execution_count": 23,
     "metadata": {},
     "output_type": "execute_result"
    }
   ],
   "source": [
    "# Sanity check-\n",
    "pruning_layers['dense1_pruning']"
   ]
  },
  {
   "cell_type": "code",
   "execution_count": 24,
   "metadata": {},
   "outputs": [
    {
     "data": {
      "text/plain": [
       "array([10.   , 19.   , 27.1  , 34.39 , 40.951, 46.856, 52.17 , 56.953,\n",
       "       61.258, 65.132, 68.619, 71.757, 74.581, 77.123, 79.411, 81.47 ,\n",
       "       83.323, 84.991, 86.491, 87.842, 89.058, 90.152, 91.137, 92.023,\n",
       "       92.821, 93.539, 94.185, 94.767, 95.29 , 95.761])"
      ]
     },
     "execution_count": 24,
     "metadata": {},
     "output_type": "execute_result"
    }
   ],
   "source": [
    "# Sanity check-\n",
    "pruning_layers['op_layer']"
   ]
  },
  {
   "cell_type": "code",
   "execution_count": null,
   "metadata": {},
   "outputs": [],
   "source": []
  },
  {
   "cell_type": "code",
   "execution_count": null,
   "metadata": {},
   "outputs": [],
   "source": []
  },
  {
   "cell_type": "code",
   "execution_count": 25,
   "metadata": {},
   "outputs": [],
   "source": [
    "# Create mask for original, unpruned model-\n",
    "mask_model = conv6_cnn()\n",
    "\n",
    "# Assign all masks to one-\n",
    "for wts in mask_model.trainable_weights:\n",
    "    wts.assign(\n",
    "        tf.ones_like(\n",
    "            input = wts,\n",
    "            dtype = tf.float32\n",
    "        )\n",
    "\n",
    "    )"
   ]
  },
  {
   "cell_type": "code",
   "execution_count": 26,
   "metadata": {},
   "outputs": [
    {
     "name": "stdout",
     "output_type": "stream",
     "text": [
      "\n",
      "number of non-zero masks = 2262602\n",
      "\n"
     ]
    }
   ],
   "source": [
    "# Sanity check-\n",
    "mask_params = 0\n",
    "\n",
    "for layer in mask_model.trainable_weights:\n",
    "    mask_params += tf.math.count_nonzero(layer, axis = None).numpy()\n",
    "    \n",
    "print(\"\\nnumber of non-zero masks = {0}\\n\".format(mask_params))"
   ]
  },
  {
   "cell_type": "code",
   "execution_count": null,
   "metadata": {},
   "outputs": [],
   "source": []
  },
  {
   "cell_type": "code",
   "execution_count": 27,
   "metadata": {},
   "outputs": [],
   "source": [
    "def create_mask(model):\n",
    "    '''\n",
    "    Function to create a mask for Conv-2 CNN for CIFAR-10 LTH.\n",
    "    \n",
    "    Input:\n",
    "    model:    Conv-6 CNN for CIFAR-10 dataset using LTH\n",
    "    \n",
    "    Returns:\n",
    "    mask_model:    masked model following architecture of Conv-2 CNN\n",
    "    '''\n",
    "    \n",
    "    # Create a mask:\n",
    "    \n",
    "    # Instantiate a new neural network model for which, the mask is to be created,\n",
    "    mask_model = conv6_cnn()\n",
    "    \n",
    "    # Load weights of PRUNED model-\n",
    "    mask_model.set_weights(model.get_weights())\n",
    "    \n",
    "    # For each layer, for each weight which is 0, leave it, as is.\n",
    "    # And for weights which survive the pruning,reinitialize it to ONE (1)-\n",
    "    for wts in mask_model.trainable_weights:\n",
    "        wts.assign(tf.where(tf.equal(wts, 0.), 0., 1.))\n",
    "\n",
    "        \n",
    "    return mask_model\n"
   ]
  },
  {
   "cell_type": "code",
   "execution_count": null,
   "metadata": {},
   "outputs": [],
   "source": []
  },
  {
   "cell_type": "code",
   "execution_count": 33,
   "metadata": {},
   "outputs": [],
   "source": [
    "# Create mask-\n",
    "# mask_model = create_mask(orig_model)"
   ]
  },
  {
   "cell_type": "code",
   "execution_count": null,
   "metadata": {},
   "outputs": [],
   "source": []
  },
  {
   "cell_type": "code",
   "execution_count": null,
   "metadata": {},
   "outputs": [],
   "source": []
  },
  {
   "cell_type": "markdown",
   "metadata": {
    "colab_type": "text",
    "id": "U6EVU768MKZC"
   },
   "source": [
    "### Python 3 dictionary to hold model training metrics for each of _n_ rounds:"
   ]
  },
  {
   "cell_type": "code",
   "execution_count": 28,
   "metadata": {
    "colab": {},
    "colab_type": "code",
    "id": "A0_CKJfWMKZE"
   },
   "outputs": [],
   "source": [
    "# Method - 1: Nested Python 3 dictionaries:\n",
    "history_main = {}\n",
    "\n",
    "# for x in range(num_pruning_rounds + 1):\n",
    "for x in range(num_pruning_rounds):\n",
    "    history = {}\n",
    "    \n",
    "    # Neural Network model, scalar metrics-\n",
    "    history['accuracy'] = np.zeros(shape = num_epochs)\n",
    "    history['val_accuracy'] = np.zeros(shape = num_epochs)\n",
    "    history['loss'] = np.zeros(shape = num_epochs)\n",
    "    history['val_loss'] = np.zeros(shape = num_epochs)\n",
    "    \n",
    "    # compute % of weights pruned at the end of each iterative pruning round-\n",
    "    history['percentage_wts_pruned'] = 90\n",
    "\n",
    "    history_main[x + 1] = history\n"
   ]
  },
  {
   "cell_type": "code",
   "execution_count": 29,
   "metadata": {
    "colab": {
     "base_uri": "https://localhost:8080/",
     "height": 34
    },
    "colab_type": "code",
    "id": "PtB3L56iMKZJ",
    "outputId": "68b8343e-c654-4a7f-d06a-311b9e0bce9c"
   },
   "outputs": [
    {
     "data": {
      "text/plain": [
       "dict_keys([1, 2, 3, 4, 5, 6, 7, 8, 9, 10, 11, 12, 13, 14, 15, 16, 17, 18, 19, 20, 21, 22, 23, 24, 25, 26, 27, 28, 29, 30])"
      ]
     },
     "execution_count": 29,
     "metadata": {},
     "output_type": "execute_result"
    }
   ],
   "source": [
    "# Sanity check-\n",
    "history_main.keys()"
   ]
  },
  {
   "cell_type": "code",
   "execution_count": null,
   "metadata": {},
   "outputs": [],
   "source": []
  },
  {
   "cell_type": "code",
   "execution_count": null,
   "metadata": {},
   "outputs": [],
   "source": []
  },
  {
   "cell_type": "code",
   "execution_count": 30,
   "metadata": {},
   "outputs": [],
   "source": [
    "def prune_conv6(model, pruning_params_conv, pruning_params_fc, pruning_params_op):\n",
    "    '''\n",
    "    Function to prune top p% of trained weights using the provided parameters using\n",
    "    magnitude-based weight pruning.\n",
    "    \n",
    "    Inputs:\n",
    "    'model' is the TensorFlow 2.0 defined convolutional neural network\n",
    "    'pruning_params_conv' is the percentage of weights to prune for convolutional layer\n",
    "    'pruning_params_fc' is the percentage of weights to prune for dense, fully-connected layer\n",
    "    'pruning_params_op' is the percentage of weights to prune for output layer\n",
    "\n",
    "    Returns:\n",
    "    Python list containing pruned layers\n",
    "    '''\n",
    "\n",
    "    # List variable to hold magnitude-based pruned weights-\n",
    "    pruned_weights = []\n",
    "\n",
    "    for layer in model.trainable_weights:\n",
    "        x = layer.numpy()\n",
    "\n",
    "        if len(layer.shape) == 4:\n",
    "            # this is a convolutional layer\n",
    "            print(\"conv layer: {0}, pruning rate = {1}%\".format(layer.shape, pruning_params_conv))\n",
    "\n",
    "            # Compute absolute value of 'x'-\n",
    "            x_abs = np.abs(x)\n",
    "\n",
    "            # Mask values to zero which are less than 'p' in terms of magnitude-\n",
    "            x_abs[x_abs < np.percentile(x_abs, pruning_params_conv)] = 0\n",
    "\n",
    "            # Where 'x_abs' equals 0, keep 0, else, replace with values\n",
    "            # of 'x'-\n",
    "            # OR\n",
    "            # If x_abs == 0 (condition) is True, use the value of 0, otherwise\n",
    "            # use the value in 'x'\n",
    "            x_mod = np.where(x_abs == 0, 0, x)\n",
    "\n",
    "            pruned_weights.append(x_mod)\n",
    "\n",
    "        elif len(layer.shape) == 2 and layer.shape[1] != 10:\n",
    "            # this is a fully-connected dense layer\n",
    "            print(\"dense layer: {0}, pruning rate = {1}%\".format(layer.shape, pruning_params_fc))\n",
    "\n",
    "            # Compute absolute value of 'x'-\n",
    "            x_abs = np.abs(x)\n",
    "\n",
    "            # Mask values to zero which are less than 'p' in terms of magnitude-\n",
    "            x_abs[x_abs < np.percentile(x_abs, pruning_params_fc)] = 0\n",
    "\n",
    "            # Where 'x_abs' equals 0, keep 0, else, replace with values\n",
    "            # of 'x'-\n",
    "            # OR\n",
    "            # If x_abs == 0 (condition) is True, use the value of 0, otherwise\n",
    "            # use the value in 'x'\n",
    "            x_mod = np.where(x_abs == 0, 0, x)\n",
    "\n",
    "            pruned_weights.append(x_mod)\n",
    "        \n",
    "        elif len(layer.shape) == 2 and layer.shape[1] == 10:\n",
    "            # this is the output layer\n",
    "            print(\"op layer: {0}, pruning rate = {1}%\".format(layer.shape, pruning_params_op))\n",
    "\n",
    "            # Compute absolute value of 'x'-\n",
    "            x_abs = np.abs(x)\n",
    "\n",
    "            # Mask values to zero which are less than 'p' in terms of magnitude-\n",
    "            x_abs[x_abs < np.percentile(x_abs, pruning_params_op)] = 0\n",
    "\n",
    "            # Where 'x_abs' equals 0, keep 0, else, replace with values\n",
    "            # of 'x'-\n",
    "            # OR\n",
    "            # If x_abs == 0 (condition) is True, use the value of 0, otherwise\n",
    "            # use the value in 'x'\n",
    "            x_mod = np.where(x_abs == 0, 0, x)\n",
    "\n",
    "            pruned_weights.append(x_mod)\n",
    "\n",
    "        elif len(layer.shape) == 1:\n",
    "            # bias does not have to be pruned-\n",
    "            # print(\"layer: {0}, pruning rate = {1}%\".format(layer.shape, 0))\n",
    "            pruned_weights.append(x) \n",
    "\n",
    "\n",
    "    return pruned_weights\n"
   ]
  },
  {
   "cell_type": "code",
   "execution_count": null,
   "metadata": {},
   "outputs": [],
   "source": []
  },
  {
   "cell_type": "code",
   "execution_count": 31,
   "metadata": {},
   "outputs": [
    {
     "name": "stdout",
     "output_type": "stream",
     "text": [
      "conv layer: (3, 3, 3, 64), pruning rate = 15.0%\n",
      "conv layer: (3, 3, 64, 64), pruning rate = 15.0%\n",
      "conv layer: (3, 3, 64, 128), pruning rate = 15.0%\n",
      "conv layer: (3, 3, 128, 128), pruning rate = 15.0%\n",
      "conv layer: (3, 3, 128, 256), pruning rate = 15.0%\n",
      "conv layer: (3, 3, 256, 256), pruning rate = 15.0%\n",
      "dense layer: (4096, 256), pruning rate = 20.0%\n",
      "dense layer: (256, 256), pruning rate = 20.0%\n",
      "op layer: (256, 10), pruning rate = 10.0%\n"
     ]
    }
   ],
   "source": [
    "# Sanity check-\n",
    "# orig_model_pruned = prune_conv2(orig_model, conv1_pruning[0], dense1_pruning[0], op_layer_pruning[0])\n",
    "model_pruned = prune_conv6(\n",
    "    orig_model, pruning_layers['conv1_pruning'][0],\n",
    "    pruning_layers['dense1_pruning'][0], pruning_layers['op_layer'][0]\n",
    ")"
   ]
  },
  {
   "cell_type": "code",
   "execution_count": null,
   "metadata": {},
   "outputs": [],
   "source": []
  },
  {
   "cell_type": "code",
   "execution_count": null,
   "metadata": {},
   "outputs": [],
   "source": []
  },
  {
   "cell_type": "code",
   "execution_count": 32,
   "metadata": {
    "colab": {},
    "colab_type": "code",
    "id": "F2zjLvjMMKZ6"
   },
   "outputs": [],
   "source": [
    "# User input parameters for Early Stopping in manual implementation-\n",
    "minimum_delta = 0.001\n",
    "patience = 3"
   ]
  },
  {
   "cell_type": "code",
   "execution_count": 33,
   "metadata": {
    "colab": {
     "base_uri": "https://localhost:8080/",
     "height": 52
    },
    "colab_type": "code",
    "id": "TGIecrdVMKaA",
    "outputId": "a5fcfb3d-c71b-4712-be90-05cb6bc70e0f"
   },
   "outputs": [
    {
     "name": "stdout",
     "output_type": "stream",
     "text": [
      "\n",
      "Total number of parameters in overparametrized, original, unpruned network =  2262602\n"
     ]
    }
   ],
   "source": [
    "orig_sum_params = trainable_wts\n",
    "print(\"\\nTotal number of parameters in overparametrized, original, unpruned network = \", orig_sum_params)"
   ]
  },
  {
   "cell_type": "code",
   "execution_count": null,
   "metadata": {
    "colab": {},
    "colab_type": "code",
    "id": "EBrrbLM-MKaD"
   },
   "outputs": [],
   "source": []
  },
  {
   "cell_type": "code",
   "execution_count": null,
   "metadata": {
    "colab": {},
    "colab_type": "code",
    "id": "BSOeplxmMKaG"
   },
   "outputs": [],
   "source": []
  },
  {
   "cell_type": "markdown",
   "metadata": {},
   "source": [
    "### Optimization:\n",
    "\n",
    "Instead of using weights saved as '.h5' file, which takes time to save weights and loading weights to and/or from disk, the optimized process makes use of preexisting models."
   ]
  },
  {
   "cell_type": "code",
   "execution_count": 34,
   "metadata": {},
   "outputs": [],
   "source": [
    "# Instantiate a model-\n",
    "winning_ticket_model = conv6_cnn()\n",
    "\n",
    "# Use Randomly initialized weights-\n",
    "winning_ticket_model.set_weights(orig_model.get_weights())\n"
   ]
  },
  {
   "cell_type": "code",
   "execution_count": null,
   "metadata": {},
   "outputs": [],
   "source": []
  },
  {
   "cell_type": "code",
   "execution_count": null,
   "metadata": {},
   "outputs": [],
   "source": []
  },
  {
   "cell_type": "code",
   "execution_count": null,
   "metadata": {
    "colab": {
     "base_uri": "https://localhost:8080/",
     "height": 1000
    },
    "colab_type": "code",
    "id": "Qf-_IkmcMKaL",
    "outputId": "791231e9-fe69-45cd-8d6c-3137432b0069"
   },
   "outputs": [
    {
     "name": "stdout",
     "output_type": "stream",
     "text": [
      "\n",
      "\n",
      "\n",
      "Iterative pruning round: 1\n",
      "\n",
      "\n",
      "Epoch 1, Loss: 1.5079, Accuracy: 44.4300, Test Loss: 1.2086, Test Accuracy: 56.150002\n",
      "Total number of trainable parameters = 2262601\n",
      "\n",
      "Epoch 2, Loss: 0.9861, Accuracy: 65.1260, Test Loss: 0.8843, Test Accuracy: 68.540001\n",
      "Total number of trainable parameters = 2262602\n",
      "\n",
      "Epoch 3, Loss: 0.7517, Accuracy: 73.7400, Test Loss: 0.7236, Test Accuracy: 75.290001\n",
      "Total number of trainable parameters = 2262602\n",
      "\n",
      "Epoch 4, Loss: 0.6005, Accuracy: 79.0320, Test Loss: 0.6619, Test Accuracy: 77.639999\n",
      "Total number of trainable parameters = 2262602\n",
      "\n",
      "Epoch 5, Loss: 0.4842, Accuracy: 83.2800, Test Loss: 0.6283, Test Accuracy: 78.659996\n",
      "Total number of trainable parameters = 2262602\n",
      "\n",
      "Epoch 6, Loss: 0.3783, Accuracy: 86.8640, Test Loss: 0.6332, Test Accuracy: 79.189995\n",
      "Total number of trainable parameters = 2262602\n",
      "\n",
      "Epoch 7, Loss: 0.2796, Accuracy: 90.2200, Test Loss: 0.6597, Test Accuracy: 79.849998\n",
      "Total number of trainable parameters = 2262602\n",
      "\n",
      "Epoch 8, Loss: 0.1999, Accuracy: 93.0360, Test Loss: 0.8123, Test Accuracy: 78.869995\n",
      "Total number of trainable parameters = 2262602\n",
      "\n",
      "\n",
      "'EarlyStopping' called!\n",
      "\n",
      "conv layer: (3, 3, 3, 64), pruning rate = 15.0%\n",
      "conv layer: (3, 3, 64, 64), pruning rate = 15.0%\n",
      "conv layer: (3, 3, 64, 128), pruning rate = 15.0%\n",
      "conv layer: (3, 3, 128, 128), pruning rate = 15.0%\n",
      "conv layer: (3, 3, 128, 256), pruning rate = 15.0%\n",
      "conv layer: (3, 3, 256, 256), pruning rate = 15.0%\n",
      "dense layer: (4096, 256), pruning rate = 20.0%\n",
      "dense layer: (256, 256), pruning rate = 20.0%\n",
      "op layer: (256, 10), pruning rate = 10.0%\n",
      "\n",
      "After Pruning Round = 1, total number of surviving trainable parameters = 1867844\n",
      "\n",
      "\n",
      "Fine-tuning, round = 1\n",
      "\n",
      "FT: Epoch 1, Loss: 0.3215, Accuracy: 88.5920, Test Loss: 0.7377, Test Accuracy: 80.279999\n",
      "Total number of trainable parameters (FT) = 1867844\n",
      "\n",
      "\n",
      "\n",
      "\n",
      "Iterative pruning round: 2\n",
      "\n",
      "\n"
     ]
    }
   ],
   "source": [
    "for i in range(1, num_pruning_rounds + 1):\n",
    "    \n",
    "    print(\"\\n\\n\\nIterative pruning round: {0}\\n\\n\".format(i))\n",
    "    \n",
    "    # Define 'train_one_step()' and 'test_step()' functions here-\n",
    "    @tf.function\n",
    "    def train_one_step(model, mask_model, optimizer, x, y):\n",
    "        '''\n",
    "        Function to compute one step of gradient descent optimization\n",
    "        '''\n",
    "        with tf.GradientTape() as tape:\n",
    "            # Make predictions using defined model-\n",
    "            y_pred = model(x)\n",
    "\n",
    "            # Compute loss-\n",
    "            loss = loss_fn(y, y_pred)\n",
    "        \n",
    "        # Compute gradients wrt defined loss and weights and biases-\n",
    "        grads = tape.gradient(loss, model.trainable_variables)\n",
    "    \n",
    "        # type(grads)c\n",
    "        # list\n",
    "    \n",
    "        # List to hold element-wise multiplication between-\n",
    "        # computed gradient and masks-\n",
    "        grad_mask_mul = []\n",
    "    \n",
    "        # Perform element-wise multiplication between computed gradients and masks-\n",
    "        for grad_layer, mask in zip(grads, mask_model.trainable_weights):\n",
    "            grad_mask_mul.append(tf.math.multiply(grad_layer, mask))\n",
    "    \n",
    "        # Apply computed gradients to model's weights and biases-\n",
    "        optimizer.apply_gradients(zip(grad_mask_mul, model.trainable_variables))\n",
    "\n",
    "        # Compute accuracy-\n",
    "        train_loss(loss)\n",
    "        train_accuracy(y, y_pred)\n",
    "\n",
    "        return None\n",
    "    \n",
    "    \n",
    "    @tf.function\n",
    "    def test_step(model, optimizer, data, labels):\n",
    "        \"\"\"\n",
    "        Function to test model performance\n",
    "        on testing dataset\n",
    "        \"\"\"\n",
    "    \n",
    "        predictions = model(data)\n",
    "        t_loss = loss_fn(labels, predictions)\n",
    "\n",
    "        test_loss(t_loss)\n",
    "        test_accuracy(labels, predictions)\n",
    "\n",
    "        return None\n",
    "\n",
    "\n",
    "    # Instantiate a model\n",
    "    # model_gt = pruned_nn(pruning_params_unpruned)\n",
    "    model_gt = conv6_cnn()\n",
    "    \n",
    "    # Load winning ticket (from above)-\n",
    "    # model_gt.load_weights(\"Conv2_CIFAR10_Winning_Ticket.h5\")\n",
    "    model_gt.set_weights(winning_ticket_model.get_weights())\n",
    "    \n",
    "    # Strip model of pruning parameters-\n",
    "    # model_gt_stripped = sparsity.strip_pruning(model_gt)\n",
    "    \n",
    "    \n",
    "    # Train model using 'GradientTape'-\n",
    "    \n",
    "    # Initialize parameters for Early Stopping manual implementation-\n",
    "    best_val_loss = 100\n",
    "    loc_patience = 0\n",
    "    \n",
    "    for epoch in range(num_epochs):\n",
    "    \n",
    "        if loc_patience >= patience:\n",
    "            print(\"\\n'EarlyStopping' called!\\n\")\n",
    "            break\n",
    "        \n",
    "        # Reset the metrics at the start of the next epoch\n",
    "        train_loss.reset_states()\n",
    "        train_accuracy.reset_states()\n",
    "        test_loss.reset_states()\n",
    "        test_accuracy.reset_states()\n",
    "        \n",
    "        \n",
    "        for x, y in train_dataset:\n",
    "            # train_one_step(model_gt_stripped, mask_model_stripped, optimizer, x, y)\n",
    "            train_one_step(model_gt, mask_model, optimizer, x, y)\n",
    "\n",
    "\n",
    "        for x_t, y_t in test_dataset:\n",
    "            # test_step(model_gt_stripped, optimizer, x_t, y_t)\n",
    "            test_step(model_gt, optimizer, x_t, y_t)\n",
    "\n",
    "        template = 'Epoch {0}, Loss: {1:.4f}, Accuracy: {2:.4f}, Test Loss: {3:.4f}, Test Accuracy: {4:4f}'\n",
    "    \n",
    "        # 'i' is the index for number of pruning rounds-\n",
    "        history_main[i]['accuracy'][epoch] = train_accuracy.result() * 100\n",
    "        history_main[i]['loss'][epoch] = train_loss.result()\n",
    "        history_main[i]['val_loss'][epoch] = test_loss.result()\n",
    "        history_main[i]['val_accuracy'][epoch] = test_accuracy.result() * 100\n",
    "        \n",
    "        print(template.format(epoch + 1, \n",
    "                              train_loss.result(), train_accuracy.result()*100,\n",
    "                              test_loss.result(), test_accuracy.result()*100))\n",
    "    \n",
    "        # Count number of non-zero parameters in each layer and in total-\n",
    "        # print(\"layer-wise manner model, number of nonzero parameters in each layer are: \\n\")\n",
    "\n",
    "        model_sum_params = 0\n",
    "    \n",
    "        for layer in model_gt.trainable_weights:\n",
    "        # for layer in model_gt_stripped.trainable_weights:\n",
    "            # print(tf.math.count_nonzero(layer, axis = None).numpy())\n",
    "            model_sum_params += tf.math.count_nonzero(layer, axis = None).numpy()\n",
    "    \n",
    "        print(\"Total number of trainable parameters = {0}\\n\".format(model_sum_params))\n",
    "\n",
    "    \n",
    "        # Code for manual Early Stopping:\n",
    "        if np.abs(test_loss.result() < best_val_loss) >= minimum_delta:\n",
    "            # update 'best_val_loss' variable to lowest loss encountered so far-\n",
    "            best_val_loss = test_loss.result()\n",
    "        \n",
    "            # reset 'loc_patience' variable-\n",
    "            loc_patience = 0\n",
    "        \n",
    "        else:  # there is no improvement in monitored metric 'val_loss'\n",
    "            loc_patience += 1  # number of epochs without any improvement\n",
    "\n",
    "    \n",
    "    # Resize numpy arrays according to the epoch when 'EarlyStopping' was called-\n",
    "    for metrics in history_main[i].keys():\n",
    "        history_main[i][metrics] = np.resize(history_main[i][metrics], new_shape = epoch)\n",
    "        # history[metrics] = np.resize(history[metrics], new_shape=epoch)\n",
    "     \n",
    "    \n",
    "    # Save trained model weights-\n",
    "    # model_gt.save_weights(\"Conv2_CIFAR10_Trained_Weights.h5\", overwrite=True)\n",
    "    \n",
    "    \n",
    "    \n",
    "    \n",
    "    # Prune trained model:\n",
    "    \n",
    "    # print(\"\\n% of weights to be pruned in round = {0} is: {1:.4f}\\n\".format(i, wts_np[i - 1]))\n",
    "    \n",
    "    # Prune neural network-\n",
    "    '''\n",
    "    pruned_weights = prune_conv4(\n",
    "        model = model_gt,\n",
    "        pruning_params_conv=conv1_pruning[i - 1],\n",
    "        pruning_params_fc=dense1_pruning[i - 1],\n",
    "        pruning_params_op=op_layer_pruning[i - 1]\n",
    "    )\n",
    "    '''\n",
    "    \n",
    "    pruned_weights = prune_conv6(\n",
    "        model = model_gt,\n",
    "        pruning_params_conv = pruning_layers['conv1_pruning'][i - 1],\n",
    "        pruning_params_fc = pruning_layers['dense1_pruning'][i - 1],\n",
    "        pruning_params_op = pruning_layers['op_layer'][i - 1]\n",
    "    )\n",
    "    \n",
    "    \n",
    "    # Instantiate a Neural Network model\n",
    "    pruned_model = conv6_cnn()\n",
    "\n",
    "    # Load pruned numpy weights-\n",
    "    pruned_model.set_weights(pruned_weights)\n",
    "        \n",
    "    # print(\"\\nIn pruned model, number of nonzero parameters in each layer are: \\n\")\n",
    "    pruned_sum_params = 0\n",
    "    \n",
    "    for layer in pruned_model.trainable_weights:\n",
    "    # for layer in pruned_model_stripped.trainable_weights:\n",
    "        # print(tf.math.count_nonzero(layer, axis = None).numpy())\n",
    "        pruned_sum_params += tf.math.count_nonzero(layer, axis = None).numpy()\n",
    "    \n",
    "    print(\"\\nAfter Pruning Round = {0}, total number of surviving trainable parameters = {1}\\n\".format(i, pruned_sum_params))\n",
    "    # print(\"\\nTotal number of trainable parameters = {0}\\n\".format(pruned_sum_params))\n",
    "    \n",
    "    \n",
    "    # 'i' is the index for number of pruning rounds-\n",
    "    history_main[i]['percentage_wts_pruned'] = ((orig_sum_params - pruned_sum_params) / orig_sum_params) * 100\n",
    "    \n",
    "    \n",
    "    # Save weights of PRUNED and Trained model-\n",
    "    # pruned_model.save_weights(\"Conv2_CIFAR10_Pruned_Weights.h5\", overwrite = True)\n",
    "    \n",
    "    \n",
    "    # Create a mask:\n",
    "    # Instantiate a new neural network model for which, the mask is to be created,\n",
    "    mask_model = conv6_cnn()\n",
    "    \n",
    "    # Load weights of PRUNED model-\n",
    "    # mask_model.load_weights(\"Conv2_CIFAR10_Pruned_Weights.h5\")\n",
    "    mask_model.set_weights(pruned_model.get_weights())\n",
    "    \n",
    "    # Strip the model of its pruning parameters-\n",
    "    # mask_model_stripped = sparsity.strip_pruning(mask_model)\n",
    "    \n",
    "    # For each layer, for each weight which is 0, leave it, as is.\n",
    "    # And for weights which survive the pruning,reinitialize it to ONE (1)-\n",
    "    # for wts in mask_model_stripped.trainable_weights:\n",
    "    for wts in mask_model.trainable_weights:\n",
    "        wts.assign(tf.where(tf.equal(wts, 0.), 0., 1.))\n",
    "    \n",
    "    # mask_model = create_mask(pruned_weights)\n",
    "    \n",
    "    \n",
    "    # FINE-TUNE pruned model (to recover from pruning)-\n",
    "    # Question: Does fine-tuning help here? Because the weights will be extracted\n",
    "    # according to surviving weights. Hence, fine-tuning the surviving weights does\n",
    "    # not make sense!\n",
    "    \n",
    "    \n",
    "    @tf.function\n",
    "    def train_one_step(model, mask_model, optimizer, x, y):\n",
    "        '''\n",
    "        Function to compute one step of gradient descent optimization\n",
    "        '''\n",
    "        with tf.GradientTape() as tape:\n",
    "            # Make predictions using defined model-\n",
    "            y_pred = model(x)\n",
    "\n",
    "            # Compute loss-\n",
    "            loss = loss_fn(y, y_pred)\n",
    "        \n",
    "        # Compute gradients wrt defined loss and weights and biases-\n",
    "        grads = tape.gradient(loss, model.trainable_variables)\n",
    "    \n",
    "        # type(grads)\n",
    "        # list\n",
    "    \n",
    "        # List to hold element-wise multiplication between-\n",
    "        # computed gradient and masks-\n",
    "        grad_mask_mul = []\n",
    "    \n",
    "        # Perform element-wise multiplication between computed gradients and masks-\n",
    "        for grad_layer, mask in zip(grads, mask_model.trainable_weights):\n",
    "            grad_mask_mul.append(tf.math.multiply(grad_layer, mask))\n",
    "    \n",
    "        # Apply computed gradients to model's weights and biases-\n",
    "        optimizer.apply_gradients(zip(grad_mask_mul, model.trainable_variables))\n",
    "\n",
    "        # Compute accuracy-\n",
    "        train_loss(loss)\n",
    "        train_accuracy(y, y_pred)\n",
    "\n",
    "        return None\n",
    "    \n",
    "    \n",
    "    @tf.function\n",
    "    def test_step(model, optimizer, data, labels):\n",
    "        \"\"\"\n",
    "        Function to test model performance\n",
    "        on testing dataset\n",
    "        \"\"\"\n",
    "    \n",
    "        predictions = model(data)\n",
    "        t_loss = loss_fn(labels, predictions)\n",
    "\n",
    "        test_loss(t_loss)\n",
    "        test_accuracy(labels, predictions)\n",
    "\n",
    "        return None\n",
    "\n",
    "    \n",
    "    # Fine-tune pruned model by training it for 1 more epochs-\n",
    "    for ft_epoch in range(1):\n",
    "        print(\"\\nFine-tuning, round = {0}\\n\".format(ft_epoch + 1))\n",
    "            \n",
    "        # Reset the metrics at the start of the next epoch\n",
    "        train_loss.reset_states()\n",
    "        train_accuracy.reset_states()\n",
    "        test_loss.reset_states()\n",
    "        test_accuracy.reset_states()\n",
    "        \n",
    "        \n",
    "        for x, y in train_dataset:\n",
    "            # train_one_step(pruned_model, mask_model, optimizer, x, y)\n",
    "            train_one_step(pruned_model, mask_model, optimizer, x, y)\n",
    "\n",
    "\n",
    "        for x_t, y_t in test_dataset:\n",
    "            # test_step(model_gt, optimizer, x_t, y_t)\n",
    "            test_step(pruned_model, optimizer, x_t, y_t)\n",
    "\n",
    "        template = 'FT: Epoch {0}, Loss: {1:.4f}, Accuracy: {2:.4f}, Test Loss: {3:.4f}, Test Accuracy: {4:4f}'\n",
    "            \n",
    "        print(template.format(ft_epoch + 1, \n",
    "                              train_loss.result(), train_accuracy.result()*100,\n",
    "                              test_loss.result(), test_accuracy.result()*100))\n",
    "    \n",
    "        # Count number of non-zero parameters in each layer and in total-\n",
    "        # print(\"layer-wise manner model, number of nonzero parameters in each layer are: \\n\")\n",
    "\n",
    "        model_sum_params = 0\n",
    "    \n",
    "        for layer in pruned_model.trainable_weights:\n",
    "            # print(tf.math.count_nonzero(layer, axis = None).numpy())\n",
    "            model_sum_params += tf.math.count_nonzero(layer, axis = None).numpy()\n",
    "    \n",
    "        print(\"Total number of trainable parameters (FT) = {0}\\n\".format(model_sum_params))\n",
    "     \n",
    "    \n",
    "    # Save weights of PRUNED and Trained model-\n",
    "    # pruned_model.save_weights(\"Conv2_CIFAR10_Pruned_Weights.h5\", overwrite = True)\n",
    "\n",
    "    \n",
    "    # Extract Winning Ticket:\n",
    "    \n",
    "    # Instantiate a new neural network model for which, the weights are to be extracted-\n",
    "    winning_ticket_model = conv6_cnn()\n",
    "    \n",
    "    # Load weights of PRUNED model-\n",
    "    # winning_ticket_model.load_weights(\"Conv2_CIFAR10_Pruned_Weights.h5\")\n",
    "    winning_ticket_model.set_weights(pruned_model.get_weights())\n",
    "    \n",
    "    # Strip the model of its pruning parameters-\n",
    "    # winning_ticket_model_stripped = sparsity.strip_pruning(winning_ticket_model)\n",
    "    \n",
    "    # For each layer, for each weight which is 0, leave it, as is. And for weights which survive the pruning,\n",
    "    # reinitialize it to the value, the model received BEFORE it was trained and pruned-\n",
    "    for orig_wts, pruned_wts in zip(orig_model.trainable_weights,\n",
    "                                    winning_ticket_model.trainable_weights):\n",
    "        pruned_wts.assign(tf.where(tf.equal(pruned_wts, 0), pruned_wts, orig_wts))\n",
    "    \n",
    "    \n",
    "    # Since it's difficult to forecast the sparsity level which gives the winning ticket, save\n",
    "    # all sub-networks, and post training, pick the appropriate 'winning ticket'-\n",
    "    winning_ticket_model.save_weights(\"Conv_6_CIFAR10_Magnitude_Based_Winning_Ticket_Distribution_{0}.h5\".format(\n",
    "        history_main[i]['percentage_wts_pruned']), overwrite = True)\n",
    "    \n",
    "        \n",
    "    with open(\"/home/majumdar/The_Lottery_Ticket_Hypothesis-Resources/Conv6_Magnitude_Based_Pruning_log.txt\", \"a+\") as f:\n",
    "        f.write(\"Round = {0}, val_accuracy = {1:.4f}%\\n\".format(\n",
    "            i, history_main[i]['val_accuracy'][epoch - 1]\n",
    "        ))\n",
    "    \n",
    "    "
   ]
  },
  {
   "cell_type": "code",
   "execution_count": null,
   "metadata": {},
   "outputs": [],
   "source": []
  },
  {
   "cell_type": "code",
   "execution_count": null,
   "metadata": {},
   "outputs": [],
   "source": []
  },
  {
   "cell_type": "code",
   "execution_count": 37,
   "metadata": {},
   "outputs": [],
   "source": [
    "winning_ticket_model.save_weights(\"Conv_6_CIFAR10_Magnitude_Based_Winning_Ticket_Distribution_{0}.h5\".format(\n",
    "    history_main[i]['percentage_wts_pruned']), overwrite = True)"
   ]
  },
  {
   "cell_type": "code",
   "execution_count": null,
   "metadata": {},
   "outputs": [],
   "source": []
  },
  {
   "cell_type": "code",
   "execution_count": 36,
   "metadata": {},
   "outputs": [
    {
     "name": "stdout",
     "output_type": "stream",
     "text": [
      "\n",
      "Conv-6 CNN magnitude based LTH training is completed\n",
      "\n"
     ]
    }
   ],
   "source": [
    "print(\"\\nConv-6 CNN magnitude based LTH training is completed\\n\")"
   ]
  },
  {
   "cell_type": "code",
   "execution_count": null,
   "metadata": {},
   "outputs": [],
   "source": []
  },
  {
   "cell_type": "code",
   "execution_count": 38,
   "metadata": {
    "colab": {},
    "colab_type": "code",
    "id": "bFBKZT-vMKai"
   },
   "outputs": [],
   "source": [
    "import os\n",
    "import pickle"
   ]
  },
  {
   "cell_type": "code",
   "execution_count": 39,
   "metadata": {
    "colab": {},
    "colab_type": "code",
    "id": "xvFUhqzBMKal",
    "outputId": "59ab0b32-d5bc-4c1e-99a8-083856d0c96d"
   },
   "outputs": [
    {
     "data": {
      "text/plain": [
       "'/home/majumdar/The_Lottery_Ticket_Hypothesis-Resources'"
      ]
     },
     "execution_count": 39,
     "metadata": {},
     "output_type": "execute_result"
    }
   ],
   "source": [
    "os.getcwd()"
   ]
  },
  {
   "cell_type": "code",
   "execution_count": 40,
   "metadata": {
    "colab": {},
    "colab_type": "code",
    "id": "WjlcGKVHMKaq"
   },
   "outputs": [],
   "source": [
    "with open(\"/home/majumdar/The_Lottery_Ticket_Hypothesis-Resources/Conv6_CIFAR10_Magnitude_based_Pruning.pkl\", \"wb\") as f:\n",
    "    pickle.dump(history_main, f)"
   ]
  },
  {
   "cell_type": "code",
   "execution_count": null,
   "metadata": {
    "colab": {},
    "colab_type": "code",
    "id": "ppLmZMjFMKau"
   },
   "outputs": [],
   "source": []
  },
  {
   "cell_type": "code",
   "execution_count": null,
   "metadata": {
    "colab": {},
    "colab_type": "code",
    "id": "OsBYYnb_MKa1"
   },
   "outputs": [],
   "source": [
    "with open(\"/home/majumdar/The_Lottery_Ticket_Hypothesis-Resources/Conv6_CIFAR10_Magnitude_based_Pruning.pkl\", \"rb\") as f:\n",
    "    history_main = pickle.load(f)"
   ]
  },
  {
   "cell_type": "code",
   "execution_count": null,
   "metadata": {
    "colab": {},
    "colab_type": "code",
    "id": "QSxAra7BMKa4",
    "outputId": "8fde851d-a615-4b23-b8dc-b5fdfcf04787"
   },
   "outputs": [
    {
     "data": {
      "text/plain": [
       "89.13206556393234"
      ]
     },
     "execution_count": 54,
     "metadata": {
      "tags": []
     },
     "output_type": "execute_result"
    }
   ],
   "source": [
    "# Sanity check-\n",
    "history_main[10]['percentage_wts_pruned']"
   ]
  },
  {
   "cell_type": "code",
   "execution_count": null,
   "metadata": {},
   "outputs": [],
   "source": []
  },
  {
   "cell_type": "code",
   "execution_count": null,
   "metadata": {},
   "outputs": [],
   "source": []
  },
  {
   "cell_type": "markdown",
   "metadata": {
    "colab_type": "text",
    "id": "IUJ1dwOLMKbB"
   },
   "source": [
    "### Visualizations for _Iterative Pruning Rounds_:"
   ]
  },
  {
   "cell_type": "code",
   "execution_count": 41,
   "metadata": {
    "colab": {},
    "colab_type": "code",
    "id": "bOZ5K2gJMKbG"
   },
   "outputs": [],
   "source": [
    "# Python 3 dict for training and testing accuracy visualization-\n",
    "# key is 'percentage_wts_pruned' and value is accuracy\n",
    "plot_accuracy = {}\n",
    "plot_test_accuracy = {}"
   ]
  },
  {
   "cell_type": "code",
   "execution_count": 42,
   "metadata": {
    "colab": {},
    "colab_type": "code",
    "id": "7Wm25Jm7MKbK"
   },
   "outputs": [],
   "source": [
    "# populate 'plot_accuracy'-\n",
    "for k in history_main.keys():\n",
    "    epoch_length = len(history_main[k]['accuracy'])\n",
    "    plot_accuracy[history_main[k]['percentage_wts_pruned']] = history_main[k]['accuracy'][epoch_length - 1]"
   ]
  },
  {
   "cell_type": "code",
   "execution_count": 43,
   "metadata": {
    "colab": {},
    "colab_type": "code",
    "id": "_WUjOMj6MKbO"
   },
   "outputs": [],
   "source": [
    "# populate 'plot_test_accuracy'-\n",
    "for k in history_main.keys():\n",
    "    epoch_length = len(history_main[k]['accuracy'])\n",
    "    plot_test_accuracy[history_main[k]['percentage_wts_pruned']] = history_main[k]['val_accuracy'][epoch_length - 1]\n"
   ]
  },
  {
   "cell_type": "code",
   "execution_count": 44,
   "metadata": {
    "colab": {},
    "colab_type": "code",
    "id": "hNEsVFD8MKbR",
    "outputId": "b97473ae-5168-4ef2-a792-c19c82141e7f"
   },
   "outputs": [
    {
     "data": {
      "image/png": "[encoded data removed]",
      "text/plain": [
       "<Figure size 800x560 with 1 Axes>"
      ]
     },
     "metadata": {},
     "output_type": "display_data"
    }
   ],
   "source": [
    "# Visualization of training and testing accuracy VS percentage of weights\n",
    "# pruned-\n",
    "fig=plt.figure(figsize=(10, 7), dpi= 80, facecolor='w', edgecolor='k')\n",
    "\n",
    "plt.plot(list(plot_accuracy.keys()), list(plot_accuracy.values()), label = 'training_accuracy')\n",
    "plt.plot(list(plot_test_accuracy.keys()), list(plot_test_accuracy.values()), label = 'testing_accuracy')\n",
    "\n",
    "plt.title(\"Conv-6 CNN: Percentage of weights pruned VS Accuracy\")\n",
    "plt.xlabel(\"percentage of weights pruned\")\n",
    "plt.ylabel(\"Accuracy\")\n",
    "plt.legend(loc = 'best')\n",
    "plt.show()"
   ]
  },
  {
   "cell_type": "code",
   "execution_count": null,
   "metadata": {
    "colab": {},
    "colab_type": "code",
    "id": "FhOq59evMKbU"
   },
   "outputs": [],
   "source": []
  },
  {
   "cell_type": "code",
   "execution_count": null,
   "metadata": {
    "colab": {},
    "colab_type": "code",
    "id": "w1iH9AVHMKbX"
   },
   "outputs": [],
   "source": []
  },
  {
   "cell_type": "code",
   "execution_count": 45,
   "metadata": {
    "colab": {},
    "colab_type": "code",
    "id": "Sc4BcshQMKbZ"
   },
   "outputs": [],
   "source": [
    "# Python 3 dict for training and testing loss visualization-\n",
    "plot_loss = {}\n",
    "plot_test_loss = {}"
   ]
  },
  {
   "cell_type": "code",
   "execution_count": 46,
   "metadata": {
    "colab": {},
    "colab_type": "code",
    "id": "ssUgic2KMKbc"
   },
   "outputs": [],
   "source": [
    "# populate 'plot_loss'-\n",
    "for k in history_main.keys():\n",
    "    epoch_length = len(history_main[k]['loss'])\n",
    "    plot_loss[history_main[k]['percentage_wts_pruned']] = history_main[k]['loss'][epoch_length - 1]\n"
   ]
  },
  {
   "cell_type": "code",
   "execution_count": 47,
   "metadata": {
    "colab": {},
    "colab_type": "code",
    "id": "NZe0qKq3MKbf"
   },
   "outputs": [],
   "source": [
    "# populate 'plot_test_loss'-\n",
    "for k in history_main.keys():\n",
    "    epoch_length = len(history_main[k]['loss'])\n",
    "    plot_test_loss[history_main[k]['percentage_wts_pruned']] = history_main[k]['val_loss'][epoch_length - 1]\n"
   ]
  },
  {
   "cell_type": "code",
   "execution_count": 48,
   "metadata": {
    "colab": {},
    "colab_type": "code",
    "id": "uCKDEWElMKbl",
    "outputId": "1b86a507-9cf0-41de-ed56-296b81233e46"
   },
   "outputs": [
    {
     "data": {
      "image/png": "[encoded data removed]",
      "text/plain": [
       "<Figure size 800x560 with 1 Axes>"
      ]
     },
     "metadata": {},
     "output_type": "display_data"
    }
   ],
   "source": [
    "# Visualization of training and testing loss VS percentage of remaining weights-\n",
    "# pruned-\n",
    "fig=plt.figure(figsize=(10, 7), dpi= 80, facecolor='w', edgecolor='k')\n",
    "\n",
    "plt.plot(list(plot_loss.keys()), list(plot_loss.values()), label = 'training_loss')\n",
    "plt.plot(list(plot_test_loss.keys()), list(plot_test_loss.values()), label = 'testing_loss')\n",
    "\n",
    "plt.title(\"Conv-6 CNN: Percentage of weights pruned VS Loss\")\n",
    "plt.xlabel(\"percentage of weights pruned\")\n",
    "plt.ylabel(\"Loss\")\n",
    "plt.legend(loc = 'best')\n",
    "plt.show()"
   ]
  },
  {
   "cell_type": "code",
   "execution_count": null,
   "metadata": {
    "colab": {},
    "colab_type": "code",
    "id": "LCxxv2ahMKbs"
   },
   "outputs": [],
   "source": []
  },
  {
   "cell_type": "code",
   "execution_count": 49,
   "metadata": {
    "colab": {},
    "colab_type": "code",
    "id": "VLioC9-NMKbu"
   },
   "outputs": [],
   "source": [
    "# Plot number of epochs (Early Stopping) VS percentage of weights pruned-\n",
    "\n",
    "# Python 3 dict to hold number of epochs vs % of weights pruned-\n",
    "plot_num_epochs = {}\n",
    "plot_num_epochs_test = {}\n"
   ]
  },
  {
   "cell_type": "code",
   "execution_count": 50,
   "metadata": {
    "colab": {},
    "colab_type": "code",
    "id": "dif4-rEbMKby"
   },
   "outputs": [],
   "source": [
    "# populate 'plot_num_epochs'-\n",
    "for k in history_main.keys():\n",
    "    num_epochs = len(history_main[k]['accuracy'])\n",
    "    plot_num_epochs[history_main[k]['percentage_wts_pruned']] = num_epochs\n"
   ]
  },
  {
   "cell_type": "code",
   "execution_count": 51,
   "metadata": {
    "colab": {},
    "colab_type": "code",
    "id": "u4UJfVvhMKb5",
    "outputId": "ba60c50a-9a37-4cbc-f124-67f1c791d8d8"
   },
   "outputs": [
    {
     "data": {
      "image/png": "[encoded data removed]",
      "text/plain": [
       "<Figure size 720x560 with 1 Axes>"
      ]
     },
     "metadata": {},
     "output_type": "display_data"
    }
   ],
   "source": [
    "# Visualize percentage of weights remaining VS number of epochs (Early Stopping)\n",
    "fig=plt.figure(figsize=(9, 7), dpi= 80, facecolor='w', edgecolor='k')\n",
    "\n",
    "plt.plot(list(plot_num_epochs.keys()), list(plot_num_epochs.values()), label = 'training set')\n",
    "# plt.plot(list(plot_num_epochs_test.keys()), list(plot_num_epochs_test.values()), label = 'testing set')\n",
    "\n",
    "plt.title(\"Conv-6 CNN: Percentage of weights pruned VS number of epochs (Early Stopping)\")\n",
    "plt.xlabel(\"percentage of weights pruned\")\n",
    "plt.ylabel(\"number of epochs\")\n",
    "plt.legend(loc = 'best')\n",
    "plt.show()\n"
   ]
  },
  {
   "cell_type": "code",
   "execution_count": null,
   "metadata": {
    "colab": {},
    "colab_type": "code",
    "id": "FLe0KyKTMKb7"
   },
   "outputs": [],
   "source": []
  },
  {
   "cell_type": "code",
   "execution_count": null,
   "metadata": {
    "colab": {},
    "colab_type": "code",
    "id": "eLTSCEaxMKb-"
   },
   "outputs": [],
   "source": []
  },
  {
   "cell_type": "code",
   "execution_count": 52,
   "metadata": {
    "colab": {},
    "colab_type": "code",
    "id": "0-tQrHhtMKcB"
   },
   "outputs": [],
   "source": [
    "# Try to visualize the STARTING training and testing accuracy VS percentage\n",
    "# of remaining weights-\n",
    "\n",
    "# Python 3 dict for visualization-\n",
    "plot_starting_accuracy = {}\n",
    "plot_starting_test_accuracy = {}\n",
    "\n",
    "# Key:    percentage of weights pruned\n",
    "# Value:  starting accuracy\n"
   ]
  },
  {
   "cell_type": "code",
   "execution_count": 53,
   "metadata": {
    "colab": {},
    "colab_type": "code",
    "id": "AHtANfJMMKcF"
   },
   "outputs": [],
   "source": [
    "# populate 'plot_starting_accuracy'-\n",
    "for k in history_main.keys():\n",
    "    epoch_length = len(history_main[k]['loss'])\n",
    "    plot_starting_accuracy[history_main[k]['percentage_wts_pruned']] = history_main[k]['accuracy'][0]\n"
   ]
  },
  {
   "cell_type": "code",
   "execution_count": 54,
   "metadata": {
    "colab": {},
    "colab_type": "code",
    "id": "jsfhtooJMKcH"
   },
   "outputs": [],
   "source": [
    "# populate 'plot_starting_test_accuracy'-\n",
    "for k in history_main.keys():\n",
    "    epoch_length = len(history_main[k]['loss'])\n",
    "    plot_starting_test_accuracy[history_main[k]['percentage_wts_pruned']] = history_main[k]['val_accuracy'][0]\n"
   ]
  },
  {
   "cell_type": "code",
   "execution_count": 55,
   "metadata": {
    "colab": {},
    "colab_type": "code",
    "id": "vnNOmxPzMKcK",
    "outputId": "bc72c0b5-57a7-45de-cac4-70e4893921d3"
   },
   "outputs": [
    {
     "data": {
      "image/png": "[encoded data removed]",
      "text/plain": [
       "<Figure size 800x560 with 1 Axes>"
      ]
     },
     "metadata": {},
     "output_type": "display_data"
    }
   ],
   "source": [
    "# Visualize starting accuracy VS percentage of weights pruned-\n",
    "fig=plt.figure(figsize=(10, 7), dpi= 80, facecolor='w', edgecolor='k')\n",
    "\n",
    "plt.plot(list(plot_starting_accuracy.keys()), list(plot_starting_accuracy.values()), label = 'training starting accuracy')\n",
    "plt.plot(list(plot_starting_test_accuracy.keys()), list(plot_starting_test_accuracy.values()), label = 'testing starting accuracy')\n",
    "\n",
    "plt.title(\"Conv-6 CNN: Percentage of weights pruned VS Starting Accuracy\")\n",
    "plt.xlabel(\"percentage of weights pruned\")\n",
    "plt.ylabel(\"Accuracy\")\n",
    "plt.legend(loc = 'best')\n",
    "plt.show()\n"
   ]
  },
  {
   "cell_type": "code",
   "execution_count": null,
   "metadata": {
    "colab": {},
    "colab_type": "code",
    "id": "Bly3r9nsMKcO"
   },
   "outputs": [],
   "source": []
  },
  {
   "cell_type": "code",
   "execution_count": null,
   "metadata": {
    "colab": {},
    "colab_type": "code",
    "id": "41HdFzlSMKcS"
   },
   "outputs": [],
   "source": []
  },
  {
   "cell_type": "code",
   "execution_count": 56,
   "metadata": {
    "colab": {},
    "colab_type": "code",
    "id": "KxQ__PodMKcW"
   },
   "outputs": [],
   "source": [
    "# Try to visualize the STARTING training and testing loss VS percentage\n",
    "# of remaining weights-\n",
    "\n",
    "# Python 3 dict for visualization-\n",
    "plot_starting_loss = {}\n",
    "plot_starting_test_loss = {}\n",
    "\n",
    "# Key:\t\tpercentage of weights pruned\n",
    "# Value:\tstarting loss\n"
   ]
  },
  {
   "cell_type": "code",
   "execution_count": 57,
   "metadata": {
    "colab": {},
    "colab_type": "code",
    "id": "cnzPlUx0MKcY"
   },
   "outputs": [],
   "source": [
    "# Populate 'plot_starting_loss' Python 3 dict-\n",
    "for k in history_main.keys():\n",
    "    epoch_length = len(history_main[k]['loss'])\n",
    "    plot_starting_loss[history_main[k]['percentage_wts_pruned']] = history_main[k]['loss'][0]\n"
   ]
  },
  {
   "cell_type": "code",
   "execution_count": 58,
   "metadata": {
    "colab": {},
    "colab_type": "code",
    "id": "Y9J82jrOMKcb"
   },
   "outputs": [],
   "source": [
    "# Populate 'plot_starting_test_loss' Python 3 dict-\n",
    "for k in history_main.keys():\n",
    "    epoch_length = len(history_main[k]['loss'])\n",
    "    plot_starting_test_loss[history_main[k]['percentage_wts_pruned']] = history_main[k]['val_loss'][0]\n"
   ]
  },
  {
   "cell_type": "code",
   "execution_count": 59,
   "metadata": {
    "colab": {},
    "colab_type": "code",
    "id": "6ywrtLJkMKce",
    "outputId": "0952a982-9ac4-44cb-94c6-28e24d026312"
   },
   "outputs": [
    {
     "data": {
      "image/png": "[encoded data removed]",
      "text/plain": [
       "<Figure size 800x560 with 1 Axes>"
      ]
     },
     "metadata": {},
     "output_type": "display_data"
    }
   ],
   "source": [
    "# Visualize Starting training & testing loss VS percentage of weights pruned-\n",
    "fig=plt.figure(figsize=(10, 7), dpi= 80, facecolor='w', edgecolor='k')\n",
    "\n",
    "plt.plot(list(plot_starting_loss.keys()), list(plot_starting_loss.values()), label = 'training starting loss')\n",
    "plt.plot(list(plot_starting_test_loss.keys()), list(plot_starting_test_loss.values()), label = 'testing starting loss')\n",
    "\n",
    "plt.title(\"Conv-6 CNN: Percentage of weights pruned VS Starting Loss\")\n",
    "plt.xlabel(\"percentage of weights pruned\")\n",
    "plt.ylabel(\"Loss\")\n",
    "plt.legend(loc = 'best')\n",
    "plt.show()"
   ]
  },
  {
   "cell_type": "code",
   "execution_count": null,
   "metadata": {
    "colab": {},
    "colab_type": "code",
    "id": "6TkNqPNTMKch"
   },
   "outputs": [],
   "source": []
  },
  {
   "cell_type": "code",
   "execution_count": null,
   "metadata": {
    "colab": {},
    "colab_type": "code",
    "id": "ElBrb4p_MKcz"
   },
   "outputs": [],
   "source": []
  },
  {
   "cell_type": "code",
   "execution_count": 60,
   "metadata": {
    "colab": {},
    "colab_type": "code",
    "id": "ItL8unY0MKc2"
   },
   "outputs": [],
   "source": [
    "# Try to visualize: percentage of weights remaining VS BEST accuracy within each iterative\n",
    "# pruning round\n",
    "\n",
    "# Python 3 dict for visualization-\n",
    "plot_best_accuracy = {}\n",
    "plot_best_test_accuracy = {}\n",
    "\n",
    "# Key:\t\tpercentage of weights pruned\n",
    "# Value:\tbest accuracy"
   ]
  },
  {
   "cell_type": "code",
   "execution_count": 61,
   "metadata": {
    "colab": {},
    "colab_type": "code",
    "id": "qXByFXWRMKc6"
   },
   "outputs": [],
   "source": [
    "# Populate 'plot_best_accuracy' Python 3 dict-\n",
    "for k in history_main.keys():\n",
    "    epoch_length = len(history_main[k]['accuracy'])\n",
    "    plot_best_accuracy[history_main[k]['percentage_wts_pruned']] = np.amax(history_main[k]['accuracy'])\n"
   ]
  },
  {
   "cell_type": "code",
   "execution_count": 62,
   "metadata": {
    "colab": {},
    "colab_type": "code",
    "id": "SVSnE3ClMKc9"
   },
   "outputs": [],
   "source": [
    "# Populate 'plot_best_test_accuracy' Python 3 dict-\n",
    "for k in history_main.keys():\n",
    "    epoch_length = len(history_main[k]['accuracy'])\n",
    "    plot_best_test_accuracy[history_main[k]['percentage_wts_pruned']] = np.amax(history_main[k]['val_accuracy'])\n"
   ]
  },
  {
   "cell_type": "code",
   "execution_count": 63,
   "metadata": {
    "colab": {},
    "colab_type": "code",
    "id": "r0ntLSMWMKdA",
    "outputId": "71061594-671b-4e55-8179-04f62baf8b07"
   },
   "outputs": [
    {
     "data": {
      "image/png": "[encoded data removed]",
      "text/plain": [
       "<Figure size 800x560 with 1 Axes>"
      ]
     },
     "metadata": {},
     "output_type": "display_data"
    }
   ],
   "source": [
    "# Visualize best accuracy VS percentage of weights pruned-\n",
    "fig=plt.figure(figsize=(10, 7), dpi= 80, facecolor='w', edgecolor='k')\n",
    "\n",
    "plt.plot(list(plot_best_accuracy.keys()), list(plot_best_accuracy.values()), label = 'training best accuracy')\n",
    "plt.plot(list(plot_best_test_accuracy.keys()), list(plot_best_test_accuracy.values()), label = 'testing best accuracy')\n",
    "\n",
    "plt.title(\"Conv-6 CNN: Percentage of weights pruned VS Best Accuracy\")\n",
    "plt.xlabel(\"percentage of weights pruned\")\n",
    "plt.ylabel(\"Accuracy\")\n",
    "plt.legend(loc = 'best')\n",
    "plt.show()\n"
   ]
  },
  {
   "cell_type": "code",
   "execution_count": null,
   "metadata": {
    "colab": {},
    "colab_type": "code",
    "id": "mAAZOWbrMKdD"
   },
   "outputs": [],
   "source": []
  },
  {
   "cell_type": "code",
   "execution_count": null,
   "metadata": {
    "colab": {},
    "colab_type": "code",
    "id": "9WyxkjuOMKdF"
   },
   "outputs": [],
   "source": []
  },
  {
   "cell_type": "code",
   "execution_count": 64,
   "metadata": {
    "colab": {},
    "colab_type": "code",
    "id": "Uur7ZSt6MKdI"
   },
   "outputs": [],
   "source": [
    "# Try to visualize: percentage of weights remaining VS LOWEST loss within each iterative\n",
    "# pruning round\n",
    "\n",
    "# Python 3 dict for visualization-\n",
    "plot_best_loss = {}\n",
    "plot_best_test_loss = {}\n",
    "\n",
    "# Key:\t\tpercentage of weights pruned\n",
    "# Value:\tbest loss"
   ]
  },
  {
   "cell_type": "code",
   "execution_count": 65,
   "metadata": {
    "colab": {},
    "colab_type": "code",
    "id": "SZHNOz-2MKdL"
   },
   "outputs": [],
   "source": [
    "# Populate 'plot_best_loss' Python 3 dict-\n",
    "for k in history_main.keys():\n",
    "    epoch_length = len(history_main[k]['loss'])\n",
    "    plot_best_loss[history_main[k]['percentage_wts_pruned']] = np.amin(history_main[k]['loss'])\n"
   ]
  },
  {
   "cell_type": "code",
   "execution_count": 66,
   "metadata": {
    "colab": {},
    "colab_type": "code",
    "id": "flqdkmEnMKdM"
   },
   "outputs": [],
   "source": [
    "# Populate 'plot_best_test_loss' Python 3 dict-\n",
    "for k in history_main.keys():\n",
    "    epoch_length = len(history_main[k]['loss'])\n",
    "    plot_best_test_loss[history_main[k]['percentage_wts_pruned']] = np.amin(history_main[k]['val_loss'])\n"
   ]
  },
  {
   "cell_type": "code",
   "execution_count": 67,
   "metadata": {
    "colab": {},
    "colab_type": "code",
    "id": "XkmwHQw1MKdP",
    "outputId": "796b4c86-c496-41c6-b92b-5be67889f464"
   },
   "outputs": [
    {
     "data": {
      "image/png": "[encoded data removed]",
      "text/plain": [
       "<Figure size 800x560 with 1 Axes>"
      ]
     },
     "metadata": {},
     "output_type": "display_data"
    }
   ],
   "source": [
    "# Visualize best loss VS percentage of weights pruned-\n",
    "fig=plt.figure(figsize=(10, 7), dpi= 80, facecolor='w', edgecolor='k')\n",
    "\n",
    "plt.plot(list(plot_best_loss.keys()), list(plot_best_loss.values()), label = 'training best loss')\n",
    "plt.plot(list(plot_best_test_loss.keys()), list(plot_best_test_loss.values()), label = 'testing best loss')\n",
    "\n",
    "plt.title(\"Conv-6 CNN: Percentage of weights pruned VS Best Loss\")\n",
    "plt.xlabel(\"percentage of weights pruned\")\n",
    "plt.ylabel(\"Loss\")\n",
    "plt.legend(loc = 'best')\n",
    "plt.show()\n"
   ]
  },
  {
   "cell_type": "code",
   "execution_count": null,
   "metadata": {
    "colab": {},
    "colab_type": "code",
    "id": "Yryb4648MKdT"
   },
   "outputs": [],
   "source": []
  },
  {
   "cell_type": "code",
   "execution_count": null,
   "metadata": {
    "colab": {},
    "colab_type": "code",
    "id": "JNDEnxftMKdV"
   },
   "outputs": [],
   "source": []
  },
  {
   "cell_type": "markdown",
   "metadata": {
    "colab": {},
    "colab_type": "code",
    "id": "2giW2pNyMKdn"
   },
   "source": [
    "### Find the winning ticket(s):"
   ]
  },
  {
   "cell_type": "code",
   "execution_count": 68,
   "metadata": {},
   "outputs": [
    {
     "name": "stdout",
     "output_type": "stream",
     "text": [
      "epoch: 1, val_acc = 78.8700% with 0.0000% weights pruned, needs = 8 epochs\n",
      "epoch: 2, val_acc = 78.0000% with 17.4471% weights pruned, needs = 11 epochs\n",
      "epoch: 3, val_acc = 79.7400% with 31.7851% weights pruned, needs = 9 epochs\n",
      "epoch: 4, val_acc = 78.3400% with 43.5793% weights pruned, needs = 9 epochs\n",
      "epoch: 5, val_acc = 79.0900% with 53.2891% weights pruned, needs = 10 epochs\n",
      "epoch: 6, val_acc = 79.9600% with 61.2910% weights pruned, needs = 8 epochs\n",
      "epoch: 7, val_acc = 80.7400% with 67.8922% weights pruned, needs = 7 epochs\n",
      "epoch: 8, val_acc = 79.7900% with 73.3416% weights pruned, needs = 7 epochs\n",
      "epoch: 9, val_acc = 79.1800% with 77.8458% weights pruned, needs = 6 epochs\n",
      "epoch: 10, val_acc = 79.8200% with 81.5705% weights pruned, needs = 7 epochs\n",
      "epoch: 11, val_acc = 79.5500% with 84.6550% weights pruned, needs = 7 epochs\n",
      "epoch: 12, val_acc = 78.9400% with 87.2105% weights pruned, needs = 6 epochs\n",
      "epoch: 13, val_acc = 79.4800% with 89.3300% weights pruned, needs = 6 epochs\n",
      "epoch: 14, val_acc = 78.5300% with 91.0891% weights pruned, needs = 6 epochs\n",
      "epoch: 15, val_acc = 78.0000% with 92.5519% weights pruned, needs = 8 epochs\n",
      "epoch: 16, val_acc = 77.9500% with 93.7680% weights pruned, needs = 9 epochs\n",
      "epoch: 17, val_acc = 78.4500% with 94.7795% weights pruned, needs = 9 epochs\n",
      "epoch: 18, val_acc = 78.0200% with 95.6228% weights pruned, needs = 13 epochs\n",
      "epoch: 19, val_acc = 77.4500% with 96.3256% weights pruned, needs = 13 epochs\n",
      "epoch: 20, val_acc = 78.2400% with 96.9126% weights pruned, needs = 19 epochs\n",
      "epoch: 21, val_acc = 77.1000% with 97.4025% weights pruned, needs = 21 epochs\n",
      "epoch: 22, val_acc = 75.6400% with 97.8127% weights pruned, needs = 40 epochs\n",
      "epoch: 23, val_acc = 76.4800% with 98.1561% weights pruned, needs = 44 epochs\n",
      "epoch: 24, val_acc = 74.9000% with 98.4441% weights pruned, needs = 40 epochs\n",
      "epoch: 25, val_acc = 74.7300% with 98.6855% weights pruned, needs = 52 epochs\n",
      "epoch: 26, val_acc = 10.0000% with 98.8880% weights pruned, needs = 4 epochs\n",
      "epoch: 27, val_acc = 10.0000% with 99.0588% weights pruned, needs = 4 epochs\n",
      "epoch: 28, val_acc = 10.0000% with 99.2021% weights pruned, needs = 9 epochs\n",
      "epoch: 29, val_acc = 10.0000% with 99.3239% weights pruned, needs = 4 epochs\n",
      "epoch: 30, val_acc = 10.0000% with 99.4262% weights pruned, needs = 7 epochs\n"
     ]
    }
   ],
   "source": [
    "for k in history_main.keys():\n",
    "\tepoch_length = len(history_main[k]['loss'])\n",
    "\n",
    "\tif k == 1:\n",
    "\t\tprint(\"epoch: {0}, val_acc = {1:.4f}% with {2:.4f}% weights pruned, needs = {3} epochs\".format(\n",
    "\t\t\tk, history_main[k]['val_accuracy'][epoch_length-1],\n",
    "\t\t\t0, epoch_length))\n",
    "\telse:\n",
    "\t\tprint(\"epoch: {0}, val_acc = {1:.4f}% with {2:.4f}% weights pruned, needs = {3} epochs\".format(\n",
    "\t\t\tk, history_main[k]['val_accuracy'][epoch_length-1],\n",
    "\t\t\thistory_main[k - 1]['percentage_wts_pruned'], epoch_length))\n"
   ]
  }
 ],
 "metadata": {
  "kernelspec": {
   "display_name": "Python 3",
   "language": "python",
   "name": "python3"
  },
  "language_info": {
   "codemirror_mode": {
    "name": "ipython",
    "version": 3
   },
   "file_extension": ".py",
   "mimetype": "text/x-python",
   "name": "python",
   "nbconvert_exporter": "python",
   "pygments_lexer": "ipython3",
   "version": "3.7.3"
  }
 },
 "nbformat": 4,
 "nbformat_minor": 4
}
