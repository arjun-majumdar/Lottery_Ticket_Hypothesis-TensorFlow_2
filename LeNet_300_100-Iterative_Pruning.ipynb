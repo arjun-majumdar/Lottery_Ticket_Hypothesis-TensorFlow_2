{
 "cells": [
  {
   "cell_type": "markdown",
   "id": "enhanced-reaction",
   "metadata": {},
   "source": [
    "# Iterative Pruning: _LeNet-300-100_ on MNIST"
   ]
  },
  {
   "cell_type": "code",
   "execution_count": 1,
   "id": "defined-postcard",
   "metadata": {},
   "outputs": [],
   "source": [
    "import torch\n",
    "import torch.nn as nn\n",
    "import torchvision\n",
    "import torch.nn.functional as F\n",
    "import numpy as np\n",
    "import torchvision.transforms as transforms\n",
    "import matplotlib.pyplot as plt\n",
    "import os"
   ]
  },
  {
   "cell_type": "code",
   "execution_count": null,
   "id": "explicit-sunset",
   "metadata": {},
   "outputs": [],
   "source": []
  },
  {
   "cell_type": "code",
   "execution_count": 2,
   "id": "constant-geneva",
   "metadata": {},
   "outputs": [
    {
     "name": "stdout",
     "output_type": "stream",
     "text": [
      "PyTorch version: 1.7.1\n"
     ]
    }
   ],
   "source": [
    "print(f\"PyTorch version: {torch.__version__}\")"
   ]
  },
  {
   "cell_type": "code",
   "execution_count": null,
   "id": "shared-velvet",
   "metadata": {},
   "outputs": [],
   "source": []
  },
  {
   "cell_type": "code",
   "execution_count": 3,
   "id": "absent-panel",
   "metadata": {},
   "outputs": [
    {
     "name": "stdout",
     "output_type": "stream",
     "text": [
      "Available device: cpu\n"
     ]
    }
   ],
   "source": [
    "# GPU device configuration-\n",
    "device = torch.device('cuda' if torch.cuda.is_available() else 'cpu')\n",
    "\n",
    "print(f\"Available device: {device}\")"
   ]
  },
  {
   "cell_type": "code",
   "execution_count": null,
   "id": "proud-buffer",
   "metadata": {},
   "outputs": [],
   "source": []
  },
  {
   "cell_type": "code",
   "execution_count": 4,
   "id": "expensive-parking",
   "metadata": {},
   "outputs": [],
   "source": [
    "# Hyper-parameters-\n",
    "input_size = 784    # 28 x 28, flattened to be 1-D tensor\n",
    "hidden_size = 100\n",
    "num_classes = 10\n",
    "num_epochs = 20\n",
    "batch_size = 32\n",
    "learning_rate = 0.0012"
   ]
  },
  {
   "cell_type": "code",
   "execution_count": null,
   "id": "substantial-faith",
   "metadata": {},
   "outputs": [],
   "source": []
  },
  {
   "cell_type": "code",
   "execution_count": 5,
   "id": "patient-bruce",
   "metadata": {},
   "outputs": [],
   "source": [
    "os.chdir(\"/home/arjun/Documents/Programs/Python_Codes/PyTorch_Resources/Good_Codes/\")"
   ]
  },
  {
   "cell_type": "code",
   "execution_count": 6,
   "id": "rotary-jacket",
   "metadata": {},
   "outputs": [],
   "source": [
    "# MNIST dataset statistics:\n",
    "# mean = tensor([0.1307]) & std dev = tensor([0.3081])\n",
    "mean = np.array([0.1307])\n",
    "std_dev = np.array([0.3081])"
   ]
  },
  {
   "cell_type": "code",
   "execution_count": 7,
   "id": "accredited-fleet",
   "metadata": {},
   "outputs": [],
   "source": [
    "# Define data set transformations to apply-\n",
    "transforms_apply = transforms.Compose([\n",
    "    transforms.ToTensor(),\n",
    "    transforms.Normalize(mean = mean, std = std_dev)\n",
    "    ])"
   ]
  },
  {
   "cell_type": "code",
   "execution_count": 8,
   "id": "meaningful-means",
   "metadata": {},
   "outputs": [],
   "source": [
    "# MNIST dataset-\n",
    "train_dataset = torchvision.datasets.MNIST(\n",
    "        root = './data', train = True,\n",
    "        transform = transforms_apply, download = True\n",
    "        )\n",
    "\n",
    "test_dataset = torchvision.datasets.MNIST(\n",
    "        root = './data', train = False,\n",
    "        transform = transforms_apply\n",
    "        )"
   ]
  },
  {
   "cell_type": "code",
   "execution_count": 9,
   "id": "cognitive-afghanistan",
   "metadata": {},
   "outputs": [
    {
     "name": "stdout",
     "output_type": "stream",
     "text": [
      "len(train_dataset): 60000 & len(test_dataset): 10000\n"
     ]
    }
   ],
   "source": [
    "print(f\"len(train_dataset): {len(train_dataset)} & len(test_dataset): {len(test_dataset)}\")"
   ]
  },
  {
   "cell_type": "code",
   "execution_count": 10,
   "id": "lesbian-conditions",
   "metadata": {},
   "outputs": [],
   "source": [
    "# Create dataloader-\n",
    "train_loader = torch.utils.data.DataLoader(\n",
    "        dataset = train_dataset, batch_size = batch_size,\n",
    "        shuffle = True\n",
    "        )\n",
    "\n",
    "test_loader = torch.utils.data.DataLoader(\n",
    "        dataset = test_dataset, batch_size = batch_size,\n",
    "        shuffle = False\n",
    "        )"
   ]
  },
  {
   "cell_type": "code",
   "execution_count": 11,
   "id": "billion-second",
   "metadata": {},
   "outputs": [
    {
     "name": "stdout",
     "output_type": "stream",
     "text": [
      "len(train_loader) = 1875 & len(test_loader) = 313\n"
     ]
    }
   ],
   "source": [
    "print(f\"len(train_loader) = {len(train_loader)} & len(test_loader) = {len(test_loader)}\")"
   ]
  },
  {
   "cell_type": "code",
   "execution_count": null,
   "id": "local-breed",
   "metadata": {},
   "outputs": [],
   "source": []
  },
  {
   "cell_type": "code",
   "execution_count": 12,
   "id": "graduate-light",
   "metadata": {},
   "outputs": [
    {
     "data": {
      "text/plain": [
       "(torch.Size([32, 1, 28, 28]), torch.Size([32]))"
      ]
     },
     "execution_count": 12,
     "metadata": {},
     "output_type": "execute_result"
    }
   ],
   "source": [
    "images, labels = next(iter(train_loader))\n",
    "\n",
    "images.shape, labels.shape"
   ]
  },
  {
   "cell_type": "code",
   "execution_count": 13,
   "id": "abroad-amplifier",
   "metadata": {},
   "outputs": [
    {
     "name": "stdout",
     "output_type": "stream",
     "text": [
      "img_samples.shape = torch.Size([32, 1, 28, 28]), labels.shape = torch.Size([32])\n"
     ]
    }
   ],
   "source": [
    "# Sanity check- one batch of data\n",
    "examples = iter(train_loader)\n",
    "\n",
    "# Unpack-\n",
    "img_samples, labels = examples.next()\n",
    "print(f\"img_samples.shape = {img_samples.shape}, labels.shape = {labels.shape}\")\n",
    "# We have '1' due to grey-scale images."
   ]
  },
  {
   "cell_type": "code",
   "execution_count": 14,
   "id": "premium-preparation",
   "metadata": {},
   "outputs": [
    {
     "data": {
      "image/png": "[encoded data removed]",
      "text/plain": [
       "<Figure size 432x288 with 6 Axes>"
      ]
     },
     "metadata": {
      "needs_background": "light"
     },
     "output_type": "display_data"
    }
   ],
   "source": [
    "# images[0][0].shape      # the second index '0' accesses the 1st channel\n",
    "# torch.Size([28, 28])\n",
    "\n",
    "# Visualize the digits-\n",
    "for i in range(6):\n",
    "    plt.subplot(2, 3, i + 1)    # 2 rows & 3 columns\n",
    "    plt.imshow(images[i][0], cmap = 'gray')     # '0' to access first channel\n",
    "    # plt.imshow(img_samples[i][0], cmap='gray')  # '0' to access first channel\n",
    "plt.show()"
   ]
  },
  {
   "cell_type": "code",
   "execution_count": null,
   "id": "separated-lewis",
   "metadata": {},
   "outputs": [],
   "source": []
  },
  {
   "cell_type": "code",
   "execution_count": 15,
   "id": "filled-magic",
   "metadata": {},
   "outputs": [
    {
     "data": {
      "text/plain": [
       "(tensor(-0.4242), tensor(2.8215))"
      ]
     },
     "execution_count": 15,
     "metadata": {},
     "output_type": "execute_result"
    }
   ],
   "source": [
    "# Sanity check- Check whether transformations have been applied.\n",
    "# Look at first image out of 32 images-\n",
    "img_samples[0, :, :, :].min(), img_samples[0, :, :, :].max()"
   ]
  },
  {
   "cell_type": "code",
   "execution_count": null,
   "id": "suburban-vulnerability",
   "metadata": {},
   "outputs": [],
   "source": []
  },
  {
   "cell_type": "code",
   "execution_count": null,
   "id": "confused-unemployment",
   "metadata": {},
   "outputs": [],
   "source": []
  },
  {
   "cell_type": "code",
   "execution_count": 16,
   "id": "guided-distribution",
   "metadata": {},
   "outputs": [],
   "source": [
    "class LeNet300(nn.Module):\n",
    "    def __init__(self):\n",
    "        super(LeNet300, self).__init__()\n",
    "        \n",
    "        # Define layers-\n",
    "        self.fc1 = nn.Linear(in_features = input_size, out_features = 300)\n",
    "        self.fc2 = nn.Linear(in_features = 300, out_features = 100)\n",
    "        self.output = nn.Linear(in_features = 100, out_features = 10)\n",
    "        \n",
    "        self.weights_initialization()\n",
    "    \n",
    "    \n",
    "    def forward(self, x):\n",
    "        out = F.relu(self.fc1(x))\n",
    "        out = F.relu(self.fc2(out))\n",
    "        return self.output(out)\n",
    "    \n",
    "    \n",
    "    def weights_initialization(self):\n",
    "        '''\n",
    "        When we define all the modules such as the layers in '__init__()'\n",
    "        method above, these are all stored in 'self.modules()'.\n",
    "        We go through each module one by one. This is the entire network,\n",
    "        basically.\n",
    "        '''\n",
    "        for m in self.modules():\n",
    "            if isinstance(m, nn.Linear):\n",
    "                nn.init.xavier_normal_(m.weight)\n",
    "                nn.init.constant_(m.bias, 0)\n"
   ]
  },
  {
   "cell_type": "code",
   "execution_count": null,
   "id": "weighted-genius",
   "metadata": {},
   "outputs": [],
   "source": []
  },
  {
   "cell_type": "code",
   "execution_count": 17,
   "id": "twenty-ecology",
   "metadata": {},
   "outputs": [],
   "source": [
    "# Initialize an instance of LeNet-300-100 dense neural network-\n",
    "model = LeNet300()"
   ]
  },
  {
   "cell_type": "code",
   "execution_count": null,
   "id": "solar-virtue",
   "metadata": {},
   "outputs": [],
   "source": []
  },
  {
   "cell_type": "code",
   "execution_count": 18,
   "id": "dated-mixture",
   "metadata": {},
   "outputs": [
    {
     "name": "stdout",
     "output_type": "stream",
     "text": [
      "layer name: fc1.weight, has shape: torch.Size([300, 784])\n",
      "bias layer name: fc1.bias has shape: torch.Size([300])\n",
      "layer name: fc2.weight, has shape: torch.Size([100, 300])\n",
      "bias layer name: fc2.bias has shape: torch.Size([100])\n",
      "layer name: output.weight, has shape: torch.Size([10, 100])\n",
      "bias layer name: output.bias has shape: torch.Size([10])\n"
     ]
    }
   ],
   "source": [
    "for name, param in model.named_parameters():\n",
    "    # We do not prune bias term\n",
    "    if 'weight' in name:\n",
    "        print(f\"layer name: {name}, has shape: {param.shape}\")\n",
    "    elif 'bias' in name:\n",
    "        print(f\"bias layer name: {name} has shape: {param.shape}\")"
   ]
  },
  {
   "cell_type": "code",
   "execution_count": null,
   "id": "conceptual-mechanics",
   "metadata": {},
   "outputs": [],
   "source": []
  },
  {
   "cell_type": "code",
   "execution_count": 19,
   "id": "buried-worst",
   "metadata": {},
   "outputs": [],
   "source": [
    "# Define loss and optimizer-\n",
    "loss = nn.CrossEntropyLoss()    # applies softmax for us\n",
    "optimizer = torch.optim.Adam(model.parameters(), lr = learning_rate)"
   ]
  },
  {
   "cell_type": "code",
   "execution_count": null,
   "id": "competitive-homeless",
   "metadata": {},
   "outputs": [],
   "source": [
    "# Print optimizer's state_dict\n",
    "print(\"Optimizer's 'state_dict':\")\n",
    "for var_name in optimizer.state_dict():\n",
    "    print(f\"var_name: {var_name} \\t {optimizer.state_dict()[var_name]}\")"
   ]
  },
  {
   "cell_type": "code",
   "execution_count": null,
   "id": "registered-container",
   "metadata": {},
   "outputs": [],
   "source": []
  },
  {
   "cell_type": "code",
   "execution_count": 20,
   "id": "explicit-there",
   "metadata": {},
   "outputs": [
    {
     "name": "stdout",
     "output_type": "stream",
     "text": [
      "num_steps = 1875 & len(train_dataset)/batch_size = 1875.0\n",
      "number of training steps in one epoch = 1875\n"
     ]
    }
   ],
   "source": [
    "# Training loop-\n",
    "num_steps = len(train_loader)\n",
    "\n",
    "print(f\"num_steps = {num_steps} & len(train_dataset)/batch_size = {len(train_dataset) / batch_size}\")\n",
    "print(f\"number of training steps in one epoch = {num_steps}\")"
   ]
  },
  {
   "cell_type": "code",
   "execution_count": null,
   "id": "auburn-ukraine",
   "metadata": {},
   "outputs": [],
   "source": []
  },
  {
   "cell_type": "code",
   "execution_count": 25,
   "id": "objective-pearl",
   "metadata": {},
   "outputs": [],
   "source": [
    "def count_params(model):\n",
    "    \n",
    "    tot_params = 0\n",
    "    for layer_name, param in model.named_parameters():\n",
    "        # print(f\"{layer_name}.shape = {param.shape} has {torch.count_nonzero(param.data)} non-zero params\")\n",
    "        tot_params += torch.count_nonzero(param.data)\n",
    "    \n",
    "    return tot_params"
   ]
  },
  {
   "cell_type": "code",
   "execution_count": null,
   "id": "macro-titanium",
   "metadata": {},
   "outputs": [],
   "source": []
  },
  {
   "cell_type": "code",
   "execution_count": null,
   "id": "minute-evolution",
   "metadata": {},
   "outputs": [],
   "source": []
  },
  {
   "cell_type": "code",
   "execution_count": null,
   "id": "southeast-diesel",
   "metadata": {},
   "outputs": [],
   "source": []
  },
  {
   "cell_type": "code",
   "execution_count": null,
   "id": "worldwide-correction",
   "metadata": {},
   "outputs": [],
   "source": []
  },
  {
   "cell_type": "markdown",
   "id": "leading-paintball",
   "metadata": {},
   "source": [
    "### Train defined model:"
   ]
  },
  {
   "cell_type": "code",
   "execution_count": 21,
   "id": "stuffed-andrews",
   "metadata": {},
   "outputs": [],
   "source": [
    "# User input parameters for Early Stopping in manual implementation-\n",
    "minimum_delta = 0.001\n",
    "patience = 5\n",
    "\n",
    "# Initialize parameters for Early Stopping manual implementation-\n",
    "best_val_loss = 100\n",
    "loc_patience = 0"
   ]
  },
  {
   "cell_type": "code",
   "execution_count": 22,
   "id": "happy-istanbul",
   "metadata": {},
   "outputs": [],
   "source": [
    "# Python3 lists to store model training metrics-\n",
    "training_acc = []\n",
    "validation_acc = []\n",
    "training_loss = []\n",
    "validation_loss = []"
   ]
  },
  {
   "cell_type": "code",
   "execution_count": null,
   "id": "conservative-workshop",
   "metadata": {},
   "outputs": [],
   "source": []
  },
  {
   "cell_type": "code",
   "execution_count": 23,
   "id": "foreign-cooperation",
   "metadata": {},
   "outputs": [],
   "source": [
    "def train_with_grad_freezing(model, epoch):\n",
    "    '''\n",
    "    Function to train one epoch of training dataset.\n",
    "    '''\n",
    "        \n",
    "    running_loss = 0.0\n",
    "    running_corrects = 0.0\n",
    "        \n",
    "    for batch, (images, labels) in enumerate(train_loader):\n",
    "        # Reshape images first-\n",
    "        # 32, 1, 28, 28\n",
    "        # Input size needs to be 32, 784-\n",
    "        images = images.reshape(-1, 28 * 28 * 1).to(device)\n",
    "        # Tries to push to GPU if available\n",
    "        labels = labels.to(device)\n",
    "        # images, labels = images.reshape(-1, 28 * 28 * 1).to(device), labels.to(device)\n",
    "        \n",
    "        # Set defined model to training mode-\n",
    "        model.train()\n",
    "        \n",
    "        # Backward pass-\n",
    "        optimizer.zero_grad()   # empty accumulated gradients\n",
    "\n",
    "        # Forward pass-\n",
    "        outputs = model(images)\n",
    "\n",
    "        # Compute loss-\n",
    "        J = loss(outputs, labels)\n",
    "        \n",
    "        # Perform backpropagation-\n",
    "        J.backward()\n",
    "        \n",
    "        # Freezing Pruned weights by making their gradients Zero\n",
    "        for layer_name, param in model.named_parameters():\n",
    "            if 'weight' in layer_name:\n",
    "                tensor = param.data.cpu().numpy()\n",
    "                grad_tensor = param.grad.data.cpu().numpy()\n",
    "                # grad_tensor = np.where(tensor < EPS, 0, grad_tensor)\n",
    "                grad_tensor = np.where(tensor == 0, 0, grad_tensor)\n",
    "                param.grad.data = torch.from_numpy(grad_tensor).to(device)\n",
    "\n",
    "        # Update parameters-\n",
    "        optimizer.step()\n",
    "        \n",
    "        # Compute model's performance statistics-\n",
    "        running_loss += J.item() * images.size(0)\n",
    "        _, predicted = torch.max(outputs, 1)\n",
    "        running_corrects += torch.sum(predicted == labels.data)\n",
    "\n",
    "        '''\n",
    "        # Print information every 100 steps-\n",
    "        if (batch + 1) % 100 == 0:\n",
    "            print(f\"epoch {epoch + 1}/{num_epochs}, step {batch + 1}/{num_steps}, loss = {J.item():.4f}\")\n",
    "        '''\n",
    "        \n",
    "    epoch_loss = running_loss / len(train_dataset)\n",
    "    epoch_acc = running_corrects.double() / len(train_dataset)\n",
    "    \n",
    "    return epoch_loss, epoch_acc\n",
    " \n"
   ]
  },
  {
   "cell_type": "code",
   "execution_count": null,
   "id": "killing-surveillance",
   "metadata": {},
   "outputs": [],
   "source": []
  },
  {
   "cell_type": "code",
   "execution_count": 24,
   "id": "spread-lodge",
   "metadata": {},
   "outputs": [],
   "source": [
    "def test(model, epoch):\n",
    "    '''\n",
    "    Function to validate performance of trained 'model' on testing set.\n",
    "    '''\n",
    "    \n",
    "    running_loss_val = 0.0\n",
    "\n",
    "    total = 0\n",
    "    correct = 0\n",
    "    \n",
    "    with torch.no_grad():\n",
    "        for images, labels in test_loader:\n",
    "\n",
    "            # Place features (images) and targets (labels) to GPU-\n",
    "            # images = images.to(device)\n",
    "            images = images.reshape(-1, 28 * 28 * 1).to(device)\n",
    "            labels = labels.to(device)\n",
    "            # images, labels = images.reshape(-1, 28 * 28 * 1).to(device), targets.to(device)\n",
    "            # print(f\"images.shape = {images.shape}, labels.shape = {labels.shape}\")\n",
    "            \n",
    "            # Set model to evaluation mode-\n",
    "            model.eval()\n",
    "    \n",
    "            # Make predictions using trained model-\n",
    "            outputs = model(images)\n",
    "            _, y_pred = torch.max(outputs, 1)\n",
    "\n",
    "            # Compute validation loss-\n",
    "            J_val = loss(outputs, labels)\n",
    "\n",
    "            running_loss_val += J_val.item() * labels.size(0)\n",
    "    \n",
    "            # Total number of labels-\n",
    "            total += labels.size(0)\n",
    "\n",
    "            # Total number of correct predictions-\n",
    "            correct += (y_pred == labels).sum()\n",
    "\n",
    "    epoch_val_loss = running_loss_val / len(test_dataset)\n",
    "    val_acc = 100 * (correct / total)\n",
    "    \n",
    "    return epoch_val_loss, val_acc\n",
    "\n",
    "    "
   ]
  },
  {
   "cell_type": "code",
   "execution_count": null,
   "id": "authentic-vision",
   "metadata": {},
   "outputs": [],
   "source": []
  },
  {
   "cell_type": "code",
   "execution_count": null,
   "id": "arbitrary-heritage",
   "metadata": {},
   "outputs": [],
   "source": []
  },
  {
   "cell_type": "code",
   "execution_count": 26,
   "id": "collectible-swing",
   "metadata": {},
   "outputs": [
    {
     "name": "stdout",
     "output_type": "stream",
     "text": [
      "\n",
      "epoch: 1, # of params = 266610, training loss = 0.2036, training accuracy = 93.77%, val_loss = 0.1190 & val_accuracy = 96.21%\n",
      "\n",
      "\n",
      "Saving model with lowest val_loss = 0.1190\n",
      "\n",
      "epoch: 2, # of params = 266610, training loss = 0.0968, training accuracy = 97.04%, val_loss = 0.1003 & val_accuracy = 96.91%\n",
      "\n",
      "\n",
      "Saving model with lowest val_loss = 0.1003\n",
      "\n",
      "epoch: 3, # of params = 266610, training loss = 0.0738, training accuracy = 97.65%, val_loss = 0.1087 & val_accuracy = 96.67%\n",
      "\n",
      "\n",
      "epoch: 4, # of params = 266610, training loss = 0.0608, training accuracy = 98.06%, val_loss = 0.0971 & val_accuracy = 97.31%\n",
      "\n",
      "\n",
      "Saving model with lowest val_loss = 0.0971\n",
      "\n",
      "epoch: 5, # of params = 266610, training loss = 0.0523, training accuracy = 98.36%, val_loss = 0.0992 & val_accuracy = 97.24%\n",
      "\n",
      "\n",
      "epoch: 6, # of params = 266610, training loss = 0.0419, training accuracy = 98.65%, val_loss = 0.0917 & val_accuracy = 97.65%\n",
      "\n",
      "\n",
      "Saving model with lowest val_loss = 0.0917\n",
      "\n",
      "epoch: 7, # of params = 266610, training loss = 0.0387, training accuracy = 98.79%, val_loss = 0.0983 & val_accuracy = 97.59%\n",
      "\n",
      "\n",
      "epoch: 8, # of params = 266610, training loss = 0.0344, training accuracy = 98.92%, val_loss = 0.1141 & val_accuracy = 97.47%\n",
      "\n",
      "\n",
      "epoch: 9, # of params = 266610, training loss = 0.0332, training accuracy = 98.97%, val_loss = 0.1070 & val_accuracy = 97.84%\n",
      "\n",
      "\n",
      "epoch: 10, # of params = 266610, training loss = 0.0300, training accuracy = 99.11%, val_loss = 0.1006 & val_accuracy = 97.86%\n",
      "\n",
      "\n",
      "epoch: 11, # of params = 266610, training loss = 0.0295, training accuracy = 99.09%, val_loss = 0.1223 & val_accuracy = 97.52%\n",
      "\n",
      "\n",
      "\n",
      "Early stopping called. Exiting model training!\n",
      "\n",
      "\n"
     ]
    }
   ],
   "source": [
    "# Training loop-\n",
    "for curr_epoch in range(1, num_epochs):\n",
    "    \n",
    "    if loc_patience >= patience:\n",
    "        print(\"\\n\\nEarly stopping called. Exiting model training!\\n\\n\")\n",
    "        break\n",
    "        \n",
    "    # epoch_loss, epoch_acc = train(model = model, epoch = curr_epoch)\n",
    "    epoch_loss, epoch_acc = train_with_grad_freezing(model = model, epoch = curr_epoch)\n",
    "    epoch_val_loss, val_acc = test(model = model, epoch = curr_epoch)\n",
    "    \n",
    "    remaining_params = count_params(model)\n",
    "    # Pruned LeNet-300-100 model has 226730 trainable parameters\n",
    "    \n",
    "    print(f\"\\nepoch: {curr_epoch}, # of params = {remaining_params}, training loss = {epoch_loss:.4f}, training accuracy = {epoch_acc * 100:.2f}%, val_loss = {epoch_val_loss:.4f} & val_accuracy = {val_acc:.2f}%\\n\")    \n",
    "    # print(f\"\\nepoch: {curr_epoch} training loss = {epoch_loss:.4f}, training accuracy = {epoch_acc * 100:.2f}%, val_loss = {epoch_val_loss:.4f} & val_accuracy = {val_acc:.2f}%\\n\")\n",
    "\n",
    "    \n",
    "    # Code for manual Early Stopping:\n",
    "    # if np.abs(epoch_val_loss < best_val_loss) >= minimum_delta:\n",
    "    if (epoch_val_loss < best_val_loss) and np.abs(epoch_val_loss - best_val_loss) >= minimum_delta:\n",
    "        # print(f\"epoch_val_loss = {epoch_val_loss:.4f}, best_val_loss = {best_val_loss:.4f}\")\n",
    "        \n",
    "        # update 'best_val_loss' variable to lowest loss encountered so far-\n",
    "        best_val_loss = epoch_val_loss\n",
    "        \n",
    "        # reset 'loc_patience' variable-\n",
    "        loc_patience = 0\n",
    "        \n",
    "        print(f\"\\nSaving model with lowest val_loss = {epoch_val_loss:.4f}\")\n",
    "        \n",
    "        # Save trained model with validation accuracy-\n",
    "        # torch.save(model.state_dict, f\"LeNet-300-100_Trained_{val_acc}.pth\")\n",
    "        torch.save(model.state_dict(), \"LeNet-300-100_Trained.pth\")\n",
    "        \n",
    "    else:  # there is no improvement in monitored metric 'val_loss'\n",
    "        loc_patience += 1  # number of epochs without any improvement\n",
    "\n",
    "\n",
    "    training_acc.append(epoch_acc * 100)\n",
    "    validation_acc.append(val_acc)\n",
    "    training_loss.append(epoch_loss)\n",
    "    validation_loss.append(epoch_val_loss)\n",
    "    "
   ]
  },
  {
   "cell_type": "code",
   "execution_count": null,
   "id": "empirical-swift",
   "metadata": {},
   "outputs": [],
   "source": []
  },
  {
   "cell_type": "code",
   "execution_count": 28,
   "id": "declared-thursday",
   "metadata": {},
   "outputs": [],
   "source": [
    "os.chdir(\"/home/arjun/Deep_Learning_Resources/LTH-Resources/\")"
   ]
  },
  {
   "cell_type": "code",
   "execution_count": 29,
   "id": "published-compiler",
   "metadata": {},
   "outputs": [],
   "source": [
    "# Initialize a new model for best weights achieved during training-\n",
    "best_model = LeNet300()"
   ]
  },
  {
   "cell_type": "code",
   "execution_count": 30,
   "id": "preceding-receipt",
   "metadata": {},
   "outputs": [
    {
     "data": {
      "text/plain": [
       "<All keys matched successfully>"
      ]
     },
     "execution_count": 30,
     "metadata": {},
     "output_type": "execute_result"
    }
   ],
   "source": [
    "best_model.load_state_dict(torch.load('LeNet-300-100_Trained.pth'))"
   ]
  },
  {
   "cell_type": "code",
   "execution_count": null,
   "id": "indie-provision",
   "metadata": {},
   "outputs": [],
   "source": []
  },
  {
   "cell_type": "code",
   "execution_count": 31,
   "id": "exceptional-poverty",
   "metadata": {},
   "outputs": [],
   "source": [
    "# Compute trained model's metrics on validation data-\n",
    "val_loss, val_acc = test(model = best_model, epoch = 1)"
   ]
  },
  {
   "cell_type": "code",
   "execution_count": 32,
   "id": "precious-highlight",
   "metadata": {},
   "outputs": [
    {
     "name": "stdout",
     "output_type": "stream",
     "text": [
      "\n",
      "LeNet-300-100 trained model metrics:\n",
      "val_loss = 0.0917 & val_accuracy = 97.65%\n"
     ]
    }
   ],
   "source": [
    "print(\"\\nLeNet-300-100 trained model metrics:\")\n",
    "print(f\"val_loss = {val_loss:.4f} & val_accuracy = {val_acc:.2f}%\")"
   ]
  },
  {
   "cell_type": "code",
   "execution_count": null,
   "id": "infectious-syndication",
   "metadata": {},
   "outputs": [],
   "source": []
  },
  {
   "cell_type": "code",
   "execution_count": 33,
   "id": "korean-raising",
   "metadata": {},
   "outputs": [],
   "source": [
    "# Delete 'model' since it's performance degraded due to 'patience' which led to over-fitting-\n",
    "del model"
   ]
  },
  {
   "cell_type": "code",
   "execution_count": null,
   "id": "close-league",
   "metadata": {},
   "outputs": [],
   "source": []
  },
  {
   "cell_type": "code",
   "execution_count": null,
   "id": "empirical-renewal",
   "metadata": {},
   "outputs": [],
   "source": []
  },
  {
   "cell_type": "code",
   "execution_count": 34,
   "id": "incoming-projection",
   "metadata": {},
   "outputs": [],
   "source": [
    "def prune_lenet(model, pruning_params_fc, pruning_params_op):\n",
    "    '''\n",
    "    Function to prune top p% of trained weights using the provided parameters using\n",
    "    magnitude-based weight pruning.\n",
    "    \n",
    "    Inputs:\n",
    "    'model' is the PyTorch 1.7 defined neural network\n",
    "    'pruning_params_fc' is the percentage of weights to prune for dense, fully-connected layer\n",
    "    'pruning_params_op' is the percentage of weights to prune for output layer\n",
    "\n",
    "    Returns:\n",
    "    Python dict containing pruned layers\n",
    "    '''\n",
    "    \n",
    "    # Python3 dict to hold pruned weights-\n",
    "    pruned_d = {}\n",
    "    \n",
    "    # Sample code- populate each layer with relevant weights-\n",
    "    for layer_name, param in best_model.named_parameters():\n",
    "        # pruned_d[layer_name] = torch.zeros_like(param.data)\n",
    "        x = param.data.numpy()\n",
    "    \n",
    "        if len(x.shape) == 2 and x.shape[0] != 10:\n",
    "            # FC layer-\n",
    "            # print(layer_name, param.shape)\n",
    "    \n",
    "            # Compute absolute value of 'x'-\n",
    "            x_abs = np.abs(x)\n",
    "\n",
    "            # Mask values to zero which are less than 'p' in terms of magnitude-\n",
    "            x_abs[x_abs < np.percentile(x_abs, pruning_params_fc)] = 0\n",
    "\n",
    "            # Where 'x_abs' equals 0, keep 0, else, replace with values of 'x'-\n",
    "            # OR\n",
    "            # If x_abs == 0 (condition) is True, use the value of 0, otherwise\n",
    "            # use the value in 'x'\n",
    "            x_mod = np.where(x_abs == 0, 0, x)\n",
    "    \n",
    "            # Counts the number of non-zero values in the array 'x_mod'-\n",
    "            # np.count_nonzero(x_mod)\n",
    "    \n",
    "            # pruned_weights.append(x_mod)\n",
    "            pruned_d[layer_name] = torch.from_numpy(x_mod)\n",
    "    \n",
    "        elif len(x.shape) == 2 and x.shape[0] == 10:\n",
    "            # print(\"output layer\", param.shape)\n",
    "        \n",
    "            # Output layer-\n",
    "            # print(layer_name, param.shape)\n",
    "    \n",
    "            # Compute absolute value of 'x'-\n",
    "            x_abs = np.abs(x)\n",
    "\n",
    "            # Mask values to zero which are less than 'p' in terms of magnitude-\n",
    "            x_abs[x_abs < np.percentile(x_abs, pruning_params_op)] = 0\n",
    "\n",
    "            # Where 'x_abs' equals 0, keep 0, else, replace with values of 'x'-\n",
    "            # OR\n",
    "            # If x_abs == 0 (condition) is True, use the value of 0, otherwise\n",
    "            # use the value in 'x'\n",
    "            x_mod = np.where(x_abs == 0, 0, x)\n",
    "    \n",
    "            # Counts the number of non-zero values in the array 'x_mod'-\n",
    "            # np.count_nonzero(x_mod)\n",
    "    \n",
    "            # pruned_weights.append(x_mod)\n",
    "            pruned_d[layer_name] = torch.from_numpy(x_mod)\n",
    "    \n",
    "        else:\n",
    "            pruned_d[layer_name] = param.data\n",
    "\n",
    "    \n",
    "    return pruned_d\n",
    "    \n",
    "    "
   ]
  },
  {
   "cell_type": "code",
   "execution_count": null,
   "id": "psychological-deposit",
   "metadata": {},
   "outputs": [],
   "source": []
  },
  {
   "cell_type": "code",
   "execution_count": 43,
   "id": "periodic-commercial",
   "metadata": {},
   "outputs": [],
   "source": [
    "# Prune 15% of smallest magnitude weights in FC layers and 10% in output layer-\n",
    "pruned_d = prune_lenet(model = best_model, pruning_params_fc = 15, pruning_params_op = 10)"
   ]
  },
  {
   "cell_type": "code",
   "execution_count": 36,
   "id": "banner-narrative",
   "metadata": {},
   "outputs": [
    {
     "data": {
      "text/plain": [
       "dict"
      ]
     },
     "execution_count": 36,
     "metadata": {},
     "output_type": "execute_result"
    }
   ],
   "source": [
    "type(pruned_d)"
   ]
  },
  {
   "cell_type": "code",
   "execution_count": null,
   "id": "thorough-equation",
   "metadata": {},
   "outputs": [],
   "source": []
  },
  {
   "cell_type": "code",
   "execution_count": 44,
   "id": "humanitarian-scott",
   "metadata": {},
   "outputs": [
    {
     "data": {
      "text/plain": [
       "<All keys matched successfully>"
      ]
     },
     "execution_count": 44,
     "metadata": {},
     "output_type": "execute_result"
    }
   ],
   "source": [
    "# Initialize and load pruned Python3 dict into a new model-\n",
    "pruned_model = LeNet300()\n",
    "pruned_model.load_state_dict(pruned_d)"
   ]
  },
  {
   "cell_type": "code",
   "execution_count": null,
   "id": "accepting-ancient",
   "metadata": {},
   "outputs": [],
   "source": []
  },
  {
   "cell_type": "code",
   "execution_count": 45,
   "id": "handed-arthritis",
   "metadata": {},
   "outputs": [],
   "source": [
    "params_pruned = count_params(pruned_model)"
   ]
  },
  {
   "cell_type": "code",
   "execution_count": 46,
   "id": "innovative-wound",
   "metadata": {},
   "outputs": [
    {
     "name": "stdout",
     "output_type": "stream",
     "text": [
      "# of non-zero parameters in pruned model = 226730\n"
     ]
    }
   ],
   "source": [
    "print(f\"# of non-zero parameters in pruned model = {params_pruned.numpy()}\")"
   ]
  },
  {
   "cell_type": "code",
   "execution_count": null,
   "id": "conscious-space",
   "metadata": {},
   "outputs": [],
   "source": []
  },
  {
   "cell_type": "code",
   "execution_count": null,
   "id": "bridal-player",
   "metadata": {},
   "outputs": [],
   "source": []
  },
  {
   "cell_type": "code",
   "execution_count": null,
   "id": "arabic-algeria",
   "metadata": {},
   "outputs": [],
   "source": []
  },
  {
   "cell_type": "code",
   "execution_count": null,
   "id": "gorgeous-strand",
   "metadata": {},
   "outputs": [],
   "source": []
  },
  {
   "cell_type": "markdown",
   "id": "frank-convenience",
   "metadata": {},
   "source": [
    "### Re-train pruned model:"
   ]
  },
  {
   "cell_type": "code",
   "execution_count": 47,
   "id": "fiscal-medline",
   "metadata": {},
   "outputs": [],
   "source": [
    "# User input parameters for Early Stopping in manual implementation-\n",
    "minimum_delta = 0.001\n",
    "patience = 5\n",
    "\n",
    "# Initialize parameters for Early Stopping manual implementation-\n",
    "best_val_loss = 100\n",
    "loc_patience = 0"
   ]
  },
  {
   "cell_type": "code",
   "execution_count": 48,
   "id": "indian-keyboard",
   "metadata": {},
   "outputs": [],
   "source": [
    "# Python3 lists to store model training metrics-\n",
    "training_acc = []\n",
    "validation_acc = []\n",
    "training_loss = []\n",
    "validation_loss = []"
   ]
  },
  {
   "cell_type": "code",
   "execution_count": null,
   "id": "photographic-tutorial",
   "metadata": {},
   "outputs": [],
   "source": []
  },
  {
   "cell_type": "code",
   "execution_count": 49,
   "id": "lovely-playback",
   "metadata": {},
   "outputs": [
    {
     "name": "stdout",
     "output_type": "stream",
     "text": [
      "\n",
      "epoch: 1, # of params = 226730, training loss = 0.0285, training accuracy = 99.04%, val_loss = 0.0910 & val_accuracy = 97.68%\n",
      "\n",
      "\n",
      "Saving model with lowest val_loss = 0.0910\n",
      "\n",
      "epoch: 2, # of params = 226730, training loss = 0.0285, training accuracy = 99.04%, val_loss = 0.0910 & val_accuracy = 97.68%\n",
      "\n",
      "\n",
      "epoch: 3, # of params = 226730, training loss = 0.0285, training accuracy = 99.04%, val_loss = 0.0910 & val_accuracy = 97.68%\n",
      "\n",
      "\n",
      "epoch: 4, # of params = 226730, training loss = 0.0285, training accuracy = 99.04%, val_loss = 0.0910 & val_accuracy = 97.68%\n",
      "\n",
      "\n",
      "epoch: 5, # of params = 226730, training loss = 0.0285, training accuracy = 99.04%, val_loss = 0.0910 & val_accuracy = 97.68%\n",
      "\n",
      "\n",
      "epoch: 6, # of params = 226730, training loss = 0.0285, training accuracy = 99.04%, val_loss = 0.0910 & val_accuracy = 97.68%\n",
      "\n",
      "\n",
      "\n",
      "Early stopping called. Exiting model training!\n",
      "\n",
      "\n"
     ]
    }
   ],
   "source": [
    "# Training loop-\n",
    "for curr_epoch in range(1, num_epochs):\n",
    "    \n",
    "    if loc_patience >= patience:\n",
    "        print(\"\\n\\nEarly stopping called. Exiting model training!\\n\\n\")\n",
    "        break\n",
    "        \n",
    "    # epoch_loss, epoch_acc = train(model = model, epoch = curr_epoch)\n",
    "    epoch_loss, epoch_acc = train_with_grad_freezing(model = pruned_model, epoch = curr_epoch)\n",
    "    epoch_val_loss, val_acc = test(model = pruned_model, epoch = curr_epoch)\n",
    "    \n",
    "    remaining_params = count_params(pruned_model)\n",
    "    \n",
    "    print(f\"\\nepoch: {curr_epoch}, # of params = {remaining_params}, training loss = {epoch_loss:.4f}, training accuracy = {epoch_acc * 100:.2f}%, val_loss = {epoch_val_loss:.4f} & val_accuracy = {val_acc:.2f}%\\n\")    \n",
    "    # print(f\"\\nepoch: {curr_epoch} training loss = {epoch_loss:.4f}, training accuracy = {epoch_acc * 100:.2f}%, val_loss = {epoch_val_loss:.4f} & val_accuracy = {val_acc:.2f}%\\n\")\n",
    "\n",
    "    \n",
    "    # Code for manual Early Stopping:\n",
    "    # if np.abs(epoch_val_loss < best_val_loss) >= minimum_delta:\n",
    "    if (epoch_val_loss < best_val_loss) and np.abs(epoch_val_loss - best_val_loss) >= minimum_delta:\n",
    "        # print(f\"epoch_val_loss = {epoch_val_loss:.4f}, best_val_loss = {best_val_loss:.4f}\")\n",
    "        \n",
    "        # update 'best_val_loss' variable to lowest loss encountered so far-\n",
    "        best_val_loss = epoch_val_loss\n",
    "        \n",
    "        # reset 'loc_patience' variable-\n",
    "        loc_patience = 0\n",
    "        \n",
    "        print(f\"\\nSaving model with lowest val_loss = {epoch_val_loss:.4f}\")\n",
    "        \n",
    "        # Save trained model with validation accuracy-\n",
    "        # torch.save(model.state_dict, f\"LeNet-300-100_Trained_{val_acc}.pth\")\n",
    "        torch.save(pruned_model.state_dict(), \"LeNet-300-100_Test_Trained.pth\")\n",
    "        \n",
    "    else:  # there is no improvement in monitored metric 'val_loss'\n",
    "        loc_patience += 1  # number of epochs without any improvement\n",
    "\n",
    "\n",
    "    training_acc.append(epoch_acc * 100)\n",
    "    validation_acc.append(val_acc)\n",
    "    training_loss.append(epoch_loss)\n",
    "    validation_loss.append(epoch_val_loss)\n",
    "    "
   ]
  },
  {
   "cell_type": "code",
   "execution_count": null,
   "id": "exceptional-tissue",
   "metadata": {},
   "outputs": [],
   "source": []
  },
  {
   "cell_type": "code",
   "execution_count": null,
   "id": "beginning-singing",
   "metadata": {},
   "outputs": [],
   "source": []
  }
 ],
 "metadata": {
  "kernelspec": {
   "display_name": "Python 3",
   "language": "python",
   "name": "python3"
  },
  "language_info": {
   "codemirror_mode": {
    "name": "ipython",
    "version": 3
   },
   "file_extension": ".py",
   "mimetype": "text/x-python",
   "name": "python",
   "nbconvert_exporter": "python",
   "pygments_lexer": "ipython3",
   "version": "3.8.8"
  }
 },
 "nbformat": 4,
 "nbformat_minor": 5
}
