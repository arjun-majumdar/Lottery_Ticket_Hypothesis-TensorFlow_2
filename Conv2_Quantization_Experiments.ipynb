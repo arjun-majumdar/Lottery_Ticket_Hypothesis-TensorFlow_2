{
 "cells": [
  {
   "cell_type": "markdown",
   "id": "latter-garage",
   "metadata": {},
   "source": [
    "# Conv-2: Quantization Experiments\n",
    "\n",
    "Using _CIFAR-10_ dataset"
   ]
  },
  {
   "cell_type": "code",
   "execution_count": 1,
   "id": "human-player",
   "metadata": {
    "id": "mfITRARaVlRO"
   },
   "outputs": [],
   "source": [
    "import tensorflow as tf\n",
    "import numpy as np\n",
    "import matplotlib.pyplot as plt\n",
    "import seaborn as sns\n",
    "import math\n",
    "# import tensorflow_model_optimization as tfmot\n",
    "# from tensorflow_model_optimization.sparsity import keras as sparsity\n",
    "# from tensorflow.keras import datasets, layers, models\n",
    "\n",
    "from tensorflow.keras.layers import AveragePooling2D, Conv2D, MaxPooling2D, ReLU\n",
    "from tensorflow.keras import models, layers, datasets\n",
    "from tensorflow.keras.layers import Dense, Flatten, Reshape, Input, InputLayer\n",
    "from tensorflow.keras.models import Sequential, Model\n",
    "from tensorflow.keras.initializers import RandomNormal\n",
    "\n",
    "from sklearn.metrics import accuracy_score, precision_score, recall_score"
   ]
  },
  {
   "cell_type": "code",
   "execution_count": null,
   "id": "statutory-fever",
   "metadata": {},
   "outputs": [],
   "source": []
  },
  {
   "cell_type": "code",
   "execution_count": null,
   "id": "color-diana",
   "metadata": {
    "id": "1jWxCZ-xVoqN"
   },
   "outputs": [],
   "source": []
  },
  {
   "cell_type": "code",
   "execution_count": 2,
   "id": "extraordinary-relationship",
   "metadata": {
    "colab": {
     "base_uri": "https://localhost:8080/"
    },
    "id": "ag0GG7aoVo00",
    "outputId": "149f3c5b-c268-4030-d02d-bb58a6fa4b8e"
   },
   "outputs": [
    {
     "name": "stdout",
     "output_type": "stream",
     "text": [
      "TensorFlow version: 2.3.0\n"
     ]
    }
   ],
   "source": [
    "print(f\"TensorFlow version: {tf.__version__}\")"
   ]
  },
  {
   "cell_type": "code",
   "execution_count": 3,
   "id": "virgin-discussion",
   "metadata": {
    "id": "mu2GTMYOVsE3"
   },
   "outputs": [],
   "source": [
    "batch_size = 60\n",
    "num_classes = 10\n",
    "num_epochs = 100\n",
    "\n",
    "\n",
    "# Data preprocessing and cleaning:\n",
    "# input image dimensions\n",
    "img_rows, img_cols = 32, 32"
   ]
  },
  {
   "cell_type": "code",
   "execution_count": 4,
   "id": "satisfactory-cinema",
   "metadata": {
    "colab": {
     "base_uri": "https://localhost:8080/"
    },
    "id": "jj10EeP8V7UJ",
    "outputId": "0055da27-4b17-42ff-b511-bf07302e304e"
   },
   "outputs": [
    {
     "name": "stdout",
     "output_type": "stream",
     "text": [
      "X_train.shape = (50000, 32, 32, 3), y_train.shape = (50000, 1)\n",
      "X_test.shape = (10000, 32, 32, 3), y_test.shape = (10000, 1)\n"
     ]
    }
   ],
   "source": [
    "# Load CIFAR-10 dataset-\n",
    "(X_train, y_train), (X_test, y_test) = tf.keras.datasets.cifar10.load_data()\n",
    "\n",
    "print(\"X_train.shape = {0}, y_train.shape = {1}\".format(X_train.shape, y_train.shape))\n",
    "print(\"X_test.shape = {0}, y_test.shape = {1}\".format(X_test.shape, y_test.shape))"
   ]
  },
  {
   "cell_type": "code",
   "execution_count": 5,
   "id": "yellow-basin",
   "metadata": {
    "colab": {
     "base_uri": "https://localhost:8080/"
    },
    "id": "p_9dNBldV9ko",
    "outputId": "7fe0173c-2f21-4c3c-d310-43d426d587a4"
   },
   "outputs": [
    {
     "name": "stdout",
     "output_type": "stream",
     "text": [
      "\n",
      "'input_shape' which will be used = (32, 32, 3)\n",
      "\n"
     ]
    }
   ],
   "source": [
    "if tf.keras.backend.image_data_format() == 'channels_first':\n",
    "    X_train = X_train.reshape(X_train.shape[0], 3, img_rows, img_cols)\n",
    "    X_test = X_test.reshape(X_test.shape[0], 3, img_rows, img_cols)\n",
    "    input_shape = (3, img_rows, img_cols)\n",
    "else:\n",
    "    X_train = X_train.reshape(X_train.shape[0], img_rows, img_cols, 3)\n",
    "    X_test = X_test.reshape(X_test.shape[0], img_rows, img_cols, 3)\n",
    "    input_shape = (img_rows, img_cols, 3)\n",
    "\n",
    "print(\"\\n'input_shape' which will be used = {0}\\n\".format(input_shape))"
   ]
  },
  {
   "cell_type": "code",
   "execution_count": 6,
   "id": "bored-immunology",
   "metadata": {
    "id": "IyoRNIJMWAh2"
   },
   "outputs": [],
   "source": [
    "# Convert datasets to floating point types-\n",
    "X_train = X_train.astype('float32')\n",
    "X_test = X_test.astype('float32')\n",
    "\n",
    "# Normalize the training and testing datasets-\n",
    "X_train /= 255.0\n",
    "X_test /= 255.0\n",
    "\n",
    "\n",
    "# convert class vectors/target to binary class matrices or one-hot encoded values-\n",
    "y_train = tf.keras.utils.to_categorical(y_train, num_classes)\n",
    "y_test = tf.keras.utils.to_categorical(y_test, num_classes)"
   ]
  },
  {
   "cell_type": "code",
   "execution_count": 7,
   "id": "material-deputy",
   "metadata": {
    "colab": {
     "base_uri": "https://localhost:8080/"
    },
    "id": "u7WCSNEvWD3P",
    "outputId": "0a3ffeae-0f68-4632-dc16-82fb515dd148"
   },
   "outputs": [
    {
     "name": "stdout",
     "output_type": "stream",
     "text": [
      "\n",
      "Dimensions of training and testing sets are:\n",
      "X_train.shape = (50000, 32, 32, 3), y_train.shape = (50000, 10)\n",
      "X_test.shape = (10000, 32, 32, 3), y_test.shape = (10000, 10)\n"
     ]
    }
   ],
   "source": [
    "print(\"\\nDimensions of training and testing sets are:\")\n",
    "print(\"X_train.shape = {0}, y_train.shape = {1}\".format(X_train.shape, y_train.shape))\n",
    "print(\"X_test.shape = {0}, y_test.shape = {1}\".format(X_test.shape, y_test.shape))"
   ]
  },
  {
   "cell_type": "code",
   "execution_count": 7,
   "id": "corporate-adoption",
   "metadata": {
    "id": "V5eQRG0kWEhv"
   },
   "outputs": [],
   "source": []
  },
  {
   "cell_type": "code",
   "execution_count": null,
   "id": "through-footage",
   "metadata": {
    "id": "VYcmMULbWGbp"
   },
   "outputs": [],
   "source": []
  },
  {
   "cell_type": "markdown",
   "id": "worldwide-essay",
   "metadata": {
    "id": "HI00YUibWG0T"
   },
   "source": [
    "### Prepare CIFAR10 dataset for GradientTape training:"
   ]
  },
  {
   "cell_type": "code",
   "execution_count": 8,
   "id": "permanent-richardson",
   "metadata": {
    "id": "MJ9lxQJkWIO1"
   },
   "outputs": [],
   "source": [
    "# Create training and testing datasets-\n",
    "train_dataset = tf.data.Dataset.from_tensor_slices((X_train, y_train))\n",
    "test_dataset = tf.data.Dataset.from_tensor_slices((X_test, y_test))"
   ]
  },
  {
   "cell_type": "code",
   "execution_count": 9,
   "id": "angry-aquarium",
   "metadata": {
    "id": "Dk8FC-oaWQgh"
   },
   "outputs": [],
   "source": [
    "train_dataset = train_dataset.shuffle(buffer_size = 20000, reshuffle_each_iteration = True).batch(batch_size = batch_size, drop_remainder = False)\n",
    "test_dataset = test_dataset.batch(batch_size=batch_size, drop_remainder=False)"
   ]
  },
  {
   "cell_type": "code",
   "execution_count": 10,
   "id": "capable-solid",
   "metadata": {
    "id": "PlCbfv7-WTIw"
   },
   "outputs": [],
   "source": [
    "# Choose an optimizer and loss function for training-\n",
    "loss_fn = tf.keras.losses.CategoricalCrossentropy()\n",
    "optimizer = tf.keras.optimizers.Adam(lr = 0.0002)"
   ]
  },
  {
   "cell_type": "code",
   "execution_count": 11,
   "id": "green-johnston",
   "metadata": {
    "id": "9lNmxomcWUiK"
   },
   "outputs": [],
   "source": [
    "# Select metrics to measure the error & accuracy of model.\n",
    "# These metrics accumulate the values over epochs and then\n",
    "# print the overall result-\n",
    "train_loss = tf.keras.metrics.Mean(name = 'train_loss')\n",
    "train_accuracy = tf.keras.metrics.CategoricalAccuracy(name = 'train_accuracy')\n",
    "\n",
    "test_loss = tf.keras.metrics.Mean(name = 'test_loss')\n",
    "test_accuracy = tf.keras.metrics.CategoricalAccuracy(name = 'test_accuracy')"
   ]
  },
  {
   "cell_type": "code",
   "execution_count": 11,
   "id": "regulated-middle",
   "metadata": {
    "id": "aGlhPVPJWVPC"
   },
   "outputs": [],
   "source": []
  },
  {
   "cell_type": "code",
   "execution_count": 11,
   "id": "resident-grenada",
   "metadata": {
    "id": "mVe3A5fYWWko"
   },
   "outputs": [],
   "source": []
  },
  {
   "cell_type": "code",
   "execution_count": 12,
   "id": "comic-villa",
   "metadata": {
    "id": "RNDQq57UWWwS"
   },
   "outputs": [],
   "source": [
    "def conv2_cnn():\n",
    "    # Function to define Conv-2 CNN sequentially\n",
    "\n",
    "    model = Sequential()\n",
    "\n",
    "    model.add(\n",
    "        Conv2D(\n",
    "            filters = 64, kernel_size = (3, 3),\n",
    "            activation='relu', kernel_initializer = tf.initializers.GlorotNormal(),\n",
    "            strides = (1, 1), padding = 'same',\n",
    "            input_shape=(32, 32, 3)\n",
    "            )\n",
    "        )\n",
    "    \n",
    "    model.add(\n",
    "        Conv2D(\n",
    "            filters = 64, kernel_size = (3, 3),\n",
    "            activation='relu', kernel_initializer = tf.initializers.GlorotNormal(),\n",
    "            strides = (1, 1), padding = 'same'\n",
    "            )\n",
    "        )\n",
    "    \n",
    "    model.add(\n",
    "        MaxPooling2D(\n",
    "            pool_size = (2, 2),\n",
    "            strides = (2, 2)\n",
    "            )\n",
    "        )\n",
    "    \n",
    "    model.add(Flatten())\n",
    "    \n",
    "    model.add(\n",
    "        Dense(\n",
    "            units = 256, activation='relu',\n",
    "            kernel_initializer = tf.initializers.GlorotNormal()\n",
    "            )\n",
    "        )\n",
    "    \n",
    "    model.add(\n",
    "        Dense(\n",
    "            units = 256, activation='relu',\n",
    "            kernel_initializer = tf.initializers.GlorotNormal()\n",
    "            )\n",
    "        )\n",
    "    \n",
    "    model.add(\n",
    "        Dense(\n",
    "            units = 10, activation='softmax'\n",
    "            )\n",
    "        )\n",
    "    \n",
    "\n",
    "    # Compile defined CNN-\n",
    "    model.compile(\n",
    "        loss=tf.keras.losses.categorical_crossentropy,\n",
    "        # optimizer='adam',\n",
    "        optimizer=tf.keras.optimizers.Adam(lr = 0.0002),\n",
    "        metrics=['accuracy']\n",
    "        )\n",
    "    \n",
    "    \n",
    "    return model\n",
    "\n"
   ]
  },
  {
   "cell_type": "code",
   "execution_count": null,
   "id": "sudden-springfield",
   "metadata": {
    "id": "OHp2mkqLXEAj"
   },
   "outputs": [],
   "source": []
  },
  {
   "cell_type": "code",
   "execution_count": 13,
   "id": "bottom-wildlife",
   "metadata": {},
   "outputs": [],
   "source": [
    "# Load pruned and trained (NOT clustered) model-\n",
    "pruned_model = conv2_cnn()"
   ]
  },
  {
   "cell_type": "code",
   "execution_count": 14,
   "id": "virtual-connectivity",
   "metadata": {},
   "outputs": [],
   "source": [
    "# Load pruned weights from before-\n",
    "pruned_model.load_weights(\"Conv2_pruned_&_trained_sparsity_86.33.h5\")"
   ]
  },
  {
   "cell_type": "code",
   "execution_count": 15,
   "id": "genuine-spiritual",
   "metadata": {},
   "outputs": [
    {
     "name": "stdout",
     "output_type": "stream",
     "text": [
      "Model: \"sequential\"\n",
      "_________________________________________________________________\n",
      "Layer (type)                 Output Shape              Param #   \n",
      "=================================================================\n",
      "conv2d (Conv2D)              (None, 32, 32, 64)        1792      \n",
      "_________________________________________________________________\n",
      "conv2d_1 (Conv2D)            (None, 32, 32, 64)        36928     \n",
      "_________________________________________________________________\n",
      "max_pooling2d (MaxPooling2D) (None, 16, 16, 64)        0         \n",
      "_________________________________________________________________\n",
      "flatten (Flatten)            (None, 16384)             0         \n",
      "_________________________________________________________________\n",
      "dense (Dense)                (None, 256)               4194560   \n",
      "_________________________________________________________________\n",
      "dense_1 (Dense)              (None, 256)               65792     \n",
      "_________________________________________________________________\n",
      "dense_2 (Dense)              (None, 10)                2570      \n",
      "=================================================================\n",
      "Total params: 4,301,642\n",
      "Trainable params: 4,301,642\n",
      "Non-trainable params: 0\n",
      "_________________________________________________________________\n"
     ]
    }
   ],
   "source": [
    "pruned_model.summary()"
   ]
  },
  {
   "cell_type": "code",
   "execution_count": 18,
   "id": "christian-victor",
   "metadata": {},
   "outputs": [],
   "source": [
    "orig_params = 4301642"
   ]
  },
  {
   "cell_type": "code",
   "execution_count": 17,
   "id": "alternative-occupation",
   "metadata": {},
   "outputs": [
    {
     "name": "stdout",
     "output_type": "stream",
     "text": [
      "layer.shape: (3, 3, 3, 64) has 670 parameters\n",
      "layer.shape: (64,) has 0 parameters\n",
      "layer.shape: (3, 3, 64, 64) has 14282 parameters\n",
      "layer.shape: (64,) has 0 parameters\n",
      "layer.shape: (16384, 256) has 562960 parameters\n",
      "layer.shape: (256,) has 0 parameters\n",
      "layer.shape: (256, 256) has 8797 parameters\n",
      "layer.shape: (256,) has 0 parameters\n",
      "layer.shape: (256, 10) has 992 parameters\n",
      "layer.shape: (10,) has 0 parameters\n",
      "\n",
      "Total number of trainable parameters in Pruned & Clustered Conv-2 model = 587701\n"
     ]
    }
   ],
   "source": [
    "# Sanity check: Count number of trainable parameters in pruned model-\n",
    "pruned_params = 0\n",
    "\n",
    "for layer in pruned_model.trainable_weights:\n",
    "    loc_params = tf.math.count_nonzero(layer, axis = None).numpy()\n",
    "    print(f\"layer.shape: {layer.shape} has {loc_params} parameters\")\n",
    "    pruned_params += loc_params\n",
    "\n",
    "print(f\"\\nTotal number of trainable parameters in Pruned & Clustered Conv-2 model = {pruned_params}\")"
   ]
  },
  {
   "cell_type": "code",
   "execution_count": 21,
   "id": "isolated-tracker",
   "metadata": {},
   "outputs": [
    {
     "name": "stdout",
     "output_type": "stream",
     "text": [
      "Conv-2 pruned model has 86.34% sparsity\n"
     ]
    }
   ],
   "source": [
    "print(f\"Conv-2 pruned model has {(orig_params - pruned_params) / orig_params * 100:.2f}% sparsity\")"
   ]
  },
  {
   "cell_type": "code",
   "execution_count": null,
   "id": "tight-insured",
   "metadata": {},
   "outputs": [],
   "source": []
  },
  {
   "cell_type": "code",
   "execution_count": 22,
   "id": "correct-bulgaria",
   "metadata": {},
   "outputs": [],
   "source": [
    "# Get pruned model metrics on validation dataset-\n",
    "val_loss, val_acc = pruned_model.evaluate(X_test, y_test, verbose = 0)"
   ]
  },
  {
   "cell_type": "code",
   "execution_count": 23,
   "id": "center-yahoo",
   "metadata": {},
   "outputs": [
    {
     "name": "stdout",
     "output_type": "stream",
     "text": [
      "Conv-2 pruned model's metrics on validation dataset are:\n",
      "val_loss = 0.9598 & val_acc = 70.22%\n"
     ]
    }
   ],
   "source": [
    "print(\"Conv-2 pruned model's metrics on validation dataset are:\")\n",
    "print(f\"val_loss = {val_loss:.4f} & val_acc = {val_acc * 100:.2f}%\")"
   ]
  },
  {
   "cell_type": "code",
   "execution_count": null,
   "id": "rotary-observation",
   "metadata": {},
   "outputs": [],
   "source": []
  },
  {
   "cell_type": "code",
   "execution_count": null,
   "id": "geological-brain",
   "metadata": {},
   "outputs": [],
   "source": []
  },
  {
   "cell_type": "code",
   "execution_count": 24,
   "id": "provincial-riding",
   "metadata": {},
   "outputs": [],
   "source": [
    "# Make predictions using trained model-\n",
    "y_pred = pruned_model.predict(X_test)"
   ]
  },
  {
   "cell_type": "code",
   "execution_count": 25,
   "id": "warming-saver",
   "metadata": {},
   "outputs": [],
   "source": [
    "y_pred = np.argmax(y_pred, axis = 1)\n",
    "y_test_mod = np.argmax(y_test, axis = 1)"
   ]
  },
  {
   "cell_type": "code",
   "execution_count": 26,
   "id": "boolean-result",
   "metadata": {},
   "outputs": [
    {
     "data": {
      "text/plain": [
       "((10000,), (10000,))"
      ]
     },
     "execution_count": 26,
     "metadata": {},
     "output_type": "execute_result"
    }
   ],
   "source": [
    "y_pred.shape, y_test_mod.shape"
   ]
  },
  {
   "cell_type": "code",
   "execution_count": 27,
   "id": "auburn-implementation",
   "metadata": {},
   "outputs": [],
   "source": [
    "acc = accuracy_score(y_true = y_test_mod, y_pred = y_pred)\n",
    "precision = precision_score(y_true = y_test_mod, y_pred = y_pred, average = 'macro')\n",
    "recall = recall_score(y_true = y_test_mod, y_pred = y_pred, average = 'macro')"
   ]
  },
  {
   "cell_type": "code",
   "execution_count": 28,
   "id": "upper-coach",
   "metadata": {},
   "outputs": [
    {
     "name": "stdout",
     "output_type": "stream",
     "text": [
      "\n",
      "Conv-2 pruned & trained model's validation metrics are:\n",
      "accuracy = 0.7022, precision = 0.7006 & recall = 0.7022\n"
     ]
    }
   ],
   "source": [
    "print(\"\\nConv-2 pruned & trained model's validation metrics are:\")\n",
    "print(f\"accuracy = {acc:.4f}, precision = {precision:.4f} & recall = {recall:.4f}\")"
   ]
  },
  {
   "cell_type": "code",
   "execution_count": 29,
   "id": "comfortable-stopping",
   "metadata": {},
   "outputs": [],
   "source": [
    "import pandas as pd\n",
    "import seaborn as sns"
   ]
  },
  {
   "cell_type": "code",
   "execution_count": 30,
   "id": "fewer-flooring",
   "metadata": {},
   "outputs": [],
   "source": [
    "data = {'y_true': y_test_mod,\n",
    "        'y_pred': y_pred\n",
    "        }\n",
    "\n",
    "df = pd.DataFrame(data, columns=['y_true','y_pred'])"
   ]
  },
  {
   "cell_type": "code",
   "execution_count": 31,
   "id": "white-perception",
   "metadata": {},
   "outputs": [],
   "source": [
    "confusion_matrix = pd.crosstab(\n",
    "    df['y_true'], df['y_pred'],\n",
    "    rownames = ['Ground Truth'], colnames = ['Prediction'],\n",
    "    margins = True\n",
    ")"
   ]
  },
  {
   "cell_type": "code",
   "execution_count": 32,
   "id": "integral-great",
   "metadata": {},
   "outputs": [
    {
     "data": {
      "image/png": "[encoded data removed]",
      "text/plain": [
       "<Figure size 720x576 with 2 Axes>"
      ]
     },
     "metadata": {
      "needs_background": "light"
     },
     "output_type": "display_data"
    }
   ],
   "source": [
    "plt.figure(figsize = (10, 8))\n",
    "sns.heatmap(confusion_matrix, annot = True, fmt = \"d\")\n",
    "plt.title(\"Conv-2: Prunedd & trained model's performance\")\n",
    "plt.show()"
   ]
  },
  {
   "cell_type": "code",
   "execution_count": null,
   "id": "naval-moore",
   "metadata": {},
   "outputs": [],
   "source": []
  },
  {
   "cell_type": "code",
   "execution_count": null,
   "id": "opposite-glossary",
   "metadata": {},
   "outputs": [],
   "source": []
  },
  {
   "cell_type": "code",
   "execution_count": null,
   "id": "together-polls",
   "metadata": {},
   "outputs": [],
   "source": []
  },
  {
   "cell_type": "code",
   "execution_count": null,
   "id": "perceived-worship",
   "metadata": {},
   "outputs": [],
   "source": []
  },
  {
   "cell_type": "markdown",
   "id": "jewish-composite",
   "metadata": {},
   "source": [
    "### Save the entire model\n",
    "\n",
    "Call _model.save()_ to save a model's architecture, weights, and training configuration in a single file/folder. This allows you to export a model so it can be used without access to the original Python code*. Since the optimizer-state is recovered, you can resume training from exactly where you left off.\n",
    "\n",
    "An entire model can be saved in two different file formats (SavedModel and HDF5). The TensorFlow 'SavedModel' format is the default file format in TF2.x. However, models can be saved in HDF5 format.\n",
    "\n",
    "*Custom objects (e.g. subclassed models or layers) require special attention when saving and loading. See the Saving custom objects section in this [webpage](https://www.tensorflow.org/tutorials/keras/save_and_load#save_the_entire_model)\n"
   ]
  },
  {
   "cell_type": "code",
   "execution_count": 33,
   "id": "simplified-symphony",
   "metadata": {},
   "outputs": [
    {
     "name": "stdout",
     "output_type": "stream",
     "text": [
      "WARNING:tensorflow:From C:\\Users\\Skoruz-Arjun\\anaconda3\\envs\\tf\\lib\\site-packages\\tensorflow\\python\\training\\tracking\\tracking.py:111: Model.state_updates (from tensorflow.python.keras.engine.training) is deprecated and will be removed in a future version.\n",
      "Instructions for updating:\n",
      "This property should not be used in TensorFlow 2.0, as updates are applied automatically.\n",
      "WARNING:tensorflow:From C:\\Users\\Skoruz-Arjun\\anaconda3\\envs\\tf\\lib\\site-packages\\tensorflow\\python\\training\\tracking\\tracking.py:111: Layer.updates (from tensorflow.python.keras.engine.base_layer) is deprecated and will be removed in a future version.\n",
      "Instructions for updating:\n",
      "This property should not be used in TensorFlow 2.0, as updates are applied automatically.\n",
      "INFO:tensorflow:Assets written to: Conv2_Pruned\\assets\n"
     ]
    }
   ],
   "source": [
    "# Save the entire model as a SavedModel.\n",
    "# !mkdir -p saved_model\n",
    "# model.save('saved_model/my_model')\n",
    "\n",
    "pruned_model.save(\"Conv2_Pruned\")"
   ]
  },
  {
   "cell_type": "code",
   "execution_count": null,
   "id": "hundred-reserve",
   "metadata": {},
   "outputs": [],
   "source": []
  },
  {
   "cell_type": "code",
   "execution_count": null,
   "id": "naval-orientation",
   "metadata": {},
   "outputs": [],
   "source": []
  },
  {
   "cell_type": "markdown",
   "id": "operational-lyric",
   "metadata": {},
   "source": [
    "## Post-training Quantization:\n",
    "\n",
    "### Dynamic range quantization\n",
    "\n",
    "The simplest form of post-training quantization statically quantizes only the weights from floating point to integer, which has 8-bits of precision-"
   ]
  },
  {
   "cell_type": "code",
   "execution_count": 34,
   "id": "civil-flash",
   "metadata": {},
   "outputs": [],
   "source": [
    "converter = tf.lite.TFLiteConverter.from_saved_model(\"Conv2_Pruned\")\n",
    "converter.optimizations = [tf.lite.Optimize.DEFAULT]\n",
    "\n",
    "tflite_quant_model = converter.convert()"
   ]
  },
  {
   "cell_type": "markdown",
   "id": "smoking-legislation",
   "metadata": {},
   "source": [
    "- At inference, weights are converted from 8-bits of precision to floating point and computed using floating-point kernels. This conversion is done once and cached to reduce latency.\n",
    "\n",
    "- To further improve latency, \"dynamic-range\" operators dynamically quantize activations based on their range to 8-bits and perform computations with 8-bit weights and activations. This optimization provides latencies close to fully fixed-point inference. However, the outputs are still stored using floating point so that the speedup with dynamic-range ops is less than a full fixed-point computation."
   ]
  },
  {
   "cell_type": "markdown",
   "id": "entitled-equality",
   "metadata": {},
   "source": [
    "### Full integer quantization:\n",
    "\n",
    "You can get further latency improvements, reductions in peak memory usage, and compatibility with integer only hardware devices or accelerators by __making sure all model math is integer quantized__.\n",
    "\n",
    "- For full integer quantization, you need to calibrate or estimate the range, i.e, (min, max) of all floating-point tensors in the model.\n",
    "\n",
    "- Unlike constant tensors such as weights and biases, variable tensors such as model input, activations (outputs of intermediate layers) and model output cannot be calibrated unless we run a few inference cycles.\n",
    "\n",
    "- As a result, the converter requires a _representative dataset_ to calibrate them. This dataset can be a small subset (around ~100-500 samples) of the training or validation data. Refer to the representative_dataset() function below.\n",
    "\n",
    "\n",
    "### Integer only:\n",
    "\n",
    "Creating integer only models is a common use case for TensorFlow Lite for Microcontrollers and Coral Edge TPUs.\n",
    "\n",
    "Note: Starting TensorFlow 2.3.0, it supports the 'inference_input_type' and 'inference_output_type' attributes.\n",
    "\n",
    "Additionally, to ensure compatibility with integer only devices (such as 8-bit microcontrollers) and accelerators (such as the Coral Edge TPU), you can enforce full integer quantization for all ops including the input and output, by using the following steps:\n",
    "\n",
    "```python\n",
    "import tensorflow as tf\n",
    "\n",
    "converter = tf.lite.TFLiteConverter.from_saved_model(saved_model_dir)\n",
    "\n",
    "converter.optimizations = [tf.lite.Optimize.DEFAULT]\n",
    "converter.representative_dataset = representative_dataset\n",
    "\n",
    "converter.target_spec.supported_ops = [tf.lite.OpsSet.TFLITE_BUILTINS_INT8]\n",
    "\n",
    "# converter.inference_input_type = tf.int8  # or tf.uint8\n",
    "# converter.inference_output_type = tf.int8  # or tf.uint8\n",
    "\n",
    "tflite_quant_model = converter.convert()\n",
    "```\n",
    "\n",
    "__Note:__ The converter will throw an error if it encounters an operation it cannot currently quantize."
   ]
  },
  {
   "cell_type": "code",
   "execution_count": 35,
   "id": "distant-formation",
   "metadata": {},
   "outputs": [],
   "source": [
    "def representative_data_gen():\n",
    "    # for inp_val, _ in test_dataset.take(1):\n",
    "    for inp_val, _ in test_dataset.batch(1).take(100):\n",
    "        # Model has only one input so each data point has one element.\n",
    "        yield [inp_val]\n"
   ]
  },
  {
   "cell_type": "code",
   "execution_count": null,
   "id": "distant-trash",
   "metadata": {},
   "outputs": [],
   "source": []
  },
  {
   "cell_type": "code",
   "execution_count": null,
   "id": "experimental-fashion",
   "metadata": {},
   "outputs": [],
   "source": []
  },
  {
   "cell_type": "markdown",
   "id": "roman-retreat",
   "metadata": {},
   "source": [
    "### Integer with float fallback (using default float input/output):\n",
    "\n",
    "In order to fully integer quantize a model, but use float operators when they don't have an integer implementation (to ensure conversion occurs smoothly), use the following steps."
   ]
  },
  {
   "cell_type": "code",
   "execution_count": 36,
   "id": "incredible-transcript",
   "metadata": {},
   "outputs": [],
   "source": [
    "import pathlib"
   ]
  },
  {
   "cell_type": "code",
   "execution_count": 38,
   "id": "generic-narrow",
   "metadata": {},
   "outputs": [
    {
     "ename": "RuntimeError",
     "evalue": "tensorflow/lite/kernels/conv.cc:313 input->dims->size != 4 (5 != 4)Node number 0 (CONV_2D) failed to prepare.\n",
     "output_type": "error",
     "traceback": [
      "\u001b[1;31m---------------------------------------------------------------------------\u001b[0m",
      "\u001b[1;31mRuntimeError\u001b[0m                              Traceback (most recent call last)",
      "\u001b[1;32m<ipython-input-38-c58f3e8dc480>\u001b[0m in \u001b[0;36m<module>\u001b[1;34m\u001b[0m\n\u001b[0;32m     14\u001b[0m \u001b[1;31m# converter.inference_output_type = tf.int8  # or tf.uint8\u001b[0m\u001b[1;33m\u001b[0m\u001b[1;33m\u001b[0m\u001b[1;33m\u001b[0m\u001b[0m\n\u001b[0;32m     15\u001b[0m \u001b[1;33m\u001b[0m\u001b[0m\n\u001b[1;32m---> 16\u001b[1;33m \u001b[0mtflite_quant_model\u001b[0m \u001b[1;33m=\u001b[0m \u001b[0mconverter\u001b[0m\u001b[1;33m.\u001b[0m\u001b[0mconvert\u001b[0m\u001b[1;33m(\u001b[0m\u001b[1;33m)\u001b[0m\u001b[1;33m\u001b[0m\u001b[1;33m\u001b[0m\u001b[0m\n\u001b[0m",
      "\u001b[1;32m~\\anaconda3\\envs\\tf\\lib\\site-packages\\tensorflow\\lite\\python\\lite.py\u001b[0m in \u001b[0;36mconvert\u001b[1;34m(self)\u001b[0m\n\u001b[0;32m   1074\u001b[0m         \u001b[0mInvalid\u001b[0m \u001b[0mquantization\u001b[0m \u001b[0mparameters\u001b[0m\u001b[1;33m.\u001b[0m\u001b[1;33m\u001b[0m\u001b[1;33m\u001b[0m\u001b[0m\n\u001b[0;32m   1075\u001b[0m     \"\"\"\n\u001b[1;32m-> 1076\u001b[1;33m     \u001b[1;32mreturn\u001b[0m \u001b[0msuper\u001b[0m\u001b[1;33m(\u001b[0m\u001b[0mTFLiteConverterV2\u001b[0m\u001b[1;33m,\u001b[0m \u001b[0mself\u001b[0m\u001b[1;33m)\u001b[0m\u001b[1;33m.\u001b[0m\u001b[0mconvert\u001b[0m\u001b[1;33m(\u001b[0m\u001b[1;33m)\u001b[0m\u001b[1;33m\u001b[0m\u001b[1;33m\u001b[0m\u001b[0m\n\u001b[0m\u001b[0;32m   1077\u001b[0m \u001b[1;33m\u001b[0m\u001b[0m\n\u001b[0;32m   1078\u001b[0m \u001b[1;33m\u001b[0m\u001b[0m\n",
      "\u001b[1;32m~\\anaconda3\\envs\\tf\\lib\\site-packages\\tensorflow\\lite\\python\\lite.py\u001b[0m in \u001b[0;36mconvert\u001b[1;34m(self)\u001b[0m\n\u001b[0;32m    897\u001b[0m           graph=frozen_func.graph)\n\u001b[0;32m    898\u001b[0m \u001b[1;33m\u001b[0m\u001b[0m\n\u001b[1;32m--> 899\u001b[1;33m     return super(TFLiteFrozenGraphConverterV2,\n\u001b[0m\u001b[0;32m    900\u001b[0m                  self).convert(graph_def, input_tensors, output_tensors)\n\u001b[0;32m    901\u001b[0m \u001b[1;33m\u001b[0m\u001b[0m\n",
      "\u001b[1;32m~\\anaconda3\\envs\\tf\\lib\\site-packages\\tensorflow\\lite\\python\\lite.py\u001b[0m in \u001b[0;36mconvert\u001b[1;34m(self, graph_def, input_tensors, output_tensors)\u001b[0m\n\u001b[0;32m    636\u001b[0m         self.inference_input_type, self.inference_output_type)\n\u001b[0;32m    637\u001b[0m     \u001b[1;32mif\u001b[0m \u001b[0mcalibrate_and_quantize\u001b[0m\u001b[1;33m:\u001b[0m\u001b[1;33m\u001b[0m\u001b[1;33m\u001b[0m\u001b[0m\n\u001b[1;32m--> 638\u001b[1;33m       \u001b[0mresult\u001b[0m \u001b[1;33m=\u001b[0m \u001b[0mself\u001b[0m\u001b[1;33m.\u001b[0m\u001b[0m_calibrate_quantize_model\u001b[0m\u001b[1;33m(\u001b[0m\u001b[0mresult\u001b[0m\u001b[1;33m,\u001b[0m \u001b[1;33m**\u001b[0m\u001b[0mflags\u001b[0m\u001b[1;33m)\u001b[0m\u001b[1;33m\u001b[0m\u001b[1;33m\u001b[0m\u001b[0m\n\u001b[0m\u001b[0;32m    639\u001b[0m \u001b[1;33m\u001b[0m\u001b[0m\n\u001b[0;32m    640\u001b[0m     \u001b[1;32mif\u001b[0m \u001b[0mself\u001b[0m\u001b[1;33m.\u001b[0m\u001b[0m_experimental_sparsify_model\u001b[0m\u001b[1;33m:\u001b[0m\u001b[1;33m\u001b[0m\u001b[1;33m\u001b[0m\u001b[0m\n",
      "\u001b[1;32m~\\anaconda3\\envs\\tf\\lib\\site-packages\\tensorflow\\lite\\python\\lite.py\u001b[0m in \u001b[0;36m_calibrate_quantize_model\u001b[1;34m(self, result, inference_input_type, inference_output_type, activations_type, allow_float)\u001b[0m\n\u001b[0;32m    448\u001b[0m       \u001b[1;32mreturn\u001b[0m \u001b[0m_mlir_quantize\u001b[0m\u001b[1;33m(\u001b[0m\u001b[0mcalibrated\u001b[0m\u001b[1;33m)\u001b[0m\u001b[1;33m\u001b[0m\u001b[1;33m\u001b[0m\u001b[0m\n\u001b[0;32m    449\u001b[0m     \u001b[1;32melse\u001b[0m\u001b[1;33m:\u001b[0m\u001b[1;33m\u001b[0m\u001b[1;33m\u001b[0m\u001b[0m\n\u001b[1;32m--> 450\u001b[1;33m       return calibrate_quantize.calibrate_and_quantize(\n\u001b[0m\u001b[0;32m    451\u001b[0m           \u001b[0mself\u001b[0m\u001b[1;33m.\u001b[0m\u001b[0mrepresentative_dataset\u001b[0m\u001b[1;33m.\u001b[0m\u001b[0minput_gen\u001b[0m\u001b[1;33m,\u001b[0m \u001b[0minference_input_type\u001b[0m\u001b[1;33m,\u001b[0m\u001b[1;33m\u001b[0m\u001b[1;33m\u001b[0m\u001b[0m\n\u001b[0;32m    452\u001b[0m           inference_output_type, allow_float, activations_type)\n",
      "\u001b[1;32m~\\anaconda3\\envs\\tf\\lib\\site-packages\\tensorflow\\lite\\python\\optimize\\calibrator.py\u001b[0m in \u001b[0;36mcalibrate_and_quantize\u001b[1;34m(self, dataset_gen, input_type, output_type, allow_float, activations_type, resize_input)\u001b[0m\n\u001b[0;32m     89\u001b[0m         \u001b[0minitialized\u001b[0m \u001b[1;33m=\u001b[0m \u001b[1;32mTrue\u001b[0m\u001b[1;33m\u001b[0m\u001b[1;33m\u001b[0m\u001b[0m\n\u001b[0;32m     90\u001b[0m         \u001b[1;32mif\u001b[0m \u001b[0mresize_input\u001b[0m\u001b[1;33m:\u001b[0m\u001b[1;33m\u001b[0m\u001b[1;33m\u001b[0m\u001b[0m\n\u001b[1;32m---> 91\u001b[1;33m           \u001b[0mself\u001b[0m\u001b[1;33m.\u001b[0m\u001b[0m_calibrator\u001b[0m\u001b[1;33m.\u001b[0m\u001b[0mPrepare\u001b[0m\u001b[1;33m(\u001b[0m\u001b[1;33m[\u001b[0m\u001b[0mlist\u001b[0m\u001b[1;33m(\u001b[0m\u001b[0ms\u001b[0m\u001b[1;33m.\u001b[0m\u001b[0mshape\u001b[0m\u001b[1;33m)\u001b[0m \u001b[1;32mfor\u001b[0m \u001b[0ms\u001b[0m \u001b[1;32min\u001b[0m \u001b[0msample\u001b[0m\u001b[1;33m]\u001b[0m\u001b[1;33m)\u001b[0m\u001b[1;33m\u001b[0m\u001b[1;33m\u001b[0m\u001b[0m\n\u001b[0m\u001b[0;32m     92\u001b[0m         \u001b[1;32melse\u001b[0m\u001b[1;33m:\u001b[0m\u001b[1;33m\u001b[0m\u001b[1;33m\u001b[0m\u001b[0m\n\u001b[0;32m     93\u001b[0m           \u001b[0mself\u001b[0m\u001b[1;33m.\u001b[0m\u001b[0m_calibrator\u001b[0m\u001b[1;33m.\u001b[0m\u001b[0mPrepare\u001b[0m\u001b[1;33m(\u001b[0m\u001b[1;33m)\u001b[0m\u001b[1;33m\u001b[0m\u001b[1;33m\u001b[0m\u001b[0m\n",
      "\u001b[1;31mRuntimeError\u001b[0m: tensorflow/lite/kernels/conv.cc:313 input->dims->size != 4 (5 != 4)Node number 0 (CONV_2D) failed to prepare.\n"
     ]
    }
   ],
   "source": [
    "# Using the Python 'TFLiteConverter', you can now convert the trained model into a TensorFlow Lite model.\n",
    "# Now, convert the model using  'TFliteConverter' into default float32 format-\n",
    "# converter = tf.lite.TFLiteConverter.from_keras_model(model)\n",
    "# tflite_model = converter.convert()\n",
    "\n",
    "converter = tf.lite.TFLiteConverter.from_saved_model(\"Conv2_Pruned\")\n",
    "converter.optimizations = [tf.lite.Optimize.DEFAULT]\n",
    "converter.representative_dataset = representative_data_gen\n",
    "\n",
    "converter.target_spec.supported_ops = [tf.lite.OpsSet.TFLITE_BUILTINS_INT8]\n",
    "\n",
    "# DON'T USE THE FOLLOWING 2 LINES-\n",
    "# converter.inference_input_type = tf.int8  # or tf.uint8\n",
    "# converter.inference_output_type = tf.int8  # or tf.uint8\n",
    "\n",
    "tflite_quant_model = converter.convert()"
   ]
  },
  {
   "cell_type": "code",
   "execution_count": 81,
   "id": "starting-rough",
   "metadata": {},
   "outputs": [
    {
     "data": {
      "text/plain": [
       "270480"
      ]
     },
     "execution_count": 81,
     "metadata": {},
     "output_type": "execute_result"
    }
   ],
   "source": [
    "# Write it out to a '.tflite' file-\n",
    "# tflite_models_dir = pathlib.Path(\"/tmp/mnist_tflite_models/\")\n",
    "# tflite_models_dir.mkdir(exist_ok = True, parents = True)\n",
    "# tflite_model_file = tflite_models_dir/\"mnist_model.tflite\"\n",
    "# tflite_model_file.write_bytes(tflite_model)\n",
    "\n",
    "# tflite_models_dir = pathlib.Path(\"/home/arjun/Deep_Learning_Resources/Research_Paper-Resources/Codes/\")\n",
    "\n",
    "# tflite_model_file = tflite_models_dir/'model1.tflite'     # model 1 - no optimization nor quantization\n",
    "# tflite_model_file = tflite_models_dir/'model2.tflite'     # model 2 for optimzation but no quantization\n",
    "# tflite_model_file = tflite_models_dir/'model3.tflite'     # model 3 for optimzation and quantization\n",
    "tflite_model_file = tflite_models_dir/'clustered_pruned_model.tflite'     \n",
    "tflite_model_file.write_bytes(tflite_quant_model)\n",
    "# 270496\n",
    "# 270128\n",
    "\n",
    "# clustered_pruned_model.tflite\n",
    "# 270480"
   ]
  },
  {
   "cell_type": "code",
   "execution_count": null,
   "id": "enclosed-version",
   "metadata": {},
   "outputs": [],
   "source": []
  },
  {
   "cell_type": "code",
   "execution_count": null,
   "id": "split-denial",
   "metadata": {},
   "outputs": [],
   "source": []
  },
  {
   "cell_type": "markdown",
   "id": "realistic-merit",
   "metadata": {},
   "source": [
    "### Compute validation accuracy:\n",
    "\n",
    "### Run the TensorFlow Lite models-\n",
    "Run the TensorFlow Lite model using the Python TensorFlow Lite Interpreter.\n",
    "\n",
    "Refer to the tutorial [here](https://www.tensorflow.org/lite/performance/post_training_integer_quant_16x8)"
   ]
  },
  {
   "cell_type": "code",
   "execution_count": 82,
   "id": "incorrect-portuguese",
   "metadata": {},
   "outputs": [],
   "source": [
    "# Load the model into the interpreters-\n",
    "# interpreter = tf.lite.Interpreter(model_path = str(tflite_model_file))\n",
    "# interpreter.allocate_tensors()\n",
    "\n",
    "# tflite_model_file = '/home/arjun/Deep_Learning_Resources/Research_Paper-Resources/Codes/model3.tflite'\n",
    "tflite_model_file = '/home/arjun/Deep_Learning_Resources/Research_Paper-Resources/Codes/clustered_pruned_model.tflite'\n",
    "\n",
    "interpreter = tf.lite.Interpreter(model_path = tflite_model_file)\n",
    "interpreter.allocate_tensors()\n",
    "\n",
    "input_index = interpreter.get_input_details()[0][\"index\"]\n",
    "output_index = interpreter.get_output_details()[0][\"index\"]"
   ]
  },
  {
   "cell_type": "code",
   "execution_count": null,
   "id": "understood-affairs",
   "metadata": {},
   "outputs": [],
   "source": []
  },
  {
   "cell_type": "markdown",
   "id": "contrary-lucas",
   "metadata": {},
   "source": [
    "### Test the _trained & quantized_ model on __one image__:\n"
   ]
  },
  {
   "cell_type": "code",
   "execution_count": 83,
   "id": "checked-scheme",
   "metadata": {},
   "outputs": [],
   "source": [
    "test_image = np.expand_dims(X_test[0], axis = 0).astype(np.float32)\n",
    "\n",
    "# input_index = interpreter.get_input_details()[0][\"index\"]\n",
    "# output_index = interpreter.get_output_details()[0][\"index\"]\n",
    "\n",
    "interpreter.set_tensor(input_index, test_image)\n",
    "interpreter.invoke()\n",
    "\n",
    "predictions = interpreter.get_tensor(output_index)\n"
   ]
  },
  {
   "cell_type": "code",
   "execution_count": 84,
   "id": "outer-parliament",
   "metadata": {},
   "outputs": [
    {
     "name": "stdout",
     "output_type": "stream",
     "text": [
      "Quantized & trained model's prediction = [7]\n"
     ]
    }
   ],
   "source": [
    "print(f\"Quantized & trained model's prediction = {np.argmax(predictions, axis = 1)}\")"
   ]
  },
  {
   "cell_type": "code",
   "execution_count": 85,
   "id": "painful-shepherd",
   "metadata": {},
   "outputs": [
    {
     "data": {
      "image/png": "[encoded data removed]",
      "text/plain": [
       "<Figure size 432x288 with 1 Axes>"
      ]
     },
     "metadata": {
      "needs_background": "light"
     },
     "output_type": "display_data"
    }
   ],
   "source": [
    "plt.imshow(X_test[0].reshape(28, 28, 1))\n",
    "\n",
    "template = \"True: {true}, predicted: {predict}\"\n",
    "\n",
    "_ = plt.title(template.format(true= str(np.argmax(y_test[0])),\n",
    "                              predict=str(np.argmax(predictions[0]))))\n",
    "plt.grid(False)\n"
   ]
  },
  {
   "cell_type": "code",
   "execution_count": 86,
   "id": "stainless-chrome",
   "metadata": {},
   "outputs": [
    {
     "data": {
      "text/plain": [
       "(1, 784)"
      ]
     },
     "execution_count": 86,
     "metadata": {},
     "output_type": "execute_result"
    }
   ],
   "source": [
    "test_image.shape"
   ]
  },
  {
   "cell_type": "code",
   "execution_count": null,
   "id": "general-brazil",
   "metadata": {},
   "outputs": [],
   "source": []
  },
  {
   "cell_type": "code",
   "execution_count": null,
   "id": "level-mailman",
   "metadata": {},
   "outputs": [],
   "source": []
  },
  {
   "cell_type": "code",
   "execution_count": 87,
   "id": "identified-checkout",
   "metadata": {},
   "outputs": [],
   "source": [
    "def evaluate_model(interpreter):\n",
    "    # Function to evaluate TF Lite model's performance on validation dataset\n",
    "    input_index = interpreter.get_input_details()[0][\"index\"]\n",
    "    output_index = interpreter.get_output_details()[0][\"index\"]\n",
    "\n",
    "    # Run predictions on every image in the validation dataset.\n",
    "    prediction_digits = []\n",
    "    \n",
    "    for test_image in X_test:\n",
    "        # Pre-processing: add batch dimension and convert to float32 to match with\n",
    "        # the model's input data format.\n",
    "        test_image = np.expand_dims(test_image, axis=0).astype(np.float32)\n",
    "        interpreter.set_tensor(input_index, test_image)\n",
    "\n",
    "        # Run inference.\n",
    "        interpreter.invoke()\n",
    "\n",
    "        # Post-processing: remove batch dimension and find the digit with highest\n",
    "        # probability.\n",
    "        output = interpreter.tensor(output_index)\n",
    "        digit = np.argmax(output()[0])\n",
    "        prediction_digits.append(digit)\n",
    "\n",
    "    # Compare prediction results with ground truth labels to calculate accuracy.\n",
    "    accurate_count = 0\n",
    "    for index in range(len(prediction_digits)):\n",
    "        if prediction_digits[index] == np.argmax(y_test[index]):\n",
    "            accurate_count += 1\n",
    "    \n",
    "    accuracy = accurate_count * 1.0 / len(prediction_digits)\n",
    "\n",
    "    return accuracy\n"
   ]
  },
  {
   "cell_type": "code",
   "execution_count": 88,
   "id": "prepared-seating",
   "metadata": {},
   "outputs": [],
   "source": [
    "val_accuracy = evaluate_model(interpreter)"
   ]
  },
  {
   "cell_type": "code",
   "execution_count": 89,
   "id": "prepared-tyler",
   "metadata": {},
   "outputs": [
    {
     "name": "stdout",
     "output_type": "stream",
     "text": [
      "TF Lite model's pruned, clustered and quantized val_accuracy = 97.96%\n"
     ]
    }
   ],
   "source": [
    "print(f\"TF Lite model's pruned, clustered and quantized val_accuracy = {val_accuracy * 100:.2f}%\")\n",
    "# TF Lite model's quantized val_accuracy = 97.87%"
   ]
  },
  {
   "cell_type": "code",
   "execution_count": null,
   "id": "shaped-tiffany",
   "metadata": {},
   "outputs": [],
   "source": []
  },
  {
   "cell_type": "code",
   "execution_count": null,
   "id": "taken-death",
   "metadata": {},
   "outputs": [],
   "source": []
  },
  {
   "cell_type": "markdown",
   "id": "interesting-lawyer",
   "metadata": {},
   "source": [
    "## Final Step: Zipping\n",
    "\n",
    "To fully realise the benefit of the pipeline, _zip_ the resulting 'tflite' file and compare it's file size vs. original zipped file."
   ]
  },
  {
   "cell_type": "code",
   "execution_count": 92,
   "id": "special-syracuse",
   "metadata": {},
   "outputs": [],
   "source": [
    "# File-sizes are in bytes-\n",
    "orig_model_filesize = 990374\n",
    "clustered_pruned_tflite_filesize = 17997"
   ]
  },
  {
   "cell_type": "code",
   "execution_count": 95,
   "id": "confidential-valuation",
   "metadata": {},
   "outputs": [
    {
     "name": "stdout",
     "output_type": "stream",
     "text": [
      "For LeNet-300-100, pipeline resulted in a 55.03X reduction\n"
     ]
    }
   ],
   "source": [
    "print(f\"For LeNet-300-100, pipeline resulted in a {orig_model_filesize / clustered_pruned_tflite_filesize:.2f}X reduction\")"
   ]
  },
  {
   "cell_type": "code",
   "execution_count": null,
   "id": "short-report",
   "metadata": {},
   "outputs": [],
   "source": []
  },
  {
   "cell_type": "code",
   "execution_count": null,
   "id": "traditional-stanley",
   "metadata": {},
   "outputs": [],
   "source": []
  },
  {
   "cell_type": "code",
   "execution_count": null,
   "id": "honest-poland",
   "metadata": {},
   "outputs": [],
   "source": []
  },
  {
   "cell_type": "code",
   "execution_count": null,
   "id": "specified-motion",
   "metadata": {},
   "outputs": [],
   "source": []
  },
  {
   "cell_type": "code",
   "execution_count": null,
   "id": "piano-certification",
   "metadata": {},
   "outputs": [],
   "source": []
  }
 ],
 "metadata": {
  "kernelspec": {
   "display_name": "Python 3",
   "language": "python",
   "name": "python3"
  },
  "language_info": {
   "codemirror_mode": {
    "name": "ipython",
    "version": 3
   },
   "file_extension": ".py",
   "mimetype": "text/x-python",
   "name": "python",
   "nbconvert_exporter": "python",
   "pygments_lexer": "ipython3",
   "version": "3.8.8"
  }
 },
 "nbformat": 4,
 "nbformat_minor": 5
}
