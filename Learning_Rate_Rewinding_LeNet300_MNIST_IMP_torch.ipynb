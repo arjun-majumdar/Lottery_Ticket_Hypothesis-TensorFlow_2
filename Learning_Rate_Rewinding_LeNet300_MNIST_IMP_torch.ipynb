{
 "cells": [
  {
   "cell_type": "markdown",
   "id": "d4c073df-de4b-40f0-802c-7a99fb3e80b6",
   "metadata": {},
   "source": [
    "# Learning Rate Rewinding: MNIST + LeNet-300-100 + PyTorch\n",
    "\n",
    "each pruning round has a learning rate scheduler - linear warmup with cosine decay without annealing"
   ]
  },
  {
   "cell_type": "code",
   "execution_count": 1,
   "id": "457b73a9-7d42-457b-9248-505c06ea84e3",
   "metadata": {},
   "outputs": [],
   "source": [
    "import torch\n",
    "import torch.nn.functional as F\n",
    "import torch.nn as nn\n",
    "import numpy as np\n",
    "import pickle\n",
    "from tqdm import tqdm, trange\n",
    "import matplotlib.pyplot as plt\n",
    "from LeNet300_swish_torch import LeNet300, init_weights\n",
    "from get_mnist_data import mnist_dataset"
   ]
  },
  {
   "cell_type": "code",
   "execution_count": null,
   "id": "e3782083-eb2f-4845-9afd-f58ce3044594",
   "metadata": {},
   "outputs": [],
   "source": []
  },
  {
   "cell_type": "code",
   "execution_count": null,
   "id": "d8e87f70-fa82-4398-b144-4b81c695d73a",
   "metadata": {},
   "outputs": [],
   "source": []
  },
  {
   "cell_type": "code",
   "execution_count": 2,
   "id": "1786a29f-624f-4eaa-90b8-b7ec80250f65",
   "metadata": {},
   "outputs": [
    {
     "name": "stdout",
     "output_type": "stream",
     "text": [
      "torch version: 2.1.1+cpu\n",
      "Number of GPU(s) available = 0\n",
      "PyTorch does not have access to GPU\n",
      "Available device is cpu\n",
      "\n",
      "\n"
     ]
    }
   ],
   "source": [
    "print(f\"torch version: {torch.__version__}\")\n",
    "\n",
    "# Check if there are multiple devices (i.e., GPU cards)-\n",
    "print(f\"Number of GPU(s) available = {torch.cuda.device_count()}\")\n",
    "\n",
    "if torch.cuda.is_available():\n",
    "    print(f\"Current GPU: {torch.cuda.current_device()}\")\n",
    "    print(f\"Current GPU name: {torch.cuda.get_device_name(torch.cuda.current_device())}\")\n",
    "else:\n",
    "    print(\"PyTorch does not have access to GPU\")\n",
    "\n",
    "# Device configuration-\n",
    "device = torch.device('cuda' if torch.cuda.is_available() else 'cpu')\n",
    "print(f'Available device is {device}\\n\\n')"
   ]
  },
  {
   "cell_type": "code",
   "execution_count": null,
   "id": "261ed4b9-0c13-42ef-a6b2-2c293dcb29f5",
   "metadata": {},
   "outputs": [],
   "source": []
  },
  {
   "cell_type": "code",
   "execution_count": 3,
   "id": "53e85e33-da96-4148-bd1c-9257190fcb6f",
   "metadata": {},
   "outputs": [
    {
     "data": {
      "text/plain": [
       "<All keys matched successfully>"
      ]
     },
     "execution_count": 3,
     "metadata": {},
     "output_type": "execute_result"
    }
   ],
   "source": [
    "# Load previoulsy trained model-\n",
    "trained_model = LeNet300(beta = 1.0)\n",
    "trained_model.load_state_dict(torch.load(\"LeNet300_best_testacc_model.pth\"))"
   ]
  },
  {
   "cell_type": "code",
   "execution_count": null,
   "id": "440d29e2-237d-40e2-948f-fdc6a85e82ee",
   "metadata": {},
   "outputs": [],
   "source": []
  },
  {
   "cell_type": "code",
   "execution_count": 4,
   "id": "b797dbd2-9297-4585-92be-6b1a9bad51ea",
   "metadata": {},
   "outputs": [],
   "source": [
    "def count_trainable_params(model):\n",
    "    # Count number of layer-wise parameters and total parameters-\n",
    "    tot_params = 0\n",
    "    for param in model.parameters():\n",
    "        layer_param = torch.count_nonzero(param)\n",
    "        tot_params += layer_param.item()\n",
    "\n",
    "    return tot_params\n",
    "\n",
    "orig_tot_params = count_trainable_params(model = trained_model)"
   ]
  },
  {
   "cell_type": "code",
   "execution_count": 5,
   "id": "c7a918c6-b83b-4365-978c-529fc221986c",
   "metadata": {},
   "outputs": [
    {
     "name": "stdout",
     "output_type": "stream",
     "text": [
      "Original, unpruned LeNet-300 NN has 267012 params\n"
     ]
    }
   ],
   "source": [
    "print(f\"Original, unpruned LeNet-300 NN has {orig_tot_params} params\")"
   ]
  },
  {
   "cell_type": "code",
   "execution_count": 6,
   "id": "3ed3dcd1-42f5-4537-a522-d5e8aa83ea33",
   "metadata": {},
   "outputs": [],
   "source": [
    "del trained_model"
   ]
  },
  {
   "cell_type": "code",
   "execution_count": null,
   "id": "8415b46f",
   "metadata": {},
   "outputs": [],
   "source": []
  },
  {
   "cell_type": "code",
   "execution_count": null,
   "id": "42f1cb5c-b60c-47aa-9493-cc0bbeafd492",
   "metadata": {},
   "outputs": [],
   "source": []
  },
  {
   "cell_type": "code",
   "execution_count": 7,
   "id": "2c1f9a20-404e-46c2-8d47-e2a335143aa2",
   "metadata": {},
   "outputs": [],
   "source": [
    "def compute_global_pruning(tot_trainable_params, pruning_per_round = 20):\n",
    "    '''\n",
    "    Function to compute number of global pruning rounds using\n",
    "    input total number of trainable parameters.\n",
    "    '''\n",
    "    # Python3 list to hold percentage of pruning for each iterative pruning round-\n",
    "    global_pruning = []\n",
    "\n",
    "    # Variable for total number of pruning rounds needed-\n",
    "    num_pruning_rounds = 0\n",
    "\n",
    "    # Prune until only 5% of global weights are left-\n",
    "    max_pruned_params = 0.005 * tot_trainable_params\n",
    "\n",
    "    loc_params = tot_trainable_params\n",
    "\n",
    "    # For each pruning round, percentage to prune-\n",
    "    pruning_per_round = (100 - pruning_per_round) / 100\n",
    "\n",
    "    while loc_params >= max_pruned_params:\n",
    "        # 15% weights are pruned GLOBALLY-\n",
    "        # loc_params *= 0.85\n",
    "        loc_params *= pruning_per_round\n",
    "        global_pruning.append(((tot_trainable_params - loc_params) / tot_trainable_params) * 100)\n",
    "\n",
    "        num_pruning_rounds += 1\n",
    "\n",
    "    # Convert from list to np.array-\n",
    "    global_pruning = np.array(global_pruning)\n",
    "\n",
    "    # Round off numpy arrays to 3 decimal digits-\n",
    "    global_pruning = np.round(global_pruning, decimals=3)\n",
    "\n",
    "    # Python 3 dict to hold layer\n",
    "    pruning_layers = {}\n",
    "    pruning_layers['global_pruning'] = global_pruning\n",
    "\n",
    "    return pruning_layers, num_pruning_rounds\n"
   ]
  },
  {
   "cell_type": "code",
   "execution_count": 8,
   "id": "39b1b9f7-d42f-4d20-a641-72c07319ac17",
   "metadata": {},
   "outputs": [],
   "source": [
    "pruning_percentage_global, num_pruning_rounds = compute_global_pruning(tot_trainable_params = orig_tot_params, pruning_per_round = 20)"
   ]
  },
  {
   "cell_type": "code",
   "execution_count": 9,
   "id": "7a71431f-38dd-4ceb-844f-1a89c9ad0048",
   "metadata": {},
   "outputs": [
    {
     "name": "stdout",
     "output_type": "stream",
     "text": [
      "\n",
      "Number of iterative pruning rounds needed for LeNet-300-100 NN = 24\n",
      "\n"
     ]
    }
   ],
   "source": [
    "print(\"\\nNumber of iterative pruning rounds needed for LeNet-300-100 NN = {0}\\n\".format(num_pruning_rounds))"
   ]
  },
  {
   "cell_type": "code",
   "execution_count": 10,
   "id": "137b78dd-188b-4971-bd7a-756042076a50",
   "metadata": {},
   "outputs": [
    {
     "data": {
      "text/plain": [
       "array([20.   , 36.   , 48.8  , 59.04 , 67.232, 73.786, 79.028, 83.223,\n",
       "       86.578, 89.263, 91.41 , 93.128, 94.502, 95.602, 96.482, 97.185,\n",
       "       97.748, 98.199, 98.559, 98.847, 99.078, 99.262, 99.41 , 99.528])"
      ]
     },
     "execution_count": 10,
     "metadata": {},
     "output_type": "execute_result"
    }
   ],
   "source": [
    "# Sanity check - percentage of weights to be pruned for each iterative pruning round-\n",
    "pruning_percentage_global['global_pruning']"
   ]
  },
  {
   "cell_type": "code",
   "execution_count": null,
   "id": "7b6c2f6f-3197-4b28-b7ef-997c29aa3299",
   "metadata": {},
   "outputs": [],
   "source": []
  },
  {
   "cell_type": "code",
   "execution_count": 11,
   "id": "cbb62f0c-8704-4859-b3c5-885d9e7274c0",
   "metadata": {},
   "outputs": [],
   "source": [
    "def global_mag_wts_pruning(trained_model, p = 20):\n",
    "\n",
    "    np_wts = dict()\n",
    "\n",
    "    for layer_name, params in trained_model.named_parameters():\n",
    "        np_wts[layer_name] = params.detach().cpu().numpy()\n",
    "    del layer_name, params\n",
    "\n",
    "    flattened_wts = list()\n",
    "\n",
    "    for layer_name in np_wts.keys():\n",
    "        flattened_wts.append(np.abs(np_wts[layer_name]).flatten())\n",
    "\n",
    "    threshold = np.percentile(np.concatenate(flattened_wts), p)\n",
    "    del flattened_wts\n",
    "\n",
    "    pruned_wts = dict()\n",
    "\n",
    "    for layer_name in np_wts.keys():\n",
    "        if len(np_wts[layer_name].shape) == 4:\n",
    "            # print(f\"conv = {layer_name}\")\n",
    "            layer = np_wts[layer_name]\n",
    "            layer_abs = np.abs(layer)\n",
    "            layer_abs[layer_abs < threshold] = 0\n",
    "            layer_mod = np.where(layer_abs == 0, 0, layer)\n",
    "            pruned_wts[layer_name] = torch.from_numpy(layer_mod)\n",
    "        elif len(np_wts[layer_name].shape) == 2:\n",
    "            # print(f\"dense = {layer_name}\")\n",
    "            layer = np_wts[layer_name]\n",
    "            layer_abs = np.abs(layer)\n",
    "            layer_abs[layer_abs < threshold] = 0\n",
    "            layer_mod = np.where(layer_abs == 0, 0, layer)\n",
    "            pruned_wts[layer_name] = torch.from_numpy(layer_mod)\n",
    "        else:\n",
    "            # print(f\"others = {layer_name}\")\n",
    "            layer = np_wts[layer_name]\n",
    "            pruned_wts[layer_name] = torch.from_numpy(layer)\n",
    "\n",
    "    return pruned_wts\n",
    "    "
   ]
  },
  {
   "cell_type": "code",
   "execution_count": null,
   "id": "9f5edfd3-370b-4765-b0e2-9a37035facf9",
   "metadata": {},
   "outputs": [],
   "source": []
  },
  {
   "cell_type": "code",
   "execution_count": 12,
   "id": "63f8f964-6733-4218-a576-b24163c76b31",
   "metadata": {},
   "outputs": [],
   "source": [
    "def extract_mask(model_pruned):\n",
    "    # Extract 0/1 mask using pruned model.\n",
    "\n",
    "    # Create mask for pruned model-\n",
    "    mask_d = dict()\n",
    "    \n",
    "    for layer_name, param_pruned in model_pruned.named_parameters():\n",
    "        mask_d[layer_name] = torch.where(param_pruned != 0, 1.0, 0.0)\n",
    "\n",
    "    return mask_d\n",
    "    "
   ]
  },
  {
   "cell_type": "code",
   "execution_count": null,
   "id": "e3cfde99-d5a2-4c24-99cb-38eb7b6ae59c",
   "metadata": {},
   "outputs": [],
   "source": []
  },
  {
   "cell_type": "code",
   "execution_count": null,
   "id": "bd05e1d4-a044-4580-9a5a-54ba0a061df5",
   "metadata": {},
   "outputs": [],
   "source": []
  },
  {
   "cell_type": "code",
   "execution_count": 7,
   "id": "f007f952-f51c-43ff-87b8-bebb031a9db7",
   "metadata": {},
   "outputs": [],
   "source": [
    "# Get MNIST data-\n",
    "path_files = \"/home/amajumdar/Downloads/.data/\"\n",
    "batch_size = 512\n",
    "\n",
    "train_dataset, test_dataset, train_loader, test_loader = mnist_dataset(\n",
    "    path_to_files = path_files, batch_size = batch_size\n",
    ")"
   ]
  },
  {
   "cell_type": "code",
   "execution_count": null,
   "id": "367f3cfc-74c7-4512-9ed6-6fe997886522",
   "metadata": {},
   "outputs": [],
   "source": []
  },
  {
   "cell_type": "code",
   "execution_count": null,
   "id": "e8ecc814-70cc-4c2d-9c5b-3851a6ca563a",
   "metadata": {},
   "outputs": [],
   "source": []
  },
  {
   "cell_type": "code",
   "execution_count": 8,
   "id": "15a939c8-da56-4011-8f17-072be6b1e7be",
   "metadata": {},
   "outputs": [],
   "source": [
    "def train_one_epoch(\n",
    "    model, mask_model,\n",
    "    train_loader, train_dataset,\n",
    "    optimizer\n",
    "    ):\n",
    "    '''\n",
    "    Function to perform one epoch of training by using 'train_loader'.\n",
    "    Returns loss and accuracy for this epoch.\n",
    "    '''\n",
    "    running_loss = 0.0\n",
    "    running_corrects = 0.0\n",
    "\n",
    "    model.train()\n",
    "\n",
    "    with tqdm(train_loader, unit = 'batch') as tepoch:\n",
    "        for images, labels in tepoch:\n",
    "            tepoch.set_description(f\"Training: \")\n",
    "            images = images.reshape(-1, 28 * 28)\n",
    "            images = images.to(device)\n",
    "            labels = labels.to(device)\n",
    "\n",
    "            # Get model predictions-\n",
    "            preds = model(images)\n",
    "\n",
    "            # Compute loss-\n",
    "            cost_fn = nn.CrossEntropyLoss()\n",
    "            loss = cost_fn(preds, labels)\n",
    "\n",
    "            # Empty accumulated gradients-\n",
    "            optimizer.zero_grad()\n",
    "\n",
    "            # Perform backprop-\n",
    "            loss.backward()\n",
    "\n",
    "            # Compute hadamard product/element-wise multiplication between gradients\n",
    "            # and 0/1 mask-\n",
    "            for param_pruned, mask in zip(model.parameters(), mask_model.parameters()):\n",
    "                param_pruned.grad = torch.mul(param_pruned.grad, mask)\n",
    "                # param_pruned.grad.copy_(torch.mul(param_pruned, mask))\n",
    "                # param.copy_(torch.mul(param, mask))\n",
    "            del param_pruned, mask\n",
    "\n",
    "            # Update parameters-\n",
    "            optimizer.step()\n",
    "\n",
    "            '''\n",
    "            # LR scheduler-\n",
    "            global step\n",
    "            optimizer.param_groups[0]['lr'] = custom_lr_scheduler.get_lr(step)\n",
    "            step += 1\n",
    "            '''\n",
    "\n",
    "            # Compute model's performance statistics-\n",
    "            running_loss += loss.item() * images.size(0)\n",
    "            _, predicted = torch.max(preds, 1)\n",
    "            running_corrects += torch.sum(predicted == labels.data)\n",
    "\n",
    "            tepoch.set_postfix(\n",
    "                loss = running_loss / len(train_dataset),\n",
    "                accuracy = (running_corrects.double().cpu().numpy() / len(train_dataset)) * 100\n",
    "            )\n",
    "\n",
    "    train_loss = running_loss / len(train_dataset)\n",
    "    train_acc = (running_corrects.double() / len(train_dataset)) * 100\n",
    "\n",
    "    return train_loss, train_acc.cpu().numpy()\n",
    "\n"
   ]
  },
  {
   "cell_type": "code",
   "execution_count": 9,
   "id": "f2b0b8fe-cba5-4391-8a79-d4d371709013",
   "metadata": {},
   "outputs": [],
   "source": [
    "def test_one_epoch(model, test_loader, test_dataset):\n",
    "    total = 0.0\n",
    "    correct = 0.0\n",
    "    running_loss_test = 0.0\n",
    "\n",
    "    with torch.no_grad():\n",
    "        with tqdm(test_loader, unit = 'batch') as tepoch:\n",
    "            for images, labels in tepoch:\n",
    "                tepoch.set_description(f\"Testing: \")\n",
    "                images = images.reshape(-1, 28 * 28)\n",
    "                images = images.to(device)\n",
    "                labels = labels.to(device)\n",
    "\n",
    "                # Set model to evaluation mode-\n",
    "                model.eval()\n",
    "\n",
    "                # Predict using trained model-\n",
    "                outputs = model(images)\n",
    "                _, y_pred = torch.max(outputs, 1)\n",
    "\n",
    "                # Compute validation loss-\n",
    "                # J_test = torch.nn.functional.nll_loss(outputs, labels)\n",
    "                cost_fn = nn.CrossEntropyLoss()\n",
    "\n",
    "                J_test = loss = cost_fn(outputs, labels)\n",
    "\n",
    "                running_loss_test += J_test.item() * labels.size(0)\n",
    "\n",
    "                # Total number of labels-\n",
    "                total += labels.size(0)\n",
    "\n",
    "                # Total number of correct predictions-\n",
    "                correct += (y_pred == labels).sum()\n",
    "\n",
    "                tepoch.set_postfix(\n",
    "                    test_loss = running_loss_test / len(test_dataset),\n",
    "                    test_acc = 100 * (correct.cpu().numpy() / total)\n",
    "                )\n",
    "\n",
    "\n",
    "    # return (running_loss_val, correct, total)\n",
    "    test_loss = running_loss_test / len(test_dataset)\n",
    "    test_acc = (correct / total) * 100\n",
    "\n",
    "    return test_loss, test_acc.cpu().numpy()\n"
   ]
  },
  {
   "cell_type": "code",
   "execution_count": null,
   "id": "86766fe6-68c2-4739-8596-21b45f93bcdd",
   "metadata": {},
   "outputs": [],
   "source": []
  },
  {
   "cell_type": "code",
   "execution_count": 16,
   "id": "8bafa70b-8cac-4eac-8b60-4b9c4bf29b17",
   "metadata": {},
   "outputs": [],
   "source": [
    "class CosineScheduler:\n",
    "    def __init__(\n",
    "        self, max_update,\n",
    "        base_lr = 0.01, final_lr = 0,\n",
    "        warmup_steps = 0, warmup_begin_lr = 0\n",
    "    ):\n",
    "        self.base_lr_orig = base_lr\n",
    "        self.max_update = max_update\n",
    "        self.final_lr = final_lr\n",
    "        self.warmup_steps = warmup_steps\n",
    "        self.warmup_begin_lr = warmup_begin_lr\n",
    "        self.max_steps = self.max_update - self.warmup_steps\n",
    "\n",
    "\n",
    "    def get_warmup_lr(self, epoch):\n",
    "        increase = (self.base_lr_orig - self.warmup_begin_lr) \\\n",
    "                       * float(epoch) / float(self.warmup_steps)\n",
    "        return self.warmup_begin_lr + increase\n",
    "\n",
    "\n",
    "    def __call__(self, epoch):\n",
    "        if epoch < self.warmup_steps:\n",
    "            return self.get_warmup_lr(epoch)\n",
    "        if epoch <= self.max_update:\n",
    "            self.base_lr = self.final_lr + (\n",
    "                self.base_lr_orig - self.final_lr) * (1 + np.cos(\n",
    "                np.pi * (epoch - self.warmup_steps) / self.max_steps)) / 2\n",
    "        return self.base_lr\n"
   ]
  },
  {
   "cell_type": "code",
   "execution_count": null,
   "id": "b913581b-4cb2-4ae3-8c16-2fbb63b958e3",
   "metadata": {},
   "outputs": [],
   "source": []
  },
  {
   "cell_type": "code",
   "execution_count": 17,
   "id": "422f73ca-647d-4485-9d88-b4173d69d6d8",
   "metadata": {},
   "outputs": [],
   "source": [
    "def train_until_convergence(\n",
    "    model,\n",
    "    train_dataset, test_dataset,\n",
    "    train_loader, test_loader,\n",
    "    num_epochs = 50, warmup_epochs = 10,\n",
    "    best_test_acc = 90\n",
    "    ):\n",
    "\n",
    "    # Python3 dict to contain training metrics-\n",
    "    train_history = {}\n",
    "\n",
    "    # Initialize parameters saving 'best' models-\n",
    "    # best_test_acc = 90\n",
    "    # num_epochs = 50\n",
    "\n",
    "    # Extract 0/1 mask using trained and pruned model-\n",
    "    mask_d = extract_mask(model_pruned = model)\n",
    "    mask_model = LeNet300()\n",
    "    mask_model.load_state_dict(mask_d)\n",
    "\n",
    "    # Use SGD optimizer-\n",
    "    optimizer = torch.optim.SGD(\n",
    "        params = model.parameters(), lr = 0.0001,\n",
    "        momentum = 0.9, weight_decay = 5e-4\n",
    "    )\n",
    "\n",
    "    # Decay lr in cosine manner unitl 45th epoch-\n",
    "    scheduler = CosineScheduler(\n",
    "        max_update = 45, base_lr = 0.03,\n",
    "        final_lr = 0.001, warmup_steps = warmup_epochs,\n",
    "        warmup_begin_lr = 0.0001\n",
    "    )\n",
    "\n",
    "\n",
    "    for epoch in range(1, num_epochs + 1):\n",
    "\n",
    "        # Update LR scheduler-\n",
    "        for param_group in optimizer.param_groups:\n",
    "            param_group['lr'] = scheduler(epoch)\n",
    "\n",
    "        train_loss, train_acc = train_one_epoch(\n",
    "            model = model, mask_model = mask_model,\n",
    "            train_loader = train_loader, train_dataset = train_dataset,\n",
    "            optimizer = optimizer\n",
    "        )\n",
    "\n",
    "        test_loss, test_acc = test_one_epoch(\n",
    "            model = model, test_loader = test_loader,\n",
    "            test_dataset = test_dataset\n",
    "        )\n",
    "\n",
    "        curr_lr = optimizer.param_groups[0]['lr']\n",
    "        surviving_params = count_trainable_params(model)\n",
    "        surviving_masks = count_trainable_params(mask_model)\n",
    "\n",
    "        # Compute current sparsity-\n",
    "        curr_sparsity = ((orig_tot_params - count_trainable_params(model_pruned)) / orig_tot_params) * 100\n",
    "\n",
    "        print(f\"\\nepoch: {epoch + 1} train loss = {train_loss:.4f}, \"\n",
    "            f\"train accuracy = {train_acc:.2f}%, test loss = {test_loss:.4f}\"\n",
    "            f\", test accuracy = {test_acc:.2f}% \"\n",
    "            f\"LR = {curr_lr:.4f}, surviving params = {surviving_params} \"\n",
    "            f\" & suviving masks = {surviving_masks}\\n\")\n",
    "\n",
    "        train_history[epoch + 1] = {\n",
    "            'loss': train_loss, 'acc': train_acc,\n",
    "            'test_loss': test_loss, 'test_acc': test_acc,\n",
    "            'lr': curr_lr,\n",
    "        }\n",
    "\n",
    "        # Save best weights achieved until now-\n",
    "        if (test_acc > best_test_acc):\n",
    "            # update 'best_val_loss' variable to lowest loss encountered so far-\n",
    "            best_test_acc = test_acc\n",
    "\n",
    "            print(f\"Saving model with highest test acc = {test_acc:.3f}%\\n\")\n",
    "\n",
    "            # Save trained model with 'best' testing accuracy-\n",
    "            torch.save(model.state_dict(), f\"LeNet300_best_testacc_model_{curr_sparsity:.2f}.pth\")\n",
    "            torch.save(optimizer.state_dict(), f\"LeNet300_best_optimizer_{curr_sparsity:.2f}.pth\")\n",
    "\n",
    "    return train_history, model\n"
   ]
  },
  {
   "cell_type": "code",
   "execution_count": null,
   "id": "1dbcc846-e9e5-4d48-901a-39dfb2da428c",
   "metadata": {},
   "outputs": [],
   "source": []
  },
  {
   "cell_type": "code",
   "execution_count": null,
   "id": "82344c46-7bf5-4f32-9bf6-7da9547330ec",
   "metadata": {},
   "outputs": [],
   "source": []
  },
  {
   "cell_type": "markdown",
   "id": "908ee3ab-1ba2-4a5e-9610-7b6a72d421fc",
   "metadata": {},
   "source": [
    "### Learning Rate Rewinding - IMP Training"
   ]
  },
  {
   "cell_type": "code",
   "execution_count": 23,
   "id": "87ada8ed-0026-47a8-8a5a-781b55a0981c",
   "metadata": {},
   "outputs": [],
   "source": [
    "num_train_epochs = 50\n",
    "warmup_epochs = 10"
   ]
  },
  {
   "cell_type": "code",
   "execution_count": 24,
   "id": "5df56a52-7bb1-4388-bdaa-e53913d6cb9a",
   "metadata": {},
   "outputs": [],
   "source": [
    "# Python3 dict to contain train history\n",
    "# per pruning round-\n",
    "pruning_history = dict()"
   ]
  },
  {
   "cell_type": "code",
   "execution_count": null,
   "id": "27c02e2c-3935-450e-8af8-d40f41287476",
   "metadata": {},
   "outputs": [],
   "source": []
  },
  {
   "cell_type": "code",
   "execution_count": null,
   "id": "383d170e-cab6-4d05-9dda-ba2afda075af",
   "metadata": {},
   "outputs": [],
   "source": [
    "for pruning_round in range(num_pruning_rounds):\n",
    "    print(f\"\\nPR = {pruning_round + 1} prunes globally = {pruning_percentage_global['global_pruning'][pruning_round]:.2f}%\\n\\n\")\n",
    "    \n",
    "    # Get pruned parameters for current pruning round (as a dict)-\n",
    "    pruned_wts_d = global_mag_wts_pruning(\n",
    "        trained_model = trained_model,\n",
    "        p = pruning_percentage_global['global_pruning'][pruning_round]\n",
    "    )\n",
    "\n",
    "    # Initialize a new pruned model and load pruned parameters-\n",
    "    model_pruned = LeNet300(beta = 1.0)\n",
    "    model_pruned.load_state_dict(pruned_wts_d)\n",
    "    \n",
    "    # Extract 0/1 mask using pruned model-\n",
    "    mask_d = extract_mask(model_pruned = model_pruned)\n",
    "    mask_model = LeNet300()\n",
    "    mask_model.load_state_dict(mask_d)\n",
    "    \n",
    "    # Sanity check-\n",
    "    # count_trainable_params(model_pruned), count_trainable_params(mask_model)\n",
    "\n",
    "    # Retrain pruned model to recover from damage caused due\n",
    "    # to pruning-\n",
    "    train_history, model_pruned = train_until_convergence(\n",
    "        model = model_pruned,\n",
    "        train_dataset = train_dataset, test_dataset = test_dataset,\n",
    "        train_loader = train_loader, test_loader = test_loader,\n",
    "        num_epochs = num_train_epochs, warmup_epochs = warmup_epochs,\n",
    "        best_test_acc = 90\n",
    "    )\n",
    "\n",
    "    # Save train history for current pruning round-\n",
    "    pruning_history[pruning_round] = train_history\n",
    "\n"
   ]
  },
  {
   "cell_type": "code",
   "execution_count": null,
   "id": "bb081b48-109f-42d2-a883-fad433a0d461",
   "metadata": {},
   "outputs": [],
   "source": []
  },
  {
   "cell_type": "code",
   "execution_count": 29,
   "id": "40f69bb6-9560-4bba-a36f-34966335454c",
   "metadata": {},
   "outputs": [],
   "source": [
    "# Save pruning training history as pkl file-\n",
    "with open(\"LeNet300_MNIST_IMP.pkl\", \"wb\") as file:\n",
    "    pickle.dump(pruning_history, file)"
   ]
  },
  {
   "cell_type": "code",
   "execution_count": 28,
   "id": "abed9731-2b68-47f6-80fd-476bc5b65638",
   "metadata": {},
   "outputs": [
    {
     "name": "stdout",
     "output_type": "stream",
     "text": [
      "finished training\n"
     ]
    }
   ],
   "source": [
    "print(f\"finished training\")"
   ]
  },
  {
   "cell_type": "code",
   "execution_count": null,
   "id": "cdec92ba-35a7-4e3d-a944-c7df0540f655",
   "metadata": {},
   "outputs": [],
   "source": []
  },
  {
   "cell_type": "code",
   "execution_count": null,
   "id": "33759622-2b70-45f0-bc04-ee4de5710c53",
   "metadata": {},
   "outputs": [],
   "source": []
  },
  {
   "cell_type": "markdown",
   "id": "280c02e1-5d76-4ca7-a1fb-ecb466e77540",
   "metadata": {},
   "source": [
    "### Post training Visualizations"
   ]
  },
  {
   "cell_type": "code",
   "execution_count": 43,
   "id": "6e0a1a37-c470-480e-8559-5196fd641f87",
   "metadata": {},
   "outputs": [],
   "source": [
    "# Python 3 dict for training and testing accuracy visualization-\n",
    "# key is pruning round and value is accuracy-\n",
    "plot_accuracy = {}\n",
    "plot_test_accuracy = {}"
   ]
  },
  {
   "cell_type": "code",
   "execution_count": 44,
   "id": "76a53e08-95fc-44dc-ae53-09ebed3869dd",
   "metadata": {},
   "outputs": [],
   "source": [
    "for pr in pruning_history.keys():\n",
    "    # list(pruning_history[2][e]['acc'] for e in pruning_history[2].keys())\n",
    "    # print(f\"{pr}, starting acc = {pruning_history[pr][2]['acc']}\")\n",
    "    plot_accuracy[pr] = pruning_history[pr][2]['acc']\n",
    "    plot_test_accuracy[pr] = pruning_history[pr][2]['test_acc']"
   ]
  },
  {
   "cell_type": "code",
   "execution_count": 56,
   "id": "74de67fa-645c-407b-ab17-a7fe75eebf45",
   "metadata": {},
   "outputs": [],
   "source": [
    "# Python 3 dict for training and testing  visualization-\n",
    "# key is pruning round and value is loss-\n",
    "plot_loss = {}\n",
    "plot_test_loss = {}"
   ]
  },
  {
   "cell_type": "code",
   "execution_count": 57,
   "id": "cf01b04c-e2fe-4326-b248-feb0c87d8e30",
   "metadata": {},
   "outputs": [],
   "source": [
    "for pr in pruning_history.keys():\n",
    "    plot_loss[pr] = pruning_history[pr][2]['loss']\n",
    "    plot_test_loss[pr] = pruning_history[pr][2]['test_loss']"
   ]
  },
  {
   "cell_type": "code",
   "execution_count": 59,
   "id": "a85ec1e4-7e17-45b2-bdef-6d521f909de2",
   "metadata": {},
   "outputs": [],
   "source": [
    "# Try to visualize: pruning round Vs BEST accuracy within each iterative\n",
    "# pruning round\n",
    "\n",
    "# Python 3 dict for visualization-\n",
    "plot_best_accuracy = {}\n",
    "plot_best_test_accuracy = {}\n",
    "\n",
    "# Key:\t\tpruning round\n",
    "# Value:\tbest accuracy"
   ]
  },
  {
   "cell_type": "code",
   "execution_count": 65,
   "id": "2ab5d086-e0d8-40d5-8955-a4ab8665c66a",
   "metadata": {},
   "outputs": [],
   "source": [
    "for pr in pruning_history.keys():\n",
    "    plot_best_accuracy[pr] = np.amax([pruning_history[pr][e]['acc'].item() for e in pruning_history[pr].keys()])\n",
    "    plot_best_test_accuracy[pr] = np.amax([pruning_history[pr][e]['test_acc'].item() for e in pruning_history[pr].keys()])"
   ]
  },
  {
   "cell_type": "code",
   "execution_count": 69,
   "id": "ef60245f-0ef8-4e6c-91cf-1154a530bd7f",
   "metadata": {},
   "outputs": [],
   "source": [
    "# Try to visualize: pruning round Vs BEST loss within each iterative\n",
    "# pruning round\n",
    "\n",
    "# Python 3 dict for visualization-\n",
    "plot_best_loss = {}\n",
    "plot_best_test_loss = {}\n",
    "\n",
    "# Key:\t\tpruning round\n",
    "# Value:\tbest loss"
   ]
  },
  {
   "cell_type": "code",
   "execution_count": 70,
   "id": "df26d049-e917-4040-9b70-ff5b028c80a7",
   "metadata": {},
   "outputs": [],
   "source": [
    "for pr in pruning_history.keys():\n",
    "    plot_best_loss[pr] = np.amin([pruning_history[pr][e]['loss'] for e in pruning_history[pr].keys()])\n",
    "    plot_best_test_loss[pr] = np.amin([pruning_history[pr][e]['test_loss'] for e in pruning_history[pr].keys()])"
   ]
  },
  {
   "cell_type": "code",
   "execution_count": null,
   "id": "42711f9f-034d-426f-a27b-60bc3a19c852",
   "metadata": {},
   "outputs": [],
   "source": []
  },
  {
   "cell_type": "code",
   "execution_count": null,
   "id": "0f4252d2-5f08-4613-9441-d344a493e242",
   "metadata": {},
   "outputs": [],
   "source": []
  },
  {
   "cell_type": "code",
   "execution_count": 51,
   "id": "c42ef95c-6c16-4396-89ac-70e640c09433",
   "metadata": {},
   "outputs": [
    {
     "data": {
      "image/png": "[encoded data removed]",
      "text/plain": [
       "<Figure size 960x800 with 1 Axes>"
      ]
     },
     "metadata": {},
     "output_type": "display_data"
    }
   ],
   "source": [
    "# Visualize best accuracy VS percentage of weights pruned-\n",
    "fig = plt.figure(figsize = (12, 10), dpi =  80, facecolor = 'w', edgecolor = 'k')\n",
    "\n",
    "plt.plot(list(plot_accuracy.keys()), list(plot_accuracy.values()), label = 'starting acc')\n",
    "plt.plot(list(plot_test_accuracy.keys()), list(plot_test_accuracy.values()), label = 'test starting acc')\n",
    "\n",
    "plt.title(\"LeNet-300: Pruning round vs. starting accuracy\")\n",
    "plt.xlabel(\"pruning round\")\n",
    "plt.ylabel(\"acc %\")\n",
    "plt.legend(loc = 'best')\n",
    "plt.show()"
   ]
  },
  {
   "cell_type": "code",
   "execution_count": 73,
   "id": "6265d61b-0ee9-46a4-a161-c41e65729e45",
   "metadata": {},
   "outputs": [
    {
     "data": {
      "image/png": "[encoded data removed]",
      "text/plain": [
       "<Figure size 960x800 with 1 Axes>"
      ]
     },
     "metadata": {},
     "output_type": "display_data"
    }
   ],
   "source": [
    "# Visualize best accuracy VS percentage of weights pruned-\n",
    "fig = plt.figure(figsize = (12, 10), dpi =  80, facecolor = 'w', edgecolor = 'k')\n",
    "\n",
    "plt.plot(list(plot_loss.keys()), list(plot_loss.values()), label = 'starting loss')\n",
    "plt.plot(list(plot_test_loss.keys()), list(plot_test_loss.values()), label = 'test starting loss')\n",
    "\n",
    "plt.title(\"LeNet-300: Pruning round vs. starting loss\")\n",
    "plt.xlabel(\"pruning round\")\n",
    "plt.ylabel(\"loss\")\n",
    "plt.legend(loc = 'best')\n",
    "plt.show()"
   ]
  },
  {
   "cell_type": "code",
   "execution_count": 66,
   "id": "23bb4955-1019-4cab-8646-c2f1272f61b8",
   "metadata": {},
   "outputs": [
    {
     "data": {
      "image/png": "[encoded data removed]",
      "text/plain": [
       "<Figure size 960x800 with 1 Axes>"
      ]
     },
     "metadata": {},
     "output_type": "display_data"
    }
   ],
   "source": [
    "# Visualize best accuracy VS percentage of weights pruned-\n",
    "fig = plt.figure(figsize = (12, 10), dpi =  80, facecolor = 'w', edgecolor = 'k')\n",
    "\n",
    "plt.plot(list(plot_best_accuracy.keys()), list(plot_best_accuracy.values()), label = 'best acc')\n",
    "plt.plot(list(plot_best_test_accuracy.keys()), list(plot_best_test_accuracy.values()), label = 'test best acc')\n",
    "\n",
    "plt.title(\"LeNet-300: Pruning round vs. best accuracy\")\n",
    "plt.xlabel(\"pruning round\")\n",
    "plt.ylabel(\"acc %\")\n",
    "plt.legend(loc = 'best')\n",
    "plt.show()"
   ]
  },
  {
   "cell_type": "code",
   "execution_count": 72,
   "id": "81216a18-bc3f-4300-8c7f-1e5226da4227",
   "metadata": {},
   "outputs": [
    {
     "data": {
      "image/png": "[encoded data removed]",
      "text/plain": [
       "<Figure size 960x800 with 1 Axes>"
      ]
     },
     "metadata": {},
     "output_type": "display_data"
    }
   ],
   "source": [
    "# Visualize best accuracy VS percentage of weights pruned-\n",
    "fig = plt.figure(figsize = (12, 10), dpi =  80, facecolor = 'w', edgecolor = 'k')\n",
    "\n",
    "plt.plot(list(plot_best_loss.keys()), list(plot_best_loss.values()), label = 'best loss')\n",
    "plt.plot(list(plot_best_test_loss.keys()), list(plot_best_test_loss.values()), label = 'test best loss')\n",
    "\n",
    "plt.title(\"LeNet-300: Pruning round vs. best accuracy\")\n",
    "plt.xlabel(\"pruning round\")\n",
    "plt.ylabel(\"loss\")\n",
    "plt.legend(loc = 'best')\n",
    "plt.show()"
   ]
  },
  {
   "cell_type": "code",
   "execution_count": null,
   "id": "52ca0cd1-b1ca-40fb-83e9-7ed30c323c01",
   "metadata": {},
   "outputs": [],
   "source": []
  },
  {
   "cell_type": "code",
   "execution_count": null,
   "id": "09e60506-786b-4db0-b2d8-4cdf9abf046c",
   "metadata": {},
   "outputs": [],
   "source": []
  },
  {
   "cell_type": "code",
   "execution_count": 10,
   "id": "c0db4b5f",
   "metadata": {},
   "outputs": [],
   "source": [
    "# Load a pruned and trained model-\n",
    "pruned_trained_model = LeNet300()\n",
    "pruned_trained_model.load_state_dict(torch.load(\"LeNet300_best_testacc_model_97.62.pth\"))\n",
    "pruned_trained_model = pruned_trained_model.to(device)"
   ]
  },
  {
   "cell_type": "code",
   "execution_count": 12,
   "id": "35f2e3c7",
   "metadata": {},
   "outputs": [],
   "source": [
    "curr_sparsity = ((orig_tot_params - count_trainable_params(pruned_trained_model)) / orig_tot_params) * 100"
   ]
  },
  {
   "cell_type": "code",
   "execution_count": 11,
   "id": "21d769da",
   "metadata": {},
   "outputs": [
    {
     "name": "stderr",
     "output_type": "stream",
     "text": [
      "Testing: : 100%|██████████| 20/20 [00:00<00:00, 44.68batch/s, test_acc=96.5, test_loss=0.117] \n"
     ]
    }
   ],
   "source": [
    "test_loss, test_acc = test_one_epoch(model = pruned_trained_model, test_loader = test_loader, test_dataset = test_dataset)"
   ]
  },
  {
   "cell_type": "code",
   "execution_count": 13,
   "id": "727751c1",
   "metadata": {},
   "outputs": [
    {
     "name": "stdout",
     "output_type": "stream",
     "text": [
      "Sparsity = 97.62% has test accuracy = 96.52%\n"
     ]
    }
   ],
   "source": [
    "print(f\"Sparsity = {curr_sparsity:.2f}% has test accuracy = {test_acc:.2f}%\")"
   ]
  },
  {
   "cell_type": "code",
   "execution_count": null,
   "id": "6ab8aa9d",
   "metadata": {},
   "outputs": [],
   "source": []
  },
  {
   "cell_type": "code",
   "execution_count": null,
   "id": "2bbc4392",
   "metadata": {},
   "outputs": [],
   "source": []
  }
 ],
 "metadata": {
  "kernelspec": {
   "display_name": "Python 3 (ipykernel)",
   "language": "python",
   "name": "python3"
  },
  "language_info": {
   "codemirror_mode": {
    "name": "ipython",
    "version": 3
   },
   "file_extension": ".py",
   "mimetype": "text/x-python",
   "name": "python",
   "nbconvert_exporter": "python",
   "pygments_lexer": "ipython3",
   "version": "3.10.13"
  }
 },
 "nbformat": 4,
 "nbformat_minor": 5
}
