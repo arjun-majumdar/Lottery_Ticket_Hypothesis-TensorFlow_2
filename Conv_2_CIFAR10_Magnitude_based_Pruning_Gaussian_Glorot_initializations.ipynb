{
 "cells": [
  {
   "cell_type": "markdown",
   "metadata": {
    "colab_type": "text",
    "id": "Uea3-3ZvMKS5"
   },
   "source": [
    "# Lottery Ticket Hypothesis: _Conv-2_ Convolutional Neural Network for CIFAR10 dataset\n",
    "\n",
    "Implementation of the hypothesis using the following architecture:\n",
    "\n",
    "1. __Conv layers:__ 64, 64 followed by _Max Pooling_ layer\n",
    "1. __Dense layer:__ 256, 256, 10\n",
    "\n",
    "smallest magnitudes in each layer are removed"
   ]
  },
  {
   "cell_type": "code",
   "execution_count": 1,
   "metadata": {
    "colab": {
     "base_uri": "https://localhost:8080/",
     "height": 34
    },
    "colab_type": "code",
    "id": "xUSZzBD5MdcL",
    "outputId": "fbf989f2-745b-4152-911b-4953755191e5"
   },
   "outputs": [
    {
     "name": "stdout",
     "output_type": "stream",
     "text": [
      "TensorFlow 2.x selected.\n"
     ]
    }
   ],
   "source": [
    "# %tensorflow_version 2.x"
   ]
  },
  {
   "cell_type": "code",
   "execution_count": 1,
   "metadata": {
    "colab": {},
    "colab_type": "code",
    "id": "rPBXLYKhMKTA"
   },
   "outputs": [
    {
     "name": "stderr",
     "output_type": "stream",
     "text": [
      "/opt/conda/lib/python3.7/site-packages/tensorboard/compat/tensorflow_stub/dtypes.py:541: FutureWarning: Passing (type, 1) or '1type' as a synonym of type is deprecated; in a future version of numpy, it will be understood as (type, (1,)) / '(1,)type'.\n",
      "  _np_qint8 = np.dtype([(\"qint8\", np.int8, 1)])\n",
      "/opt/conda/lib/python3.7/site-packages/tensorboard/compat/tensorflow_stub/dtypes.py:542: FutureWarning: Passing (type, 1) or '1type' as a synonym of type is deprecated; in a future version of numpy, it will be understood as (type, (1,)) / '(1,)type'.\n",
      "  _np_quint8 = np.dtype([(\"quint8\", np.uint8, 1)])\n",
      "/opt/conda/lib/python3.7/site-packages/tensorboard/compat/tensorflow_stub/dtypes.py:543: FutureWarning: Passing (type, 1) or '1type' as a synonym of type is deprecated; in a future version of numpy, it will be understood as (type, (1,)) / '(1,)type'.\n",
      "  _np_qint16 = np.dtype([(\"qint16\", np.int16, 1)])\n",
      "/opt/conda/lib/python3.7/site-packages/tensorboard/compat/tensorflow_stub/dtypes.py:544: FutureWarning: Passing (type, 1) or '1type' as a synonym of type is deprecated; in a future version of numpy, it will be understood as (type, (1,)) / '(1,)type'.\n",
      "  _np_quint16 = np.dtype([(\"quint16\", np.uint16, 1)])\n",
      "/opt/conda/lib/python3.7/site-packages/tensorboard/compat/tensorflow_stub/dtypes.py:545: FutureWarning: Passing (type, 1) or '1type' as a synonym of type is deprecated; in a future version of numpy, it will be understood as (type, (1,)) / '(1,)type'.\n",
      "  _np_qint32 = np.dtype([(\"qint32\", np.int32, 1)])\n",
      "/opt/conda/lib/python3.7/site-packages/tensorboard/compat/tensorflow_stub/dtypes.py:550: FutureWarning: Passing (type, 1) or '1type' as a synonym of type is deprecated; in a future version of numpy, it will be understood as (type, (1,)) / '(1,)type'.\n",
      "  np_resource = np.dtype([(\"resource\", np.ubyte, 1)])\n"
     ]
    }
   ],
   "source": [
    "import tensorflow as tf\n",
    "import numpy as np\n",
    "import matplotlib.pyplot as plt\n",
    "import seaborn as sns\n",
    "import math\n",
    "# import tensorflow_model_optimization as tfmot\n",
    "# from tensorflow_model_optimization.sparsity import keras as sparsity\n",
    "# from tensorflow.keras import datasets, layers, models\n",
    "\n",
    "from tensorflow.keras.layers import AveragePooling2D, Conv2D, MaxPooling2D, ReLU\n",
    "from tensorflow.keras import models, layers, datasets\n",
    "from tensorflow.keras.layers import Dense, Flatten, Reshape, Input, InputLayer\n",
    "from tensorflow.keras.models import Sequential, Model\n",
    "from tensorflow.keras.initializers import RandomNormal\n",
    "\n",
    "from sklearn.metrics import accuracy_score, precision_score, recall_score\n"
   ]
  },
  {
   "cell_type": "code",
   "execution_count": null,
   "metadata": {},
   "outputs": [],
   "source": []
  },
  {
   "cell_type": "code",
   "execution_count": null,
   "metadata": {},
   "outputs": [],
   "source": []
  },
  {
   "cell_type": "code",
   "execution_count": 2,
   "metadata": {
    "colab": {
     "base_uri": "https://localhost:8080/",
     "height": 34
    },
    "colab_type": "code",
    "id": "aoIVNDPtMKTU",
    "outputId": "f515a0b1-452a-4130-bfd0-242f3ca88eec"
   },
   "outputs": [
    {
     "data": {
      "text/plain": [
       "'2.0.0'"
      ]
     },
     "execution_count": 2,
     "metadata": {},
     "output_type": "execute_result"
    }
   ],
   "source": [
    "tf.__version__"
   ]
  },
  {
   "cell_type": "code",
   "execution_count": 3,
   "metadata": {
    "colab": {},
    "colab_type": "code",
    "id": "CdI869wWMKTi",
    "outputId": "8e55f021-186a-4bf1-aaaa-7be7995a6a43"
   },
   "outputs": [
    {
     "name": "stdout",
     "output_type": "stream",
     "text": [
      "env: CUDA_DEVICE_ORDER=PCI_BUS_ID\n",
      "env: CUDA_VISIBLE_DEVICES=0\n"
     ]
    }
   ],
   "source": [
    "%env CUDA_DEVICE_ORDER=PCI_BUS_ID\n",
    "%env CUDA_VISIBLE_DEVICES=0"
   ]
  },
  {
   "cell_type": "code",
   "execution_count": 4,
   "metadata": {
    "colab": {},
    "colab_type": "code",
    "id": "RpefuTJ2MKTt"
   },
   "outputs": [],
   "source": [
    "batch_size = 60\n",
    "num_classes = 10\n",
    "num_epochs = 100"
   ]
  },
  {
   "cell_type": "code",
   "execution_count": 5,
   "metadata": {
    "colab": {
     "base_uri": "https://localhost:8080/",
     "height": 52
    },
    "colab_type": "code",
    "id": "cpovn_jyMKT5",
    "outputId": "ae5ba05c-7890-4b02-8419-b778f82253e6"
   },
   "outputs": [],
   "source": [
    "# Data preprocessing and cleaning:\n",
    "# input image dimensions\n",
    "img_rows, img_cols = 32, 32\n",
    "\n",
    "# Load CIFAR-10 dataset-\n",
    "(X_train, y_train), (X_test, y_test) = tf.keras.datasets.cifar10.load_data()"
   ]
  },
  {
   "cell_type": "code",
   "execution_count": 6,
   "metadata": {
    "colab": {
     "base_uri": "https://localhost:8080/",
     "height": 52
    },
    "colab_type": "code",
    "id": "zNbVLDY6M3tW",
    "outputId": "00d1ece3-f118-4dd4-a4fa-95e2f4918e01"
   },
   "outputs": [
    {
     "name": "stdout",
     "output_type": "stream",
     "text": [
      "X_train.shape = (50000, 32, 32, 3), y_train.shape = (50000, 1)\n",
      "X_test.shape = (10000, 32, 32, 3), y_test.shape = (10000, 1)\n"
     ]
    }
   ],
   "source": [
    "print(\"X_train.shape = {0}, y_train.shape = {1}\".format(X_train.shape, y_train.shape))\n",
    "print(\"X_test.shape = {0}, y_test.shape = {1}\".format(X_test.shape, y_test.shape))"
   ]
  },
  {
   "cell_type": "code",
   "execution_count": 7,
   "metadata": {
    "colab": {
     "base_uri": "https://localhost:8080/",
     "height": 69
    },
    "colab_type": "code",
    "id": "XByeYdcwMKUE",
    "outputId": "3961609c-7718-4728-8238-326752312b06"
   },
   "outputs": [
    {
     "name": "stdout",
     "output_type": "stream",
     "text": [
      "\n",
      "'input_shape' which will be used = (32, 32, 3)\n",
      "\n"
     ]
    }
   ],
   "source": [
    "if tf.keras.backend.image_data_format() == 'channels_first':\n",
    "    X_train = X_train.reshape(X_train.shape[0], 3, img_rows, img_cols)\n",
    "    X_test = X_test.reshape(X_test.shape[0], 3, img_rows, img_cols)\n",
    "    input_shape = (3, img_rows, img_cols)\n",
    "else:\n",
    "    X_train = X_train.reshape(X_train.shape[0], img_rows, img_cols, 3)\n",
    "    X_test = X_test.reshape(X_test.shape[0], img_rows, img_cols, 3)\n",
    "    input_shape = (img_rows, img_cols, 3)\n",
    "\n",
    "print(\"\\n'input_shape' which will be used = {0}\\n\".format(input_shape))\n"
   ]
  },
  {
   "cell_type": "code",
   "execution_count": 8,
   "metadata": {
    "colab": {},
    "colab_type": "code",
    "id": "pahIwSC8MKUO"
   },
   "outputs": [],
   "source": [
    "# Convert datasets to floating point types-\n",
    "X_train = X_train.astype('float32')\n",
    "X_test = X_test.astype('float32')\n",
    "\n",
    "# Normalize the training and testing datasets-\n",
    "X_train /= 255.0\n",
    "X_test /= 255.0"
   ]
  },
  {
   "cell_type": "code",
   "execution_count": 9,
   "metadata": {
    "colab": {},
    "colab_type": "code",
    "id": "hKk5sNp6MKUX"
   },
   "outputs": [],
   "source": [
    "# convert class vectors/target to binary class matrices or one-hot encoded values-\n",
    "y_train = tf.keras.utils.to_categorical(y_train, num_classes)\n",
    "y_test = tf.keras.utils.to_categorical(y_test, num_classes)"
   ]
  },
  {
   "cell_type": "code",
   "execution_count": 10,
   "metadata": {
    "colab": {
     "base_uri": "https://localhost:8080/",
     "height": 86
    },
    "colab_type": "code",
    "id": "_-GPw1d8MKUs",
    "outputId": "d26d829a-177a-4dc8-fdc1-c20872bcec2d"
   },
   "outputs": [
    {
     "name": "stdout",
     "output_type": "stream",
     "text": [
      "\n",
      "Dimensions of training and testing sets are:\n",
      "X_train.shape = (50000, 32, 32, 3), y_train.shape = (50000, 10)\n",
      "X_test.shape = (10000, 32, 32, 3), y_test.shape = (10000, 10)\n"
     ]
    }
   ],
   "source": [
    "print(\"\\nDimensions of training and testing sets are:\")\n",
    "print(\"X_train.shape = {0}, y_train.shape = {1}\".format(X_train.shape, y_train.shape))\n",
    "print(\"X_test.shape = {0}, y_test.shape = {1}\".format(X_test.shape, y_test.shape))"
   ]
  },
  {
   "cell_type": "code",
   "execution_count": null,
   "metadata": {
    "colab": {},
    "colab_type": "code",
    "id": "M1kapfNVMKU3"
   },
   "outputs": [],
   "source": []
  },
  {
   "cell_type": "code",
   "execution_count": null,
   "metadata": {
    "colab": {},
    "colab_type": "code",
    "id": "OxQX5ma2MKVH"
   },
   "outputs": [],
   "source": []
  },
  {
   "cell_type": "markdown",
   "metadata": {
    "colab_type": "text",
    "id": "yx1hHreJMKVQ"
   },
   "source": [
    "### Prepare CIFAR10 dataset for _GradientTape_ training:"
   ]
  },
  {
   "cell_type": "code",
   "execution_count": 11,
   "metadata": {
    "colab": {},
    "colab_type": "code",
    "id": "F1gjoSY6MKVT"
   },
   "outputs": [],
   "source": [
    "# Create training and testing datasets-\n",
    "train_dataset = tf.data.Dataset.from_tensor_slices((X_train, y_train))\n",
    "test_dataset = tf.data.Dataset.from_tensor_slices((X_test, y_test))"
   ]
  },
  {
   "cell_type": "code",
   "execution_count": 12,
   "metadata": {
    "colab": {},
    "colab_type": "code",
    "id": "Nz5RdcIjMKVZ"
   },
   "outputs": [],
   "source": [
    "train_dataset = train_dataset.shuffle(buffer_size = 20000, reshuffle_each_iteration = True).batch(batch_size = batch_size, drop_remainder = False)"
   ]
  },
  {
   "cell_type": "code",
   "execution_count": 13,
   "metadata": {
    "colab": {},
    "colab_type": "code",
    "id": "Nl62ZgFkMKVi"
   },
   "outputs": [],
   "source": [
    "test_dataset = test_dataset.batch(batch_size=batch_size, drop_remainder=False)"
   ]
  },
  {
   "cell_type": "code",
   "execution_count": 14,
   "metadata": {
    "colab": {},
    "colab_type": "code",
    "id": "kvdKx7gAMKVp"
   },
   "outputs": [],
   "source": [
    "# Choose an optimizer and loss function for training-\n",
    "loss_fn = tf.keras.losses.CategoricalCrossentropy()\n",
    "optimizer = tf.keras.optimizers.Adam(lr = 0.0002)"
   ]
  },
  {
   "cell_type": "code",
   "execution_count": 15,
   "metadata": {
    "colab": {},
    "colab_type": "code",
    "id": "ai3kCIYzMKVu"
   },
   "outputs": [],
   "source": [
    "# Select metrics to measure the error & accuracy of model.\n",
    "# These metrics accumulate the values over epochs and then\n",
    "# print the overall result-\n",
    "train_loss = tf.keras.metrics.Mean(name = 'train_loss')\n",
    "train_accuracy = tf.keras.metrics.CategoricalAccuracy(name = 'train_accuracy')\n",
    "\n",
    "test_loss = tf.keras.metrics.Mean(name = 'test_loss')\n",
    "test_accuracy = tf.keras.metrics.CategoricalAccuracy(name = 'test_accuracy')"
   ]
  },
  {
   "cell_type": "code",
   "execution_count": null,
   "metadata": {
    "colab": {},
    "colab_type": "code",
    "id": "iCz54L2rMKV1"
   },
   "outputs": [],
   "source": []
  },
  {
   "cell_type": "code",
   "execution_count": null,
   "metadata": {
    "colab": {},
    "colab_type": "code",
    "id": "NcJZj1ZfMKV8"
   },
   "outputs": [],
   "source": []
  },
  {
   "cell_type": "code",
   "execution_count": 16,
   "metadata": {
    "colab": {},
    "colab_type": "code",
    "id": "-TqIXiLpMKWB"
   },
   "outputs": [],
   "source": [
    "def conv2_cnn():\n",
    "\t\"\"\"\n",
    "\tFunction to define the architecture of a neural network model\n",
    "\tfollowing Conv-2 architecture for CIFAR-10 dataset and using\n",
    "\tprovided parameter which are used to prune the model.\n",
    "    \n",
    "\tConv-2 architecture-\n",
    "\t64, 64, pool  -- convolutions\n",
    "\t256, 256, 10  -- fully connected layers\n",
    "    \n",
    "    \n",
    "\tOutput: Returns designed and compiled neural network model\n",
    "\t\"\"\"\n",
    "    \n",
    "\tpruned_model = Sequential()\n",
    "    \n",
    "\tpruned_model.add(\n",
    "\t\tConv2D(\n",
    "\t\t\tfilters = 64, kernel_size = (3, 3),\n",
    "\t\t\tactivation='relu', kernel_initializer = tf.initializers.GlorotNormal(),\n",
    "\t\t\tstrides = (1, 1), padding = 'same',\n",
    "\t\t\tinput_shape=(32, 32, 3)\n",
    "\t\t\t)\n",
    "\t)\n",
    "\n",
    "\tpruned_model.add(\n",
    "\t\tConv2D(\n",
    "\t\t\tfilters = 64, kernel_size = (3, 3),\n",
    "\t\t\tactivation='relu', kernel_initializer = tf.initializers.GlorotNormal(),\n",
    "\t\t\tstrides = (1, 1), padding = 'same'\n",
    "\t\t\t)\n",
    "\t)\n",
    "    \n",
    "\tpruned_model.add(\n",
    "\t\tMaxPooling2D(\n",
    "\t\t\tpool_size = (2, 2),\n",
    "\t\t\tstrides = (2, 2)\n",
    "\t\t)\n",
    "\t)\n",
    "    \n",
    "\tpruned_model.add(Flatten())\n",
    "    \n",
    "\tpruned_model.add(\n",
    "\t\tDense(\n",
    "\t\t\tunits = 256, activation='relu',\n",
    "\t\t\tkernel_initializer = tf.initializers.GlorotNormal()\n",
    "\t\t)\n",
    "\t)\n",
    "    \n",
    "\tpruned_model.add(\n",
    "\t\tDense(\n",
    "\t\t\tunits = 256, activation='relu',\n",
    "\t\t\tkernel_initializer = tf.initializers.GlorotNormal()\n",
    "\t\t)\n",
    "\t)\n",
    "    \n",
    "\tpruned_model.add(\n",
    "\t\tDense(\n",
    "\t\t\tunits = 10, activation='softmax'\n",
    "\t\t\t)\n",
    "\t)\n",
    "    \n",
    "\n",
    "\t# Compile pruned CNN-\n",
    "\tpruned_model.compile(\n",
    "\t\tloss=tf.keras.losses.categorical_crossentropy,\n",
    "\t\t# optimizer='adam',\n",
    "\t\toptimizer=tf.keras.optimizers.Adam(lr = 0.0002),\n",
    "\t\tmetrics=['accuracy']\n",
    "\t)\n",
    "    \n",
    "    \n",
    "\treturn pruned_model\n"
   ]
  },
  {
   "cell_type": "code",
   "execution_count": null,
   "metadata": {
    "colab": {},
    "colab_type": "code",
    "id": "n1Q8QnB2MKWJ"
   },
   "outputs": [],
   "source": []
  },
  {
   "cell_type": "code",
   "execution_count": 16,
   "metadata": {
    "colab": {},
    "colab_type": "code",
    "id": "JguLJhLyMKWW"
   },
   "outputs": [],
   "source": [
    "'''\n",
    "# Add a pruning step callback to peg the pruning step to the optimizer's\n",
    "# step. Also add a callback to add pruning summaries to tensorboard\n",
    "callback = [\n",
    "             # sparsity.UpdatePruningStep(),\n",
    "             # sparsity.PruningSummaries(log_dir = logdir, profile_batch=0),\n",
    "             tf.keras.callbacks.EarlyStopping(\n",
    "                 monitor='val_loss', patience = 3,\n",
    "                 min_delta=0.001\n",
    "             )\n",
    "]\n",
    "'''"
   ]
  },
  {
   "cell_type": "code",
   "execution_count": null,
   "metadata": {
    "colab": {},
    "colab_type": "code",
    "id": "JcXG7d4FMKWe"
   },
   "outputs": [],
   "source": []
  },
  {
   "cell_type": "code",
   "execution_count": 17,
   "metadata": {
    "colab": {},
    "colab_type": "code",
    "id": "oe0hsCAcMKWi"
   },
   "outputs": [],
   "source": [
    "# Initialize a Conv-2 CNN model-\n",
    "orig_model = conv2_cnn()"
   ]
  },
  {
   "cell_type": "code",
   "execution_count": 18,
   "metadata": {
    "colab": {},
    "colab_type": "code",
    "id": "5PB2kDj-MKWt"
   },
   "outputs": [],
   "source": [
    "# Save random weights-\n",
    "orig_model.save_weights(\"Conv2_CIFAR10_Random_Gaussian_Glorot_Weights.h5\", overwrite=True)"
   ]
  },
  {
   "cell_type": "code",
   "execution_count": 19,
   "metadata": {
    "colab": {
     "base_uri": "https://localhost:8080/",
     "height": 399
    },
    "colab_type": "code",
    "id": "u7uOTLnVMKW2",
    "outputId": "b5c1f975-c071-432e-aa3b-365bfaa4b492"
   },
   "outputs": [
    {
     "name": "stdout",
     "output_type": "stream",
     "text": [
      "Model: \"sequential\"\n",
      "_________________________________________________________________\n",
      "Layer (type)                 Output Shape              Param #   \n",
      "=================================================================\n",
      "conv2d (Conv2D)              (None, 32, 32, 64)        1792      \n",
      "_________________________________________________________________\n",
      "conv2d_1 (Conv2D)            (None, 32, 32, 64)        36928     \n",
      "_________________________________________________________________\n",
      "max_pooling2d (MaxPooling2D) (None, 16, 16, 64)        0         \n",
      "_________________________________________________________________\n",
      "flatten (Flatten)            (None, 16384)             0         \n",
      "_________________________________________________________________\n",
      "dense (Dense)                (None, 256)               4194560   \n",
      "_________________________________________________________________\n",
      "dense_1 (Dense)              (None, 256)               65792     \n",
      "_________________________________________________________________\n",
      "dense_2 (Dense)              (None, 10)                2570      \n",
      "=================================================================\n",
      "Total params: 4,301,642\n",
      "Trainable params: 4,301,642\n",
      "Non-trainable params: 0\n",
      "_________________________________________________________________\n"
     ]
    }
   ],
   "source": [
    "# Get CNN summary-\n",
    "# orig_model_stripped.summary()\n",
    "orig_model.summary()"
   ]
  },
  {
   "cell_type": "code",
   "execution_count": null,
   "metadata": {
    "colab": {},
    "colab_type": "code",
    "id": "J5Z51mXtMKW-"
   },
   "outputs": [],
   "source": []
  },
  {
   "cell_type": "markdown",
   "metadata": {
    "colab_type": "text",
    "id": "jOCYJdmlMKXD"
   },
   "source": [
    "### Layer-wise pruning:\n",
    "The Lottery Ticket Hypothesis follows a _layer-wise pruning_ heuristic:\n",
    "\n",
    "1. __conv layer(s):__ 10%\n",
    "1. __fully connected layer(s):__ 20%\n",
    "1. __output layer:__ 10%\n",
    "\n",
    "Therefore, there is a need to compute the percentage of weights being pruned for each layer."
   ]
  },
  {
   "cell_type": "code",
   "execution_count": 20,
   "metadata": {
    "colab": {
     "base_uri": "https://localhost:8080/",
     "height": 69
    },
    "colab_type": "code",
    "id": "O9MnOecLMKXF",
    "outputId": "b5dc86c8-f9c2-4b1b-d978-c18fb5e26f4d"
   },
   "outputs": [
    {
     "name": "stdout",
     "output_type": "stream",
     "text": [
      "\n",
      "Total number of trainable parameters = 4301642\n",
      "\n"
     ]
    }
   ],
   "source": [
    "# number of convolutional parameters-\n",
    "conv1 = 1792\n",
    "conv2 = 36928\n",
    "\n",
    "# number of fully-connected dense parameters-\n",
    "dense1 = 4194560\n",
    "dense2 = 65792\n",
    "op_layer = 2570\n",
    "\n",
    "\n",
    "# total number of parameters-\n",
    "total_params = conv1 + conv2 + dense1 + dense2 + op_layer\n",
    "\n",
    "print(\"\\nTotal number of trainable parameters = {0}\\n\".format(total_params))"
   ]
  },
  {
   "cell_type": "code",
   "execution_count": 21,
   "metadata": {
    "colab": {},
    "colab_type": "code",
    "id": "jgRex1e8MKXL"
   },
   "outputs": [],
   "source": [
    "# maximum pruning performed is till 0.5% of all parameters-\n",
    "max_pruned_params = 0.005 * total_params"
   ]
  },
  {
   "cell_type": "code",
   "execution_count": 22,
   "metadata": {
    "colab": {},
    "colab_type": "code",
    "id": "LHqAXqj7MKXP"
   },
   "outputs": [],
   "source": [
    "loc_tot_params = total_params\n",
    "loc_conv1 = conv1\n",
    "loc_conv2 = conv2\n",
    "loc_dense1 = dense1\n",
    "loc_dense2 = dense2\n",
    "loc_op_layer = op_layer\n",
    "\n",
    "# variable to count number of pruning rounds-\n",
    "n = 0"
   ]
  },
  {
   "cell_type": "code",
   "execution_count": 23,
   "metadata": {
    "colab": {},
    "colab_type": "code",
    "id": "nwX8dL-wMKXU"
   },
   "outputs": [],
   "source": [
    "# Lists to hold percentage of weights pruned in each round for all layers in CNN-\n",
    "conv1_pruning = []\n",
    "conv2_pruning = []\n",
    "dense1_pruning = []\n",
    "dense2_pruning = []\n",
    "op_layer_pruning = []"
   ]
  },
  {
   "cell_type": "code",
   "execution_count": 24,
   "metadata": {
    "colab": {
     "base_uri": "https://localhost:8080/",
     "height": 1000
    },
    "colab_type": "code",
    "id": "NVi_rZtGMKXY",
    "outputId": "218478c6-27a5-4de7-f288-cfa7111c8161"
   },
   "outputs": [],
   "source": [
    "while loc_tot_params >= max_pruned_params:\n",
    "    loc_conv1 *= 0.9    # 10% weights are pruned\n",
    "    loc_conv2 *= 0.9    # 10% weights are pruned\n",
    "    loc_dense1 *= 0.8   # 20% weights are pruned\n",
    "    loc_dense2 *= 0.8   # 20% weights are pruned\n",
    "    loc_op_layer *= 0.9 # 10% weights are pruned\n",
    "    \n",
    "    conv1_pruning.append(((conv1 - loc_conv1) / conv1) * 100)\n",
    "    conv2_pruning.append(((conv2 - loc_conv2) / conv2) * 100)\n",
    "    dense1_pruning.append(((dense1 - loc_dense1) / dense1) * 100)\n",
    "    dense2_pruning.append(((dense2 - loc_dense2) / dense2) * 100)\n",
    "    op_layer_pruning.append(((op_layer - loc_op_layer) / op_layer) * 100)\n",
    "\n",
    "    loc_tot_params = loc_conv1 + loc_conv2 + loc_dense1 + loc_dense2 + loc_op_layer\n",
    "\n",
    "    n += 1\n",
    "\n",
    "    '''\n",
    "    print(\"\\nConv1 = {0:.3f}, Conv2 = {1:.3f}\".format(loc_conv1, loc_conv2))\n",
    "    print(\"Dense1 = {0:.3f}, Dense2 = {1:.3f} & O/p layer = {2:.3f}\".format(\n",
    "        loc_dense1, loc_dense2, loc_op_layer))\n",
    "    print(\"Total number of parameters = {0:.3f}\\n\".format(loc_tot_params))\n",
    "    '''"
   ]
  },
  {
   "cell_type": "code",
   "execution_count": 25,
   "metadata": {
    "colab": {
     "base_uri": "https://localhost:8080/",
     "height": 86
    },
    "colab_type": "code",
    "id": "Yy2OQ6h7MKXe",
    "outputId": "ceb2ee40-1b13-4c7d-9fdb-6e3128414281"
   },
   "outputs": [
    {
     "name": "stdout",
     "output_type": "stream",
     "text": [
      "\n",
      "number of pruning rounds = 25\n",
      "\n",
      "\n"
     ]
    }
   ],
   "source": [
    "print(\"\\nnumber of pruning rounds = {0}\\n\\n\".format(n))"
   ]
  },
  {
   "cell_type": "code",
   "execution_count": 26,
   "metadata": {
    "colab": {},
    "colab_type": "code",
    "id": "7X1MRMkjMKXj"
   },
   "outputs": [],
   "source": [
    "num_pruning_rounds = n"
   ]
  },
  {
   "cell_type": "code",
   "execution_count": null,
   "metadata": {
    "colab": {},
    "colab_type": "code",
    "id": "sUaiIEotMKXp"
   },
   "outputs": [],
   "source": []
  },
  {
   "cell_type": "code",
   "execution_count": 27,
   "metadata": {
    "colab": {},
    "colab_type": "code",
    "id": "_StqHUjFMKXs"
   },
   "outputs": [],
   "source": [
    "# Convert from list to np.array-\n",
    "conv1_pruning = np.array(conv1_pruning)\n",
    "conv2_pruning = np.array(conv2_pruning)\n",
    "dense1_pruning = np.array(dense1_pruning)\n",
    "dense2_pruning = np.array(dense2_pruning)\n",
    "op_layer_pruning = np.array(op_layer_pruning)\n"
   ]
  },
  {
   "cell_type": "code",
   "execution_count": 28,
   "metadata": {
    "colab": {},
    "colab_type": "code",
    "id": "zzjCYJz1MKXy"
   },
   "outputs": [],
   "source": [
    "# Round off numpy arrays to 3 decimal digits-\n",
    "conv1_pruning = np.round(conv1_pruning, decimals=3)\n",
    "conv2_pruning = np.round(conv2_pruning, decimals=3)\n",
    "dense1_pruning = np.round(dense1_pruning, decimals=3)\n",
    "dense2_pruning = np.round(dense2_pruning, decimals=3)\n",
    "op_layer_pruning = np.round(op_layer_pruning, decimals=3)\n"
   ]
  },
  {
   "cell_type": "code",
   "execution_count": 29,
   "metadata": {
    "colab": {
     "base_uri": "https://localhost:8080/",
     "height": 86
    },
    "colab_type": "code",
    "id": "WXpjS1enMKX1",
    "outputId": "92a48358-48c0-41c2-bc90-7fdb6a7d300b"
   },
   "outputs": [
    {
     "data": {
      "text/plain": [
       "array([20.   , 36.   , 48.8  , 59.04 , 67.232, 73.786, 79.028, 83.223,\n",
       "       86.578, 89.263, 91.41 , 93.128, 94.502, 95.602, 96.482, 97.185,\n",
       "       97.748, 98.199, 98.559, 98.847, 99.078, 99.262, 99.41 , 99.528,\n",
       "       99.622])"
      ]
     },
     "execution_count": 29,
     "metadata": {},
     "output_type": "execute_result"
    }
   ],
   "source": [
    "# Sanity check-\n",
    "dense1_pruning"
   ]
  },
  {
   "cell_type": "code",
   "execution_count": 30,
   "metadata": {},
   "outputs": [
    {
     "data": {
      "text/plain": [
       "array([10.   , 19.   , 27.1  , 34.39 , 40.951, 46.856, 52.17 , 56.953,\n",
       "       61.258, 65.132, 68.619, 71.757, 74.581, 77.123, 79.411, 81.47 ,\n",
       "       83.323, 84.991, 86.491, 87.842, 89.058, 90.152, 91.137, 92.023,\n",
       "       92.821])"
      ]
     },
     "execution_count": 30,
     "metadata": {},
     "output_type": "execute_result"
    }
   ],
   "source": [
    "# Sanity check-\n",
    "op_layer_pruning"
   ]
  },
  {
   "cell_type": "code",
   "execution_count": 31,
   "metadata": {
    "colab": {
     "base_uri": "https://localhost:8080/",
     "height": 86
    },
    "colab_type": "code",
    "id": "eeMMpTHVPXhT",
    "outputId": "0c08ffcb-577c-4e30-c257-942fa3b50112"
   },
   "outputs": [
    {
     "data": {
      "text/plain": [
       "array([10.   , 19.   , 27.1  , 34.39 , 40.951, 46.856, 52.17 , 56.953,\n",
       "       61.258, 65.132, 68.619, 71.757, 74.581, 77.123, 79.411, 81.47 ,\n",
       "       83.323, 84.991, 86.491, 87.842, 89.058, 90.152, 91.137, 92.023,\n",
       "       92.821])"
      ]
     },
     "execution_count": 31,
     "metadata": {},
     "output_type": "execute_result"
    }
   ],
   "source": [
    "# Sanity check-\n",
    "conv1_pruning"
   ]
  },
  {
   "cell_type": "code",
   "execution_count": null,
   "metadata": {
    "colab": {},
    "colab_type": "code",
    "id": "4VRVmCKTMKYM"
   },
   "outputs": [],
   "source": []
  },
  {
   "cell_type": "code",
   "execution_count": null,
   "metadata": {
    "colab": {},
    "colab_type": "code",
    "id": "lkQOrredMKYQ"
   },
   "outputs": [],
   "source": []
  },
  {
   "cell_type": "markdown",
   "metadata": {
    "colab_type": "text",
    "id": "wBjdQjm0MKYZ"
   },
   "source": [
    "### Create a mask:\n",
    "A mask is created where all parameters equal to one.\n",
    "\n",
    "This will be used later by _GradientTape_ for training the defined neural network."
   ]
  },
  {
   "cell_type": "code",
   "execution_count": 32,
   "metadata": {
    "colab": {},
    "colab_type": "code",
    "id": "-6U20dWuMKYa"
   },
   "outputs": [],
   "source": [
    "# Instantiate a new neural network model for which, the mask is to be created,\n",
    "# according to the paper-\n",
    "mask_model = conv2_cnn()"
   ]
  },
  {
   "cell_type": "code",
   "execution_count": 33,
   "metadata": {
    "colab": {},
    "colab_type": "code",
    "id": "_GflihdgMKYk"
   },
   "outputs": [],
   "source": [
    "# Assign all masks to one-\n",
    "\n",
    "for wts in mask_model.trainable_weights:\n",
    "# for wts in mask_model_stripped.trainable_weights:\n",
    "    wts.assign(\n",
    "        tf.ones_like(\n",
    "            input = wts,\n",
    "            dtype = tf.float32\n",
    "        )\n",
    "\n",
    "    )\n",
    "    # wts.assign(1.)\n",
    "    # wts.assign(tf.where(tf.equal(wts, 0.), 0., 1.))"
   ]
  },
  {
   "cell_type": "code",
   "execution_count": 34,
   "metadata": {
    "colab": {
     "base_uri": "https://localhost:8080/",
     "height": 312
    },
    "colab_type": "code",
    "id": "EccmHsOxMKYo",
    "outputId": "cc4a1ae4-eeec-4043-a204-4602d0178de9"
   },
   "outputs": [
    {
     "name": "stdout",
     "output_type": "stream",
     "text": [
      "\n",
      "Mask model metrics:\n",
      "layer-wise number of nonzero parameters in each layer are: \n",
      "\n",
      "\n",
      "Total number of trainable parameters = 4301642\n",
      "\n"
     ]
    }
   ],
   "source": [
    "print(\"\\nMask model metrics:\")\n",
    "print(\"layer-wise number of nonzero parameters in each layer are: \\n\")\n",
    "\n",
    "masked_sum_params = 0\n",
    "\n",
    "for layer in mask_model.trainable_weights:\n",
    "# for layer in mask_model_stripped.trainable_weights:\n",
    "    # print(tf.math.count_nonzero(layer, axis = None).numpy())\n",
    "    masked_sum_params += tf.math.count_nonzero(layer, axis = None).numpy()\n",
    "\n",
    "print(\"\\nTotal number of trainable parameters = {0}\\n\".format(masked_sum_params))"
   ]
  },
  {
   "cell_type": "code",
   "execution_count": null,
   "metadata": {
    "colab": {},
    "colab_type": "code",
    "id": "ufJE7mdRMKYu"
   },
   "outputs": [],
   "source": []
  },
  {
   "cell_type": "code",
   "execution_count": null,
   "metadata": {
    "colab": {},
    "colab_type": "code",
    "id": "IxqXepWmMKYz"
   },
   "outputs": [],
   "source": []
  },
  {
   "cell_type": "code",
   "execution_count": 35,
   "metadata": {
    "colab": {
     "base_uri": "https://localhost:8080/",
     "height": 69
    },
    "colab_type": "code",
    "id": "EP1nqG_dMKY3",
    "outputId": "38fb41bf-4662-4dfc-ebeb-c377d3fcde98"
   },
   "outputs": [
    {
     "name": "stdout",
     "output_type": "stream",
     "text": [
      "\n",
      "number of pruning rounds for Conv-2 CNN = 25 and number of epochs = 100\n",
      "\n"
     ]
    }
   ],
   "source": [
    "print(\"\\nnumber of pruning rounds for Conv-2 CNN = {0} and number of epochs = {1}\\n\".format(num_pruning_rounds, num_epochs))"
   ]
  },
  {
   "cell_type": "code",
   "execution_count": null,
   "metadata": {
    "colab": {},
    "colab_type": "code",
    "id": "yFWFUgqSMKY7"
   },
   "outputs": [],
   "source": []
  },
  {
   "cell_type": "code",
   "execution_count": null,
   "metadata": {
    "colab": {},
    "colab_type": "code",
    "id": "Y5i6gg19MKY_"
   },
   "outputs": [],
   "source": []
  },
  {
   "cell_type": "markdown",
   "metadata": {
    "colab_type": "text",
    "id": "U6EVU768MKZC"
   },
   "source": [
    "### Python 3 dictionary to hold model training metrics for each of _n_ rounds:"
   ]
  },
  {
   "cell_type": "code",
   "execution_count": 36,
   "metadata": {
    "colab": {},
    "colab_type": "code",
    "id": "A0_CKJfWMKZE"
   },
   "outputs": [],
   "source": [
    "# Method - 1: Nested Python 3 dictionaries:\n",
    "history_main = {}\n",
    "\n",
    "# for x in range(num_pruning_rounds + 1):\n",
    "for x in range(num_pruning_rounds):\n",
    "    history = {}\n",
    "    \n",
    "    # Neural Network model, scalar metrics-\n",
    "    history['accuracy'] = np.zeros(shape = num_epochs)\n",
    "    history['val_accuracy'] = np.zeros(shape = num_epochs)\n",
    "    history['loss'] = np.zeros(shape = num_epochs)\n",
    "    history['val_loss'] = np.zeros(shape = num_epochs)\n",
    "    \n",
    "    # compute % of weights pruned at the end of each iterative pruning round-\n",
    "    history['percentage_wts_pruned'] = 90\n",
    "\n",
    "    history_main[x + 1] = history\n"
   ]
  },
  {
   "cell_type": "code",
   "execution_count": 37,
   "metadata": {
    "colab": {
     "base_uri": "https://localhost:8080/",
     "height": 34
    },
    "colab_type": "code",
    "id": "PtB3L56iMKZJ",
    "outputId": "68b8343e-c654-4a7f-d06a-311b9e0bce9c"
   },
   "outputs": [
    {
     "data": {
      "text/plain": [
       "dict_keys([1, 2, 3, 4, 5, 6, 7, 8, 9, 10, 11, 12, 13, 14, 15, 16, 17, 18, 19, 20, 21, 22, 23, 24, 25])"
      ]
     },
     "execution_count": 37,
     "metadata": {},
     "output_type": "execute_result"
    }
   ],
   "source": [
    "# Sanity check-\n",
    "history_main.keys()"
   ]
  },
  {
   "cell_type": "code",
   "execution_count": 38,
   "metadata": {
    "colab": {
     "base_uri": "https://localhost:8080/",
     "height": 34
    },
    "colab_type": "code",
    "id": "PtYfIVBXMKZP",
    "outputId": "d6328c4f-9b9f-4634-ca44-4ac537687644"
   },
   "outputs": [
    {
     "data": {
      "text/plain": [
       "(100,)"
      ]
     },
     "execution_count": 38,
     "metadata": {},
     "output_type": "execute_result"
    }
   ],
   "source": [
    "# Sanity check-\n",
    "history_main[10]['accuracy'].shape"
   ]
  },
  {
   "cell_type": "code",
   "execution_count": null,
   "metadata": {
    "colab": {},
    "colab_type": "code",
    "id": "oT3FmB3eMKZa"
   },
   "outputs": [],
   "source": []
  },
  {
   "cell_type": "code",
   "execution_count": null,
   "metadata": {
    "colab": {},
    "colab_type": "code",
    "id": "M8i6fdUXMKZd"
   },
   "outputs": [],
   "source": []
  },
  {
   "cell_type": "code",
   "execution_count": 39,
   "metadata": {},
   "outputs": [],
   "source": [
    "def prune_conv2(model, pruning_params_conv, pruning_params_fc, pruning_params_op):\n",
    "    '''\n",
    "    Function to prune top p% of trained weights using the provided parameters using\n",
    "    magnitude-based weight pruning.\n",
    "    \n",
    "    Inputs:\n",
    "    'model' is the TensorFlow 2.0 defined convolutional neural network\n",
    "    'pruning_params_conv' is the percentage of weights to prune for convolutional layer\n",
    "    'pruning_params_fc' is the percentage of weights to prune for dense, fully-connected layer\n",
    "    'pruning_params_op' is the percentage of weights to prune for output layer\n",
    "\n",
    "    Returns:\n",
    "    Python list containing pruned layers\n",
    "    '''\n",
    "\n",
    "    # List variable to hold magnitude-based pruned weights-\n",
    "    pruned_weights = []\n",
    "\n",
    "    for layer in model.trainable_weights:\n",
    "        x = layer.numpy()\n",
    "\n",
    "        if len(layer.shape) == 4:\n",
    "            # this is a convolutional layer\n",
    "            print(\"conv layer: {0}, pruning rate = {1}%\".format(layer.shape, pruning_params_conv))\n",
    "\n",
    "            # Compute absolute value of 'x'-\n",
    "            x_abs = np.abs(x)\n",
    "\n",
    "            # Mask values to zero which are less than 'p' in terms of magnitude-\n",
    "            x_abs[x_abs < np.percentile(x_abs, pruning_params_conv)] = 0\n",
    "\n",
    "            # Where 'x_abs' equals 0, keep 0, else, replace with values\n",
    "            # of 'x'-\n",
    "            # OR\n",
    "            # If x_abs == 0 (condition) is True, use the value of 0, otherwise\n",
    "            # use the value in 'x'\n",
    "            x_mod = np.where(x_abs == 0, 0, x)\n",
    "\n",
    "            pruned_weights.append(x_mod)\n",
    "\n",
    "        elif len(layer.shape) == 2 and layer.shape[1] != 10:\n",
    "            # this is a fully-connected dense layer\n",
    "            print(\"dense layer: {0}, pruning rate = {1}%\".format(layer.shape, pruning_params_fc))\n",
    "\n",
    "            # Compute absolute value of 'x'-\n",
    "            x_abs = np.abs(x)\n",
    "\n",
    "            # Mask values to zero which are less than 'p' in terms of magnitude-\n",
    "            x_abs[x_abs < np.percentile(x_abs, pruning_params_fc)] = 0\n",
    "\n",
    "            # Where 'x_abs' equals 0, keep 0, else, replace with values\n",
    "            # of 'x'-\n",
    "            # OR\n",
    "            # If x_abs == 0 (condition) is True, use the value of 0, otherwise\n",
    "            # use the value in 'x'\n",
    "            x_mod = np.where(x_abs == 0, 0, x)\n",
    "\n",
    "            pruned_weights.append(x_mod)\n",
    "        \n",
    "        elif len(layer.shape) == 2 and layer.shape[1] == 10:\n",
    "            # this is the output layer\n",
    "            print(\"op layer: {0}, pruning rate = {1}%\".format(layer.shape, pruning_params_op))\n",
    "\n",
    "            # Compute absolute value of 'x'-\n",
    "            x_abs = np.abs(x)\n",
    "\n",
    "            # Mask values to zero which are less than 'p' in terms of magnitude-\n",
    "            x_abs[x_abs < np.percentile(x_abs, pruning_params_op)] = 0\n",
    "\n",
    "            # Where 'x_abs' equals 0, keep 0, else, replace with values\n",
    "            # of 'x'-\n",
    "            # OR\n",
    "            # If x_abs == 0 (condition) is True, use the value of 0, otherwise\n",
    "            # use the value in 'x'\n",
    "            x_mod = np.where(x_abs == 0, 0, x)\n",
    "\n",
    "            pruned_weights.append(x_mod)\n",
    "\n",
    "        elif len(layer.shape) == 1:\n",
    "            # bias does not have to be pruned-\n",
    "            # print(\"layer: {0}, pruning rate = {1}%\".format(layer.shape, 0))\n",
    "            pruned_weights.append(x) \n",
    "\n",
    "\n",
    "    return pruned_weights\n"
   ]
  },
  {
   "cell_type": "code",
   "execution_count": null,
   "metadata": {},
   "outputs": [],
   "source": []
  },
  {
   "cell_type": "code",
   "execution_count": 40,
   "metadata": {},
   "outputs": [
    {
     "name": "stdout",
     "output_type": "stream",
     "text": [
      "conv layer: (3, 3, 3, 64), pruning rate = 10.0%\n",
      "conv layer: (3, 3, 64, 64), pruning rate = 10.0%\n",
      "dense layer: (16384, 256), pruning rate = 20.0%\n",
      "dense layer: (256, 256), pruning rate = 20.0%\n",
      "op layer: (256, 10), pruning rate = 10.0%\n"
     ]
    }
   ],
   "source": [
    "# Sanity check-\n",
    "orig_model_pruned = prune_conv2(orig_model, conv1_pruning[0], dense1_pruning[0], op_layer_pruning[0])"
   ]
  },
  {
   "cell_type": "code",
   "execution_count": null,
   "metadata": {},
   "outputs": [],
   "source": []
  },
  {
   "cell_type": "code",
   "execution_count": null,
   "metadata": {},
   "outputs": [],
   "source": []
  },
  {
   "cell_type": "code",
   "execution_count": 41,
   "metadata": {
    "colab": {},
    "colab_type": "code",
    "id": "F2zjLvjMMKZ6"
   },
   "outputs": [],
   "source": [
    "# User input parameters for Early Stopping in manual implementation-\n",
    "minimum_delta = 0.001\n",
    "patience = 3"
   ]
  },
  {
   "cell_type": "code",
   "execution_count": 42,
   "metadata": {
    "colab": {},
    "colab_type": "code",
    "id": "JNMQK8tWMKZ9"
   },
   "outputs": [],
   "source": [
    "best_val_loss = 100\n",
    "loc_patience = 0"
   ]
  },
  {
   "cell_type": "code",
   "execution_count": 43,
   "metadata": {
    "colab": {
     "base_uri": "https://localhost:8080/",
     "height": 52
    },
    "colab_type": "code",
    "id": "TGIecrdVMKaA",
    "outputId": "a5fcfb3d-c71b-4712-be90-05cb6bc70e0f"
   },
   "outputs": [
    {
     "name": "stdout",
     "output_type": "stream",
     "text": [
      "\n",
      "Total number of parameters in overparametrized, original, unpruned network =  4301642\n"
     ]
    }
   ],
   "source": [
    "orig_sum_params = total_params\n",
    "print(\"\\nTotal number of parameters in overparametrized, original, unpruned network = \", orig_sum_params)"
   ]
  },
  {
   "cell_type": "code",
   "execution_count": null,
   "metadata": {
    "colab": {},
    "colab_type": "code",
    "id": "EBrrbLM-MKaD"
   },
   "outputs": [],
   "source": []
  },
  {
   "cell_type": "code",
   "execution_count": null,
   "metadata": {
    "colab": {},
    "colab_type": "code",
    "id": "BSOeplxmMKaG"
   },
   "outputs": [],
   "source": []
  },
  {
   "cell_type": "markdown",
   "metadata": {},
   "source": [
    "### Optimization:\n",
    "\n",
    "Instead of using weights saved as '.h5' file, which takes time to save weights and loading weights to and/or from disk, the optimized process makes use of preexisting models."
   ]
  },
  {
   "cell_type": "code",
   "execution_count": 44,
   "metadata": {},
   "outputs": [],
   "source": [
    "# Instantiate a model-\n",
    "winning_ticket_model = conv2_cnn()\n",
    "\n",
    "# Use Randomly initialized weights-\n",
    "winning_ticket_model.set_weights(orig_model.get_weights())\n"
   ]
  },
  {
   "cell_type": "code",
   "execution_count": null,
   "metadata": {},
   "outputs": [],
   "source": []
  },
  {
   "cell_type": "code",
   "execution_count": null,
   "metadata": {},
   "outputs": [],
   "source": []
  },
  {
   "cell_type": "code",
   "execution_count": null,
   "metadata": {
    "colab": {
     "base_uri": "https://localhost:8080/",
     "height": 1000
    },
    "colab_type": "code",
    "id": "Qf-_IkmcMKaL",
    "outputId": "791231e9-fe69-45cd-8d6c-3137432b0069"
   },
   "outputs": [
    {
     "name": "stdout",
     "output_type": "stream",
     "text": [
      "\n",
      "\n",
      "\n",
      "Iterative pruning round: 1\n",
      "\n",
      "\n",
      "Epoch 1, Loss: 1.4817, Accuracy: 46.7080, Test Loss: 1.2120, Test Accuracy: 57.690002\n",
      "Total number of trainable parameters = 4301637\n",
      "\n",
      "Epoch 2, Loss: 1.1120, Accuracy: 60.7740, Test Loss: 1.0353, Test Accuracy: 63.389999\n",
      "Total number of trainable parameters = 4301638\n",
      "\n",
      "Epoch 3, Loss: 0.9471, Accuracy: 66.8540, Test Loss: 0.9861, Test Accuracy: 64.970001\n",
      "Total number of trainable parameters = 4301639\n",
      "\n",
      "Epoch 4, Loss: 0.8390, Accuracy: 70.8060, Test Loss: 0.9177, Test Accuracy: 67.959999\n",
      "Total number of trainable parameters = 4301641\n",
      "\n",
      "Epoch 5, Loss: 0.7493, Accuracy: 74.0620, Test Loss: 0.8878, Test Accuracy: 69.450005\n",
      "Total number of trainable parameters = 4301642\n",
      "\n",
      "Epoch 6, Loss: 0.6683, Accuracy: 76.6060, Test Loss: 0.8936, Test Accuracy: 69.419998\n",
      "Total number of trainable parameters = 4301642\n",
      "\n",
      "Epoch 7, Loss: 0.5835, Accuracy: 79.9400, Test Loss: 0.8771, Test Accuracy: 70.630005\n",
      "Total number of trainable parameters = 4301642\n",
      "\n",
      "Epoch 8, Loss: 0.4996, Accuracy: 82.9520, Test Loss: 0.9352, Test Accuracy: 70.599998\n",
      "Total number of trainable parameters = 4301642\n",
      "\n",
      "Epoch 9, Loss: 0.4123, Accuracy: 86.2920, Test Loss: 0.9492, Test Accuracy: 70.840004\n",
      "Total number of trainable parameters = 4301642\n",
      "\n",
      "Epoch 10, Loss: 0.3293, Accuracy: 89.0060, Test Loss: 1.0324, Test Accuracy: 69.389999\n",
      "Total number of trainable parameters = 4301642\n",
      "\n",
      "\n",
      "'EarlyStopping' called!\n",
      "\n",
      "conv layer: (3, 3, 3, 64), pruning rate = 10.0%\n",
      "conv layer: (3, 3, 64, 64), pruning rate = 10.0%\n",
      "dense layer: (16384, 256), pruning rate = 20.0%\n",
      "dense layer: (256, 256), pruning rate = 20.0%\n",
      "op layer: (256, 10), pruning rate = 10.0%\n",
      "\n",
      "After Pruning Round = 1, total number of surviving trainable parameters = 3445558\n",
      "\n",
      "\n",
      "Fine-tuning, round = 1\n",
      "\n",
      "FT: Epoch 1, Loss: 0.3759, Accuracy: 86.7740, Test Loss: 1.0966, Test Accuracy: 70.260002\n",
      "Total number of trainable parameters (FT) = 3445558\n",
      "\n",
      "\n",
      "Fine-tuning, round = 2\n",
      "\n",
      "FT: Epoch 2, Loss: 0.1812, Accuracy: 94.3740, Test Loss: 1.2128, Test Accuracy: 70.020004\n",
      "Total number of trainable parameters (FT) = 3445558\n",
      "\n",
      "\n",
      "Fine-tuning, round = 3\n",
      "\n",
      "FT: Epoch 3, Loss: 0.1127, Accuracy: 96.7320, Test Loss: 1.3925, Test Accuracy: 69.690002\n",
      "Total number of trainable parameters (FT) = 3445558\n",
      "\n",
      "\n",
      "\n",
      "\n",
      "Iterative pruning round: 2\n",
      "\n",
      "\n",
      "Epoch 1, Loss: 1.2851, Accuracy: 53.7080, Test Loss: 1.0807, Test Accuracy: 61.470001\n",
      "Total number of trainable parameters = 3445535\n",
      "\n",
      "Epoch 2, Loss: 0.9388, Accuracy: 67.0300, Test Loss: 0.9582, Test Accuracy: 66.570000\n",
      "Total number of trainable parameters = 3445539\n",
      "\n",
      "Epoch 3, Loss: 0.8140, Accuracy: 71.7060, Test Loss: 0.9096, Test Accuracy: 68.470001\n",
      "Total number of trainable parameters = 3445541\n",
      "\n",
      "Epoch 4, Loss: 0.7197, Accuracy: 75.0340, Test Loss: 0.8961, Test Accuracy: 68.940002\n",
      "Total number of trainable parameters = 3445545\n",
      "\n",
      "Epoch 5, Loss: 0.6328, Accuracy: 78.1340, Test Loss: 0.8721, Test Accuracy: 70.480003\n",
      "Total number of trainable parameters = 3445547\n",
      "\n",
      "Epoch 6, Loss: 0.5474, Accuracy: 81.1860, Test Loss: 0.8845, Test Accuracy: 70.830002\n",
      "Total number of trainable parameters = 3445548\n",
      "\n",
      "Epoch 7, Loss: 0.4625, Accuracy: 84.3120, Test Loss: 0.9332, Test Accuracy: 70.150002\n",
      "Total number of trainable parameters = 3445548\n",
      "\n",
      "Epoch 8, Loss: 0.3827, Accuracy: 87.2720, Test Loss: 0.9486, Test Accuracy: 70.779999\n",
      "Total number of trainable parameters = 3445548\n",
      "\n",
      "\n",
      "'EarlyStopping' called!\n",
      "\n",
      "conv layer: (3, 3, 3, 64), pruning rate = 19.0%\n",
      "conv layer: (3, 3, 64, 64), pruning rate = 19.0%\n",
      "dense layer: (16384, 256), pruning rate = 36.0%\n",
      "dense layer: (256, 256), pruning rate = 36.0%\n",
      "op layer: (256, 10), pruning rate = 19.0%\n",
      "\n",
      "After Pruning Round = 2, total number of surviving trainable parameters = 2760270\n",
      "\n",
      "\n",
      "Fine-tuning, round = 1\n",
      "\n",
      "FT: Epoch 1, Loss: 0.3990, Accuracy: 86.1300, Test Loss: 1.0357, Test Accuracy: 70.490005\n",
      "Total number of trainable parameters (FT) = 2760270\n",
      "\n",
      "\n",
      "Fine-tuning, round = 2\n",
      "\n",
      "FT: Epoch 2, Loss: 0.2257, Accuracy: 92.7700, Test Loss: 1.1578, Test Accuracy: 69.650002\n",
      "Total number of trainable parameters (FT) = 2760270\n",
      "\n",
      "\n",
      "Fine-tuning, round = 3\n",
      "\n",
      "FT: Epoch 3, Loss: 0.1539, Accuracy: 95.4340, Test Loss: 1.2795, Test Accuracy: 70.540001\n",
      "Total number of trainable parameters (FT) = 2760270\n",
      "\n",
      "\n",
      "\n",
      "\n",
      "Iterative pruning round: 3\n",
      "\n",
      "\n",
      "Epoch 1, Loss: 1.2445, Accuracy: 55.2600, Test Loss: 1.0473, Test Accuracy: 62.900002\n",
      "Total number of trainable parameters = 2760140\n",
      "\n",
      "Epoch 2, Loss: 0.9292, Accuracy: 67.3580, Test Loss: 0.9523, Test Accuracy: 66.779999\n",
      "Total number of trainable parameters = 2760149\n",
      "\n",
      "Epoch 3, Loss: 0.8245, Accuracy: 71.2460, Test Loss: 0.9036, Test Accuracy: 68.510002\n",
      "Total number of trainable parameters = 2760152\n",
      "\n",
      "Epoch 4, Loss: 0.7496, Accuracy: 73.9660, Test Loss: 0.9082, Test Accuracy: 69.000000\n",
      "Total number of trainable parameters = 2760154\n",
      "\n",
      "Epoch 5, Loss: 0.6878, Accuracy: 76.2340, Test Loss: 0.8894, Test Accuracy: 69.590004\n",
      "Total number of trainable parameters = 2760156\n",
      "\n",
      "Epoch 6, Loss: 0.6244, Accuracy: 78.4080, Test Loss: 0.8827, Test Accuracy: 70.169998\n",
      "Total number of trainable parameters = 2760159\n",
      "\n",
      "Epoch 7, Loss: 0.5647, Accuracy: 80.6660, Test Loss: 0.9031, Test Accuracy: 70.120003\n",
      "Total number of trainable parameters = 2760160\n",
      "\n",
      "Epoch 8, Loss: 0.5064, Accuracy: 82.8120, Test Loss: 0.9105, Test Accuracy: 70.380005\n",
      "Total number of trainable parameters = 2760163\n",
      "\n",
      "Epoch 9, Loss: 0.4468, Accuracy: 84.8560, Test Loss: 0.9847, Test Accuracy: 68.699997\n",
      "Total number of trainable parameters = 2760168\n",
      "\n",
      "\n",
      "'EarlyStopping' called!\n",
      "\n",
      "conv layer: (3, 3, 3, 64), pruning rate = 27.1%\n",
      "conv layer: (3, 3, 64, 64), pruning rate = 27.1%\n",
      "dense layer: (16384, 256), pruning rate = 48.8%\n",
      "dense layer: (256, 256), pruning rate = 48.8%\n",
      "op layer: (256, 10), pruning rate = 27.1%\n",
      "\n",
      "After Pruning Round = 3, total number of surviving trainable parameters = 2211576\n",
      "\n",
      "\n",
      "Fine-tuning, round = 1\n",
      "\n",
      "FT: Epoch 1, Loss: 0.4736, Accuracy: 83.5080, Test Loss: 0.9840, Test Accuracy: 70.200005\n",
      "Total number of trainable parameters (FT) = 2211576\n",
      "\n",
      "\n",
      "Fine-tuning, round = 2\n",
      "\n",
      "FT: Epoch 2, Loss: 0.3169, Accuracy: 89.4860, Test Loss: 1.0331, Test Accuracy: 70.050003\n",
      "Total number of trainable parameters (FT) = 2211576\n",
      "\n",
      "\n",
      "Fine-tuning, round = 3\n",
      "\n",
      "FT: Epoch 3, Loss: 0.2531, Accuracy: 91.8900, Test Loss: 1.1143, Test Accuracy: 70.250000\n",
      "Total number of trainable parameters (FT) = 2211576\n",
      "\n",
      "\n",
      "\n",
      "\n",
      "Iterative pruning round: 4\n",
      "\n",
      "\n",
      "Epoch 1, Loss: 1.2132, Accuracy: 56.6960, Test Loss: 1.0199, Test Accuracy: 64.410004\n",
      "Total number of trainable parameters = 2211505\n",
      "\n",
      "Epoch 2, Loss: 0.9117, Accuracy: 68.1660, Test Loss: 0.9393, Test Accuracy: 66.860001\n",
      "Total number of trainable parameters = 2211512\n",
      "\n",
      "Epoch 3, Loss: 0.8140, Accuracy: 71.7140, Test Loss: 0.8975, Test Accuracy: 68.709999\n",
      "Total number of trainable parameters = 2211515\n",
      "\n",
      "Epoch 4, Loss: 0.7395, Accuracy: 74.3800, Test Loss: 0.8928, Test Accuracy: 69.239998\n",
      "Total number of trainable parameters = 2211515\n",
      "\n",
      "Epoch 5, Loss: 0.6772, Accuracy: 76.5860, Test Loss: 0.8849, Test Accuracy: 69.620003\n",
      "Total number of trainable parameters = 2211516\n",
      "\n",
      "Epoch 6, Loss: 0.6119, Accuracy: 78.9000, Test Loss: 0.8873, Test Accuracy: 70.420006\n",
      "Total number of trainable parameters = 2211517\n",
      "\n",
      "Epoch 7, Loss: 0.5454, Accuracy: 81.4800, Test Loss: 0.8844, Test Accuracy: 70.790001\n",
      "Total number of trainable parameters = 2211519\n",
      "\n",
      "Epoch 8, Loss: 0.4837, Accuracy: 83.6100, Test Loss: 0.9056, Test Accuracy: 70.720001\n",
      "Total number of trainable parameters = 2211522\n",
      "\n",
      "Epoch 9, Loss: 0.4265, Accuracy: 85.6660, Test Loss: 0.9514, Test Accuracy: 70.430000\n",
      "Total number of trainable parameters = 2211524\n",
      "\n",
      "Epoch 10, Loss: 0.3692, Accuracy: 87.7840, Test Loss: 0.9895, Test Accuracy: 70.240005\n",
      "Total number of trainable parameters = 2211525\n",
      "\n",
      "\n",
      "'EarlyStopping' called!\n",
      "\n",
      "conv layer: (3, 3, 3, 64), pruning rate = 34.39%\n",
      "conv layer: (3, 3, 64, 64), pruning rate = 34.39%\n",
      "dense layer: (16384, 256), pruning rate = 59.04%\n",
      "dense layer: (256, 256), pruning rate = 59.04%\n",
      "op layer: (256, 10), pruning rate = 34.39%\n",
      "\n",
      "After Pruning Round = 4, total number of surviving trainable parameters = 1772318\n",
      "\n",
      "\n",
      "Fine-tuning, round = 1\n",
      "\n",
      "FT: Epoch 1, Loss: 0.3980, Accuracy: 86.2660, Test Loss: 1.0152, Test Accuracy: 70.660004\n",
      "Total number of trainable parameters (FT) = 1772318\n",
      "\n",
      "\n",
      "Fine-tuning, round = 2\n",
      "\n",
      "FT: Epoch 2, Loss: 0.2543, Accuracy: 91.8480, Test Loss: 1.1170, Test Accuracy: 70.590004\n",
      "Total number of trainable parameters (FT) = 1772318\n",
      "\n",
      "\n",
      "Fine-tuning, round = 3\n",
      "\n",
      "FT: Epoch 3, Loss: 0.2006, Accuracy: 93.7560, Test Loss: 1.1827, Test Accuracy: 70.020004\n",
      "Total number of trainable parameters (FT) = 1772318\n",
      "\n",
      "\n",
      "\n",
      "\n",
      "Iterative pruning round: 5\n",
      "\n",
      "\n",
      "Epoch 1, Loss: 1.1780, Accuracy: 58.3360, Test Loss: 1.0058, Test Accuracy: 65.130005\n",
      "Total number of trainable parameters = 1772286\n",
      "\n",
      "Epoch 2, Loss: 0.8686, Accuracy: 69.7300, Test Loss: 0.9057, Test Accuracy: 68.409996\n",
      "Total number of trainable parameters = 1772286\n",
      "\n",
      "Epoch 3, Loss: 0.7631, Accuracy: 73.6000, Test Loss: 0.9060, Test Accuracy: 68.510002\n",
      "Total number of trainable parameters = 1772291\n",
      "\n",
      "Epoch 4, Loss: 0.6778, Accuracy: 76.7000, Test Loss: 0.8750, Test Accuracy: 70.320000\n",
      "Total number of trainable parameters = 1772292\n",
      "\n",
      "Epoch 5, Loss: 0.6098, Accuracy: 79.1220, Test Loss: 0.8760, Test Accuracy: 70.330002\n",
      "Total number of trainable parameters = 1772292\n",
      "\n",
      "Epoch 6, Loss: 0.5362, Accuracy: 81.8220, Test Loss: 0.8739, Test Accuracy: 71.170006\n",
      "Total number of trainable parameters = 1772293\n",
      "\n",
      "Epoch 7, Loss: 0.4615, Accuracy: 84.3540, Test Loss: 0.8899, Test Accuracy: 71.320000\n",
      "Total number of trainable parameters = 1772293\n",
      "\n",
      "Epoch 8, Loss: 0.3909, Accuracy: 87.2140, Test Loss: 0.9467, Test Accuracy: 70.570000\n",
      "Total number of trainable parameters = 1772294\n",
      "\n",
      "Epoch 9, Loss: 0.3261, Accuracy: 89.3620, Test Loss: 1.0098, Test Accuracy: 70.150002\n",
      "Total number of trainable parameters = 1772294\n",
      "\n",
      "\n",
      "'EarlyStopping' called!\n",
      "\n",
      "conv layer: (3, 3, 3, 64), pruning rate = 40.951%\n",
      "conv layer: (3, 3, 64, 64), pruning rate = 40.951%\n",
      "dense layer: (16384, 256), pruning rate = 67.232%\n",
      "dense layer: (256, 256), pruning rate = 67.232%\n",
      "op layer: (256, 10), pruning rate = 40.951%\n",
      "\n",
      "After Pruning Round = 5, total number of surviving trainable parameters = 1420629\n",
      "\n",
      "\n",
      "Fine-tuning, round = 1\n",
      "\n",
      "FT: Epoch 1, Loss: 0.3426, Accuracy: 88.4680, Test Loss: 1.0546, Test Accuracy: 70.770004\n",
      "Total number of trainable parameters (FT) = 1420629\n",
      "\n",
      "\n",
      "Fine-tuning, round = 2\n",
      "\n",
      "FT: Epoch 2, Loss: 0.2002, Accuracy: 94.0480, Test Loss: 1.1640, Test Accuracy: 69.880005\n",
      "Total number of trainable parameters (FT) = 1420629\n",
      "\n",
      "\n",
      "Fine-tuning, round = 3\n",
      "\n",
      "FT: Epoch 3, Loss: 0.1464, Accuracy: 95.9140, Test Loss: 1.2393, Test Accuracy: 70.120003\n",
      "Total number of trainable parameters (FT) = 1420629\n",
      "\n",
      "\n",
      "\n",
      "\n",
      "Iterative pruning round: 6\n",
      "\n",
      "\n",
      "Epoch 1, Loss: 1.1450, Accuracy: 59.5960, Test Loss: 0.9754, Test Accuracy: 66.080002\n",
      "Total number of trainable parameters = 1420619\n",
      "\n",
      "Epoch 2, Loss: 0.8445, Accuracy: 70.6700, Test Loss: 0.9046, Test Accuracy: 68.690002\n",
      "Total number of trainable parameters = 1420621\n",
      "\n",
      "Epoch 3, Loss: 0.7362, Accuracy: 74.5760, Test Loss: 0.8820, Test Accuracy: 69.489998\n",
      "Total number of trainable parameters = 1420622\n",
      "\n",
      "Epoch 4, Loss: 0.6505, Accuracy: 77.4300, Test Loss: 0.8688, Test Accuracy: 70.270004\n",
      "Total number of trainable parameters = 1420622\n",
      "\n",
      "Epoch 5, Loss: 0.5748, Accuracy: 80.1060, Test Loss: 0.8824, Test Accuracy: 70.510002\n",
      "Total number of trainable parameters = 1420622\n",
      "\n",
      "Epoch 6, Loss: 0.5013, Accuracy: 82.9920, Test Loss: 0.8883, Test Accuracy: 71.060005\n",
      "Total number of trainable parameters = 1420622\n",
      "\n",
      "Epoch 7, Loss: 0.4341, Accuracy: 85.6200, Test Loss: 0.9341, Test Accuracy: 70.670006\n",
      "Total number of trainable parameters = 1420622\n",
      "\n",
      "\n",
      "'EarlyStopping' called!\n",
      "\n",
      "conv layer: (3, 3, 3, 64), pruning rate = 46.856%\n",
      "conv layer: (3, 3, 64, 64), pruning rate = 46.856%\n",
      "dense layer: (16384, 256), pruning rate = 73.786%\n",
      "dense layer: (256, 256), pruning rate = 73.786%\n",
      "op layer: (256, 10), pruning rate = 46.856%\n",
      "\n",
      "After Pruning Round = 6, total number of surviving trainable parameters = 1139001\n",
      "\n",
      "\n",
      "Fine-tuning, round = 1\n",
      "\n",
      "FT: Epoch 1, Loss: 0.4455, Accuracy: 84.6160, Test Loss: 0.9922, Test Accuracy: 69.660004\n",
      "Total number of trainable parameters (FT) = 1139001\n",
      "\n",
      "\n",
      "Fine-tuning, round = 2\n",
      "\n",
      "FT: Epoch 2, Loss: 0.3016, Accuracy: 90.2720, Test Loss: 1.0261, Test Accuracy: 70.970001\n",
      "Total number of trainable parameters (FT) = 1139001\n",
      "\n",
      "\n",
      "Fine-tuning, round = 3\n",
      "\n",
      "FT: Epoch 3, Loss: 0.2410, Accuracy: 92.6540, Test Loss: 1.1061, Test Accuracy: 69.880005\n",
      "Total number of trainable parameters (FT) = 1139001\n",
      "\n",
      "\n",
      "\n",
      "\n",
      "Iterative pruning round: 7\n",
      "\n",
      "\n",
      "Epoch 1, Loss: 1.1480, Accuracy: 59.4100, Test Loss: 1.0166, Test Accuracy: 64.139999\n",
      "Total number of trainable parameters = 1138993\n",
      "\n",
      "Epoch 2, Loss: 0.8463, Accuracy: 70.6000, Test Loss: 0.9406, Test Accuracy: 67.369995\n",
      "Total number of trainable parameters = 1138993\n",
      "\n",
      "Epoch 3, Loss: 0.7359, Accuracy: 74.2980, Test Loss: 0.8888, Test Accuracy: 69.790001\n",
      "Total number of trainable parameters = 1138994\n",
      "\n",
      "Epoch 4, Loss: 0.6565, Accuracy: 77.2520, Test Loss: 0.9132, Test Accuracy: 69.510002\n",
      "Total number of trainable parameters = 1138995\n",
      "\n",
      "Epoch 5, Loss: 0.5811, Accuracy: 79.9260, Test Loss: 0.8867, Test Accuracy: 70.000000\n",
      "Total number of trainable parameters = 1138995\n",
      "\n",
      "Epoch 6, Loss: 0.5174, Accuracy: 82.2280, Test Loss: 0.8921, Test Accuracy: 70.240005\n",
      "Total number of trainable parameters = 1138995\n",
      "\n",
      "Epoch 7, Loss: 0.4556, Accuracy: 84.5880, Test Loss: 0.9228, Test Accuracy: 70.230003\n",
      "Total number of trainable parameters = 1138995\n",
      "\n",
      "Epoch 8, Loss: 0.3976, Accuracy: 86.8480, Test Loss: 0.9654, Test Accuracy: 70.389999\n",
      "Total number of trainable parameters = 1138995\n",
      "\n",
      "\n",
      "'EarlyStopping' called!\n",
      "\n",
      "conv layer: (3, 3, 3, 64), pruning rate = 52.17%\n",
      "conv layer: (3, 3, 64, 64), pruning rate = 52.17%\n",
      "dense layer: (16384, 256), pruning rate = 79.028%\n",
      "dense layer: (256, 256), pruning rate = 79.028%\n",
      "op layer: (256, 10), pruning rate = 52.17%\n",
      "\n",
      "After Pruning Round = 7, total number of surviving trainable parameters = 913509\n",
      "\n",
      "\n",
      "Fine-tuning, round = 1\n",
      "\n",
      "FT: Epoch 1, Loss: 0.4118, Accuracy: 85.9320, Test Loss: 1.0136, Test Accuracy: 70.060005\n",
      "Total number of trainable parameters (FT) = 913509\n",
      "\n",
      "\n",
      "Fine-tuning, round = 2\n",
      "\n",
      "FT: Epoch 2, Loss: 0.2827, Accuracy: 90.9340, Test Loss: 1.0531, Test Accuracy: 70.540001\n",
      "Total number of trainable parameters (FT) = 913509\n",
      "\n",
      "\n",
      "Fine-tuning, round = 3\n",
      "\n",
      "FT: Epoch 3, Loss: 0.2283, Accuracy: 93.0360, Test Loss: 1.1073, Test Accuracy: 70.389999\n",
      "Total number of trainable parameters (FT) = 913509\n",
      "\n",
      "\n",
      "\n",
      "\n",
      "Iterative pruning round: 8\n",
      "\n",
      "\n",
      "Epoch 1, Loss: 1.1276, Accuracy: 60.4620, Test Loss: 0.9814, Test Accuracy: 65.979996\n",
      "Total number of trainable parameters = 913502\n",
      "\n",
      "Epoch 2, Loss: 0.8216, Accuracy: 71.5940, Test Loss: 0.9188, Test Accuracy: 68.620003\n",
      "Total number of trainable parameters = 913502\n",
      "\n",
      "Epoch 3, Loss: 0.7107, Accuracy: 75.4940, Test Loss: 0.8708, Test Accuracy: 70.400002\n",
      "Total number of trainable parameters = 913502\n",
      "\n",
      "Epoch 4, Loss: 0.6218, Accuracy: 78.6720, Test Loss: 0.8731, Test Accuracy: 70.650002\n",
      "Total number of trainable parameters = 913502\n",
      "\n",
      "Epoch 5, Loss: 0.5476, Accuracy: 81.3780, Test Loss: 0.8866, Test Accuracy: 70.209999\n",
      "Total number of trainable parameters = 913502\n",
      "\n",
      "Epoch 6, Loss: 0.4795, Accuracy: 83.8800, Test Loss: 0.9056, Test Accuracy: 70.380005\n",
      "Total number of trainable parameters = 913502\n",
      "\n",
      "\n",
      "'EarlyStopping' called!\n",
      "\n",
      "conv layer: (3, 3, 3, 64), pruning rate = 56.953%\n",
      "conv layer: (3, 3, 64, 64), pruning rate = 56.953%\n",
      "dense layer: (16384, 256), pruning rate = 83.223%\n",
      "dense layer: (256, 256), pruning rate = 83.223%\n",
      "op layer: (256, 10), pruning rate = 56.953%\n",
      "\n",
      "After Pruning Round = 8, total number of surviving trainable parameters = 732833\n",
      "\n",
      "\n",
      "Fine-tuning, round = 1\n",
      "\n",
      "FT: Epoch 1, Loss: 0.4897, Accuracy: 83.1100, Test Loss: 0.9046, Test Accuracy: 70.970001\n",
      "Total number of trainable parameters (FT) = 732833\n",
      "\n",
      "\n",
      "Fine-tuning, round = 2\n",
      "\n",
      "FT: Epoch 2, Loss: 0.3593, Accuracy: 88.3820, Test Loss: 0.9561, Test Accuracy: 71.000000\n",
      "Total number of trainable parameters (FT) = 732833\n",
      "\n",
      "\n",
      "Fine-tuning, round = 3\n",
      "\n",
      "FT: Epoch 3, Loss: 0.3000, Accuracy: 90.4900, Test Loss: 1.0148, Test Accuracy: 70.990005\n",
      "Total number of trainable parameters (FT) = 732833\n",
      "\n",
      "\n",
      "\n",
      "\n",
      "Iterative pruning round: 9\n",
      "\n",
      "\n",
      "Epoch 1, Loss: 1.1173, Accuracy: 60.9140, Test Loss: 0.9736, Test Accuracy: 66.589996\n",
      "Total number of trainable parameters = 732828\n",
      "\n",
      "Epoch 2, Loss: 0.8183, Accuracy: 71.6700, Test Loss: 0.8982, Test Accuracy: 69.150002\n",
      "Total number of trainable parameters = 732829\n",
      "\n",
      "Epoch 3, Loss: 0.7039, Accuracy: 75.8580, Test Loss: 0.8762, Test Accuracy: 70.090004\n",
      "Total number of trainable parameters = 732829\n",
      "\n",
      "Epoch 4, Loss: 0.6186, Accuracy: 78.8060, Test Loss: 0.8792, Test Accuracy: 70.380005\n",
      "Total number of trainable parameters = 732830\n",
      "\n",
      "Epoch 5, Loss: 0.5432, Accuracy: 81.6580, Test Loss: 0.8913, Test Accuracy: 70.190002\n",
      "Total number of trainable parameters = 732831\n",
      "\n",
      "Epoch 6, Loss: 0.4802, Accuracy: 84.0300, Test Loss: 0.8957, Test Accuracy: 70.860001\n",
      "Total number of trainable parameters = 732831\n",
      "\n",
      "\n",
      "'EarlyStopping' called!\n",
      "\n",
      "conv layer: (3, 3, 3, 64), pruning rate = 61.258%\n",
      "conv layer: (3, 3, 64, 64), pruning rate = 61.258%\n",
      "dense layer: (16384, 256), pruning rate = 86.578%\n",
      "dense layer: (256, 256), pruning rate = 86.578%\n",
      "op layer: (256, 10), pruning rate = 61.258%\n",
      "\n",
      "After Pruning Round = 9, total number of surviving trainable parameters = 588143\n",
      "\n",
      "\n",
      "Fine-tuning, round = 1\n",
      "\n",
      "FT: Epoch 1, Loss: 0.4898, Accuracy: 83.2220, Test Loss: 0.9025, Test Accuracy: 70.800003\n",
      "Total number of trainable parameters (FT) = 588143\n",
      "\n",
      "\n",
      "Fine-tuning, round = 2\n",
      "\n",
      "FT: Epoch 2, Loss: 0.3681, Accuracy: 88.0600, Test Loss: 0.9529, Test Accuracy: 70.480003\n",
      "Total number of trainable parameters (FT) = 588143\n",
      "\n",
      "\n",
      "Fine-tuning, round = 3\n",
      "\n",
      "FT: Epoch 3, Loss: 0.3146, Accuracy: 89.9320, Test Loss: 0.9988, Test Accuracy: 70.760002\n",
      "Total number of trainable parameters (FT) = 588143\n",
      "\n",
      "\n",
      "\n",
      "\n",
      "Iterative pruning round: 10\n",
      "\n",
      "\n",
      "Epoch 1, Loss: 1.1308, Accuracy: 60.8420, Test Loss: 0.9826, Test Accuracy: 65.570000\n",
      "Total number of trainable parameters = 588140\n",
      "\n",
      "Epoch 2, Loss: 0.8211, Accuracy: 71.6120, Test Loss: 0.9034, Test Accuracy: 68.849998\n",
      "Total number of trainable parameters = 588140\n",
      "\n",
      "Epoch 3, Loss: 0.7035, Accuracy: 75.8720, Test Loss: 0.8892, Test Accuracy: 69.250000\n",
      "Total number of trainable parameters = 588140\n",
      "\n",
      "Epoch 4, Loss: 0.6189, Accuracy: 78.8160, Test Loss: 0.8977, Test Accuracy: 69.570000\n",
      "Total number of trainable parameters = 588140\n",
      "\n",
      "Epoch 5, Loss: 0.5502, Accuracy: 81.3720, Test Loss: 0.8940, Test Accuracy: 70.320000\n",
      "Total number of trainable parameters = 588140\n",
      "\n",
      "Epoch 6, Loss: 0.4900, Accuracy: 83.6360, Test Loss: 0.9027, Test Accuracy: 70.570000\n",
      "Total number of trainable parameters = 588140\n",
      "\n",
      "\n",
      "'EarlyStopping' called!\n",
      "\n",
      "conv layer: (3, 3, 3, 64), pruning rate = 65.132%\n",
      "conv layer: (3, 3, 64, 64), pruning rate = 65.132%\n",
      "dense layer: (16384, 256), pruning rate = 89.263%\n",
      "dense layer: (256, 256), pruning rate = 89.263%\n",
      "op layer: (256, 10), pruning rate = 65.132%\n",
      "\n",
      "After Pruning Round = 10, total number of surviving trainable parameters = 472169\n",
      "\n",
      "\n",
      "Fine-tuning, round = 1\n",
      "\n",
      "FT: Epoch 1, Loss: 0.5046, Accuracy: 82.9020, Test Loss: 0.9133, Test Accuracy: 70.820000\n",
      "Total number of trainable parameters (FT) = 472169\n",
      "\n",
      "\n",
      "Fine-tuning, round = 2\n",
      "\n",
      "FT: Epoch 2, Loss: 0.3853, Accuracy: 87.5540, Test Loss: 0.9448, Test Accuracy: 70.940002\n",
      "Total number of trainable parameters (FT) = 472169\n",
      "\n",
      "\n",
      "Fine-tuning, round = 3\n",
      "\n",
      "FT: Epoch 3, Loss: 0.3359, Accuracy: 89.2560, Test Loss: 0.9696, Test Accuracy: 71.100006\n",
      "Total number of trainable parameters (FT) = 472169\n",
      "\n",
      "\n",
      "\n",
      "\n",
      "Iterative pruning round: 11\n",
      "\n",
      "\n",
      "Epoch 1, Loss: 1.1300, Accuracy: 60.9500, Test Loss: 0.9962, Test Accuracy: 65.610001\n",
      "Total number of trainable parameters = 472167\n",
      "\n",
      "Epoch 2, Loss: 0.8221, Accuracy: 71.9080, Test Loss: 0.9093, Test Accuracy: 68.949997\n",
      "Total number of trainable parameters = 472167\n",
      "\n",
      "Epoch 3, Loss: 0.7101, Accuracy: 75.7680, Test Loss: 0.8839, Test Accuracy: 69.320000\n",
      "Total number of trainable parameters = 472167\n",
      "\n",
      "Epoch 4, Loss: 0.6265, Accuracy: 78.5380, Test Loss: 0.8804, Test Accuracy: 70.340004\n",
      "Total number of trainable parameters = 472167\n",
      "\n",
      "Epoch 5, Loss: 0.5613, Accuracy: 81.0060, Test Loss: 0.8918, Test Accuracy: 69.900002\n",
      "Total number of trainable parameters = 472167\n",
      "\n",
      "Epoch 6, Loss: 0.5069, Accuracy: 83.0780, Test Loss: 0.8955, Test Accuracy: 70.490005\n",
      "Total number of trainable parameters = 472167\n",
      "\n",
      "Epoch 7, Loss: 0.4554, Accuracy: 84.8200, Test Loss: 0.9163, Test Accuracy: 70.639999\n",
      "Total number of trainable parameters = 472167\n",
      "\n",
      "\n",
      "'EarlyStopping' called!\n",
      "\n",
      "conv layer: (3, 3, 3, 64), pruning rate = 68.619%\n",
      "conv layer: (3, 3, 64, 64), pruning rate = 68.619%\n",
      "dense layer: (16384, 256), pruning rate = 91.41%\n",
      "dense layer: (256, 256), pruning rate = 91.41%\n",
      "op layer: (256, 10), pruning rate = 68.619%\n",
      "\n",
      "After Pruning Round = 11, total number of surviving trainable parameters = 379272\n",
      "\n",
      "\n",
      "Fine-tuning, round = 1\n",
      "\n",
      "FT: Epoch 1, Loss: 0.4741, Accuracy: 83.9500, Test Loss: 0.9181, Test Accuracy: 70.779999\n",
      "Total number of trainable parameters (FT) = 379272\n",
      "\n",
      "\n",
      "Fine-tuning, round = 2\n",
      "\n",
      "FT: Epoch 2, Loss: 0.3659, Accuracy: 88.0520, Test Loss: 0.9923, Test Accuracy: 70.310005\n",
      "Total number of trainable parameters (FT) = 379272\n",
      "\n",
      "\n",
      "Fine-tuning, round = 3\n",
      "\n",
      "FT: Epoch 3, Loss: 0.3212, Accuracy: 89.7720, Test Loss: 1.0072, Test Accuracy: 70.450005\n",
      "Total number of trainable parameters (FT) = 379272\n",
      "\n",
      "\n",
      "\n",
      "\n",
      "Iterative pruning round: 12\n",
      "\n",
      "\n",
      "Epoch 1, Loss: 1.1490, Accuracy: 60.3020, Test Loss: 1.0050, Test Accuracy: 65.080002\n",
      "Total number of trainable parameters = 379271\n",
      "\n",
      "Epoch 2, Loss: 0.8415, Accuracy: 71.1900, Test Loss: 0.9304, Test Accuracy: 67.589996\n",
      "Total number of trainable parameters = 379271\n",
      "\n",
      "Epoch 3, Loss: 0.7242, Accuracy: 75.1320, Test Loss: 0.8894, Test Accuracy: 69.570000\n",
      "Total number of trainable parameters = 379271\n",
      "\n",
      "Epoch 4, Loss: 0.6419, Accuracy: 78.0660, Test Loss: 0.8901, Test Accuracy: 69.779999\n",
      "Total number of trainable parameters = 379271\n",
      "\n",
      "Epoch 5, Loss: 0.5747, Accuracy: 80.5200, Test Loss: 0.8811, Test Accuracy: 70.090004\n",
      "Total number of trainable parameters = 379271\n",
      "\n",
      "Epoch 6, Loss: 0.5184, Accuracy: 82.5320, Test Loss: 0.9222, Test Accuracy: 69.330002\n",
      "Total number of trainable parameters = 379271\n",
      "\n",
      "Epoch 7, Loss: 0.4682, Accuracy: 84.4260, Test Loss: 0.9117, Test Accuracy: 70.440002\n",
      "Total number of trainable parameters = 379271\n",
      "\n",
      "Epoch 8, Loss: 0.4254, Accuracy: 85.8260, Test Loss: 0.9306, Test Accuracy: 70.440002\n",
      "Total number of trainable parameters = 379271\n",
      "\n",
      "\n",
      "'EarlyStopping' called!\n",
      "\n",
      "conv layer: (3, 3, 3, 64), pruning rate = 71.757%\n",
      "conv layer: (3, 3, 64, 64), pruning rate = 71.757%\n",
      "dense layer: (16384, 256), pruning rate = 93.128%\n",
      "dense layer: (256, 256), pruning rate = 93.128%\n",
      "op layer: (256, 10), pruning rate = 71.757%\n",
      "\n",
      "After Pruning Round = 12, total number of surviving trainable parameters = 304796\n",
      "\n",
      "\n",
      "Fine-tuning, round = 1\n",
      "\n",
      "FT: Epoch 1, Loss: 0.4524, Accuracy: 84.7620, Test Loss: 0.9502, Test Accuracy: 70.090004\n",
      "Total number of trainable parameters (FT) = 304796\n",
      "\n",
      "\n",
      "Fine-tuning, round = 2\n",
      "\n",
      "FT: Epoch 2, Loss: 0.3512, Accuracy: 88.7880, Test Loss: 0.9990, Test Accuracy: 70.230003\n",
      "Total number of trainable parameters (FT) = 304796\n",
      "\n",
      "\n",
      "Fine-tuning, round = 3\n",
      "\n",
      "FT: Epoch 3, Loss: 0.3119, Accuracy: 90.1020, Test Loss: 1.0256, Test Accuracy: 70.279999\n",
      "Total number of trainable parameters (FT) = 304796\n",
      "\n",
      "\n",
      "\n",
      "\n",
      "Iterative pruning round: 13\n",
      "\n",
      "\n",
      "Epoch 1, Loss: 1.1853, Accuracy: 58.8400, Test Loss: 1.0258, Test Accuracy: 64.459999\n",
      "Total number of trainable parameters = 304795\n",
      "\n",
      "Epoch 2, Loss: 0.8662, Accuracy: 70.4160, Test Loss: 0.9420, Test Accuracy: 67.360001\n",
      "Total number of trainable parameters = 304795\n",
      "\n",
      "Epoch 3, Loss: 0.7456, Accuracy: 74.4640, Test Loss: 0.9033, Test Accuracy: 68.870003\n",
      "Total number of trainable parameters = 304795\n",
      "\n",
      "Epoch 4, Loss: 0.6614, Accuracy: 77.4160, Test Loss: 0.8944, Test Accuracy: 69.459999\n",
      "Total number of trainable parameters = 304795\n",
      "\n",
      "Epoch 5, Loss: 0.5926, Accuracy: 79.8440, Test Loss: 0.8946, Test Accuracy: 70.090004\n",
      "Total number of trainable parameters = 304795\n",
      "\n",
      "Epoch 6, Loss: 0.5371, Accuracy: 81.9200, Test Loss: 0.8938, Test Accuracy: 70.349998\n",
      "Total number of trainable parameters = 304795\n",
      "\n",
      "Epoch 7, Loss: 0.4895, Accuracy: 83.5960, Test Loss: 0.9063, Test Accuracy: 70.410004\n",
      "Total number of trainable parameters = 304795\n",
      "\n",
      "Epoch 8, Loss: 0.4445, Accuracy: 85.1900, Test Loss: 0.9447, Test Accuracy: 69.580002\n",
      "Total number of trainable parameters = 304795\n",
      "\n",
      "Epoch 9, Loss: 0.4078, Accuracy: 86.6340, Test Loss: 0.9521, Test Accuracy: 70.370003\n",
      "Total number of trainable parameters = 304795\n",
      "\n",
      "\n",
      "'EarlyStopping' called!\n",
      "\n",
      "conv layer: (3, 3, 3, 64), pruning rate = 74.581%\n",
      "conv layer: (3, 3, 64, 64), pruning rate = 74.581%\n",
      "dense layer: (16384, 256), pruning rate = 94.502%\n",
      "dense layer: (256, 256), pruning rate = 94.502%\n",
      "op layer: (256, 10), pruning rate = 74.581%\n",
      "\n",
      "After Pruning Round = 13, total number of surviving trainable parameters = 245103\n",
      "\n",
      "\n",
      "Fine-tuning, round = 1\n",
      "\n",
      "FT: Epoch 1, Loss: 0.4450, Accuracy: 85.1360, Test Loss: 0.9610, Test Accuracy: 70.209999\n",
      "Total number of trainable parameters (FT) = 245103\n",
      "\n",
      "\n",
      "Fine-tuning, round = 2\n",
      "\n",
      "FT: Epoch 2, Loss: 0.3469, Accuracy: 89.0120, Test Loss: 1.0082, Test Accuracy: 69.919998\n",
      "Total number of trainable parameters (FT) = 245103\n",
      "\n",
      "\n",
      "Fine-tuning, round = 3\n",
      "\n",
      "FT: Epoch 3, Loss: 0.3094, Accuracy: 90.1480, Test Loss: 1.0381, Test Accuracy: 70.000000\n",
      "Total number of trainable parameters (FT) = 245103\n",
      "\n",
      "\n",
      "\n",
      "\n",
      "Iterative pruning round: 14\n",
      "\n",
      "\n",
      "Epoch 1, Loss: 1.2158, Accuracy: 57.9200, Test Loss: 1.0632, Test Accuracy: 63.309998\n",
      "Total number of trainable parameters = 245101\n",
      "\n",
      "Epoch 2, Loss: 0.8935, Accuracy: 69.3140, Test Loss: 0.9497, Test Accuracy: 67.279999\n",
      "Total number of trainable parameters = 245101\n",
      "\n",
      "Epoch 3, Loss: 0.7655, Accuracy: 73.7480, Test Loss: 0.9242, Test Accuracy: 68.150002\n",
      "Total number of trainable parameters = 245101\n",
      "\n",
      "Epoch 4, Loss: 0.6768, Accuracy: 76.8740, Test Loss: 0.9073, Test Accuracy: 68.550003\n",
      "Total number of trainable parameters = 245101\n",
      "\n",
      "Epoch 5, Loss: 0.6079, Accuracy: 79.2500, Test Loss: 0.9002, Test Accuracy: 69.950005\n",
      "Total number of trainable parameters = 245101\n",
      "\n",
      "Epoch 6, Loss: 0.5511, Accuracy: 81.2540, Test Loss: 0.8955, Test Accuracy: 70.110001\n",
      "Total number of trainable parameters = 245101\n",
      "\n",
      "Epoch 7, Loss: 0.5026, Accuracy: 83.1540, Test Loss: 0.9198, Test Accuracy: 69.919998\n",
      "Total number of trainable parameters = 245101\n",
      "\n",
      "Epoch 8, Loss: 0.4612, Accuracy: 84.6620, Test Loss: 0.9301, Test Accuracy: 70.120003\n",
      "Total number of trainable parameters = 245101\n",
      "\n",
      "Epoch 9, Loss: 0.4258, Accuracy: 86.0020, Test Loss: 0.9311, Test Accuracy: 70.660004\n",
      "Total number of trainable parameters = 245101\n",
      "\n",
      "\n",
      "'EarlyStopping' called!\n",
      "\n",
      "conv layer: (3, 3, 3, 64), pruning rate = 77.123%\n",
      "conv layer: (3, 3, 64, 64), pruning rate = 77.123%\n",
      "dense layer: (16384, 256), pruning rate = 95.602%\n",
      "dense layer: (256, 256), pruning rate = 95.602%\n",
      "op layer: (256, 10), pruning rate = 77.123%\n",
      "\n",
      "After Pruning Round = 14, total number of surviving trainable parameters = 197198\n",
      "\n",
      "\n",
      "Fine-tuning, round = 1\n",
      "\n",
      "FT: Epoch 1, Loss: 0.4614, Accuracy: 84.4040, Test Loss: 0.9611, Test Accuracy: 69.779999\n",
      "Total number of trainable parameters (FT) = 197198\n",
      "\n",
      "\n",
      "Fine-tuning, round = 2\n",
      "\n",
      "FT: Epoch 2, Loss: 0.3727, Accuracy: 87.9960, Test Loss: 0.9986, Test Accuracy: 69.930000\n",
      "Total number of trainable parameters (FT) = 197198\n",
      "\n",
      "\n",
      "Fine-tuning, round = 3\n",
      "\n",
      "FT: Epoch 3, Loss: 0.3365, Accuracy: 89.1760, Test Loss: 1.0159, Test Accuracy: 70.340004\n",
      "Total number of trainable parameters (FT) = 197198\n",
      "\n",
      "\n",
      "\n",
      "\n",
      "Iterative pruning round: 15\n",
      "\n",
      "\n",
      "Epoch 1, Loss: 1.2514, Accuracy: 56.7820, Test Loss: 1.0724, Test Accuracy: 62.440002\n",
      "Total number of trainable parameters = 197193\n",
      "\n",
      "Epoch 2, Loss: 0.9222, Accuracy: 68.3040, Test Loss: 0.9716, Test Accuracy: 66.469994\n",
      "Total number of trainable parameters = 197193\n",
      "\n",
      "Epoch 3, Loss: 0.7907, Accuracy: 72.9600, Test Loss: 0.9258, Test Accuracy: 68.480003\n",
      "Total number of trainable parameters = 197193\n",
      "\n",
      "Epoch 4, Loss: 0.7000, Accuracy: 75.9720, Test Loss: 0.9026, Test Accuracy: 69.340004\n",
      "Total number of trainable parameters = 197193\n",
      "\n",
      "Epoch 5, Loss: 0.6297, Accuracy: 78.6460, Test Loss: 0.9085, Test Accuracy: 69.520004\n",
      "Total number of trainable parameters = 197193\n",
      "\n",
      "Epoch 6, Loss: 0.5729, Accuracy: 80.6380, Test Loss: 0.8953, Test Accuracy: 70.230003\n",
      "Total number of trainable parameters = 197193\n",
      "\n",
      "Epoch 7, Loss: 0.5246, Accuracy: 82.4440, Test Loss: 0.9080, Test Accuracy: 70.430000\n",
      "Total number of trainable parameters = 197193\n",
      "\n",
      "Epoch 8, Loss: 0.4842, Accuracy: 83.8600, Test Loss: 0.9204, Test Accuracy: 70.440002\n",
      "Total number of trainable parameters = 197193\n",
      "\n",
      "Epoch 9, Loss: 0.4487, Accuracy: 85.2140, Test Loss: 0.9386, Test Accuracy: 70.580002\n",
      "Total number of trainable parameters = 197193\n",
      "\n",
      "\n",
      "'EarlyStopping' called!\n",
      "\n",
      "conv layer: (3, 3, 3, 64), pruning rate = 79.411%\n",
      "conv layer: (3, 3, 64, 64), pruning rate = 79.411%\n",
      "dense layer: (16384, 256), pruning rate = 96.482%\n",
      "dense layer: (256, 256), pruning rate = 96.482%\n",
      "op layer: (256, 10), pruning rate = 79.411%\n",
      "\n",
      "After Pruning Round = 15, total number of surviving trainable parameters = 158763\n",
      "\n",
      "\n",
      "Fine-tuning, round = 1\n",
      "\n",
      "FT: Epoch 1, Loss: 0.5165, Accuracy: 82.8080, Test Loss: 0.9332, Test Accuracy: 70.050003\n",
      "Total number of trainable parameters (FT) = 158763\n",
      "\n",
      "\n",
      "Fine-tuning, round = 2\n",
      "\n",
      "FT: Epoch 2, Loss: 0.4158, Accuracy: 86.3840, Test Loss: 0.9731, Test Accuracy: 70.020004\n",
      "Total number of trainable parameters (FT) = 158763\n",
      "\n",
      "\n",
      "Fine-tuning, round = 3\n",
      "\n",
      "FT: Epoch 3, Loss: 0.3798, Accuracy: 87.6360, Test Loss: 0.9991, Test Accuracy: 69.550003\n",
      "Total number of trainable parameters (FT) = 158763\n",
      "\n",
      "\n",
      "\n",
      "\n",
      "Iterative pruning round: 16\n",
      "\n",
      "\n",
      "Epoch 1, Loss: 1.3206, Accuracy: 54.5020, Test Loss: 1.1212, Test Accuracy: 61.180000\n",
      "Total number of trainable parameters = 158762\n",
      "\n",
      "Epoch 2, Loss: 0.9900, Accuracy: 66.0160, Test Loss: 1.0174, Test Accuracy: 64.900002\n",
      "Total number of trainable parameters = 158762\n",
      "\n",
      "Epoch 3, Loss: 0.8691, Accuracy: 70.0320, Test Loss: 0.9628, Test Accuracy: 66.329994\n",
      "Total number of trainable parameters = 158762\n",
      "\n",
      "Epoch 4, Loss: 0.7813, Accuracy: 73.2460, Test Loss: 0.9410, Test Accuracy: 67.760002\n",
      "Total number of trainable parameters = 158762\n",
      "\n",
      "Epoch 5, Loss: 0.7098, Accuracy: 75.5160, Test Loss: 0.9256, Test Accuracy: 68.620003\n",
      "Total number of trainable parameters = 158762\n",
      "\n",
      "Epoch 6, Loss: 0.6544, Accuracy: 77.8120, Test Loss: 0.9177, Test Accuracy: 68.540001\n",
      "Total number of trainable parameters = 158762\n",
      "\n",
      "Epoch 7, Loss: 0.6056, Accuracy: 79.4840, Test Loss: 0.9060, Test Accuracy: 69.880005\n",
      "Total number of trainable parameters = 158762\n",
      "\n",
      "Epoch 8, Loss: 0.5652, Accuracy: 80.8840, Test Loss: 0.9098, Test Accuracy: 70.099998\n",
      "Total number of trainable parameters = 158762\n",
      "\n",
      "Epoch 9, Loss: 0.5265, Accuracy: 82.3520, Test Loss: 0.9188, Test Accuracy: 69.880005\n",
      "Total number of trainable parameters = 158762\n",
      "\n",
      "Epoch 10, Loss: 0.4950, Accuracy: 83.4680, Test Loss: 0.9375, Test Accuracy: 69.650002\n",
      "Total number of trainable parameters = 158762\n",
      "\n",
      "\n",
      "'EarlyStopping' called!\n",
      "\n",
      "conv layer: (3, 3, 3, 64), pruning rate = 81.47%\n",
      "conv layer: (3, 3, 64, 64), pruning rate = 81.47%\n",
      "dense layer: (16384, 256), pruning rate = 97.185%\n",
      "dense layer: (256, 256), pruning rate = 97.185%\n",
      "op layer: (256, 10), pruning rate = 81.47%\n",
      "\n",
      "After Pruning Round = 16, total number of surviving trainable parameters = 127969\n",
      "\n",
      "\n",
      "Fine-tuning, round = 1\n",
      "\n",
      "FT: Epoch 1, Loss: 0.5377, Accuracy: 81.6920, Test Loss: 0.9327, Test Accuracy: 69.520004\n",
      "Total number of trainable parameters (FT) = 127969\n",
      "\n",
      "\n",
      "Fine-tuning, round = 2\n",
      "\n",
      "FT: Epoch 2, Loss: 0.4615, Accuracy: 84.8200, Test Loss: 0.9479, Test Accuracy: 69.570000\n",
      "Total number of trainable parameters (FT) = 127969\n",
      "\n",
      "\n",
      "Fine-tuning, round = 3\n",
      "\n",
      "FT: Epoch 3, Loss: 0.4317, Accuracy: 85.8260, Test Loss: 0.9825, Test Accuracy: 69.550003\n",
      "Total number of trainable parameters (FT) = 127969\n",
      "\n",
      "\n",
      "\n",
      "\n",
      "Iterative pruning round: 17\n",
      "\n",
      "\n",
      "Epoch 1, Loss: 1.3563, Accuracy: 53.1180, Test Loss: 1.1664, Test Accuracy: 58.829998\n",
      "Total number of trainable parameters = 127959\n",
      "\n",
      "Epoch 2, Loss: 1.0135, Accuracy: 65.0600, Test Loss: 1.0352, Test Accuracy: 64.070000\n",
      "Total number of trainable parameters = 127959\n",
      "\n",
      "Epoch 3, Loss: 0.8886, Accuracy: 69.4360, Test Loss: 0.9767, Test Accuracy: 65.989998\n",
      "Total number of trainable parameters = 127959\n",
      "\n",
      "Epoch 4, Loss: 0.8009, Accuracy: 72.3580, Test Loss: 0.9458, Test Accuracy: 67.089996\n",
      "Total number of trainable parameters = 127959\n",
      "\n",
      "Epoch 5, Loss: 0.7320, Accuracy: 74.7420, Test Loss: 0.9288, Test Accuracy: 68.150002\n",
      "Total number of trainable parameters = 127959\n",
      "\n",
      "Epoch 6, Loss: 0.6781, Accuracy: 76.7540, Test Loss: 0.9086, Test Accuracy: 69.070000\n",
      "Total number of trainable parameters = 127959\n",
      "\n",
      "Epoch 7, Loss: 0.6329, Accuracy: 78.4600, Test Loss: 0.9087, Test Accuracy: 69.199997\n",
      "Total number of trainable parameters = 127959\n",
      "\n",
      "Epoch 8, Loss: 0.5934, Accuracy: 79.8220, Test Loss: 0.9077, Test Accuracy: 69.379997\n",
      "Total number of trainable parameters = 127959\n",
      "\n",
      "Epoch 9, Loss: 0.5611, Accuracy: 80.8940, Test Loss: 0.9181, Test Accuracy: 69.669998\n",
      "Total number of trainable parameters = 127959\n",
      "\n",
      "Epoch 10, Loss: 0.5301, Accuracy: 82.0520, Test Loss: 0.9289, Test Accuracy: 69.700005\n",
      "Total number of trainable parameters = 127959\n",
      "\n",
      "Epoch 11, Loss: 0.5037, Accuracy: 83.2040, Test Loss: 0.9547, Test Accuracy: 68.680000\n",
      "Total number of trainable parameters = 127959\n",
      "\n",
      "\n",
      "'EarlyStopping' called!\n",
      "\n",
      "conv layer: (3, 3, 3, 64), pruning rate = 83.323%\n",
      "conv layer: (3, 3, 64, 64), pruning rate = 83.323%\n",
      "dense layer: (16384, 256), pruning rate = 97.748%\n",
      "dense layer: (256, 256), pruning rate = 97.748%\n",
      "op layer: (256, 10), pruning rate = 83.323%\n",
      "\n",
      "After Pruning Round = 17, total number of surviving trainable parameters = 103213\n",
      "\n",
      "\n",
      "Fine-tuning, round = 1\n",
      "\n",
      "FT: Epoch 1, Loss: 0.5834, Accuracy: 80.4480, Test Loss: 0.9325, Test Accuracy: 68.809998\n",
      "Total number of trainable parameters (FT) = 103213\n",
      "\n",
      "\n",
      "Fine-tuning, round = 2\n",
      "\n",
      "FT: Epoch 2, Loss: 0.4949, Accuracy: 83.4780, Test Loss: 0.9527, Test Accuracy: 69.139999\n",
      "Total number of trainable parameters (FT) = 103213\n",
      "\n",
      "\n",
      "Fine-tuning, round = 3\n",
      "\n",
      "FT: Epoch 3, Loss: 0.4646, Accuracy: 84.6080, Test Loss: 0.9582, Test Accuracy: 69.459999\n",
      "Total number of trainable parameters (FT) = 103213\n",
      "\n",
      "\n",
      "\n",
      "\n",
      "Iterative pruning round: 18\n",
      "\n",
      "\n",
      "Epoch 1, Loss: 1.4139, Accuracy: 51.0740, Test Loss: 1.1934, Test Accuracy: 57.869999\n",
      "Total number of trainable parameters = 103204\n",
      "\n",
      "Epoch 2, Loss: 1.0733, Accuracy: 62.8440, Test Loss: 1.0810, Test Accuracy: 62.150002\n",
      "Total number of trainable parameters = 103204\n",
      "\n",
      "Epoch 3, Loss: 0.9539, Accuracy: 67.1420, Test Loss: 1.0153, Test Accuracy: 64.340004\n",
      "Total number of trainable parameters = 103204\n",
      "\n",
      "Epoch 4, Loss: 0.8694, Accuracy: 69.9780, Test Loss: 0.9868, Test Accuracy: 65.559998\n",
      "Total number of trainable parameters = 103204\n",
      "\n",
      "Epoch 5, Loss: 0.8035, Accuracy: 72.0960, Test Loss: 0.9495, Test Accuracy: 67.239998\n",
      "Total number of trainable parameters = 103204\n",
      "\n",
      "Epoch 6, Loss: 0.7510, Accuracy: 74.1620, Test Loss: 0.9438, Test Accuracy: 67.349998\n",
      "Total number of trainable parameters = 103204\n",
      "\n",
      "Epoch 7, Loss: 0.7056, Accuracy: 75.6140, Test Loss: 0.9302, Test Accuracy: 67.949997\n",
      "Total number of trainable parameters = 103204\n",
      "\n",
      "Epoch 8, Loss: 0.6675, Accuracy: 77.1180, Test Loss: 0.9359, Test Accuracy: 68.150002\n",
      "Total number of trainable parameters = 103204\n",
      "\n",
      "Epoch 9, Loss: 0.6356, Accuracy: 78.1500, Test Loss: 0.9238, Test Accuracy: 68.870003\n",
      "Total number of trainable parameters = 103204\n",
      "\n",
      "Epoch 10, Loss: 0.6053, Accuracy: 79.1480, Test Loss: 0.9262, Test Accuracy: 68.570000\n",
      "Total number of trainable parameters = 103204\n",
      "\n",
      "Epoch 11, Loss: 0.5775, Accuracy: 80.2880, Test Loss: 0.9428, Test Accuracy: 68.540001\n",
      "Total number of trainable parameters = 103204\n",
      "\n",
      "Epoch 12, Loss: 0.5556, Accuracy: 81.0980, Test Loss: 0.9503, Test Accuracy: 68.820000\n",
      "Total number of trainable parameters = 103204\n",
      "\n",
      "\n",
      "'EarlyStopping' called!\n",
      "\n",
      "conv layer: (3, 3, 3, 64), pruning rate = 84.991%\n",
      "conv layer: (3, 3, 64, 64), pruning rate = 84.991%\n",
      "dense layer: (16384, 256), pruning rate = 98.199%\n",
      "dense layer: (256, 256), pruning rate = 98.199%\n",
      "op layer: (256, 10), pruning rate = 84.991%\n",
      "\n",
      "After Pruning Round = 18, total number of surviving trainable parameters = 83307\n",
      "\n",
      "\n",
      "Fine-tuning, round = 1\n",
      "\n",
      "FT: Epoch 1, Loss: 0.6216, Accuracy: 78.8220, Test Loss: 0.9251, Test Accuracy: 69.059998\n",
      "Total number of trainable parameters (FT) = 83307\n",
      "\n",
      "\n",
      "Fine-tuning, round = 2\n",
      "\n",
      "FT: Epoch 2, Loss: 0.5448, Accuracy: 81.5400, Test Loss: 0.9501, Test Accuracy: 68.750000\n",
      "Total number of trainable parameters (FT) = 83307\n",
      "\n",
      "\n",
      "Fine-tuning, round = 3\n",
      "\n",
      "FT: Epoch 3, Loss: 0.5218, Accuracy: 82.2600, Test Loss: 0.9534, Test Accuracy: 69.110001\n",
      "Total number of trainable parameters (FT) = 83307\n",
      "\n",
      "\n",
      "\n",
      "\n",
      "Iterative pruning round: 19\n",
      "\n",
      "\n",
      "Epoch 1, Loss: 1.4686, Accuracy: 49.2860, Test Loss: 1.2351, Test Accuracy: 56.309998\n",
      "Total number of trainable parameters = 83300\n",
      "\n",
      "Epoch 2, Loss: 1.1253, Accuracy: 61.0400, Test Loss: 1.1167, Test Accuracy: 60.829998\n",
      "Total number of trainable parameters = 83300\n",
      "\n",
      "Epoch 3, Loss: 1.0092, Accuracy: 65.0680, Test Loss: 1.0536, Test Accuracy: 63.290001\n",
      "Total number of trainable parameters = 83300\n",
      "\n",
      "Epoch 4, Loss: 0.9267, Accuracy: 67.9860, Test Loss: 1.0082, Test Accuracy: 64.880005\n",
      "Total number of trainable parameters = 83300\n",
      "\n",
      "Epoch 5, Loss: 0.8618, Accuracy: 70.2180, Test Loss: 0.9775, Test Accuracy: 65.769997\n",
      "Total number of trainable parameters = 83300\n",
      "\n",
      "Epoch 6, Loss: 0.8079, Accuracy: 71.9300, Test Loss: 0.9593, Test Accuracy: 66.419998\n",
      "Total number of trainable parameters = 83300\n",
      "\n",
      "Epoch 7, Loss: 0.7624, Accuracy: 73.5440, Test Loss: 0.9512, Test Accuracy: 66.939995\n",
      "Total number of trainable parameters = 83300\n",
      "\n",
      "Epoch 8, Loss: 0.7244, Accuracy: 74.9940, Test Loss: 0.9455, Test Accuracy: 67.290001\n",
      "Total number of trainable parameters = 83300\n",
      "\n",
      "Epoch 9, Loss: 0.6903, Accuracy: 76.2400, Test Loss: 0.9354, Test Accuracy: 68.180000\n",
      "Total number of trainable parameters = 83300\n",
      "\n",
      "Epoch 10, Loss: 0.6613, Accuracy: 77.1400, Test Loss: 0.9369, Test Accuracy: 68.139999\n",
      "Total number of trainable parameters = 83300\n",
      "\n",
      "Epoch 11, Loss: 0.6366, Accuracy: 78.2120, Test Loss: 0.9359, Test Accuracy: 68.269997\n",
      "Total number of trainable parameters = 83300\n",
      "\n",
      "Epoch 12, Loss: 0.6132, Accuracy: 79.1320, Test Loss: 0.9520, Test Accuracy: 68.159996\n",
      "Total number of trainable parameters = 83300\n",
      "\n",
      "\n",
      "'EarlyStopping' called!\n",
      "\n",
      "conv layer: (3, 3, 3, 64), pruning rate = 86.491%\n",
      "conv layer: (3, 3, 64, 64), pruning rate = 86.491%\n",
      "dense layer: (16384, 256), pruning rate = 98.559%\n",
      "dense layer: (256, 256), pruning rate = 98.559%\n",
      "op layer: (256, 10), pruning rate = 86.491%\n",
      "\n",
      "After Pruning Round = 19, total number of surviving trainable parameters = 67346\n",
      "\n",
      "\n",
      "Fine-tuning, round = 1\n",
      "\n",
      "FT: Epoch 1, Loss: 0.6923, Accuracy: 76.3280, Test Loss: 0.9667, Test Accuracy: 67.540001\n",
      "Total number of trainable parameters (FT) = 67346\n",
      "\n",
      "\n",
      "Fine-tuning, round = 2\n",
      "\n",
      "FT: Epoch 2, Loss: 0.6201, Accuracy: 78.6860, Test Loss: 0.9454, Test Accuracy: 68.089996\n",
      "Total number of trainable parameters (FT) = 67346\n",
      "\n",
      "\n",
      "Fine-tuning, round = 3\n",
      "\n",
      "FT: Epoch 3, Loss: 0.5972, Accuracy: 79.6140, Test Loss: 0.9483, Test Accuracy: 68.279999\n",
      "Total number of trainable parameters (FT) = 67346\n",
      "\n",
      "\n",
      "\n",
      "\n",
      "Iterative pruning round: 20\n",
      "\n",
      "\n",
      "Epoch 1, Loss: 1.5254, Accuracy: 47.4860, Test Loss: 1.2849, Test Accuracy: 54.520000\n",
      "Total number of trainable parameters = 67332\n",
      "\n",
      "Epoch 2, Loss: 1.1650, Accuracy: 59.7740, Test Loss: 1.1505, Test Accuracy: 59.460003\n",
      "Total number of trainable parameters = 67332\n",
      "\n",
      "Epoch 3, Loss: 1.0486, Accuracy: 63.7100, Test Loss: 1.0823, Test Accuracy: 62.309998\n",
      "Total number of trainable parameters = 67332\n",
      "\n",
      "Epoch 4, Loss: 0.9717, Accuracy: 66.4780, Test Loss: 1.0502, Test Accuracy: 63.320000\n",
      "Total number of trainable parameters = 67332\n",
      "\n",
      "Epoch 5, Loss: 0.9132, Accuracy: 68.3700, Test Loss: 1.0132, Test Accuracy: 64.780006\n",
      "Total number of trainable parameters = 67332\n",
      "\n",
      "Epoch 6, Loss: 0.8634, Accuracy: 70.0820, Test Loss: 0.9998, Test Accuracy: 65.400002\n",
      "Total number of trainable parameters = 67332\n",
      "\n",
      "Epoch 7, Loss: 0.8235, Accuracy: 71.5700, Test Loss: 0.9950, Test Accuracy: 65.639999\n",
      "Total number of trainable parameters = 67333\n",
      "\n",
      "Epoch 8, Loss: 0.7896, Accuracy: 72.5760, Test Loss: 0.9712, Test Accuracy: 66.209999\n",
      "Total number of trainable parameters = 67333\n",
      "\n",
      "Epoch 9, Loss: 0.7602, Accuracy: 73.5140, Test Loss: 0.9586, Test Accuracy: 67.290001\n",
      "Total number of trainable parameters = 67333\n",
      "\n",
      "Epoch 10, Loss: 0.7337, Accuracy: 74.5280, Test Loss: 0.9511, Test Accuracy: 67.369995\n",
      "Total number of trainable parameters = 67333\n",
      "\n",
      "Epoch 11, Loss: 0.7123, Accuracy: 75.4460, Test Loss: 0.9536, Test Accuracy: 67.529999\n",
      "Total number of trainable parameters = 67333\n",
      "\n",
      "Epoch 12, Loss: 0.6930, Accuracy: 76.0600, Test Loss: 0.9496, Test Accuracy: 68.019997\n",
      "Total number of trainable parameters = 67333\n",
      "\n",
      "Epoch 13, Loss: 0.6731, Accuracy: 76.8180, Test Loss: 0.9536, Test Accuracy: 67.820000\n",
      "Total number of trainable parameters = 67333\n",
      "\n",
      "Epoch 14, Loss: 0.6565, Accuracy: 77.3460, Test Loss: 0.9599, Test Accuracy: 67.799995\n",
      "Total number of trainable parameters = 67333\n",
      "\n",
      "Epoch 15, Loss: 0.6422, Accuracy: 77.8980, Test Loss: 0.9535, Test Accuracy: 68.040001\n",
      "Total number of trainable parameters = 67333\n",
      "\n",
      "\n",
      "'EarlyStopping' called!\n",
      "\n",
      "conv layer: (3, 3, 3, 64), pruning rate = 87.842%\n",
      "conv layer: (3, 3, 64, 64), pruning rate = 87.842%\n",
      "dense layer: (16384, 256), pruning rate = 98.847%\n",
      "dense layer: (256, 256), pruning rate = 98.847%\n",
      "op layer: (256, 10), pruning rate = 87.842%\n",
      "\n",
      "After Pruning Round = 20, total number of surviving trainable parameters = 54509\n",
      "\n",
      "\n",
      "Fine-tuning, round = 1\n",
      "\n",
      "FT: Epoch 1, Loss: 0.6912, Accuracy: 76.2120, Test Loss: 0.9470, Test Accuracy: 67.849998\n",
      "Total number of trainable parameters (FT) = 54509\n",
      "\n",
      "\n",
      "Fine-tuning, round = 2\n",
      "\n",
      "FT: Epoch 2, Loss: 0.6388, Accuracy: 78.1000, Test Loss: 0.9557, Test Accuracy: 67.970001\n",
      "Total number of trainable parameters (FT) = 54509\n",
      "\n",
      "\n",
      "Fine-tuning, round = 3\n",
      "\n",
      "FT: Epoch 3, Loss: 0.6210, Accuracy: 78.6960, Test Loss: 0.9606, Test Accuracy: 68.059998\n",
      "Total number of trainable parameters (FT) = 54509\n",
      "\n",
      "\n",
      "\n",
      "\n",
      "Iterative pruning round: 21\n",
      "\n",
      "\n",
      "Epoch 1, Loss: 1.5675, Accuracy: 45.8620, Test Loss: 1.3235, Test Accuracy: 53.630001\n",
      "Total number of trainable parameters = 54490\n",
      "\n",
      "Epoch 2, Loss: 1.2072, Accuracy: 58.2260, Test Loss: 1.1825, Test Accuracy: 58.200001\n",
      "Total number of trainable parameters = 54490\n",
      "\n",
      "Epoch 3, Loss: 1.0922, Accuracy: 62.0160, Test Loss: 1.1170, Test Accuracy: 60.730000\n",
      "Total number of trainable parameters = 54490\n",
      "\n",
      "Epoch 4, Loss: 1.0178, Accuracy: 64.6140, Test Loss: 1.0747, Test Accuracy: 62.059998\n",
      "Total number of trainable parameters = 54490\n",
      "\n",
      "Epoch 5, Loss: 0.9599, Accuracy: 66.7040, Test Loss: 1.0466, Test Accuracy: 63.620003\n",
      "Total number of trainable parameters = 54490\n",
      "\n",
      "Epoch 6, Loss: 0.9111, Accuracy: 68.3940, Test Loss: 1.0168, Test Accuracy: 64.730003\n",
      "Total number of trainable parameters = 54490\n",
      "\n",
      "Epoch 7, Loss: 0.8713, Accuracy: 69.7560, Test Loss: 0.9964, Test Accuracy: 65.449997\n",
      "Total number of trainable parameters = 54490\n",
      "\n",
      "Epoch 8, Loss: 0.8355, Accuracy: 70.9380, Test Loss: 0.9883, Test Accuracy: 65.860001\n",
      "Total number of trainable parameters = 54490\n",
      "\n",
      "Epoch 9, Loss: 0.8038, Accuracy: 72.0420, Test Loss: 0.9811, Test Accuracy: 66.009995\n",
      "Total number of trainable parameters = 54490\n",
      "\n",
      "Epoch 10, Loss: 0.7777, Accuracy: 72.8980, Test Loss: 0.9665, Test Accuracy: 66.949997\n",
      "Total number of trainable parameters = 54490\n",
      "\n",
      "Epoch 11, Loss: 0.7536, Accuracy: 73.6920, Test Loss: 0.9691, Test Accuracy: 66.970001\n",
      "Total number of trainable parameters = 54490\n",
      "\n",
      "Epoch 12, Loss: 0.7342, Accuracy: 74.6420, Test Loss: 0.9623, Test Accuracy: 67.369995\n",
      "Total number of trainable parameters = 54490\n",
      "\n",
      "Epoch 13, Loss: 0.7170, Accuracy: 75.0000, Test Loss: 0.9603, Test Accuracy: 67.250000\n",
      "Total number of trainable parameters = 54490\n",
      "\n",
      "Epoch 14, Loss: 0.6981, Accuracy: 75.8740, Test Loss: 0.9665, Test Accuracy: 67.669998\n",
      "Total number of trainable parameters = 54490\n",
      "\n",
      "Epoch 15, Loss: 0.6846, Accuracy: 76.2480, Test Loss: 0.9606, Test Accuracy: 67.879997\n",
      "Total number of trainable parameters = 54490\n",
      "\n",
      "Epoch 16, Loss: 0.6702, Accuracy: 76.6900, Test Loss: 0.9558, Test Accuracy: 68.059998\n",
      "Total number of trainable parameters = 54490\n",
      "\n",
      "Epoch 17, Loss: 0.6589, Accuracy: 77.1600, Test Loss: 0.9595, Test Accuracy: 67.790001\n",
      "Total number of trainable parameters = 54490\n",
      "\n",
      "Epoch 18, Loss: 0.6457, Accuracy: 77.5980, Test Loss: 0.9715, Test Accuracy: 67.959999\n",
      "Total number of trainable parameters = 54490\n",
      "\n",
      "Epoch 19, Loss: 0.6339, Accuracy: 78.0980, Test Loss: 0.9673, Test Accuracy: 67.970001\n",
      "Total number of trainable parameters = 54490\n",
      "\n",
      "\n",
      "'EarlyStopping' called!\n",
      "\n",
      "conv layer: (3, 3, 3, 64), pruning rate = 89.058%\n",
      "conv layer: (3, 3, 64, 64), pruning rate = 89.058%\n",
      "dense layer: (16384, 256), pruning rate = 99.078%\n",
      "dense layer: (256, 256), pruning rate = 99.078%\n",
      "op layer: (256, 10), pruning rate = 89.058%\n",
      "\n",
      "After Pruning Round = 21, total number of surviving trainable parameters = 44150\n",
      "\n",
      "\n",
      "Fine-tuning, round = 1\n",
      "\n",
      "FT: Epoch 1, Loss: 0.7037, Accuracy: 75.7900, Test Loss: 0.9629, Test Accuracy: 67.400002\n",
      "Total number of trainable parameters (FT) = 44150\n",
      "\n",
      "\n",
      "Fine-tuning, round = 2\n",
      "\n",
      "FT: Epoch 2, Loss: 0.6515, Accuracy: 77.4720, Test Loss: 0.9750, Test Accuracy: 67.349998\n",
      "Total number of trainable parameters (FT) = 44150\n",
      "\n",
      "\n",
      "Fine-tuning, round = 3\n",
      "\n",
      "FT: Epoch 3, Loss: 0.6357, Accuracy: 78.0620, Test Loss: 0.9784, Test Accuracy: 67.459999\n",
      "Total number of trainable parameters (FT) = 44150\n",
      "\n",
      "\n",
      "\n",
      "\n",
      "Iterative pruning round: 22\n",
      "\n",
      "\n",
      "Epoch 1, Loss: 1.6911, Accuracy: 41.4880, Test Loss: 1.4461, Test Accuracy: 50.089996\n",
      "Total number of trainable parameters = 44132\n",
      "\n",
      "Epoch 2, Loss: 1.3221, Accuracy: 54.3460, Test Loss: 1.2724, Test Accuracy: 56.029999\n",
      "Total number of trainable parameters = 44132\n",
      "\n",
      "Epoch 3, Loss: 1.1889, Accuracy: 58.8680, Test Loss: 1.1939, Test Accuracy: 57.760002\n",
      "Total number of trainable parameters = 44132\n",
      "\n",
      "Epoch 4, Loss: 1.1095, Accuracy: 61.5720, Test Loss: 1.1429, Test Accuracy: 60.039997\n",
      "Total number of trainable parameters = 44132\n",
      "\n",
      "Epoch 5, Loss: 1.0517, Accuracy: 63.6400, Test Loss: 1.1110, Test Accuracy: 61.129997\n",
      "Total number of trainable parameters = 44132\n",
      "\n",
      "Epoch 6, Loss: 1.0030, Accuracy: 65.2740, Test Loss: 1.0849, Test Accuracy: 61.779999\n",
      "Total number of trainable parameters = 44132\n",
      "\n",
      "Epoch 7, Loss: 0.9618, Accuracy: 66.6160, Test Loss: 1.0576, Test Accuracy: 63.090004\n",
      "Total number of trainable parameters = 44132\n",
      "\n",
      "Epoch 8, Loss: 0.9262, Accuracy: 68.0360, Test Loss: 1.0353, Test Accuracy: 64.389999\n",
      "Total number of trainable parameters = 44132\n",
      "\n",
      "Epoch 9, Loss: 0.8929, Accuracy: 69.1380, Test Loss: 1.0332, Test Accuracy: 64.450005\n",
      "Total number of trainable parameters = 44132\n",
      "\n",
      "Epoch 10, Loss: 0.8641, Accuracy: 70.0440, Test Loss: 1.0135, Test Accuracy: 65.240005\n",
      "Total number of trainable parameters = 44132\n",
      "\n",
      "Epoch 11, Loss: 0.8386, Accuracy: 71.0260, Test Loss: 0.9991, Test Accuracy: 65.900002\n",
      "Total number of trainable parameters = 44132\n",
      "\n",
      "Epoch 12, Loss: 0.8156, Accuracy: 71.8020, Test Loss: 0.9900, Test Accuracy: 66.239998\n",
      "Total number of trainable parameters = 44132\n",
      "\n",
      "Epoch 13, Loss: 0.7942, Accuracy: 72.5240, Test Loss: 0.9884, Test Accuracy: 66.379997\n",
      "Total number of trainable parameters = 44132\n",
      "\n",
      "Epoch 14, Loss: 0.7766, Accuracy: 73.0840, Test Loss: 0.9975, Test Accuracy: 66.239998\n",
      "Total number of trainable parameters = 44132\n",
      "\n",
      "Epoch 15, Loss: 0.7589, Accuracy: 73.7040, Test Loss: 0.9881, Test Accuracy: 66.659996\n",
      "Total number of trainable parameters = 44132\n",
      "\n",
      "Epoch 16, Loss: 0.7439, Accuracy: 74.1460, Test Loss: 0.9811, Test Accuracy: 66.799995\n",
      "Total number of trainable parameters = 44132\n",
      "\n",
      "Epoch 17, Loss: 0.7296, Accuracy: 74.7340, Test Loss: 0.9851, Test Accuracy: 66.610001\n",
      "Total number of trainable parameters = 44132\n",
      "\n",
      "Epoch 18, Loss: 0.7178, Accuracy: 75.1040, Test Loss: 0.9757, Test Accuracy: 67.229996\n",
      "Total number of trainable parameters = 44132\n",
      "\n",
      "Epoch 19, Loss: 0.7052, Accuracy: 75.5900, Test Loss: 0.9895, Test Accuracy: 66.709999\n",
      "Total number of trainable parameters = 44132\n",
      "\n",
      "Epoch 20, Loss: 0.6939, Accuracy: 76.1540, Test Loss: 0.9830, Test Accuracy: 67.009995\n",
      "Total number of trainable parameters = 44132\n",
      "\n",
      "Epoch 21, Loss: 0.6838, Accuracy: 76.2780, Test Loss: 0.9828, Test Accuracy: 67.049995\n",
      "Total number of trainable parameters = 44132\n",
      "\n",
      "\n",
      "'EarlyStopping' called!\n",
      "\n",
      "conv layer: (3, 3, 3, 64), pruning rate = 90.152%\n",
      "conv layer: (3, 3, 64, 64), pruning rate = 90.152%\n",
      "dense layer: (16384, 256), pruning rate = 99.262%\n",
      "dense layer: (256, 256), pruning rate = 99.262%\n",
      "op layer: (256, 10), pruning rate = 90.152%\n",
      "\n",
      "After Pruning Round = 22, total number of surviving trainable parameters = 35844\n",
      "\n",
      "\n",
      "Fine-tuning, round = 1\n",
      "\n",
      "FT: Epoch 1, Loss: 0.7225, Accuracy: 74.9740, Test Loss: 0.9889, Test Accuracy: 66.680000\n",
      "Total number of trainable parameters (FT) = 35844\n",
      "\n",
      "\n",
      "Fine-tuning, round = 2\n",
      "\n",
      "FT: Epoch 2, Loss: 0.6855, Accuracy: 76.3140, Test Loss: 0.9847, Test Accuracy: 67.189995\n",
      "Total number of trainable parameters (FT) = 35844\n",
      "\n",
      "\n",
      "Fine-tuning, round = 3\n",
      "\n",
      "FT: Epoch 3, Loss: 0.6732, Accuracy: 76.8100, Test Loss: 0.9938, Test Accuracy: 66.970001\n",
      "Total number of trainable parameters (FT) = 35844\n",
      "\n",
      "\n",
      "\n",
      "\n",
      "Iterative pruning round: 23\n",
      "\n",
      "\n",
      "Epoch 1, Loss: 1.7249, Accuracy: 40.3500, Test Loss: 1.4963, Test Accuracy: 47.260002\n",
      "Total number of trainable parameters = 35834\n",
      "\n",
      "Epoch 2, Loss: 1.3687, Accuracy: 52.7940, Test Loss: 1.3148, Test Accuracy: 53.530003\n",
      "Total number of trainable parameters = 35834\n",
      "\n",
      "Epoch 3, Loss: 1.2301, Accuracy: 57.2880, Test Loss: 1.2242, Test Accuracy: 56.699997\n",
      "Total number of trainable parameters = 35834\n",
      "\n",
      "Epoch 4, Loss: 1.1429, Accuracy: 60.4520, Test Loss: 1.1648, Test Accuracy: 59.399998\n",
      "Total number of trainable parameters = 35834\n",
      "\n",
      "Epoch 5, Loss: 1.0792, Accuracy: 62.6460, Test Loss: 1.1223, Test Accuracy: 60.630001\n",
      "Total number of trainable parameters = 35834\n",
      "\n",
      "Epoch 6, Loss: 1.0271, Accuracy: 64.3940, Test Loss: 1.0949, Test Accuracy: 61.889999\n",
      "Total number of trainable parameters = 35834\n",
      "\n",
      "Epoch 7, Loss: 0.9831, Accuracy: 65.8560, Test Loss: 1.0736, Test Accuracy: 62.400002\n",
      "Total number of trainable parameters = 35834\n",
      "\n",
      "Epoch 8, Loss: 0.9447, Accuracy: 67.2620, Test Loss: 1.0498, Test Accuracy: 63.169998\n",
      "Total number of trainable parameters = 35834\n",
      "\n",
      "Epoch 9, Loss: 0.9120, Accuracy: 68.5220, Test Loss: 1.0379, Test Accuracy: 63.709999\n",
      "Total number of trainable parameters = 35834\n",
      "\n",
      "Epoch 10, Loss: 0.8819, Accuracy: 69.5740, Test Loss: 1.0258, Test Accuracy: 64.459999\n",
      "Total number of trainable parameters = 35834\n",
      "\n",
      "Epoch 11, Loss: 0.8567, Accuracy: 70.2100, Test Loss: 1.0092, Test Accuracy: 65.200005\n",
      "Total number of trainable parameters = 35834\n",
      "\n",
      "Epoch 12, Loss: 0.8325, Accuracy: 71.2460, Test Loss: 1.0075, Test Accuracy: 65.520004\n",
      "Total number of trainable parameters = 35834\n",
      "\n",
      "Epoch 13, Loss: 0.8128, Accuracy: 71.7540, Test Loss: 1.0000, Test Accuracy: 65.779999\n",
      "Total number of trainable parameters = 35834\n",
      "\n",
      "Epoch 14, Loss: 0.7946, Accuracy: 72.4300, Test Loss: 0.9910, Test Accuracy: 66.299995\n",
      "Total number of trainable parameters = 35834\n",
      "\n",
      "Epoch 15, Loss: 0.7783, Accuracy: 72.9340, Test Loss: 0.9900, Test Accuracy: 66.139999\n",
      "Total number of trainable parameters = 35834\n",
      "\n",
      "Epoch 16, Loss: 0.7631, Accuracy: 73.6160, Test Loss: 0.9931, Test Accuracy: 66.019997\n",
      "Total number of trainable parameters = 35834\n",
      "\n",
      "Epoch 17, Loss: 0.7488, Accuracy: 73.9780, Test Loss: 1.0032, Test Accuracy: 65.949997\n",
      "Total number of trainable parameters = 35834\n",
      "\n",
      "Epoch 18, Loss: 0.7375, Accuracy: 74.3200, Test Loss: 1.0020, Test Accuracy: 66.239998\n",
      "Total number of trainable parameters = 35834\n",
      "\n",
      "\n",
      "'EarlyStopping' called!\n",
      "\n",
      "conv layer: (3, 3, 3, 64), pruning rate = 91.137%\n",
      "conv layer: (3, 3, 64, 64), pruning rate = 91.137%\n",
      "dense layer: (16384, 256), pruning rate = 99.41%\n",
      "dense layer: (256, 256), pruning rate = 99.41%\n",
      "op layer: (256, 10), pruning rate = 91.137%\n",
      "\n",
      "After Pruning Round = 23, total number of surviving trainable parameters = 29124\n",
      "\n",
      "\n",
      "Fine-tuning, round = 1\n",
      "\n",
      "FT: Epoch 1, Loss: 0.8200, Accuracy: 71.4960, Test Loss: 0.9994, Test Accuracy: 65.869995\n",
      "Total number of trainable parameters (FT) = 29124\n",
      "\n",
      "\n",
      "Fine-tuning, round = 2\n",
      "\n",
      "FT: Epoch 2, Loss: 0.7680, Accuracy: 73.5100, Test Loss: 0.9954, Test Accuracy: 66.229996\n",
      "Total number of trainable parameters (FT) = 29124\n",
      "\n",
      "\n",
      "Fine-tuning, round = 3\n",
      "\n",
      "FT: Epoch 3, Loss: 0.7537, Accuracy: 73.7120, Test Loss: 0.9975, Test Accuracy: 66.149994\n",
      "Total number of trainable parameters (FT) = 29124\n",
      "\n",
      "\n",
      "\n",
      "\n",
      "Iterative pruning round: 24\n",
      "\n",
      "\n",
      "Epoch 1, Loss: 1.7407, Accuracy: 40.3040, Test Loss: 1.5242, Test Accuracy: 47.279999\n",
      "Total number of trainable parameters = 29099\n",
      "\n",
      "Epoch 2, Loss: 1.4048, Accuracy: 51.5920, Test Loss: 1.3496, Test Accuracy: 52.619999\n",
      "Total number of trainable parameters = 29099\n",
      "\n",
      "Epoch 3, Loss: 1.2790, Accuracy: 55.8400, Test Loss: 1.2805, Test Accuracy: 54.949997\n",
      "Total number of trainable parameters = 29099\n",
      "\n",
      "Epoch 4, Loss: 1.2000, Accuracy: 58.3840, Test Loss: 1.2189, Test Accuracy: 56.959999\n",
      "Total number of trainable parameters = 29099\n",
      "\n",
      "Epoch 5, Loss: 1.1384, Accuracy: 60.5160, Test Loss: 1.1776, Test Accuracy: 58.340000\n",
      "Total number of trainable parameters = 29099\n",
      "\n",
      "Epoch 6, Loss: 1.0890, Accuracy: 62.2140, Test Loss: 1.1535, Test Accuracy: 58.920002\n",
      "Total number of trainable parameters = 29099\n",
      "\n",
      "Epoch 7, Loss: 1.0473, Accuracy: 63.5980, Test Loss: 1.1201, Test Accuracy: 60.720001\n",
      "Total number of trainable parameters = 29099\n",
      "\n",
      "Epoch 8, Loss: 1.0141, Accuracy: 64.7300, Test Loss: 1.0964, Test Accuracy: 61.510002\n",
      "Total number of trainable parameters = 29099\n",
      "\n",
      "Epoch 9, Loss: 0.9847, Accuracy: 65.7860, Test Loss: 1.0799, Test Accuracy: 62.320000\n",
      "Total number of trainable parameters = 29099\n",
      "\n",
      "Epoch 10, Loss: 0.9586, Accuracy: 66.5160, Test Loss: 1.0688, Test Accuracy: 62.550003\n",
      "Total number of trainable parameters = 29099\n",
      "\n",
      "Epoch 11, Loss: 0.9340, Accuracy: 67.6300, Test Loss: 1.0554, Test Accuracy: 63.260002\n",
      "Total number of trainable parameters = 29099\n",
      "\n",
      "Epoch 12, Loss: 0.9136, Accuracy: 68.2960, Test Loss: 1.0519, Test Accuracy: 63.500000\n",
      "Total number of trainable parameters = 29099\n",
      "\n",
      "Epoch 13, Loss: 0.8940, Accuracy: 69.1160, Test Loss: 1.0418, Test Accuracy: 63.980000\n",
      "Total number of trainable parameters = 29099\n",
      "\n",
      "Epoch 14, Loss: 0.8775, Accuracy: 69.4040, Test Loss: 1.0256, Test Accuracy: 64.570000\n",
      "Total number of trainable parameters = 29099\n",
      "\n",
      "Epoch 15, Loss: 0.8602, Accuracy: 70.0860, Test Loss: 1.0277, Test Accuracy: 64.690002\n",
      "Total number of trainable parameters = 29099\n",
      "\n",
      "Epoch 16, Loss: 0.8457, Accuracy: 70.4960, Test Loss: 1.0242, Test Accuracy: 64.639999\n",
      "Total number of trainable parameters = 29099\n",
      "\n",
      "Epoch 17, Loss: 0.8326, Accuracy: 71.0400, Test Loss: 1.0147, Test Accuracy: 65.139999\n",
      "Total number of trainable parameters = 29099\n",
      "\n",
      "Epoch 18, Loss: 0.8189, Accuracy: 71.4920, Test Loss: 1.0299, Test Accuracy: 64.470001\n",
      "Total number of trainable parameters = 29099\n",
      "\n",
      "Epoch 19, Loss: 0.8087, Accuracy: 71.8380, Test Loss: 1.0101, Test Accuracy: 65.330002\n",
      "Total number of trainable parameters = 29099\n",
      "\n",
      "Epoch 20, Loss: 0.7981, Accuracy: 72.2220, Test Loss: 1.0096, Test Accuracy: 65.669998\n",
      "Total number of trainable parameters = 29099\n",
      "\n",
      "Epoch 21, Loss: 0.7865, Accuracy: 72.6040, Test Loss: 1.0173, Test Accuracy: 65.459999\n",
      "Total number of trainable parameters = 29099\n",
      "\n",
      "Epoch 22, Loss: 0.7778, Accuracy: 72.9340, Test Loss: 1.0150, Test Accuracy: 65.279999\n",
      "Total number of trainable parameters = 29099\n",
      "\n",
      "Epoch 23, Loss: 0.7703, Accuracy: 73.1940, Test Loss: 1.0101, Test Accuracy: 65.570000\n",
      "Total number of trainable parameters = 29099\n",
      "\n",
      "\n",
      "'EarlyStopping' called!\n",
      "\n",
      "conv layer: (3, 3, 3, 64), pruning rate = 92.023%\n",
      "conv layer: (3, 3, 64, 64), pruning rate = 92.023%\n",
      "dense layer: (16384, 256), pruning rate = 99.528%\n",
      "dense layer: (256, 256), pruning rate = 99.528%\n",
      "op layer: (256, 10), pruning rate = 92.023%\n",
      "\n",
      "After Pruning Round = 24, total number of surviving trainable parameters = 23708\n",
      "\n",
      "\n",
      "Fine-tuning, round = 1\n",
      "\n",
      "FT: Epoch 1, Loss: 0.7946, Accuracy: 72.2860, Test Loss: 1.0072, Test Accuracy: 65.690002\n",
      "Total number of trainable parameters (FT) = 23708\n",
      "\n",
      "\n",
      "Fine-tuning, round = 2\n",
      "\n",
      "FT: Epoch 2, Loss: 0.7657, Accuracy: 73.3140, Test Loss: 1.0018, Test Accuracy: 65.860001\n",
      "Total number of trainable parameters (FT) = 23708\n",
      "\n",
      "\n",
      "Fine-tuning, round = 3\n",
      "\n",
      "FT: Epoch 3, Loss: 0.7553, Accuracy: 73.7220, Test Loss: 1.0063, Test Accuracy: 65.889999\n",
      "Total number of trainable parameters (FT) = 23708\n",
      "\n",
      "\n",
      "\n",
      "\n",
      "Iterative pruning round: 25\n",
      "\n",
      "\n",
      "Epoch 1, Loss: 1.7991, Accuracy: 37.4920, Test Loss: 1.5701, Test Accuracy: 45.639999\n",
      "Total number of trainable parameters = 23697\n",
      "\n",
      "Epoch 2, Loss: 1.4728, Accuracy: 48.7740, Test Loss: 1.4168, Test Accuracy: 49.810001\n",
      "Total number of trainable parameters = 23697\n",
      "\n",
      "Epoch 3, Loss: 1.3418, Accuracy: 53.2460, Test Loss: 1.3253, Test Accuracy: 52.619999\n",
      "Total number of trainable parameters = 23697\n",
      "\n",
      "Epoch 4, Loss: 1.2597, Accuracy: 56.0700, Test Loss: 1.2683, Test Accuracy: 54.840000\n",
      "Total number of trainable parameters = 23697\n",
      "\n",
      "Epoch 5, Loss: 1.1958, Accuracy: 58.2300, Test Loss: 1.2161, Test Accuracy: 56.540001\n",
      "Total number of trainable parameters = 23697\n",
      "\n",
      "Epoch 6, Loss: 1.1429, Accuracy: 60.0340, Test Loss: 1.1835, Test Accuracy: 57.889999\n",
      "Total number of trainable parameters = 23697\n",
      "\n",
      "Epoch 7, Loss: 1.0996, Accuracy: 61.5440, Test Loss: 1.1520, Test Accuracy: 59.069996\n",
      "Total number of trainable parameters = 23697\n",
      "\n",
      "Epoch 8, Loss: 1.0616, Accuracy: 62.7540, Test Loss: 1.1319, Test Accuracy: 59.930004\n",
      "Total number of trainable parameters = 23697\n",
      "\n",
      "Epoch 9, Loss: 1.0283, Accuracy: 64.0540, Test Loss: 1.1198, Test Accuracy: 60.560001\n",
      "Total number of trainable parameters = 23697\n",
      "\n",
      "Epoch 10, Loss: 1.0013, Accuracy: 64.9200, Test Loss: 1.0966, Test Accuracy: 61.349998\n",
      "Total number of trainable parameters = 23697\n",
      "\n",
      "Epoch 11, Loss: 0.9749, Accuracy: 65.9980, Test Loss: 1.0853, Test Accuracy: 61.989998\n",
      "Total number of trainable parameters = 23697\n",
      "\n",
      "Epoch 12, Loss: 0.9523, Accuracy: 66.8060, Test Loss: 1.0629, Test Accuracy: 62.400002\n",
      "Total number of trainable parameters = 23697\n",
      "\n",
      "Epoch 13, Loss: 0.9313, Accuracy: 67.5860, Test Loss: 1.0570, Test Accuracy: 62.610001\n",
      "Total number of trainable parameters = 23697\n",
      "\n",
      "Epoch 14, Loss: 0.9130, Accuracy: 68.2660, Test Loss: 1.0437, Test Accuracy: 63.349998\n",
      "Total number of trainable parameters = 23697\n",
      "\n",
      "Epoch 15, Loss: 0.8942, Accuracy: 68.7640, Test Loss: 1.0406, Test Accuracy: 63.440002\n",
      "Total number of trainable parameters = 23697\n",
      "\n",
      "Epoch 16, Loss: 0.8773, Accuracy: 69.2660, Test Loss: 1.0321, Test Accuracy: 64.020004\n",
      "Total number of trainable parameters = 23697\n",
      "\n",
      "Epoch 17, Loss: 0.8634, Accuracy: 69.8780, Test Loss: 1.0240, Test Accuracy: 64.170006\n",
      "Total number of trainable parameters = 23697\n",
      "\n",
      "Epoch 18, Loss: 0.8496, Accuracy: 70.2400, Test Loss: 1.0195, Test Accuracy: 64.550003\n",
      "Total number of trainable parameters = 23697\n",
      "\n",
      "Epoch 19, Loss: 0.8384, Accuracy: 70.6540, Test Loss: 1.0195, Test Accuracy: 64.740005\n",
      "Total number of trainable parameters = 23697\n",
      "\n",
      "Epoch 20, Loss: 0.8262, Accuracy: 71.1600, Test Loss: 1.0199, Test Accuracy: 64.720001\n",
      "Total number of trainable parameters = 23697\n",
      "\n",
      "Epoch 21, Loss: 0.8164, Accuracy: 71.4660, Test Loss: 1.0141, Test Accuracy: 65.070000\n",
      "Total number of trainable parameters = 23697\n",
      "\n",
      "Epoch 22, Loss: 0.8069, Accuracy: 71.8260, Test Loss: 1.0101, Test Accuracy: 65.190002\n",
      "Total number of trainable parameters = 23697\n",
      "\n",
      "Epoch 23, Loss: 0.7988, Accuracy: 72.2260, Test Loss: 1.0096, Test Accuracy: 65.480003\n",
      "Total number of trainable parameters = 23697\n",
      "\n",
      "Epoch 24, Loss: 0.7903, Accuracy: 72.3140, Test Loss: 1.0102, Test Accuracy: 65.540001\n",
      "Total number of trainable parameters = 23697\n",
      "\n",
      "Epoch 25, Loss: 0.7829, Accuracy: 72.6420, Test Loss: 1.0068, Test Accuracy: 65.699997\n",
      "Total number of trainable parameters = 23697\n",
      "\n",
      "Epoch 26, Loss: 0.7764, Accuracy: 72.8700, Test Loss: 1.0090, Test Accuracy: 65.459999\n",
      "Total number of trainable parameters = 23697\n",
      "\n",
      "Epoch 27, Loss: 0.7696, Accuracy: 73.1200, Test Loss: 1.0093, Test Accuracy: 65.650002\n",
      "Total number of trainable parameters = 23697\n",
      "\n"
     ]
    }
   ],
   "source": [
    "for i in range(1, num_pruning_rounds + 1):\n",
    "    \n",
    "    print(\"\\n\\n\\nIterative pruning round: {0}\\n\\n\".format(i))\n",
    "    \n",
    "    # Define 'train_one_step()' and 'test_step()' functions here-\n",
    "    @tf.function\n",
    "    def train_one_step(model, mask_model, optimizer, x, y):\n",
    "        '''\n",
    "        Function to compute one step of gradient descent optimization\n",
    "        '''\n",
    "        with tf.GradientTape() as tape:\n",
    "            # Make predictions using defined model-\n",
    "            y_pred = model(x)\n",
    "\n",
    "            # Compute loss-\n",
    "            loss = loss_fn(y, y_pred)\n",
    "        \n",
    "        # Compute gradients wrt defined loss and weights and biases-\n",
    "        grads = tape.gradient(loss, model.trainable_variables)\n",
    "    \n",
    "        # type(grads)c\n",
    "        # list\n",
    "    \n",
    "        # List to hold element-wise multiplication between-\n",
    "        # computed gradient and masks-\n",
    "        grad_mask_mul = []\n",
    "    \n",
    "        # Perform element-wise multiplication between computed gradients and masks-\n",
    "        for grad_layer, mask in zip(grads, mask_model.trainable_weights):\n",
    "            grad_mask_mul.append(tf.math.multiply(grad_layer, mask))\n",
    "    \n",
    "        # Apply computed gradients to model's weights and biases-\n",
    "        optimizer.apply_gradients(zip(grad_mask_mul, model.trainable_variables))\n",
    "\n",
    "        # Compute accuracy-\n",
    "        train_loss(loss)\n",
    "        train_accuracy(y, y_pred)\n",
    "\n",
    "        return None\n",
    "    \n",
    "    \n",
    "    @tf.function\n",
    "    def test_step(model, optimizer, data, labels):\n",
    "        \"\"\"\n",
    "        Function to test model performance\n",
    "        on testing dataset\n",
    "        \"\"\"\n",
    "    \n",
    "        predictions = model(data)\n",
    "        t_loss = loss_fn(labels, predictions)\n",
    "\n",
    "        test_loss(t_loss)\n",
    "        test_accuracy(labels, predictions)\n",
    "\n",
    "        return None\n",
    "\n",
    "\n",
    "    # Instantiate a model\n",
    "    # model_gt = pruned_nn(pruning_params_unpruned)\n",
    "    model_gt = conv2_cnn()\n",
    "    \n",
    "    # Load winning ticket (from above)-\n",
    "    # model_gt.load_weights(\"Conv2_CIFAR10_Winning_Ticket.h5\")\n",
    "    model_gt.set_weights(winning_ticket_model.get_weights())\n",
    "    \n",
    "    # Strip model of pruning parameters-\n",
    "    # model_gt_stripped = sparsity.strip_pruning(model_gt)\n",
    "    \n",
    "    \n",
    "    # Train model using 'GradientTape'-\n",
    "    \n",
    "    # Initialize parameters for Early Stopping manual implementation-\n",
    "    best_val_loss = 100\n",
    "    loc_patience = 0\n",
    "    \n",
    "    for epoch in range(num_epochs):\n",
    "    \n",
    "        if loc_patience >= patience:\n",
    "            print(\"\\n'EarlyStopping' called!\\n\")\n",
    "            break\n",
    "        \n",
    "        # Reset the metrics at the start of the next epoch\n",
    "        train_loss.reset_states()\n",
    "        train_accuracy.reset_states()\n",
    "        test_loss.reset_states()\n",
    "        test_accuracy.reset_states()\n",
    "        \n",
    "        \n",
    "        for x, y in train_dataset:\n",
    "            # train_one_step(model_gt_stripped, mask_model_stripped, optimizer, x, y)\n",
    "            train_one_step(model_gt, mask_model, optimizer, x, y)\n",
    "\n",
    "\n",
    "        for x_t, y_t in test_dataset:\n",
    "            # test_step(model_gt_stripped, optimizer, x_t, y_t)\n",
    "            test_step(model_gt, optimizer, x_t, y_t)\n",
    "\n",
    "        template = 'Epoch {0}, Loss: {1:.4f}, Accuracy: {2:.4f}, Test Loss: {3:.4f}, Test Accuracy: {4:4f}'\n",
    "    \n",
    "        # 'i' is the index for number of pruning rounds-\n",
    "        history_main[i]['accuracy'][epoch] = train_accuracy.result() * 100\n",
    "        history_main[i]['loss'][epoch] = train_loss.result()\n",
    "        history_main[i]['val_loss'][epoch] = test_loss.result()\n",
    "        history_main[i]['val_accuracy'][epoch] = test_accuracy.result() * 100\n",
    "        \n",
    "        print(template.format(epoch + 1, \n",
    "                              train_loss.result(), train_accuracy.result()*100,\n",
    "                              test_loss.result(), test_accuracy.result()*100))\n",
    "    \n",
    "        # Count number of non-zero parameters in each layer and in total-\n",
    "        # print(\"layer-wise manner model, number of nonzero parameters in each layer are: \\n\")\n",
    "\n",
    "        model_sum_params = 0\n",
    "    \n",
    "        for layer in model_gt.trainable_weights:\n",
    "        # for layer in model_gt_stripped.trainable_weights:\n",
    "            # print(tf.math.count_nonzero(layer, axis = None).numpy())\n",
    "            model_sum_params += tf.math.count_nonzero(layer, axis = None).numpy()\n",
    "    \n",
    "        print(\"Total number of trainable parameters = {0}\\n\".format(model_sum_params))\n",
    "\n",
    "    \n",
    "        # Code for manual Early Stopping:\n",
    "        if np.abs(test_loss.result() < best_val_loss) >= minimum_delta:\n",
    "            # update 'best_val_loss' variable to lowest loss encountered so far-\n",
    "            best_val_loss = test_loss.result()\n",
    "        \n",
    "            # reset 'loc_patience' variable-\n",
    "            loc_patience = 0\n",
    "        \n",
    "        else:  # there is no improvement in monitored metric 'val_loss'\n",
    "            loc_patience += 1  # number of epochs without any improvement\n",
    "\n",
    "    \n",
    "    # Resize numpy arrays according to the epoch when 'EarlyStopping' was called-\n",
    "    for metrics in history_main[i].keys():\n",
    "        history_main[i][metrics] = np.resize(history_main[i][metrics], new_shape = epoch)\n",
    "        # history[metrics] = np.resize(history[metrics], new_shape=epoch)\n",
    "     \n",
    "    \n",
    "    # Save trained model weights-\n",
    "    # model_gt.save_weights(\"Conv2_CIFAR10_Trained_Weights.h5\", overwrite=True)\n",
    "    \n",
    "    \n",
    "    \n",
    "    \n",
    "    # Prune trained model:\n",
    "    \n",
    "    # print(\"\\n% of weights to be pruned in round = {0} is: {1:.4f}\\n\".format(i, wts_np[i - 1]))\n",
    "    \n",
    "    # Prune neural network-\n",
    "    # pruned_weights = prune_lenet(model_gt, dense1_pruning[i - 1], op_layer_pruning[i - 1])\n",
    "    pruned_weights = prune_conv2(\n",
    "        model = model_gt,\n",
    "        pruning_params_conv=conv1_pruning[i - 1],\n",
    "        pruning_params_fc=dense1_pruning[i - 1],\n",
    "        pruning_params_op=op_layer_pruning[i - 1]\n",
    "    )\n",
    "\n",
    "    \n",
    "    # Instantiate a Neural Network model\n",
    "    pruned_model = conv2_cnn()\n",
    "\n",
    "    # Load pruned numpy weights-\n",
    "    pruned_model.set_weights(pruned_weights)\n",
    "        \n",
    "    # print(\"\\nIn pruned model, number of nonzero parameters in each layer are: \\n\")\n",
    "    pruned_sum_params = 0\n",
    "    \n",
    "    for layer in pruned_model.trainable_weights:\n",
    "    # for layer in pruned_model_stripped.trainable_weights:\n",
    "        # print(tf.math.count_nonzero(layer, axis = None).numpy())\n",
    "        pruned_sum_params += tf.math.count_nonzero(layer, axis = None).numpy()\n",
    "    \n",
    "    print(\"\\nAfter Pruning Round = {0}, total number of surviving trainable parameters = {1}\\n\".format(i, pruned_sum_params))\n",
    "    # print(\"\\nTotal number of trainable parameters = {0}\\n\".format(pruned_sum_params))\n",
    "    \n",
    "    \n",
    "    # 'i' is the index for number of pruning rounds-\n",
    "    history_main[i]['percentage_wts_pruned'] = ((orig_sum_params - pruned_sum_params) / orig_sum_params) * 100\n",
    "    \n",
    "    \n",
    "    # Save weights of PRUNED and Trained model-\n",
    "    # pruned_model.save_weights(\"Conv2_CIFAR10_Pruned_Weights.h5\", overwrite = True)\n",
    "    \n",
    "    \n",
    "    # Create a mask:\n",
    "    \n",
    "    # Instantiate a new neural network model for which, the mask is to be created,\n",
    "    # mask_model = lenet_nn()\n",
    "    mask_model = conv2_cnn()\n",
    "    \n",
    "    # Load weights of PRUNED model-\n",
    "    # mask_model.load_weights(\"Conv2_CIFAR10_Pruned_Weights.h5\")\n",
    "    mask_model.set_weights(pruned_model.get_weights())\n",
    "    \n",
    "    # Strip the model of its pruning parameters-\n",
    "    # mask_model_stripped = sparsity.strip_pruning(mask_model)\n",
    "    \n",
    "    # For each layer, for each weight which is 0, leave it, as is.\n",
    "    # And for weights which survive the pruning,reinitialize it to ONE (1)-\n",
    "    # for wts in mask_model_stripped.trainable_weights:\n",
    "    for wts in mask_model.trainable_weights:\n",
    "        wts.assign(tf.where(tf.equal(wts, 0.), 0., 1.))\n",
    "\n",
    "    \n",
    "    # FINE-TUNE pruned model (to recover from pruning)-\n",
    "    # Question: Does fine-tuning help here? Because the weights will be extracted\n",
    "    # according to surviving weights. Hence, fine-tuning the surviving weights does\n",
    "    # not make sense!\n",
    "    \n",
    "    \n",
    "    @tf.function\n",
    "    def train_one_step(model, mask_model, optimizer, x, y):\n",
    "        '''\n",
    "        Function to compute one step of gradient descent optimization\n",
    "        '''\n",
    "        with tf.GradientTape() as tape:\n",
    "            # Make predictions using defined model-\n",
    "            y_pred = model(x)\n",
    "\n",
    "            # Compute loss-\n",
    "            loss = loss_fn(y, y_pred)\n",
    "        \n",
    "        # Compute gradients wrt defined loss and weights and biases-\n",
    "        grads = tape.gradient(loss, model.trainable_variables)\n",
    "    \n",
    "        # type(grads)\n",
    "        # list\n",
    "    \n",
    "        # List to hold element-wise multiplication between-\n",
    "        # computed gradient and masks-\n",
    "        grad_mask_mul = []\n",
    "    \n",
    "        # Perform element-wise multiplication between computed gradients and masks-\n",
    "        for grad_layer, mask in zip(grads, mask_model.trainable_weights):\n",
    "            grad_mask_mul.append(tf.math.multiply(grad_layer, mask))\n",
    "    \n",
    "        # Apply computed gradients to model's weights and biases-\n",
    "        optimizer.apply_gradients(zip(grad_mask_mul, model.trainable_variables))\n",
    "\n",
    "        # Compute accuracy-\n",
    "        train_loss(loss)\n",
    "        train_accuracy(y, y_pred)\n",
    "\n",
    "        return None\n",
    "    \n",
    "    \n",
    "    @tf.function\n",
    "    def test_step(model, optimizer, data, labels):\n",
    "        \"\"\"\n",
    "        Function to test model performance\n",
    "        on testing dataset\n",
    "        \"\"\"\n",
    "    \n",
    "        predictions = model(data)\n",
    "        t_loss = loss_fn(labels, predictions)\n",
    "\n",
    "        test_loss(t_loss)\n",
    "        test_accuracy(labels, predictions)\n",
    "\n",
    "        return None\n",
    "\n",
    "    \n",
    "    # Fine-tune pruned model by training it for 3 more epochs-\n",
    "    for epoch in range(3):\n",
    "        print(\"\\nFine-tuning, round = {0}\\n\".format(epoch + 1))\n",
    "            \n",
    "        # Reset the metrics at the start of the next epoch\n",
    "        train_loss.reset_states()\n",
    "        train_accuracy.reset_states()\n",
    "        test_loss.reset_states()\n",
    "        test_accuracy.reset_states()\n",
    "        \n",
    "        \n",
    "        for x, y in train_dataset:\n",
    "            # train_one_step(pruned_model, mask_model, optimizer, x, y)\n",
    "            train_one_step(pruned_model, mask_model, optimizer, x, y)\n",
    "\n",
    "\n",
    "        for x_t, y_t in test_dataset:\n",
    "            # test_step(model_gt, optimizer, x_t, y_t)\n",
    "            test_step(pruned_model, optimizer, x_t, y_t)\n",
    "\n",
    "        template = 'FT: Epoch {0}, Loss: {1:.4f}, Accuracy: {2:.4f}, Test Loss: {3:.4f}, Test Accuracy: {4:4f}'\n",
    "            \n",
    "        print(template.format(epoch + 1, \n",
    "                              train_loss.result(), train_accuracy.result()*100,\n",
    "                              test_loss.result(), test_accuracy.result()*100))\n",
    "    \n",
    "        # Count number of non-zero parameters in each layer and in total-\n",
    "        # print(\"layer-wise manner model, number of nonzero parameters in each layer are: \\n\")\n",
    "\n",
    "        model_sum_params = 0\n",
    "    \n",
    "        for layer in pruned_model.trainable_weights:\n",
    "            # print(tf.math.count_nonzero(layer, axis = None).numpy())\n",
    "            model_sum_params += tf.math.count_nonzero(layer, axis = None).numpy()\n",
    "    \n",
    "        print(\"Total number of trainable parameters (FT) = {0}\\n\".format(model_sum_params))\n",
    "     \n",
    "    \n",
    "    # Save weights of PRUNED and Trained model-\n",
    "    # pruned_model.save_weights(\"Conv2_CIFAR10_Pruned_Weights.h5\", overwrite = True)\n",
    "\n",
    "    \n",
    "    # Extract Winning Ticket:\n",
    "    \n",
    "    # Instantiate a new neural network model for which, the weights are to be extracted-\n",
    "    # winning_ticket_model = lenet_nn()\n",
    "    winning_ticket_model = conv2_cnn()\n",
    "    \n",
    "    # Load weights of PRUNED model-\n",
    "    # winning_ticket_model.load_weights(\"Conv2_CIFAR10_Pruned_Weights.h5\")\n",
    "    winning_ticket_model.set_weights(pruned_model.get_weights())\n",
    "    \n",
    "    # Strip the model of its pruning parameters-\n",
    "    # winning_ticket_model_stripped = sparsity.strip_pruning(winning_ticket_model)\n",
    "    \n",
    "    # For each layer, for each weight which is 0, leave it, as is. And for weights which survive the pruning,\n",
    "    # reinitialize it to the value, the model received BEFORE it was trained and pruned-\n",
    "    for orig_wts, pruned_wts in zip(orig_model.trainable_weights,\n",
    "                                    winning_ticket_model.trainable_weights):\n",
    "        pruned_wts.assign(tf.where(tf.equal(pruned_wts, 0), pruned_wts, orig_wts))\n",
    "    \n",
    "    \n",
    "    # Since it's difficult to forecast the sparsity level which gives the winning ticket, save\n",
    "    # all sub-networks, and post training, pick the appropriate 'winning ticket'-\n",
    "    winning_ticket_model.save_weights(\"Conv_2_CIFAR10_Magnitude_Based_Winning_Ticket_Distribution_{0}.h5\".format(\n",
    "        history_main[i]['percentage_wts_pruned']), overwrite = True)\n",
    "    \n",
    "        \n",
    "    with open(\"/home/majumdar/The_Lottery_Ticket_Hypothesis-Resources/Conv2_Magnitude_Based_Pruning_log.txt\", \"a+\") as f:\n",
    "        f.write(\"Round = {0}, val_accuracy = {1:.4f}%\\n\".format(\n",
    "            i, history_main[i]['val_accuracy'][epoch]\n",
    "        ))\n",
    "    \n",
    "    "
   ]
  },
  {
   "cell_type": "code",
   "execution_count": null,
   "metadata": {},
   "outputs": [],
   "source": []
  },
  {
   "cell_type": "code",
   "execution_count": null,
   "metadata": {},
   "outputs": [],
   "source": []
  },
  {
   "cell_type": "code",
   "execution_count": null,
   "metadata": {},
   "outputs": [],
   "source": [
    "# Save winning ticket:\n",
    "winning_ticket_model.save_weights(\"Conv_2_CIFAR10_Magnitude_Based_Winning_Ticket_Distribution_{0}.h5\".format(\n",
    "    history_main[i]['percentage_wts_pruned']), overwrite = True)\n"
   ]
  },
  {
   "cell_type": "code",
   "execution_count": null,
   "metadata": {},
   "outputs": [],
   "source": []
  },
  {
   "cell_type": "code",
   "execution_count": null,
   "metadata": {
    "colab": {},
    "colab_type": "code",
    "id": "CsLyhh1bMKaV"
   },
   "outputs": [],
   "source": []
  },
  {
   "cell_type": "code",
   "execution_count": 51,
   "metadata": {
    "colab": {},
    "colab_type": "code",
    "id": "VBXN-D6TMKaZ",
    "outputId": "9a1ff76f-2739-47d9-91ef-e0ea46a5e1ca"
   },
   "outputs": [
    {
     "name": "stdout",
     "output_type": "stream",
     "text": [
      "\n",
      "Iterative-pruning for Conv-2 CNN using Lottery Ticket Hypothesis & Magnitude-based weight pruning is now complete.\n",
      "\n"
     ]
    }
   ],
   "source": [
    "print(\"\\nIterative-pruning for Conv-2 CNN using Lottery Ticket Hypothesis & Magnitude-based weight pruning is now complete.\\n\")"
   ]
  },
  {
   "cell_type": "code",
   "execution_count": null,
   "metadata": {
    "colab": {},
    "colab_type": "code",
    "id": "-KKhJ0fKMKac"
   },
   "outputs": [],
   "source": []
  },
  {
   "cell_type": "code",
   "execution_count": null,
   "metadata": {
    "colab": {},
    "colab_type": "code",
    "id": "bNkOyPDAMKag"
   },
   "outputs": [],
   "source": []
  },
  {
   "cell_type": "code",
   "execution_count": 52,
   "metadata": {
    "colab": {},
    "colab_type": "code",
    "id": "bFBKZT-vMKai"
   },
   "outputs": [],
   "source": [
    "import os\n",
    "import pickle"
   ]
  },
  {
   "cell_type": "code",
   "execution_count": 53,
   "metadata": {
    "colab": {},
    "colab_type": "code",
    "id": "xvFUhqzBMKal",
    "outputId": "59ab0b32-d5bc-4c1e-99a8-083856d0c96d"
   },
   "outputs": [
    {
     "data": {
      "text/plain": [
       "'/home/majumdar/The_Lottery_Ticket_Hypothesis-Resources'"
      ]
     },
     "execution_count": 53,
     "metadata": {},
     "output_type": "execute_result"
    }
   ],
   "source": [
    "os.getcwd()"
   ]
  },
  {
   "cell_type": "code",
   "execution_count": 54,
   "metadata": {
    "colab": {},
    "colab_type": "code",
    "id": "WjlcGKVHMKaq"
   },
   "outputs": [],
   "source": [
    "with open(\"/home/majumdar/The_Lottery_Ticket_Hypothesis-Resources/Conv2_CIFAR10_history_main_Magnitude_based_Pruning_Gaussian_Glorot.pkl\", \"wb\") as f:\n",
    "    pickle.dump(history_main, f)"
   ]
  },
  {
   "cell_type": "code",
   "execution_count": null,
   "metadata": {
    "colab": {},
    "colab_type": "code",
    "id": "ppLmZMjFMKau"
   },
   "outputs": [],
   "source": []
  },
  {
   "cell_type": "code",
   "execution_count": null,
   "metadata": {
    "colab": {},
    "colab_type": "code",
    "id": "OsBYYnb_MKa1"
   },
   "outputs": [],
   "source": [
    "with open(\"/home/majumdar/The_Lottery_Ticket_Hypothesis-Resources/LeNet_MNIST_history_main_Experiment_3.pkl\", \"rb\") as f:\n",
    "    history_main = pickle.load(f)"
   ]
  },
  {
   "cell_type": "code",
   "execution_count": null,
   "metadata": {
    "colab": {},
    "colab_type": "code",
    "id": "QSxAra7BMKa4",
    "outputId": "8fde851d-a615-4b23-b8dc-b5fdfcf04787"
   },
   "outputs": [
    {
     "data": {
      "text/plain": [
       "89.13206556393234"
      ]
     },
     "execution_count": 54,
     "metadata": {
      "tags": []
     },
     "output_type": "execute_result"
    }
   ],
   "source": [
    "# Sanity check-\n",
    "history_main[10]['percentage_wts_pruned']"
   ]
  },
  {
   "cell_type": "code",
   "execution_count": null,
   "metadata": {
    "colab": {},
    "colab_type": "code",
    "id": "xNdgwvMhMKa7"
   },
   "outputs": [],
   "source": []
  },
  {
   "cell_type": "code",
   "execution_count": null,
   "metadata": {
    "colab": {},
    "colab_type": "code",
    "id": "mZpJx9dMMKa-"
   },
   "outputs": [],
   "source": []
  },
  {
   "cell_type": "markdown",
   "metadata": {
    "colab_type": "text",
    "id": "IUJ1dwOLMKbB"
   },
   "source": [
    "### Visualizations for _Iterative Pruning Rounds_:"
   ]
  },
  {
   "cell_type": "code",
   "execution_count": 55,
   "metadata": {
    "colab": {},
    "colab_type": "code",
    "id": "bOZ5K2gJMKbG"
   },
   "outputs": [],
   "source": [
    "# Python 3 dict for training and testing accuracy visualization-\n",
    "# key is 'percentage_wts_pruned' and value is accuracy\n",
    "plot_accuracy = {}\n",
    "plot_test_accuracy = {}"
   ]
  },
  {
   "cell_type": "code",
   "execution_count": 56,
   "metadata": {
    "colab": {},
    "colab_type": "code",
    "id": "7Wm25Jm7MKbK"
   },
   "outputs": [],
   "source": [
    "# populate 'plot_accuracy'-\n",
    "for k in history_main.keys():\n",
    "    epoch_length = len(history_main[k]['accuracy'])\n",
    "    plot_accuracy[history_main[k]['percentage_wts_pruned']] = history_main[k]['accuracy'][epoch_length - 1]"
   ]
  },
  {
   "cell_type": "code",
   "execution_count": 57,
   "metadata": {
    "colab": {},
    "colab_type": "code",
    "id": "_WUjOMj6MKbO"
   },
   "outputs": [],
   "source": [
    "# populate 'plot_test_accuracy'-\n",
    "for k in history_main.keys():\n",
    "    epoch_length = len(history_main[k]['accuracy'])\n",
    "    plot_test_accuracy[history_main[k]['percentage_wts_pruned']] = history_main[k]['val_accuracy'][epoch_length - 1]\n"
   ]
  },
  {
   "cell_type": "code",
   "execution_count": 58,
   "metadata": {
    "colab": {},
    "colab_type": "code",
    "id": "hNEsVFD8MKbR",
    "outputId": "b97473ae-5168-4ef2-a792-c19c82141e7f"
   },
   "outputs": [
    {
     "data": {
      "image/png": "[encoded data removed]",
      "text/plain": [
       "<Figure size 800x560 with 1 Axes>"
      ]
     },
     "metadata": {},
     "output_type": "display_data"
    }
   ],
   "source": [
    "# Visualization of training and testing accuracy VS percentage of weights\n",
    "# pruned-\n",
    "fig=plt.figure(figsize=(10, 7), dpi= 80, facecolor='w', edgecolor='k')\n",
    "\n",
    "plt.plot(list(plot_accuracy.keys()), list(plot_accuracy.values()), label = 'training_accuracy')\n",
    "plt.plot(list(plot_test_accuracy.keys()), list(plot_test_accuracy.values()), label = 'testing_accuracy')\n",
    "\n",
    "plt.title(\"Conv-2 CNN: Percentage of weights pruned VS Accuracy\")\n",
    "plt.xlabel(\"percentage of weights pruned\")\n",
    "plt.ylabel(\"Accuracy\")\n",
    "plt.legend(loc = 'best')\n",
    "plt.show()"
   ]
  },
  {
   "cell_type": "code",
   "execution_count": null,
   "metadata": {
    "colab": {},
    "colab_type": "code",
    "id": "FhOq59evMKbU"
   },
   "outputs": [],
   "source": []
  },
  {
   "cell_type": "code",
   "execution_count": null,
   "metadata": {
    "colab": {},
    "colab_type": "code",
    "id": "w1iH9AVHMKbX"
   },
   "outputs": [],
   "source": []
  },
  {
   "cell_type": "code",
   "execution_count": 59,
   "metadata": {
    "colab": {},
    "colab_type": "code",
    "id": "Sc4BcshQMKbZ"
   },
   "outputs": [],
   "source": [
    "# Python 3 dict for training and testing loss visualization-\n",
    "plot_loss = {}\n",
    "plot_test_loss = {}"
   ]
  },
  {
   "cell_type": "code",
   "execution_count": 60,
   "metadata": {
    "colab": {},
    "colab_type": "code",
    "id": "ssUgic2KMKbc"
   },
   "outputs": [],
   "source": [
    "# populate 'plot_loss'-\n",
    "for k in history_main.keys():\n",
    "    epoch_length = len(history_main[k]['loss'])\n",
    "    plot_loss[history_main[k]['percentage_wts_pruned']] = history_main[k]['loss'][epoch_length - 1]\n"
   ]
  },
  {
   "cell_type": "code",
   "execution_count": 61,
   "metadata": {
    "colab": {},
    "colab_type": "code",
    "id": "NZe0qKq3MKbf"
   },
   "outputs": [],
   "source": [
    "# populate 'plot_test_loss'-\n",
    "for k in history_main.keys():\n",
    "    epoch_length = len(history_main[k]['loss'])\n",
    "    plot_test_loss[history_main[k]['percentage_wts_pruned']] = history_main[k]['val_loss'][epoch_length - 1]\n"
   ]
  },
  {
   "cell_type": "code",
   "execution_count": 62,
   "metadata": {
    "colab": {},
    "colab_type": "code",
    "id": "uCKDEWElMKbl",
    "outputId": "1b86a507-9cf0-41de-ed56-296b81233e46"
   },
   "outputs": [
    {
     "data": {
      "image/png": "[encoded data removed]",
      "text/plain": [
       "<Figure size 800x560 with 1 Axes>"
      ]
     },
     "metadata": {},
     "output_type": "display_data"
    }
   ],
   "source": [
    "# Visualization of training and testing loss VS percentage of remaining weights-\n",
    "# pruned-\n",
    "fig=plt.figure(figsize=(10, 7), dpi= 80, facecolor='w', edgecolor='k')\n",
    "\n",
    "plt.plot(list(plot_loss.keys()), list(plot_loss.values()), label = 'training_loss')\n",
    "plt.plot(list(plot_test_loss.keys()), list(plot_test_loss.values()), label = 'testing_loss')\n",
    "\n",
    "plt.title(\"Conv-2 CNN: Percentage of weights pruned VS Loss\")\n",
    "plt.xlabel(\"percentage of weights pruned\")\n",
    "plt.ylabel(\"Loss\")\n",
    "plt.legend(loc = 'best')\n",
    "plt.show()"
   ]
  },
  {
   "cell_type": "code",
   "execution_count": null,
   "metadata": {
    "colab": {},
    "colab_type": "code",
    "id": "LCxxv2ahMKbs"
   },
   "outputs": [],
   "source": []
  },
  {
   "cell_type": "code",
   "execution_count": 63,
   "metadata": {
    "colab": {},
    "colab_type": "code",
    "id": "VLioC9-NMKbu"
   },
   "outputs": [],
   "source": [
    "# Plot number of epochs (Early Stopping) VS percentage of weights pruned-\n",
    "\n",
    "# Python 3 dict to hold number of epochs vs % of weights pruned-\n",
    "plot_num_epochs = {}\n",
    "plot_num_epochs_test = {}\n"
   ]
  },
  {
   "cell_type": "code",
   "execution_count": 64,
   "metadata": {
    "colab": {},
    "colab_type": "code",
    "id": "dif4-rEbMKby"
   },
   "outputs": [],
   "source": [
    "# populate 'plot_num_epochs'-\n",
    "for k in history_main.keys():\n",
    "    num_epochs = len(history_main[k]['accuracy'])\n",
    "    plot_num_epochs[history_main[k]['percentage_wts_pruned']] = num_epochs\n"
   ]
  },
  {
   "cell_type": "code",
   "execution_count": 65,
   "metadata": {
    "colab": {},
    "colab_type": "code",
    "id": "u4UJfVvhMKb5",
    "outputId": "ba60c50a-9a37-4cbc-f124-67f1c791d8d8"
   },
   "outputs": [
    {
     "data": {
      "image/png": "[encoded data removed]",
      "text/plain": [
       "<Figure size 720x560 with 1 Axes>"
      ]
     },
     "metadata": {},
     "output_type": "display_data"
    }
   ],
   "source": [
    "# Visualize percentage of weights remaining VS number of epochs (Early Stopping)\n",
    "fig=plt.figure(figsize=(9, 7), dpi= 80, facecolor='w', edgecolor='k')\n",
    "\n",
    "plt.plot(list(plot_num_epochs.keys()), list(plot_num_epochs.values()), label = 'training set')\n",
    "# plt.plot(list(plot_num_epochs_test.keys()), list(plot_num_epochs_test.values()), label = 'testing set')\n",
    "\n",
    "plt.title(\"Conv-2 CNN: Percentage of weights pruned VS number of epochs (Early Stopping)\")\n",
    "plt.xlabel(\"percentage of weights pruned\")\n",
    "plt.ylabel(\"number of epochs\")\n",
    "plt.legend(loc = 'best')\n",
    "plt.show()\n"
   ]
  },
  {
   "cell_type": "code",
   "execution_count": null,
   "metadata": {
    "colab": {},
    "colab_type": "code",
    "id": "FLe0KyKTMKb7"
   },
   "outputs": [],
   "source": []
  },
  {
   "cell_type": "code",
   "execution_count": null,
   "metadata": {
    "colab": {},
    "colab_type": "code",
    "id": "eLTSCEaxMKb-"
   },
   "outputs": [],
   "source": []
  },
  {
   "cell_type": "code",
   "execution_count": 66,
   "metadata": {
    "colab": {},
    "colab_type": "code",
    "id": "0-tQrHhtMKcB"
   },
   "outputs": [],
   "source": [
    "# Try to visualize the STARTING training and testing accuracy VS percentage\n",
    "# of remaining weights-\n",
    "\n",
    "# Python 3 dict for visualization-\n",
    "plot_starting_accuracy = {}\n",
    "plot_starting_test_accuracy = {}\n",
    "\n",
    "# Key:    percentage of weights pruned\n",
    "# Value:  starting accuracy\n"
   ]
  },
  {
   "cell_type": "code",
   "execution_count": 67,
   "metadata": {
    "colab": {},
    "colab_type": "code",
    "id": "AHtANfJMMKcF"
   },
   "outputs": [],
   "source": [
    "# populate 'plot_starting_accuracy'-\n",
    "for k in history_main.keys():\n",
    "    epoch_length = len(history_main[k]['loss'])\n",
    "    plot_starting_accuracy[history_main[k]['percentage_wts_pruned']] = history_main[k]['accuracy'][0]\n"
   ]
  },
  {
   "cell_type": "code",
   "execution_count": 68,
   "metadata": {
    "colab": {},
    "colab_type": "code",
    "id": "jsfhtooJMKcH"
   },
   "outputs": [],
   "source": [
    "# populate 'plot_starting_test_accuracy'-\n",
    "for k in history_main.keys():\n",
    "    epoch_length = len(history_main[k]['loss'])\n",
    "    plot_starting_test_accuracy[history_main[k]['percentage_wts_pruned']] = history_main[k]['val_accuracy'][0]\n"
   ]
  },
  {
   "cell_type": "code",
   "execution_count": 69,
   "metadata": {
    "colab": {},
    "colab_type": "code",
    "id": "vnNOmxPzMKcK",
    "outputId": "bc72c0b5-57a7-45de-cac4-70e4893921d3"
   },
   "outputs": [
    {
     "data": {
      "image/png": "[encoded data removed]",
      "text/plain": [
       "<Figure size 800x560 with 1 Axes>"
      ]
     },
     "metadata": {},
     "output_type": "display_data"
    }
   ],
   "source": [
    "# Visualize starting accuracy VS percentage of weights pruned-\n",
    "fig=plt.figure(figsize=(10, 7), dpi= 80, facecolor='w', edgecolor='k')\n",
    "\n",
    "plt.plot(list(plot_starting_accuracy.keys()), list(plot_starting_accuracy.values()), label = 'training starting accuracy')\n",
    "plt.plot(list(plot_starting_test_accuracy.keys()), list(plot_starting_test_accuracy.values()), label = 'testing starting accuracy')\n",
    "\n",
    "plt.title(\"Conv-2 CNN: Percentage of weights pruned VS Starting Accuracy\")\n",
    "plt.xlabel(\"percentage of weights pruned\")\n",
    "plt.ylabel(\"Accuracy\")\n",
    "plt.legend(loc = 'best')\n",
    "plt.show()\n"
   ]
  },
  {
   "cell_type": "code",
   "execution_count": null,
   "metadata": {
    "colab": {},
    "colab_type": "code",
    "id": "Bly3r9nsMKcO"
   },
   "outputs": [],
   "source": []
  },
  {
   "cell_type": "code",
   "execution_count": null,
   "metadata": {
    "colab": {},
    "colab_type": "code",
    "id": "41HdFzlSMKcS"
   },
   "outputs": [],
   "source": []
  },
  {
   "cell_type": "code",
   "execution_count": 70,
   "metadata": {
    "colab": {},
    "colab_type": "code",
    "id": "KxQ__PodMKcW"
   },
   "outputs": [],
   "source": [
    "# Try to visualize the STARTING training and testing loss VS percentage\n",
    "# of remaining weights-\n",
    "\n",
    "# Python 3 dict for visualization-\n",
    "plot_starting_loss = {}\n",
    "plot_starting_test_loss = {}\n",
    "\n",
    "# Key:\t\tpercentage of weights pruned\n",
    "# Value:\tstarting loss\n"
   ]
  },
  {
   "cell_type": "code",
   "execution_count": 71,
   "metadata": {
    "colab": {},
    "colab_type": "code",
    "id": "cnzPlUx0MKcY"
   },
   "outputs": [],
   "source": [
    "# Populate 'plot_starting_loss' Python 3 dict-\n",
    "for k in history_main.keys():\n",
    "    epoch_length = len(history_main[k]['loss'])\n",
    "    plot_starting_loss[history_main[k]['percentage_wts_pruned']] = history_main[k]['loss'][0]\n"
   ]
  },
  {
   "cell_type": "code",
   "execution_count": 72,
   "metadata": {
    "colab": {},
    "colab_type": "code",
    "id": "Y9J82jrOMKcb"
   },
   "outputs": [],
   "source": [
    "# Populate 'plot_starting_test_loss' Python 3 dict-\n",
    "for k in history_main.keys():\n",
    "    epoch_length = len(history_main[k]['loss'])\n",
    "    plot_starting_test_loss[history_main[k]['percentage_wts_pruned']] = history_main[k]['val_loss'][0]\n"
   ]
  },
  {
   "cell_type": "code",
   "execution_count": 73,
   "metadata": {
    "colab": {},
    "colab_type": "code",
    "id": "6ywrtLJkMKce",
    "outputId": "0952a982-9ac4-44cb-94c6-28e24d026312"
   },
   "outputs": [
    {
     "data": {
      "image/png": "[encoded data removed]",
      "text/plain": [
       "<Figure size 800x560 with 1 Axes>"
      ]
     },
     "metadata": {},
     "output_type": "display_data"
    }
   ],
   "source": [
    "# Visualize Starting training & testing loss VS percentage of weights pruned-\n",
    "fig=plt.figure(figsize=(10, 7), dpi= 80, facecolor='w', edgecolor='k')\n",
    "\n",
    "plt.plot(list(plot_starting_loss.keys()), list(plot_starting_loss.values()), label = 'training starting loss')\n",
    "plt.plot(list(plot_starting_test_loss.keys()), list(plot_starting_test_loss.values()), label = 'testing starting loss')\n",
    "\n",
    "plt.title(\"Conv-2 CNN: Percentage of weights pruned VS Starting Loss\")\n",
    "plt.xlabel(\"percentage of weights pruned\")\n",
    "plt.ylabel(\"Loss\")\n",
    "plt.legend(loc = 'best')\n",
    "plt.show()"
   ]
  },
  {
   "cell_type": "code",
   "execution_count": null,
   "metadata": {
    "colab": {},
    "colab_type": "code",
    "id": "6TkNqPNTMKch"
   },
   "outputs": [],
   "source": []
  },
  {
   "cell_type": "code",
   "execution_count": null,
   "metadata": {
    "colab": {},
    "colab_type": "code",
    "id": "ElBrb4p_MKcz"
   },
   "outputs": [],
   "source": []
  },
  {
   "cell_type": "code",
   "execution_count": 74,
   "metadata": {
    "colab": {},
    "colab_type": "code",
    "id": "ItL8unY0MKc2"
   },
   "outputs": [],
   "source": [
    "# Try to visualize: percentage of weights remaining VS BEST accuracy within each iterative\n",
    "# pruning round\n",
    "\n",
    "# Python 3 dict for visualization-\n",
    "plot_best_accuracy = {}\n",
    "plot_best_test_accuracy = {}\n",
    "\n",
    "# Key:\t\tpercentage of weights pruned\n",
    "# Value:\tbest accuracy"
   ]
  },
  {
   "cell_type": "code",
   "execution_count": 75,
   "metadata": {
    "colab": {},
    "colab_type": "code",
    "id": "qXByFXWRMKc6"
   },
   "outputs": [],
   "source": [
    "# Populate 'plot_best_accuracy' Python 3 dict-\n",
    "for k in history_main.keys():\n",
    "    epoch_length = len(history_main[k]['accuracy'])\n",
    "    plot_best_accuracy[history_main[k]['percentage_wts_pruned']] = np.amax(history_main[k]['accuracy'])\n"
   ]
  },
  {
   "cell_type": "code",
   "execution_count": 76,
   "metadata": {
    "colab": {},
    "colab_type": "code",
    "id": "SVSnE3ClMKc9"
   },
   "outputs": [],
   "source": [
    "# Populate 'plot_best_test_accuracy' Python 3 dict-\n",
    "for k in history_main.keys():\n",
    "    epoch_length = len(history_main[k]['accuracy'])\n",
    "    plot_best_test_accuracy[history_main[k]['percentage_wts_pruned']] = np.amax(history_main[k]['val_accuracy'])\n"
   ]
  },
  {
   "cell_type": "code",
   "execution_count": 77,
   "metadata": {
    "colab": {},
    "colab_type": "code",
    "id": "r0ntLSMWMKdA",
    "outputId": "71061594-671b-4e55-8179-04f62baf8b07"
   },
   "outputs": [
    {
     "data": {
      "image/png": "[encoded data removed]",
      "text/plain": [
       "<Figure size 800x560 with 1 Axes>"
      ]
     },
     "metadata": {},
     "output_type": "display_data"
    }
   ],
   "source": [
    "# Visualize best accuracy VS percentage of weights pruned-\n",
    "fig=plt.figure(figsize=(10, 7), dpi= 80, facecolor='w', edgecolor='k')\n",
    "\n",
    "plt.plot(list(plot_best_accuracy.keys()), list(plot_best_accuracy.values()), label = 'training best accuracy')\n",
    "plt.plot(list(plot_best_test_accuracy.keys()), list(plot_best_test_accuracy.values()), label = 'testing best accuracy')\n",
    "\n",
    "plt.title(\"Conv-2 CNN: Percentage of weights pruned VS Best Accuracy\")\n",
    "plt.xlabel(\"percentage of weights pruned\")\n",
    "plt.ylabel(\"Accuracy\")\n",
    "plt.legend(loc = 'best')\n",
    "plt.show()\n"
   ]
  },
  {
   "cell_type": "code",
   "execution_count": null,
   "metadata": {
    "colab": {},
    "colab_type": "code",
    "id": "mAAZOWbrMKdD"
   },
   "outputs": [],
   "source": []
  },
  {
   "cell_type": "code",
   "execution_count": null,
   "metadata": {
    "colab": {},
    "colab_type": "code",
    "id": "9WyxkjuOMKdF"
   },
   "outputs": [],
   "source": []
  },
  {
   "cell_type": "code",
   "execution_count": 78,
   "metadata": {
    "colab": {},
    "colab_type": "code",
    "id": "Uur7ZSt6MKdI"
   },
   "outputs": [],
   "source": [
    "# Try to visualize: percentage of weights remaining VS LOWEST loss within each iterative\n",
    "# pruning round\n",
    "\n",
    "# Python 3 dict for visualization-\n",
    "plot_best_loss = {}\n",
    "plot_best_test_loss = {}\n",
    "\n",
    "# Key:\t\tpercentage of weights pruned\n",
    "# Value:\tbest loss"
   ]
  },
  {
   "cell_type": "code",
   "execution_count": 79,
   "metadata": {
    "colab": {},
    "colab_type": "code",
    "id": "SZHNOz-2MKdL"
   },
   "outputs": [],
   "source": [
    "# Populate 'plot_best_loss' Python 3 dict-\n",
    "for k in history_main.keys():\n",
    "    epoch_length = len(history_main[k]['loss'])\n",
    "    plot_best_loss[history_main[k]['percentage_wts_pruned']] = np.amin(history_main[k]['loss'])\n"
   ]
  },
  {
   "cell_type": "code",
   "execution_count": 80,
   "metadata": {
    "colab": {},
    "colab_type": "code",
    "id": "flqdkmEnMKdM"
   },
   "outputs": [],
   "source": [
    "# Populate 'plot_best_test_loss' Python 3 dict-\n",
    "for k in history_main.keys():\n",
    "    epoch_length = len(history_main[k]['loss'])\n",
    "    plot_best_test_loss[history_main[k]['percentage_wts_pruned']] = np.amin(history_main[k]['val_loss'])\n"
   ]
  },
  {
   "cell_type": "code",
   "execution_count": 81,
   "metadata": {
    "colab": {},
    "colab_type": "code",
    "id": "XkmwHQw1MKdP",
    "outputId": "796b4c86-c496-41c6-b92b-5be67889f464"
   },
   "outputs": [
    {
     "data": {
      "image/png": "[encoded data removed]",
      "text/plain": [
       "<Figure size 800x560 with 1 Axes>"
      ]
     },
     "metadata": {},
     "output_type": "display_data"
    }
   ],
   "source": [
    "# Visualize best loss VS percentage of weights pruned-\n",
    "fig=plt.figure(figsize=(10, 7), dpi= 80, facecolor='w', edgecolor='k')\n",
    "\n",
    "plt.plot(list(plot_best_loss.keys()), list(plot_best_loss.values()), label = 'training best loss')\n",
    "plt.plot(list(plot_best_test_loss.keys()), list(plot_best_test_loss.values()), label = 'testing best loss')\n",
    "\n",
    "plt.title(\"Conv-2 CNN: Percentage of weights pruned VS Best Loss\")\n",
    "plt.xlabel(\"percentage of weights pruned\")\n",
    "plt.ylabel(\"Loss\")\n",
    "plt.legend(loc = 'best')\n",
    "plt.show()\n"
   ]
  },
  {
   "cell_type": "code",
   "execution_count": null,
   "metadata": {
    "colab": {},
    "colab_type": "code",
    "id": "Yryb4648MKdT"
   },
   "outputs": [],
   "source": []
  },
  {
   "cell_type": "code",
   "execution_count": null,
   "metadata": {
    "colab": {},
    "colab_type": "code",
    "id": "JNDEnxftMKdV"
   },
   "outputs": [],
   "source": []
  },
  {
   "cell_type": "markdown",
   "metadata": {
    "colab": {},
    "colab_type": "code",
    "id": "2giW2pNyMKdn"
   },
   "source": [
    "### Find the winning ticket(s):"
   ]
  },
  {
   "cell_type": "code",
   "execution_count": 82,
   "metadata": {},
   "outputs": [
    {
     "name": "stdout",
     "output_type": "stream",
     "text": [
      "epoch: 1, val_acc = 69.3900% with 0.0000% weights pruned, needs = 10 epochs\n",
      "epoch: 2, val_acc = 70.7800% with 19.9013% weights pruned, needs = 8 epochs\n",
      "epoch: 3, val_acc = 68.7000% with 35.8322% weights pruned, needs = 9 epochs\n",
      "epoch: 4, val_acc = 70.2400% with 48.5876% weights pruned, needs = 10 epochs\n",
      "epoch: 5, val_acc = 70.1500% with 58.7990% weights pruned, needs = 9 epochs\n",
      "epoch: 6, val_acc = 70.6700% with 66.9747% weights pruned, needs = 7 epochs\n",
      "epoch: 7, val_acc = 70.3900% with 73.5217% weights pruned, needs = 8 epochs\n",
      "epoch: 8, val_acc = 70.3800% with 78.7637% weights pruned, needs = 6 epochs\n",
      "epoch: 9, val_acc = 70.8600% with 82.9639% weights pruned, needs = 6 epochs\n",
      "epoch: 10, val_acc = 70.5700% with 86.3275% weights pruned, needs = 6 epochs\n",
      "epoch: 11, val_acc = 70.6400% with 89.0235% weights pruned, needs = 7 epochs\n",
      "epoch: 12, val_acc = 70.4400% with 91.1831% weights pruned, needs = 8 epochs\n",
      "epoch: 13, val_acc = 70.3700% with 92.9144% weights pruned, needs = 9 epochs\n",
      "epoch: 14, val_acc = 70.6600% with 94.3021% weights pruned, needs = 9 epochs\n",
      "epoch: 15, val_acc = 70.5800% with 95.4158% weights pruned, needs = 9 epochs\n",
      "epoch: 16, val_acc = 69.6500% with 96.3092% weights pruned, needs = 10 epochs\n",
      "epoch: 17, val_acc = 68.6800% with 97.0251% weights pruned, needs = 11 epochs\n",
      "epoch: 18, val_acc = 68.8200% with 97.6006% weights pruned, needs = 12 epochs\n",
      "epoch: 19, val_acc = 68.1600% with 98.0634% weights pruned, needs = 12 epochs\n",
      "epoch: 20, val_acc = 68.0400% with 98.4344% weights pruned, needs = 15 epochs\n",
      "epoch: 21, val_acc = 67.9700% with 98.7328% weights pruned, needs = 19 epochs\n",
      "epoch: 22, val_acc = 67.0500% with 98.9736% weights pruned, needs = 21 epochs\n",
      "epoch: 23, val_acc = 66.2400% with 99.1667% weights pruned, needs = 18 epochs\n",
      "epoch: 24, val_acc = 65.5700% with 99.3230% weights pruned, needs = 23 epochs\n",
      "epoch: 25, val_acc = 65.8800% with 99.4489% weights pruned, needs = 31 epochs\n"
     ]
    }
   ],
   "source": [
    "for k in history_main.keys():\n",
    "\tepoch_length = len(history_main[k]['loss'])\n",
    "\n",
    "\tif k == 1:\n",
    "\t\tprint(\"epoch: {0}, val_acc = {1:.4f}% with {2:.4f}% weights pruned, needs = {3} epochs\".format(\n",
    "\t\t\tk, history_main[k]['val_accuracy'][epoch_length-1],\n",
    "\t\t\t0, epoch_length))\n",
    "\telse:\n",
    "\t\tprint(\"epoch: {0}, val_acc = {1:.4f}% with {2:.4f}% weights pruned, needs = {3} epochs\".format(\n",
    "\t\t\tk, history_main[k]['val_accuracy'][epoch_length-1],\n",
    "\t\t\thistory_main[k - 1]['percentage_wts_pruned'], epoch_length))\n"
   ]
  },
  {
   "cell_type": "code",
   "execution_count": null,
   "metadata": {
    "colab": {},
    "colab_type": "code",
    "id": "SjABF-VtMKdr"
   },
   "outputs": [],
   "source": []
  }
 ],
 "metadata": {
  "accelerator": "GPU",
  "colab": {
   "collapsed_sections": [
    "IUJ1dwOLMKbB",
    "MgVkzKiDMKdY"
   ],
   "name": "Conv_2_CIFAR10-Magnitude_based_Pruning.ipynb",
   "provenance": []
  },
  "kernelspec": {
   "display_name": "Python 3",
   "language": "python",
   "name": "python3"
  },
  "language_info": {
   "codemirror_mode": {
    "name": "ipython",
    "version": 3
   },
   "file_extension": ".py",
   "mimetype": "text/x-python",
   "name": "python",
   "nbconvert_exporter": "python",
   "pygments_lexer": "ipython3",
   "version": "3.8.2"
  }
 },
 "nbformat": 4,
 "nbformat_minor": 4
}
