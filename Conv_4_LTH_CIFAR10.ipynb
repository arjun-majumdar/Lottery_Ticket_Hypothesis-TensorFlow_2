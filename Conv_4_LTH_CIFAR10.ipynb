{
 "cells": [
  {
   "cell_type": "markdown",
   "metadata": {},
   "source": [
    "# Lottery Ticket Hypothesis: _Conv-4_ CNN for CIFAR10\n",
    "\n",
    "Implementation of the hypothesis using 4 convolutional layers with the following architecture:\n",
    "\n",
    "1. __Convolutional Layers:__ 64, 64, pool\n",
    "1. __Convolutional Layers:__ 128, 128, pool\n",
    "1. __Dense Layers:__ 256, 256, 10\n",
    "\n",
    "Filter/Kernel size for convolutional layers is 3 x 3, with padding and stride of 1.\n",
    "\n",
    "Filter and Stride for max-pooling layers is 2 x 2"
   ]
  },
  {
   "cell_type": "code",
   "execution_count": null,
   "metadata": {},
   "outputs": [],
   "source": []
  },
  {
   "cell_type": "code",
   "execution_count": 1,
   "metadata": {},
   "outputs": [
    {
     "name": "stderr",
     "output_type": "stream",
     "text": [
      "/opt/conda/lib/python3.7/site-packages/tensorboard/compat/tensorflow_stub/dtypes.py:541: FutureWarning: Passing (type, 1) or '1type' as a synonym of type is deprecated; in a future version of numpy, it will be understood as (type, (1,)) / '(1,)type'.\n",
      "  _np_qint8 = np.dtype([(\"qint8\", np.int8, 1)])\n",
      "/opt/conda/lib/python3.7/site-packages/tensorboard/compat/tensorflow_stub/dtypes.py:542: FutureWarning: Passing (type, 1) or '1type' as a synonym of type is deprecated; in a future version of numpy, it will be understood as (type, (1,)) / '(1,)type'.\n",
      "  _np_quint8 = np.dtype([(\"quint8\", np.uint8, 1)])\n",
      "/opt/conda/lib/python3.7/site-packages/tensorboard/compat/tensorflow_stub/dtypes.py:543: FutureWarning: Passing (type, 1) or '1type' as a synonym of type is deprecated; in a future version of numpy, it will be understood as (type, (1,)) / '(1,)type'.\n",
      "  _np_qint16 = np.dtype([(\"qint16\", np.int16, 1)])\n",
      "/opt/conda/lib/python3.7/site-packages/tensorboard/compat/tensorflow_stub/dtypes.py:544: FutureWarning: Passing (type, 1) or '1type' as a synonym of type is deprecated; in a future version of numpy, it will be understood as (type, (1,)) / '(1,)type'.\n",
      "  _np_quint16 = np.dtype([(\"quint16\", np.uint16, 1)])\n",
      "/opt/conda/lib/python3.7/site-packages/tensorboard/compat/tensorflow_stub/dtypes.py:545: FutureWarning: Passing (type, 1) or '1type' as a synonym of type is deprecated; in a future version of numpy, it will be understood as (type, (1,)) / '(1,)type'.\n",
      "  _np_qint32 = np.dtype([(\"qint32\", np.int32, 1)])\n",
      "/opt/conda/lib/python3.7/site-packages/tensorboard/compat/tensorflow_stub/dtypes.py:550: FutureWarning: Passing (type, 1) or '1type' as a synonym of type is deprecated; in a future version of numpy, it will be understood as (type, (1,)) / '(1,)type'.\n",
      "  np_resource = np.dtype([(\"resource\", np.ubyte, 1)])\n"
     ]
    }
   ],
   "source": [
    "import tensorflow as tf\n",
    "import numpy as np\n",
    "import matplotlib.pyplot as plt\n",
    "import math\n",
    "import tensorflow_model_optimization as tfmot\n",
    "from tensorflow_model_optimization.sparsity import keras as sparsity\n",
    "# from tensorflow.keras import datasets, layers, models\n",
    "import matplotlib.pyplot as plt\n",
    "from tensorflow.keras.layers import AveragePooling2D, Conv2D, MaxPooling2D, ReLU\n",
    "from tensorflow.keras import models, layers, datasets\n",
    "from tensorflow.keras.layers import Dense, Flatten, Reshape, Input, InputLayer\n",
    "from tensorflow.keras.models import Sequential, Model\n",
    "from tensorflow.keras.initializers import RandomNormal\n",
    "# import math\n",
    "from sklearn.metrics import accuracy_score, precision_score, recall_score"
   ]
  },
  {
   "cell_type": "code",
   "execution_count": null,
   "metadata": {},
   "outputs": [],
   "source": []
  },
  {
   "cell_type": "code",
   "execution_count": null,
   "metadata": {},
   "outputs": [],
   "source": []
  },
  {
   "cell_type": "code",
   "execution_count": 2,
   "metadata": {},
   "outputs": [
    {
     "data": {
      "text/plain": [
       "'2.0.0'"
      ]
     },
     "execution_count": 2,
     "metadata": {},
     "output_type": "execute_result"
    }
   ],
   "source": [
    "tf.__version__"
   ]
  },
  {
   "cell_type": "code",
   "execution_count": 3,
   "metadata": {},
   "outputs": [
    {
     "name": "stdout",
     "output_type": "stream",
     "text": [
      "env: CUDA_DEVICE_ORDER=PCI_BUS_ID\n",
      "env: CUDA_VISIBLE_DEVICES=2\n"
     ]
    }
   ],
   "source": [
    "%env CUDA_DEVICE_ORDER=PCI_BUS_ID\n",
    "%env CUDA_VISIBLE_DEVICES=2"
   ]
  },
  {
   "cell_type": "code",
   "execution_count": 4,
   "metadata": {},
   "outputs": [],
   "source": [
    "batch_size = 60\n",
    "num_classes = 10\n",
    "num_epochs = 100"
   ]
  },
  {
   "cell_type": "code",
   "execution_count": 5,
   "metadata": {},
   "outputs": [],
   "source": [
    "# Data preprocessing and cleaning:\n",
    "# input image dimensions\n",
    "img_rows, img_cols = 32, 32\n",
    "\n",
    "# Load CIFAR-10 dataset-\n",
    "(X_train, y_train), (X_test, y_test) = tf.keras.datasets.cifar10.load_data()"
   ]
  },
  {
   "cell_type": "code",
   "execution_count": 6,
   "metadata": {},
   "outputs": [
    {
     "name": "stdout",
     "output_type": "stream",
     "text": [
      "\n",
      "'input_shape' which will be used = (32, 32, 3)\n",
      "\n"
     ]
    }
   ],
   "source": [
    "if tf.keras.backend.image_data_format() == 'channels_first':\n",
    "    X_train = X_train.reshape(X_train.shape[0], 3, img_rows, img_cols)\n",
    "    X_test = X_test.reshape(X_test.shape[0], 3, img_rows, img_cols)\n",
    "    input_shape = (3, img_rows, img_cols)\n",
    "else:\n",
    "    X_train = X_train.reshape(X_train.shape[0], img_rows, img_cols, 3)\n",
    "    X_test = X_test.reshape(X_test.shape[0], img_rows, img_cols, 3)\n",
    "    input_shape = (img_rows, img_cols, 3)\n",
    "\n",
    "print(\"\\n'input_shape' which will be used = {0}\\n\".format(input_shape))"
   ]
  },
  {
   "cell_type": "code",
   "execution_count": 7,
   "metadata": {},
   "outputs": [],
   "source": [
    "# Convert datasets to floating point types-\n",
    "X_train = X_train.astype('float32')\n",
    "X_test = X_test.astype('float32')\n",
    "\n",
    "# Normalize the training and testing datasets-\n",
    "X_train /= 255.0\n",
    "X_test /= 255.0"
   ]
  },
  {
   "cell_type": "code",
   "execution_count": 8,
   "metadata": {},
   "outputs": [],
   "source": [
    "# convert class vectors/target to binary class matrices or one-hot encoded values-\n",
    "y_train = tf.keras.utils.to_categorical(y_train, num_classes)\n",
    "y_test = tf.keras.utils.to_categorical(y_test, num_classes)"
   ]
  },
  {
   "cell_type": "code",
   "execution_count": 9,
   "metadata": {},
   "outputs": [
    {
     "name": "stdout",
     "output_type": "stream",
     "text": [
      "\n",
      "Dimensions of training and testing sets are:\n",
      "X_train.shape = (50000, 32, 32, 3), y_train.shape = (50000, 10)\n",
      "X_test.shape = (10000, 32, 32, 3), y_test.shape = (10000, 10)\n"
     ]
    }
   ],
   "source": [
    "print(\"\\nDimensions of training and testing sets are:\")\n",
    "print(\"X_train.shape = {0}, y_train.shape = {1}\".format(X_train.shape, y_train.shape))\n",
    "print(\"X_test.shape = {0}, y_test.shape = {1}\".format(X_test.shape, y_test.shape))"
   ]
  },
  {
   "cell_type": "code",
   "execution_count": null,
   "metadata": {},
   "outputs": [],
   "source": []
  },
  {
   "cell_type": "code",
   "execution_count": null,
   "metadata": {},
   "outputs": [],
   "source": []
  },
  {
   "cell_type": "markdown",
   "metadata": {},
   "source": [
    "### Prepare CIFAR10 dataset for _GradientTape_ training:"
   ]
  },
  {
   "cell_type": "code",
   "execution_count": 10,
   "metadata": {},
   "outputs": [],
   "source": [
    "# Create training and testing datasets-\n",
    "train_dataset = tf.data.Dataset.from_tensor_slices((X_train, y_train))\n",
    "test_dataset = tf.data.Dataset.from_tensor_slices((X_test, y_test))"
   ]
  },
  {
   "cell_type": "code",
   "execution_count": 11,
   "metadata": {},
   "outputs": [],
   "source": [
    "train_dataset = train_dataset.shuffle(buffer_size = 20000, reshuffle_each_iteration = True).batch(batch_size = batch_size, drop_remainder = False)"
   ]
  },
  {
   "cell_type": "code",
   "execution_count": 12,
   "metadata": {},
   "outputs": [],
   "source": [
    "test_dataset = test_dataset.batch(batch_size=batch_size, drop_remainder=False)"
   ]
  },
  {
   "cell_type": "code",
   "execution_count": 13,
   "metadata": {},
   "outputs": [],
   "source": [
    "# Choose an optimizer and loss function for training-\n",
    "loss_fn = tf.keras.losses.CategoricalCrossentropy()\n",
    "optimizer = tf.keras.optimizers.Adam(lr = 0.0003)"
   ]
  },
  {
   "cell_type": "code",
   "execution_count": 14,
   "metadata": {},
   "outputs": [],
   "source": [
    "# Select metrics to measure the error & accuracy of model.\n",
    "# These metrics accumulate the values over epochs and then\n",
    "# print the overall result-\n",
    "train_loss = tf.keras.metrics.Mean(name = 'train_loss')\n",
    "train_accuracy = tf.keras.metrics.CategoricalAccuracy(name = 'train_accuracy')\n",
    "\n",
    "test_loss = tf.keras.metrics.Mean(name = 'test_loss')\n",
    "test_accuracy = tf.keras.metrics.CategoricalAccuracy(name = 'test_accuracy')"
   ]
  },
  {
   "cell_type": "code",
   "execution_count": null,
   "metadata": {},
   "outputs": [],
   "source": []
  },
  {
   "cell_type": "code",
   "execution_count": null,
   "metadata": {},
   "outputs": [],
   "source": []
  },
  {
   "cell_type": "code",
   "execution_count": 15,
   "metadata": {},
   "outputs": [
    {
     "name": "stdout",
     "output_type": "stream",
     "text": [
      "'end_step parameter' for this dataset =  83400\n"
     ]
    }
   ],
   "source": [
    "# The model is first trained without any pruning for 'num_epochs' epochs-\n",
    "epochs = num_epochs\n",
    "\n",
    "num_train_samples = X_train.shape[0]\n",
    "\n",
    "end_step = np.ceil(1.0 * num_train_samples / batch_size).astype(np.int32) * epochs\n",
    "\n",
    "print(\"'end_step parameter' for this dataset =  {0}\".format(end_step))"
   ]
  },
  {
   "cell_type": "code",
   "execution_count": 16,
   "metadata": {},
   "outputs": [],
   "source": [
    "# Specify the parameters to be used for layer-wise pruning, NO PRUNING is done here:\n",
    "pruning_params_unpruned = {\n",
    "    'pruning_schedule': sparsity.ConstantSparsity(\n",
    "        target_sparsity=0.0, begin_step=0,\n",
    "        end_step = end_step, frequency=100\n",
    "    )\n",
    "}"
   ]
  },
  {
   "cell_type": "code",
   "execution_count": null,
   "metadata": {},
   "outputs": [],
   "source": []
  },
  {
   "cell_type": "code",
   "execution_count": null,
   "metadata": {},
   "outputs": [],
   "source": []
  },
  {
   "cell_type": "code",
   "execution_count": 95,
   "metadata": {},
   "outputs": [],
   "source": [
    "def pruned_nn(pruning_params_conv, pruning_params_fc, pruning_params_op):\n",
    "    \"\"\"\n",
    "    Function to define the architecture of a neural network model\n",
    "    following Conv-2 architecture for CIFAR-10 dataset and using\n",
    "    provided parameter which are used to prune the model.\n",
    "    \n",
    "    Conv-4 architecture-\n",
    "    64, 64, pool  -- convolutions\n",
    "    128, 128, pool -- convolutions\n",
    "    256, 256, 10  -- fully connected layers\n",
    "    \n",
    "    Input: 'pruning_params' Python 3 dictionary containing parameters which are used for pruning\n",
    "    Output: Returns designed and compiled neural network model\n",
    "    \"\"\"\n",
    "    \n",
    "    l = tf.keras.layers\n",
    "    \n",
    "    pruned_model = Sequential()\n",
    "    \n",
    "    pruned_model.add(sparsity.prune_low_magnitude(\n",
    "        Conv2D(\n",
    "            filters = 64, kernel_size = (3, 3),\n",
    "            activation='relu', kernel_initializer = tf.initializers.GlorotUniform(),\n",
    "            strides = (1, 1), padding = 'same',\n",
    "            input_shape=(32, 32, 3)\n",
    "        ),\n",
    "        **pruning_params_conv)\n",
    "    )\n",
    "        \n",
    "    pruned_model.add(sparsity.prune_low_magnitude(\n",
    "        Conv2D(\n",
    "            filters = 64, kernel_size = (3, 3),\n",
    "            activation='relu', kernel_initializer = tf.initializers.GlorotUniform(),\n",
    "            strides = (1, 1), padding = 'same'\n",
    "        ),\n",
    "        **pruning_params_conv)\n",
    "    )\n",
    "    \n",
    "    pruned_model.add(sparsity.prune_low_magnitude(\n",
    "        MaxPooling2D(\n",
    "            pool_size = (2, 2),\n",
    "            strides = (2, 2)\n",
    "        ),\n",
    "        **pruning_params_conv)\n",
    "    )\n",
    "    \n",
    "    pruned_model.add(sparsity.prune_low_magnitude(\n",
    "        Conv2D(\n",
    "            filters = 128, kernel_size = (3, 3),\n",
    "            activation='relu', kernel_initializer = tf.initializers.GlorotUniform(),\n",
    "            strides = (1, 1), padding = 'same'\n",
    "        ),\n",
    "        **pruning_params_conv)\n",
    "    )\n",
    "\n",
    "    pruned_model.add(sparsity.prune_low_magnitude(\n",
    "        Conv2D(\n",
    "            filters = 128, kernel_size = (3, 3),\n",
    "            activation='relu', kernel_initializer = tf.initializers.GlorotUniform(),\n",
    "            strides = (1, 1), padding = 'same'\n",
    "        ),\n",
    "        **pruning_params_conv)\n",
    "    )\n",
    "\n",
    "    pruned_model.add(sparsity.prune_low_magnitude(\n",
    "        MaxPooling2D(\n",
    "            pool_size = (2, 2),\n",
    "            strides = (2, 2)\n",
    "        ),\n",
    "        **pruning_params_conv)\n",
    "    )\n",
    "\n",
    "    \n",
    "    pruned_model.add(Flatten())\n",
    "    \n",
    "    pruned_model.add(sparsity.prune_low_magnitude(\n",
    "        Dense(\n",
    "            units = 256, activation='relu',\n",
    "            kernel_initializer = tf.initializers.GlorotUniform()\n",
    "        ),\n",
    "        **pruning_params_fc)\n",
    "    )\n",
    "    \n",
    "    pruned_model.add(l.Dropout(0.3))\n",
    "    \n",
    "    pruned_model.add(sparsity.prune_low_magnitude(\n",
    "        Dense(\n",
    "            units = 256, activation='relu',\n",
    "            kernel_initializer = tf.initializers.GlorotUniform()\n",
    "        ),\n",
    "        **pruning_params_fc)\n",
    "    )\n",
    "    \n",
    "    pruned_model.add(sparsity.prune_low_magnitude(\n",
    "        Dense(\n",
    "            units = 10, activation='softmax'\n",
    "        ),\n",
    "        **pruning_params_op)\n",
    "    )\n",
    "    \n",
    "\n",
    "    # Compile pruned CNN-\n",
    "    pruned_model.compile(\n",
    "        loss=tf.keras.losses.categorical_crossentropy,\n",
    "        # optimizer='adam',\n",
    "        optimizer=tf.keras.optimizers.Adam(lr = 0.0003),\n",
    "        metrics=['accuracy']\n",
    "    )\n",
    "    \n",
    "    \n",
    "    return pruned_model\n"
   ]
  },
  {
   "cell_type": "code",
   "execution_count": null,
   "metadata": {},
   "outputs": [],
   "source": []
  },
  {
   "cell_type": "code",
   "execution_count": 96,
   "metadata": {},
   "outputs": [],
   "source": [
    "# Add a pruning step callback to peg the pruning step to the optimizer's\n",
    "# step. Also add a callback to add pruning summaries to tensorboard\n",
    "callback = [\n",
    "             sparsity.UpdatePruningStep(),\n",
    "             # sparsity.PruningSummaries(log_dir = logdir, profile_batch=0),\n",
    "             tf.keras.callbacks.EarlyStopping(\n",
    "                 monitor='val_loss', patience = 3,\n",
    "                 min_delta=0.001\n",
    "             )\n",
    "]"
   ]
  },
  {
   "cell_type": "code",
   "execution_count": null,
   "metadata": {},
   "outputs": [],
   "source": []
  },
  {
   "cell_type": "code",
   "execution_count": 97,
   "metadata": {},
   "outputs": [],
   "source": [
    "# Initialize a CNN model-\n",
    "orig_model = pruned_nn(pruning_params_unpruned, pruning_params_unpruned, pruning_params_unpruned)"
   ]
  },
  {
   "cell_type": "code",
   "execution_count": 98,
   "metadata": {},
   "outputs": [],
   "source": [
    "# Save trained weights-\n",
    "orig_model.save_weights(\"Conv_4_CIFAR10_Random_Weights.h5\", overwrite = True)"
   ]
  },
  {
   "cell_type": "code",
   "execution_count": null,
   "metadata": {},
   "outputs": [],
   "source": []
  },
  {
   "cell_type": "code",
   "execution_count": 90,
   "metadata": {},
   "outputs": [],
   "source": [
    "# Load random weights from before to train it-\n",
    "orig_model.load_weights(\"Conv_4_CIFAR10_Random_Weights.h5\")"
   ]
  },
  {
   "cell_type": "code",
   "execution_count": 99,
   "metadata": {},
   "outputs": [
    {
     "name": "stdout",
     "output_type": "stream",
     "text": [
      "Train on 50000 samples, validate on 10000 samples\n",
      "Epoch 1/100\n",
      "50000/50000 [==============================] - 140s 3ms/sample - loss: 1.5277 - accuracy: 0.4405 - val_loss: 1.1815 - val_accuracy: 0.5753\n",
      "Epoch 2/100\n",
      "50000/50000 [==============================] - 196s 4ms/sample - loss: 1.0811 - accuracy: 0.6162 - val_loss: 0.9745 - val_accuracy: 0.6563\n",
      "Epoch 3/100\n",
      "50000/50000 [==============================] - 198s 4ms/sample - loss: 0.8765 - accuracy: 0.6910 - val_loss: 0.7966 - val_accuracy: 0.7210\n",
      "Epoch 4/100\n",
      "50000/50000 [==============================] - 196s 4ms/sample - loss: 0.7333 - accuracy: 0.7423 - val_loss: 0.7486 - val_accuracy: 0.7421\n",
      "Epoch 5/100\n",
      "50000/50000 [==============================] - 196s 4ms/sample - loss: 0.6280 - accuracy: 0.7809 - val_loss: 0.7007 - val_accuracy: 0.7583\n",
      "Epoch 6/100\n",
      "50000/50000 [==============================] - 196s 4ms/sample - loss: 0.5288 - accuracy: 0.8151 - val_loss: 0.7084 - val_accuracy: 0.7650\n",
      "Epoch 7/100\n",
      "50000/50000 [==============================] - 197s 4ms/sample - loss: 0.4450 - accuracy: 0.8442 - val_loss: 0.6874 - val_accuracy: 0.7730\n",
      "Epoch 8/100\n",
      "50000/50000 [==============================] - 196s 4ms/sample - loss: 0.3617 - accuracy: 0.8713 - val_loss: 0.7008 - val_accuracy: 0.7794\n",
      "Epoch 9/100\n",
      "50000/50000 [==============================] - 119s 2ms/sample - loss: 0.3010 - accuracy: 0.8925 - val_loss: 0.7282 - val_accuracy: 0.7757\n",
      "Epoch 10/100\n",
      "50000/50000 [==============================] - 120s 2ms/sample - loss: 0.2495 - accuracy: 0.9113 - val_loss: 0.7604 - val_accuracy: 0.7798\n"
     ]
    }
   ],
   "source": [
    "# Train CNN using early stopping criterion-\n",
    "history = orig_model.fit(\n",
    "    x = X_train, y = y_train,\n",
    "    batch_size = batch_size,\n",
    "    epochs = epochs,\n",
    "    verbose = 1,\n",
    "    callbacks = callback,\n",
    "    validation_data = (X_test, y_test),\n",
    "    shuffle = True\n",
    ")"
   ]
  },
  {
   "cell_type": "code",
   "execution_count": 100,
   "metadata": {},
   "outputs": [],
   "source": [
    "# Save trained weights-\n",
    "orig_model.save_weights(\"Conv_4_CIFAR10_Trained_Weights_Dropout.h5\", overwrite = True)"
   ]
  },
  {
   "cell_type": "code",
   "execution_count": null,
   "metadata": {},
   "outputs": [],
   "source": []
  },
  {
   "cell_type": "code",
   "execution_count": 105,
   "metadata": {},
   "outputs": [
    {
     "data": {
      "image/png": "[encoded data removed]",
      "text/plain": [
       "<Figure size 800x560 with 1 Axes>"
      ]
     },
     "metadata": {},
     "output_type": "display_data"
    }
   ],
   "source": [
    "# Visualize training process using dropout-\n",
    "fig=plt.figure(figsize=(10, 7), dpi= 80, facecolor='w', edgecolor='k')\n",
    "\n",
    "plt.plot(history.history['accuracy'], label = 'training accuracy')\n",
    "plt.plot(history.history['val_accuracy'], label = 'testing accuracy')\n",
    "plt.plot(history.history['loss'], label = 'training loss')\n",
    "plt.plot(history.history['val_loss'], label = 'testing loss')\n",
    "\n",
    "plt.title(\"Conv-4 CNN CIFAR10 Training with Dropout\")\n",
    "plt.legend(loc = 'best')\n",
    "plt.xlabel(\"number of epochs\")\n",
    "plt.ylabel(\"accuracy/loss\")\n",
    "plt.show()"
   ]
  },
  {
   "cell_type": "code",
   "execution_count": null,
   "metadata": {},
   "outputs": [],
   "source": []
  },
  {
   "cell_type": "code",
   "execution_count": null,
   "metadata": {},
   "outputs": [],
   "source": []
  },
  {
   "cell_type": "code",
   "execution_count": null,
   "metadata": {},
   "outputs": [],
   "source": []
  },
  {
   "cell_type": "code",
   "execution_count": 94,
   "metadata": {},
   "outputs": [],
   "source": [
    "# Save random weights-\n",
    "orig_model.load_weights(\"Conv_4_CIFAR10_Random_Weights.h5\")"
   ]
  },
  {
   "cell_type": "code",
   "execution_count": 25,
   "metadata": {},
   "outputs": [],
   "source": [
    "# Strip model of it's pruning parameters\n",
    "orig_model_stripped = sparsity.strip_pruning(orig_model)"
   ]
  },
  {
   "cell_type": "code",
   "execution_count": 26,
   "metadata": {},
   "outputs": [
    {
     "name": "stdout",
     "output_type": "stream",
     "text": [
      "Model: \"sequential\"\n",
      "_________________________________________________________________\n",
      "Layer (type)                 Output Shape              Param #   \n",
      "=================================================================\n",
      "conv2d (Conv2D)              (None, 32, 32, 64)        1792      \n",
      "_________________________________________________________________\n",
      "conv2d_1 (Conv2D)            (None, 32, 32, 64)        36928     \n",
      "_________________________________________________________________\n",
      "max_pooling2d (MaxPooling2D) (None, 16, 16, 64)        0         \n",
      "_________________________________________________________________\n",
      "conv2d_2 (Conv2D)            (None, 16, 16, 128)       73856     \n",
      "_________________________________________________________________\n",
      "conv2d_3 (Conv2D)            (None, 16, 16, 128)       147584    \n",
      "_________________________________________________________________\n",
      "max_pooling2d_1 (MaxPooling2 (None, 8, 8, 128)         0         \n",
      "_________________________________________________________________\n",
      "flatten (Flatten)            (None, 8192)              0         \n",
      "_________________________________________________________________\n",
      "dense (Dense)                (None, 256)               2097408   \n",
      "_________________________________________________________________\n",
      "dense_1 (Dense)              (None, 256)               65792     \n",
      "_________________________________________________________________\n",
      "dense_2 (Dense)              (None, 10)                2570      \n",
      "=================================================================\n",
      "Total params: 2,425,930\n",
      "Trainable params: 2,425,930\n",
      "Non-trainable params: 0\n",
      "_________________________________________________________________\n"
     ]
    }
   ],
   "source": [
    "# Get CNN summary-\n",
    "orig_model_stripped.summary()"
   ]
  },
  {
   "cell_type": "code",
   "execution_count": null,
   "metadata": {},
   "outputs": [],
   "source": []
  },
  {
   "cell_type": "code",
   "execution_count": null,
   "metadata": {},
   "outputs": [],
   "source": []
  },
  {
   "cell_type": "markdown",
   "metadata": {},
   "source": [
    "### Layer-wise pruning:\n",
    "The Lottery Ticket Hypothesis follows a _layer-wise pruning_ heuristic for __Conv-4__ CNN for CIFAR-10 dataset. \n",
    "\n",
    "The rate of layer-wise pruning is as follows (per iterative pruning round):\n",
    "\n",
    "1. __convolutional layers:__ 10%\n",
    "1. __fully-connected layers:__ 20%\n",
    "1. __output layer:__ 10%\n",
    "\n",
    "Therefore, there is a need to compute the percentage of weights being pruned for each layer."
   ]
  },
  {
   "cell_type": "code",
   "execution_count": 27,
   "metadata": {},
   "outputs": [
    {
     "name": "stdout",
     "output_type": "stream",
     "text": [
      "\n",
      "Total number of trainable parameters = 2425930\n",
      "\n"
     ]
    }
   ],
   "source": [
    "# number of convolutional parameters-\n",
    "conv1 = 1792\n",
    "conv2 = 36928\n",
    "conv3 = 73856\n",
    "conv4 = 147584\n",
    "\n",
    "\n",
    "# number of fully-connected dense parameters-\n",
    "dense1 = 2097408\n",
    "dense2 = 65792\n",
    "op_layer = 2570\n",
    "\n",
    "\n",
    "# total number of parameters-\n",
    "total_params = conv1 + conv2 + conv3 + conv4 + dense1 + dense2 + op_layer\n",
    "\n",
    "print(\"\\nTotal number of trainable parameters = {0}\\n\".format(total_params))"
   ]
  },
  {
   "cell_type": "code",
   "execution_count": 28,
   "metadata": {},
   "outputs": [],
   "source": [
    "# maximum pruning performed is till 0.5% of all parameters-\n",
    "max_pruned_params = 0.005 * total_params"
   ]
  },
  {
   "cell_type": "code",
   "execution_count": 29,
   "metadata": {},
   "outputs": [],
   "source": [
    "loc_tot_params = total_params\n",
    "loc_conv1 = conv1\n",
    "loc_conv2 = conv2\n",
    "loc_conv3 = conv3\n",
    "loc_conv4 = conv4\n",
    "loc_dense1 = dense1\n",
    "loc_dense2 = dense2\n",
    "loc_op_layer = op_layer\n",
    "\n",
    "\n",
    "# variable to count number of pruning rounds-\n",
    "n = 0"
   ]
  },
  {
   "cell_type": "code",
   "execution_count": 30,
   "metadata": {},
   "outputs": [],
   "source": [
    "# Lists to hold percentage of weights pruned in each round for all layers in CNN-\n",
    "conv1_pruning = []\n",
    "conv2_pruning = []\n",
    "conv3_pruning = []\n",
    "conv4_pruning = []\n",
    "dense1_pruning = []\n",
    "dense2_pruning = []\n",
    "op_layer_pruning = []\n"
   ]
  },
  {
   "cell_type": "code",
   "execution_count": 31,
   "metadata": {},
   "outputs": [],
   "source": [
    "while loc_tot_params >= max_pruned_params:\n",
    "    loc_conv1 *= 0.9    # 10% weights are pruned\n",
    "    loc_conv2 *= 0.9    # 10% weights are pruned\n",
    "    loc_conv3 *= 0.9\t# 10% weights are pruned\n",
    "    loc_conv4 *= 0.9\t# 10% weights are pruned\n",
    "    loc_dense1 *= 0.8   # 20% weights are pruned\n",
    "    loc_dense2 *= 0.8   # 20% weights are pruned\n",
    "    loc_op_layer *= 0.9 # 10% weights are pruned\n",
    "\n",
    "    conv1_pruning.append(((conv1 - loc_conv1) / conv1) * 100)\n",
    "    conv2_pruning.append(((conv2 - loc_conv2) / conv2) * 100)\n",
    "    conv3_pruning.append(((conv3 - loc_conv3) / conv3) * 100)\n",
    "    conv4_pruning.append(((conv4 - loc_conv4) / conv4) * 100)\n",
    "    dense1_pruning.append(((dense1 - loc_dense1) / dense1) * 100)\n",
    "    dense2_pruning.append(((dense2 - loc_dense2) / dense2) * 100)\n",
    "    op_layer_pruning.append(((op_layer - loc_op_layer) / op_layer) * 100)\n",
    "\n",
    "    loc_tot_params = loc_conv1 + loc_conv2 + loc_conv3 + loc_conv4 + loc_dense1 + \\\n",
    "    loc_dense2 + loc_op_layer\n",
    "\n",
    "    n += 1\n",
    "\n",
    "    '''\n",
    "    print(\"\\nConv1 = {0:.3f}, Conv2 = {1:.3f}\".format(loc_conv1, loc_conv2))\n",
    "    print(\"Dense1 = {0:.3f}, Dense2 = {1:.3f} & O/p layer = {2:.3f}\".format(\n",
    "        loc_dense1, loc_dense2, loc_op_layer))\n",
    "    print(\"Total number of parameters = {0:.3f}\\n\".format(loc_tot_params))\n",
    "    '''\n"
   ]
  },
  {
   "cell_type": "code",
   "execution_count": 32,
   "metadata": {},
   "outputs": [
    {
     "name": "stdout",
     "output_type": "stream",
     "text": [
      "\n",
      "number of pruning rounds = 32\n",
      "\n",
      "\n"
     ]
    }
   ],
   "source": [
    "print(\"\\nnumber of pruning rounds = {0}\\n\\n\".format(n))"
   ]
  },
  {
   "cell_type": "code",
   "execution_count": 33,
   "metadata": {},
   "outputs": [],
   "source": [
    "num_pruning_rounds = n"
   ]
  },
  {
   "cell_type": "code",
   "execution_count": null,
   "metadata": {},
   "outputs": [],
   "source": []
  },
  {
   "cell_type": "code",
   "execution_count": 34,
   "metadata": {},
   "outputs": [],
   "source": [
    "# Convert from list to np.array-\n",
    "conv1_pruning = np.array(conv1_pruning)\n",
    "conv2_pruning = np.array(conv2_pruning)\n",
    "conv3_pruning = np.array(conv3_pruning)\n",
    "conv4_pruning = np.array(conv4_pruning)\n",
    "dense1_pruning = np.array(dense1_pruning)\n",
    "dense2_pruning = np.array(dense2_pruning)\n",
    "op_layer_pruning = np.array(op_layer_pruning)\n"
   ]
  },
  {
   "cell_type": "code",
   "execution_count": 35,
   "metadata": {},
   "outputs": [],
   "source": [
    "# Round off numpy arrays to 3 decimal digits-\n",
    "conv1_pruning = np.round(conv1_pruning, decimals=3)\n",
    "conv2_pruning = np.round(conv2_pruning, decimals=3)\n",
    "conv3_pruning = np.round(conv3_pruning, decimals = 3)\n",
    "conv4_pruning = np.round(conv4_pruning, decimals = 3)\n",
    "dense1_pruning = np.round(dense1_pruning, decimals=3)\n",
    "dense2_pruning = np.round(dense2_pruning, decimals=3)\n",
    "op_layer_pruning = np.round(op_layer_pruning, decimals=3)\n"
   ]
  },
  {
   "cell_type": "code",
   "execution_count": 36,
   "metadata": {},
   "outputs": [
    {
     "data": {
      "text/plain": [
       "array([10.   , 19.   , 27.1  , 34.39 , 40.951, 46.856, 52.17 , 56.953,\n",
       "       61.258, 65.132, 68.619, 71.757, 74.581, 77.123, 79.411, 81.47 ,\n",
       "       83.323, 84.991, 86.491, 87.842, 89.058, 90.152, 91.137, 92.023,\n",
       "       92.821, 93.539, 94.185, 94.767, 95.29 , 95.761, 96.185, 96.566])"
      ]
     },
     "execution_count": 36,
     "metadata": {},
     "output_type": "execute_result"
    }
   ],
   "source": [
    "# Sanity check-\n",
    "conv1_pruning"
   ]
  },
  {
   "cell_type": "code",
   "execution_count": null,
   "metadata": {},
   "outputs": [],
   "source": []
  },
  {
   "cell_type": "markdown",
   "metadata": {},
   "source": [
    "### NOTE:\n",
    "\n",
    "Make sure that the pruning rates are between 0 and 1 for _TensorFlow Pruning_ to work"
   ]
  },
  {
   "cell_type": "code",
   "execution_count": 37,
   "metadata": {},
   "outputs": [],
   "source": [
    "conv1_pruning = conv1_pruning / 100\n",
    "conv2_pruning = conv2_pruning / 100\n",
    "conv3_pruning = conv3_pruning / 100\n",
    "conv4_pruning = conv4_pruning / 100\n",
    "dense1_pruning = dense1_pruning / 100\n",
    "dense2_pruning = dense2_pruning / 100\n",
    "op_layer_pruning = op_layer_pruning / 100\n"
   ]
  },
  {
   "cell_type": "code",
   "execution_count": 38,
   "metadata": {},
   "outputs": [
    {
     "data": {
      "text/plain": [
       "array([0.2    , 0.36   , 0.488  , 0.5904 , 0.67232, 0.73786, 0.79028,\n",
       "       0.83223, 0.86578, 0.89263, 0.9141 , 0.93128, 0.94502, 0.95602,\n",
       "       0.96482, 0.97185, 0.97748, 0.98199, 0.98559, 0.98847, 0.99078,\n",
       "       0.99262, 0.9941 , 0.99528, 0.99622, 0.99698, 0.99758, 0.99807,\n",
       "       0.99845, 0.99876, 0.99901, 0.99921])"
      ]
     },
     "execution_count": 38,
     "metadata": {},
     "output_type": "execute_result"
    }
   ],
   "source": [
    "# Sanity check-\n",
    "# np.all(conv1_pruning == conv4_pruning)\n",
    "dense1_pruning"
   ]
  },
  {
   "cell_type": "code",
   "execution_count": null,
   "metadata": {},
   "outputs": [],
   "source": []
  },
  {
   "cell_type": "code",
   "execution_count": null,
   "metadata": {},
   "outputs": [],
   "source": []
  },
  {
   "cell_type": "markdown",
   "metadata": {},
   "source": [
    "### Create a mask:\n",
    "A mask is created where all parameters equal to one.\n",
    "\n",
    "This will be used later by _GradientTape_ for training the defined neural network."
   ]
  },
  {
   "cell_type": "code",
   "execution_count": 39,
   "metadata": {},
   "outputs": [],
   "source": [
    "# Instantiate a new neural network model for which, the mask is to be created,\n",
    "# according to the paper-\n",
    "mask_model = pruned_nn(pruning_params_unpruned, pruning_params_unpruned, pruning_params_unpruned)"
   ]
  },
  {
   "cell_type": "code",
   "execution_count": 40,
   "metadata": {},
   "outputs": [],
   "source": [
    "# Strip the model of its pruning parameters-\n",
    "mask_model_stripped = sparsity.strip_pruning(mask_model)"
   ]
  },
  {
   "cell_type": "code",
   "execution_count": 41,
   "metadata": {},
   "outputs": [],
   "source": [
    "# Assign all masks to one-\n",
    "\n",
    "for wts in mask_model_stripped.trainable_weights:\n",
    "    wts.assign(\n",
    "        tf.ones_like(\n",
    "            input = wts,\n",
    "            dtype = tf.float32\n",
    "        )\n",
    "\n",
    "    )\n",
    "    # wts.assign(1.)\n",
    "    # wts.assign(tf.where(tf.equal(wts, 0.), 0., 1.))"
   ]
  },
  {
   "cell_type": "code",
   "execution_count": 42,
   "metadata": {},
   "outputs": [
    {
     "name": "stdout",
     "output_type": "stream",
     "text": [
      "\n",
      "Mask model metrics:\n",
      "layer-wise number of nonzero parameters in each layer are: \n",
      "\n",
      "\n",
      "Total number of trainable parameters = 2425930\n",
      "\n"
     ]
    }
   ],
   "source": [
    "print(\"\\nMask model metrics:\")\n",
    "print(\"layer-wise number of nonzero parameters in each layer are: \\n\")\n",
    "\n",
    "masked_sum_params = 0\n",
    "\n",
    "for layer in mask_model_stripped.trainable_weights:\n",
    "    # print(tf.math.count_nonzero(layer, axis = None).numpy())\n",
    "    masked_sum_params += tf.math.count_nonzero(layer, axis = None).numpy()\n",
    "\n",
    "print(\"\\nTotal number of trainable parameters = {0}\\n\".format(masked_sum_params))"
   ]
  },
  {
   "cell_type": "code",
   "execution_count": null,
   "metadata": {},
   "outputs": [],
   "source": []
  },
  {
   "cell_type": "code",
   "execution_count": null,
   "metadata": {},
   "outputs": [],
   "source": []
  },
  {
   "cell_type": "code",
   "execution_count": 43,
   "metadata": {},
   "outputs": [
    {
     "name": "stdout",
     "output_type": "stream",
     "text": [
      "\n",
      "number of pruning rounds for Conv-4 CNN = 32 and number of epochs = 100\n",
      "\n"
     ]
    }
   ],
   "source": [
    "print(\"\\nnumber of pruning rounds for Conv-4 CNN = {0} and number of epochs = {1}\\n\".format(num_pruning_rounds, num_epochs))"
   ]
  },
  {
   "cell_type": "code",
   "execution_count": 44,
   "metadata": {},
   "outputs": [
    {
     "name": "stdout",
     "output_type": "stream",
     "text": [
      "orig_sum_params =  2425930\n"
     ]
    }
   ],
   "source": [
    "orig_sum_params = total_params\n",
    "print(\"orig_sum_params = \", orig_sum_params)"
   ]
  },
  {
   "cell_type": "code",
   "execution_count": null,
   "metadata": {},
   "outputs": [],
   "source": []
  },
  {
   "cell_type": "code",
   "execution_count": null,
   "metadata": {},
   "outputs": [],
   "source": []
  },
  {
   "cell_type": "markdown",
   "metadata": {},
   "source": [
    "### Python 3 dictionary to hold model training metrics for each of _n_ rounds:"
   ]
  },
  {
   "cell_type": "code",
   "execution_count": 45,
   "metadata": {},
   "outputs": [],
   "source": [
    "# Method - 1: Nested Python 3 dictionaries:\n",
    "history_main = {}\n",
    "\n",
    "# for x in range(num_pruning_rounds + 1):\n",
    "for x in range(num_pruning_rounds):\n",
    "    history = {}\n",
    "    \n",
    "    # CNN model, scalar metrics-\n",
    "    history['accuracy'] = np.zeros(shape = num_epochs)\n",
    "    history['val_accuracy'] = np.zeros(shape = num_epochs)\n",
    "    history['loss'] = np.zeros(shape = num_epochs)\n",
    "    history['val_loss'] = np.zeros(shape = num_epochs)\n",
    "    \n",
    "    # compute % of weights pruned at the end of each iterative pruning round-\n",
    "    history['percentage_wts_pruned'] = 90\n",
    "    \n",
    "    # history['epoch_length'] = np.zeros(shape = num_epochs)\n",
    "\n",
    "    history_main[x + 1] = history\n"
   ]
  },
  {
   "cell_type": "code",
   "execution_count": 46,
   "metadata": {},
   "outputs": [
    {
     "data": {
      "text/plain": [
       "dict_keys([1, 2, 3, 4, 5, 6, 7, 8, 9, 10, 11, 12, 13, 14, 15, 16, 17, 18, 19, 20, 21, 22, 23, 24, 25, 26, 27, 28, 29, 30, 31, 32])"
      ]
     },
     "execution_count": 46,
     "metadata": {},
     "output_type": "execute_result"
    }
   ],
   "source": [
    "# Sanity check-\n",
    "history_main.keys()"
   ]
  },
  {
   "cell_type": "code",
   "execution_count": 47,
   "metadata": {},
   "outputs": [
    {
     "data": {
      "text/plain": [
       "dict_keys(['accuracy', 'val_accuracy', 'loss', 'val_loss', 'percentage_wts_pruned'])"
      ]
     },
     "execution_count": 47,
     "metadata": {},
     "output_type": "execute_result"
    }
   ],
   "source": [
    "# Sanity check-\n",
    "history_main[2].keys()"
   ]
  },
  {
   "cell_type": "code",
   "execution_count": 48,
   "metadata": {},
   "outputs": [
    {
     "data": {
      "text/plain": [
       "(100,)"
      ]
     },
     "execution_count": 48,
     "metadata": {},
     "output_type": "execute_result"
    }
   ],
   "source": [
    "# Sanity check-\n",
    "history_main[10]['accuracy'].shape"
   ]
  },
  {
   "cell_type": "code",
   "execution_count": null,
   "metadata": {},
   "outputs": [],
   "source": []
  },
  {
   "cell_type": "code",
   "execution_count": 49,
   "metadata": {},
   "outputs": [],
   "source": [
    "# User input parameters for Early Stopping in manual implementation-\n",
    "minimum_delta = 0.001\n",
    "patience = 3"
   ]
  },
  {
   "cell_type": "code",
   "execution_count": 50,
   "metadata": {},
   "outputs": [],
   "source": [
    "best_val_loss = 100\n",
    "loc_patience = 0"
   ]
  },
  {
   "cell_type": "code",
   "execution_count": null,
   "metadata": {},
   "outputs": [],
   "source": []
  },
  {
   "cell_type": "code",
   "execution_count": 51,
   "metadata": {},
   "outputs": [],
   "source": [
    "# Optimization:\n",
    "# Instantiate a model-\n",
    "winning_ticket_model = pruned_nn(pruning_params_unpruned, pruning_params_unpruned, pruning_params_unpruned)\n",
    "\n",
    "# Use Randomly initialized weights-\n",
    "winning_ticket_model.set_weights(orig_model.get_weights())"
   ]
  },
  {
   "cell_type": "code",
   "execution_count": null,
   "metadata": {},
   "outputs": [],
   "source": []
  },
  {
   "cell_type": "code",
   "execution_count": null,
   "metadata": {},
   "outputs": [
    {
     "name": "stdout",
     "output_type": "stream",
     "text": [
      "\n",
      "\n",
      "\n",
      "Iterative pruning round: 1\n",
      "\n",
      "\n",
      "Epoch 1, Loss: 1.4481, Accuracy: 47.2420, Test Loss: 1.1314, Test Accuracy: 59.680004\n",
      "Total number of trainable parameters = 2425927\n",
      "\n",
      "Epoch 2, Loss: 0.9873, Accuracy: 64.9940, Test Loss: 0.8985, Test Accuracy: 68.809998\n",
      "Total number of trainable parameters = 2425930\n",
      "\n",
      "Epoch 3, Loss: 0.7751, Accuracy: 72.8100, Test Loss: 0.8318, Test Accuracy: 70.700005\n",
      "Total number of trainable parameters = 2425930\n",
      "\n",
      "Epoch 4, Loss: 0.6264, Accuracy: 78.0780, Test Loss: 0.7115, Test Accuracy: 75.739998\n",
      "Total number of trainable parameters = 2425930\n",
      "\n",
      "Epoch 5, Loss: 0.4971, Accuracy: 82.7960, Test Loss: 0.7361, Test Accuracy: 75.830002\n",
      "Total number of trainable parameters = 2425930\n",
      "\n",
      "Epoch 6, Loss: 0.3772, Accuracy: 86.8180, Test Loss: 0.7356, Test Accuracy: 76.920006\n",
      "Total number of trainable parameters = 2425930\n",
      "\n",
      "Epoch 7, Loss: 0.2655, Accuracy: 90.8960, Test Loss: 0.8079, Test Accuracy: 76.580002\n",
      "Total number of trainable parameters = 2425930\n",
      "\n",
      "\n",
      "'EarlyStopping' called!\n",
      "\n",
      "Train on 50000 samples, validate on 10000 samples\n",
      "Epoch 1/100\n",
      "50000/50000 [==============================] - 128s 3ms/sample - loss: 0.1828 - accuracy: 0.9365 - val_loss: 0.9400 - val_accuracy: 0.7581\n",
      "Epoch 2/100\n",
      "50000/50000 [==============================] - 128s 3ms/sample - loss: 0.1017 - accuracy: 0.9659 - val_loss: 1.1027 - val_accuracy: 0.7618\n",
      "Epoch 3/100\n",
      "50000/50000 [==============================] - 128s 3ms/sample - loss: 0.0664 - accuracy: 0.9783 - val_loss: 1.1912 - val_accuracy: 0.7627\n",
      "Epoch 4/100\n",
      "50000/50000 [==============================] - 128s 3ms/sample - loss: 0.0619 - accuracy: 0.9793 - val_loss: 1.3524 - val_accuracy: 0.7555\n",
      "\n",
      "Round = 1, total number of trainable parameters = 1967159\n",
      "\n",
      "\n",
      "\n",
      "\n",
      "Iterative pruning round: 2\n",
      "\n",
      "\n",
      "Epoch 1, Loss: 1.3394, Accuracy: 50.9320, Test Loss: 1.0277, Test Accuracy: 63.010002\n",
      "Total number of trainable parameters = 1967156\n",
      "\n",
      "Epoch 2, Loss: 0.8892, Accuracy: 68.3800, Test Loss: 0.8589, Test Accuracy: 69.639999\n",
      "Total number of trainable parameters = 1967158\n",
      "\n",
      "Epoch 3, Loss: 0.7258, Accuracy: 74.5720, Test Loss: 0.7946, Test Accuracy: 72.500000\n",
      "Total number of trainable parameters = 1967159\n",
      "\n",
      "Epoch 4, Loss: 0.5991, Accuracy: 79.0580, Test Loss: 0.7258, Test Accuracy: 75.360001\n",
      "Total number of trainable parameters = 1967159\n",
      "\n",
      "Epoch 5, Loss: 0.5021, Accuracy: 82.3920, Test Loss: 0.7271, Test Accuracy: 75.169998\n",
      "Total number of trainable parameters = 1967159\n",
      "\n",
      "Epoch 6, Loss: 0.4140, Accuracy: 85.5320, Test Loss: 0.7562, Test Accuracy: 75.410004\n",
      "Total number of trainable parameters = 1967159\n",
      "\n",
      "Epoch 7, Loss: 0.3265, Accuracy: 88.6040, Test Loss: 0.8124, Test Accuracy: 75.260002\n",
      "Total number of trainable parameters = 1967159\n",
      "\n",
      "\n",
      "'EarlyStopping' called!\n",
      "\n",
      "Train on 50000 samples, validate on 10000 samples\n",
      "Epoch 1/100\n",
      "50000/50000 [==============================] - 122s 2ms/sample - loss: 0.2474 - accuracy: 0.9150 - val_loss: 0.8144 - val_accuracy: 0.7648\n",
      "Epoch 2/100\n",
      "50000/50000 [==============================] - 123s 2ms/sample - loss: 0.1702 - accuracy: 0.9419 - val_loss: 0.9841 - val_accuracy: 0.7549\n",
      "Epoch 3/100\n",
      "50000/50000 [==============================] - 123s 2ms/sample - loss: 0.1184 - accuracy: 0.9607 - val_loss: 1.0440 - val_accuracy: 0.7526\n",
      "Epoch 4/100\n",
      "50000/50000 [==============================] - 123s 2ms/sample - loss: 0.0884 - accuracy: 0.9704 - val_loss: 1.1964 - val_accuracy: 0.7598\n",
      "\n",
      "Round = 2, total number of trainable parameters = 1597519\n",
      "\n",
      "\n",
      "\n",
      "\n",
      "Iterative pruning round: 3\n",
      "\n",
      "\n"
     ]
    }
   ],
   "source": [
    "for i in range(1, num_pruning_rounds + 1):\n",
    "    \n",
    "    print(\"\\n\\n\\nIterative pruning round: {0}\\n\\n\".format(i))\n",
    "    \n",
    "    # Define 'train_one_step()' and 'test_step()' functions here-\n",
    "    @tf.function\n",
    "    def train_one_step(model, mask_model, optimizer, x, y):\n",
    "        '''\n",
    "        Function to compute one step of gradient descent optimization\n",
    "        '''\n",
    "        with tf.GradientTape() as tape:\n",
    "            # Make predictions using defined model-\n",
    "            y_pred = model(x)\n",
    "\n",
    "            # Compute loss-\n",
    "            loss = loss_fn(y, y_pred)\n",
    "        \n",
    "        # Compute gradients wrt defined loss and weights and biases-\n",
    "        grads = tape.gradient(loss, model.trainable_variables)\n",
    "    \n",
    "        # type(grads)\n",
    "        # list\n",
    "    \n",
    "        # List to hold element-wise multiplication between-\n",
    "        # computed gradient and masks-\n",
    "        grad_mask_mul = []\n",
    "    \n",
    "        # Perform element-wise multiplication between computed gradients and masks-\n",
    "        for grad_layer, mask in zip(grads, mask_model.trainable_weights):\n",
    "            grad_mask_mul.append(tf.math.multiply(grad_layer, mask))\n",
    "    \n",
    "        # Apply computed gradients to model's weights and biases-\n",
    "        optimizer.apply_gradients(zip(grad_mask_mul, model.trainable_variables))\n",
    "\n",
    "        # Compute accuracy-\n",
    "        train_loss(loss)\n",
    "        train_accuracy(y, y_pred)\n",
    "\n",
    "        return None\n",
    "    \n",
    "    \n",
    "    @tf.function\n",
    "    def test_step(model, optimizer, data, labels):\n",
    "        \"\"\"\n",
    "        Function to test model performance\n",
    "        on testing dataset\n",
    "        \"\"\"\n",
    "    \n",
    "        predictions = model(data)\n",
    "        t_loss = loss_fn(labels, predictions)\n",
    "\n",
    "        test_loss(t_loss)\n",
    "        test_accuracy(labels, predictions)\n",
    "\n",
    "        return None\n",
    "\n",
    "\n",
    "    # Instantiate a model\n",
    "    model_gt = pruned_nn(pruning_params_unpruned, pruning_params_unpruned, pruning_params_unpruned)\n",
    "    \n",
    "    # Load winning ticket (from above)-\n",
    "    # model_gt.load_weights(\"Conv_4_CIFAR_Winning_Ticket.h5\")\n",
    "    model_gt.set_weights(winning_ticket_model.get_weights())\n",
    "    \n",
    "    # Strip model of pruning parameters-\n",
    "    model_gt_stripped = sparsity.strip_pruning(model_gt)\n",
    "    \n",
    "    \n",
    "    # Train model using 'GradientTape'-\n",
    "    \n",
    "    # Initialize parameters for Early Stopping manual implementation-\n",
    "    best_val_loss = 100\n",
    "    loc_patience = 0\n",
    "    \n",
    "    for epoch in range(num_epochs):\n",
    "    \n",
    "        if loc_patience >= patience:\n",
    "            print(\"\\n'EarlyStopping' called!\\n\")\n",
    "            break\n",
    "        \n",
    "        # Reset the metrics at the start of the next epoch\n",
    "        train_loss.reset_states()\n",
    "        train_accuracy.reset_states()\n",
    "        test_loss.reset_states()\n",
    "        test_accuracy.reset_states()\n",
    "        \n",
    "            \n",
    "        for x, y in train_dataset:\n",
    "            # train_one_step(model_gt_stripped, mask_model, optimizer, x, y, grad_mask_mul)\n",
    "            train_one_step(model_gt_stripped, mask_model_stripped, optimizer, x, y)\n",
    "\n",
    "\n",
    "        for x_t, y_t in test_dataset:\n",
    "            # test_step(x_t, y_t)\n",
    "            test_step(model_gt_stripped, optimizer, x_t, y_t)\n",
    "\n",
    "        template = 'Epoch {0}, Loss: {1:.4f}, Accuracy: {2:.4f}, Test Loss: {3:.4f}, Test Accuracy: {4:4f}'\n",
    "    \n",
    "        # 'i' is the index for number of pruning rounds-\n",
    "        history_main[i]['accuracy'][epoch] = train_accuracy.result() * 100\n",
    "        history_main[i]['loss'][epoch] = train_loss.result()\n",
    "        history_main[i]['val_loss'][epoch] = test_loss.result()\n",
    "        history_main[i]['val_accuracy'][epoch] = test_accuracy.result() * 100\n",
    "        \n",
    "        print(template.format(epoch + 1, \n",
    "                              train_loss.result(), train_accuracy.result()*100,\n",
    "                              test_loss.result(), test_accuracy.result()*100))\n",
    "    \n",
    "        # Count number of non-zero parameters in each layer and in total-\n",
    "        # print(\"layer-wise manner model, number of nonzero parameters in each layer are: \\n\")\n",
    "\n",
    "        model_sum_params = 0\n",
    "    \n",
    "        for layer in model_gt_stripped.trainable_weights:\n",
    "            # print(tf.math.count_nonzero(layer, axis = None).numpy())\n",
    "            model_sum_params += tf.math.count_nonzero(layer, axis = None).numpy()\n",
    "    \n",
    "        print(\"Total number of trainable parameters = {0}\\n\".format(model_sum_params))\n",
    "\n",
    "    \n",
    "        # Code for manual Early Stopping:\n",
    "        if (test_loss.result() < best_val_loss) and (np.abs(test_loss.result() - best_val_loss) >= minimum_delta):\n",
    "        # if np.abs(test_loss.result() < best_val_loss) >= minimum_delta:\n",
    "            # update 'best_val_loss' variable to lowest loss encountered so far-\n",
    "            best_val_loss = test_loss.result()\n",
    "        \n",
    "            # reset 'loc_patience' variable-\n",
    "            loc_patience = 0\n",
    "        \n",
    "        else:  # there is no improvement in monitored metric 'val_loss'\n",
    "            loc_patience += 1  # number of epochs without any improvement\n",
    "\n",
    "    \n",
    "    # Resize numpy arrays according to the epoch when 'EarlyStopping' was called-\n",
    "    for metrics in history_main[i].keys():\n",
    "        history_main[i][metrics] = np.resize(history_main[i][metrics], new_shape = epoch)\n",
    "        # history[metrics] = np.resize(history[metrics], new_shape=epoch)\n",
    "    \n",
    "        \n",
    "    # Save trained model weights-\n",
    "    # model_gt.save_weights(\"Conv_4_CIFAR_Trained_Weights.h5\", overwrite=True)\n",
    "    \n",
    "    \n",
    "    \n",
    "    \n",
    "    # Prune trained model:\n",
    "    \n",
    "    # print(\"\\n% of weights to be pruned in round = {0} is: {1:.4f}\\n\".format(i, wts_np[i - 1]))\n",
    "    \n",
    "    # Specify the parameters to be used for layer-wise pruning, Conv layer-\n",
    "    pruning_params_conv = {\n",
    "        'pruning_schedule': sparsity.ConstantSparsity(\n",
    "            target_sparsity=conv1_pruning[i - 1], begin_step = 1000,\n",
    "            end_step = end_step, frequency=100\n",
    "        )\n",
    "    }\n",
    "\n",
    "    \n",
    "    # Specify the parameters to be used for layer-wise pruning, Fully-Connected layer pruning-\n",
    "    pruning_params_fc = {\n",
    "        'pruning_schedule': sparsity.ConstantSparsity(\n",
    "            target_sparsity=dense1_pruning[i - 1], begin_step = 1000,\n",
    "            end_step = end_step, frequency=100\n",
    "        )\n",
    "    }\n",
    "    \n",
    "    \n",
    "    # Specify the parameters to be used for layer-wise pruning, Fully-Connected layer pruning-\n",
    "    pruning_params_op = {\n",
    "        'pruning_schedule': sparsity.ConstantSparsity(\n",
    "            target_sparsity=op_layer_pruning[i - 1], begin_step = 1000,\n",
    "            end_step = end_step, frequency=100\n",
    "        )\n",
    "    }\n",
    "    \n",
    "    \n",
    "    # Instantiate a Nueal Network model to be pruned using parameters from above-\n",
    "    pruned_model = pruned_nn(pruning_params_conv, pruning_params_fc, pruning_params_op)\n",
    "    \n",
    "    # Load weights from original trained and unpruned model-\n",
    "    # pruned_model.load_weights(\"Conv_4_CIFAR_Trained_Weights.h5\")\n",
    "    pruned_model.set_weights(model_gt.get_weights())\n",
    "    \n",
    "    \n",
    "    # Train pruned NN-\n",
    "    history_pruned = pruned_model.fit(\n",
    "        x = X_train, y = y_train,\n",
    "        batch_size = batch_size,\n",
    "        epochs = epochs,\n",
    "        verbose = 1,\n",
    "        callbacks = callback,\n",
    "        validation_data = (X_test, y_test),\n",
    "        shuffle = True\n",
    "    )\n",
    "    \n",
    "    # Strip the pruning wrappers from pruned model-\n",
    "    pruned_model_stripped = sparsity.strip_pruning(pruned_model)\n",
    "    \n",
    "    # print(\"\\nIn pruned model, number of nonzero parameters in each layer are: \\n\")\n",
    "    pruned_sum_params = 0\n",
    "    \n",
    "    for layer in pruned_model_stripped.trainable_weights:\n",
    "        # print(tf.math.count_nonzero(layer, axis = None).numpy())\n",
    "        pruned_sum_params += tf.math.count_nonzero(layer, axis = None).numpy()\n",
    "    \n",
    "    print(\"\\nRound = {0}, total number of trainable parameters = {1}\\n\".format(i, pruned_sum_params))\n",
    "    # print(\"\\nTotal number of trainable parameters = {0}\\n\".format(pruned_sum_params))\n",
    "    \n",
    "    '''\n",
    "    # Sanity-check: confirm that the weights are actually pruned away from the network-\n",
    "    print(\"\\nRound = {0}, % of weights pruned away = {1:.2f}%\\n\".format( \\\n",
    "                                                i, (orig_sum_params - pruned_sum_params) / orig_sum_params * 100))\n",
    "    '''\n",
    "    \n",
    "    # 'i' is the index for number of pruning rounds-\n",
    "    history_main[i]['percentage_wts_pruned'] = ((orig_sum_params - pruned_sum_params) / orig_sum_params) * 100\n",
    "    \n",
    "    \n",
    "    # Save weights of PRUNED and Trained model BEFORE stripping-\n",
    "    # pruned_model.save_weights(\"Conv_4_CIFAR_Pruned_Weights.h5\", overwrite = True)\n",
    "    \n",
    "    \n",
    "    # Create a mask:\n",
    "    \n",
    "    # Instantiate a new neural network model for which, the mask is to be created,\n",
    "    mask_model = pruned_nn(pruning_params_unpruned, pruning_params_unpruned, pruning_params_unpruned)\n",
    "    \n",
    "    # Load weights of PRUNED model-\n",
    "    # mask_model.load_weights(\"Conv_4_CIFAR_Pruned_Weights.h5\")\n",
    "    mask_model.set_weights(pruned_model.get_weights())\n",
    "    \n",
    "    # Strip the model of its pruning parameters-\n",
    "    mask_model_stripped = sparsity.strip_pruning(mask_model)\n",
    "    \n",
    "    # For each layer, for each weight which is 0, leave it, as is.\n",
    "    # And for weights which survive the pruning,reinitialize it to ONE (1)-\n",
    "    for wts in mask_model_stripped.trainable_weights:\n",
    "        wts.assign(tf.where(tf.equal(wts, 0.), 0., 1.))\n",
    "    \n",
    "    \n",
    "    \n",
    "    \n",
    "    # Extract Winning Ticket:\n",
    "    \n",
    "    # Instantiate a new neural network model for which, the weights are to be extracted-\n",
    "    winning_ticket_model = pruned_nn(pruning_params_unpruned, pruning_params_unpruned, pruning_params_unpruned)\n",
    "    \n",
    "    # Load weights of PRUNED model-\n",
    "    # winning_ticket_model.load_weights(\"Conv_4_CIFAR_Pruned_Weights.h5\")\n",
    "    winning_ticket_model.set_weights(pruned_model.get_weights())\n",
    "    \n",
    "    # Strip the model of its pruning parameters-\n",
    "    winning_ticket_model_stripped = sparsity.strip_pruning(winning_ticket_model)\n",
    "    \n",
    "    # For each layer, for each weight which is 0, leave it, as is. And for weights which survive the pruning,\n",
    "    # reinitialize it to the value, the model received BEFORE it was trained and pruned-\n",
    "    for orig_wts, pruned_wts in zip(orig_model_stripped.trainable_weights,\n",
    "                                    winning_ticket_model_stripped.trainable_weights):\n",
    "        pruned_wts.assign(tf.where(tf.equal(pruned_wts, 0), pruned_wts, orig_wts))\n",
    "    \n",
    "    \n",
    "    # Since it's difficult to forecast the sparsity level which gives the winning ticket, save\n",
    "    # all sub-networks, and post training, pick the appropriate 'winning ticket'-\n",
    "    winning_ticket_model.save_weights(\"Conv_4_CIFAR10_Winning_Ticket_Distribution_{0}.h5\".format(\n",
    "        history_main[i]['percentage_wts_pruned']), overwrite = True)\n",
    " \n",
    "    \n",
    "    # Write message to log file:\n",
    "    with open(\"/home/majumdar/The_Lottery_Ticket_Hypothesis-Resources/Conv4_CIFAR10_log_file.txt\", \"a+\") as f:\n",
    "        f.write(\"Completed iterative pruning round: {0}\\n\".format(i))\n",
    "    \n",
    "    \n",
    "    "
   ]
  },
  {
   "cell_type": "code",
   "execution_count": null,
   "metadata": {},
   "outputs": [],
   "source": []
  },
  {
   "cell_type": "code",
   "execution_count": null,
   "metadata": {},
   "outputs": [],
   "source": []
  },
  {
   "cell_type": "code",
   "execution_count": null,
   "metadata": {},
   "outputs": [],
   "source": [
    "# Save final winning ticket-\n",
    "winning_ticket_model.save_weights(\"Conv_4_CIFAR10_Winning_Ticket_Distribution_{0}.h5\".format(\n",
    "    history_main[i]['percentage_wts_pruned']), overwrite = True)\n",
    " "
   ]
  },
  {
   "cell_type": "code",
   "execution_count": null,
   "metadata": {},
   "outputs": [],
   "source": []
  },
  {
   "cell_type": "code",
   "execution_count": 58,
   "metadata": {},
   "outputs": [
    {
     "name": "stdout",
     "output_type": "stream",
     "text": [
      "\n",
      "Iterative-pruning for Conv-4 CNN using Lottery Ticket Hypothesis is now complete.\n",
      "\n"
     ]
    }
   ],
   "source": [
    "print(\"\\nIterative-pruning for Conv-4 CNN using Lottery Ticket Hypothesis is now complete.\\n\")"
   ]
  },
  {
   "cell_type": "code",
   "execution_count": null,
   "metadata": {},
   "outputs": [],
   "source": []
  },
  {
   "cell_type": "code",
   "execution_count": null,
   "metadata": {},
   "outputs": [],
   "source": []
  },
  {
   "cell_type": "code",
   "execution_count": 59,
   "metadata": {},
   "outputs": [],
   "source": [
    "import os\n",
    "import pickle"
   ]
  },
  {
   "cell_type": "code",
   "execution_count": 60,
   "metadata": {},
   "outputs": [
    {
     "data": {
      "text/plain": [
       "'/home/majumdar/The_Lottery_Ticket_Hypothesis-Resources'"
      ]
     },
     "execution_count": 60,
     "metadata": {},
     "output_type": "execute_result"
    }
   ],
   "source": [
    "os.getcwd()"
   ]
  },
  {
   "cell_type": "code",
   "execution_count": 61,
   "metadata": {},
   "outputs": [],
   "source": [
    "with open(\"/home/majumdar/The_Lottery_Ticket_Hypothesis-Resources/Conv4_CIFAR10_history_main_Experiment_4.pkl\", \"wb\") as f:\n",
    "    pickle.dump(history_main, f)"
   ]
  },
  {
   "cell_type": "code",
   "execution_count": null,
   "metadata": {},
   "outputs": [],
   "source": []
  },
  {
   "cell_type": "code",
   "execution_count": null,
   "metadata": {},
   "outputs": [],
   "source": []
  },
  {
   "cell_type": "markdown",
   "metadata": {},
   "source": [
    "### Visualizations for _Iterative Pruning Rounds_:"
   ]
  },
  {
   "cell_type": "code",
   "execution_count": 62,
   "metadata": {},
   "outputs": [],
   "source": [
    "# Python 3 dict for training and testing accuracy visualization-\n",
    "# key is 'percentage_wts_pruned' and value is accuracy\n",
    "plot_accuracy = {}\n",
    "plot_test_accuracy = {}"
   ]
  },
  {
   "cell_type": "code",
   "execution_count": 63,
   "metadata": {},
   "outputs": [],
   "source": [
    "# populate 'plot_accuracy'-\n",
    "for k in history_main.keys():\n",
    "    epoch_length = len(history_main[k]['accuracy'])\n",
    "    plot_accuracy[history_main[k]['percentage_wts_pruned']] = history_main[k]['accuracy'][epoch_length - 1]"
   ]
  },
  {
   "cell_type": "code",
   "execution_count": 64,
   "metadata": {},
   "outputs": [],
   "source": [
    "# populate 'plot_test_accuracy'-\n",
    "for k in history_main.keys():\n",
    "    epoch_length = len(history_main[k]['accuracy'])\n",
    "    plot_test_accuracy[history_main[k]['percentage_wts_pruned']] = history_main[k]['val_accuracy'][epoch_length - 1]\n"
   ]
  },
  {
   "cell_type": "code",
   "execution_count": null,
   "metadata": {},
   "outputs": [],
   "source": []
  },
  {
   "cell_type": "code",
   "execution_count": 65,
   "metadata": {},
   "outputs": [
    {
     "data": {
      "image/png": "[encoded data removed]",
      "text/plain": [
       "<Figure size 800x720 with 1 Axes>"
      ]
     },
     "metadata": {},
     "output_type": "display_data"
    }
   ],
   "source": [
    "# Visualization of training and testing accuracy VS percentage of weights\n",
    "# pruned-\n",
    "fig=plt.figure(figsize=(10, 9), dpi= 80, facecolor='w', edgecolor='k')\n",
    "\n",
    "plt.plot(list(plot_accuracy.keys()), list(plot_accuracy.values()), label = 'training_accuracy')\n",
    "plt.plot(list(plot_test_accuracy.keys()), list(plot_test_accuracy.values()), label = 'testing_accuracy')\n",
    "\n",
    "plt.title(\"Conv-4 CNN: Percentage of weights pruned VS. Accuracy\")\n",
    "plt.xlabel(\"percentage of weights pruned\")\n",
    "plt.ylabel(\"Accuracy\")\n",
    "plt.legend(loc = 'best')\n",
    "plt.show()"
   ]
  },
  {
   "cell_type": "code",
   "execution_count": null,
   "metadata": {},
   "outputs": [],
   "source": []
  },
  {
   "cell_type": "code",
   "execution_count": 66,
   "metadata": {},
   "outputs": [],
   "source": [
    "# Python 3 dict for training and testing loss visualization-\n",
    "plot_loss = {}\n",
    "plot_test_loss = {}"
   ]
  },
  {
   "cell_type": "code",
   "execution_count": 67,
   "metadata": {},
   "outputs": [],
   "source": [
    "# populate 'plot_loss'-\n",
    "for k in history_main.keys():\n",
    "    epoch_length = len(history_main[k]['loss'])\n",
    "    plot_loss[history_main[k]['percentage_wts_pruned']] = history_main[k]['loss'][epoch_length - 1]\n"
   ]
  },
  {
   "cell_type": "code",
   "execution_count": 68,
   "metadata": {},
   "outputs": [],
   "source": [
    "# populate 'plot_test_loss'-\n",
    "for k in history_main.keys():\n",
    "    epoch_length = len(history_main[k]['loss'])\n",
    "    plot_test_loss[history_main[k]['percentage_wts_pruned']] = history_main[k]['val_loss'][epoch_length - 1]\n"
   ]
  },
  {
   "cell_type": "code",
   "execution_count": 69,
   "metadata": {},
   "outputs": [
    {
     "data": {
      "image/png": "[encoded data removed]",
      "text/plain": [
       "<Figure size 800x720 with 1 Axes>"
      ]
     },
     "metadata": {},
     "output_type": "display_data"
    }
   ],
   "source": [
    "# Visualization of training and testing loss VS percentage of remaining weights-\n",
    "# pruned-\n",
    "fig=plt.figure(figsize=(10, 9), dpi= 80, facecolor='w', edgecolor='k')\n",
    "\n",
    "plt.plot(list(plot_loss.keys()), list(plot_loss.values()), label = 'training_loss')\n",
    "plt.plot(list(plot_test_loss.keys()), list(plot_test_loss.values()), label = 'testing_loss')\n",
    "\n",
    "plt.title(\"Conv-4 CNN: Percentage of weights pruned VS. Loss\")\n",
    "plt.xlabel(\"percentage of weights pruned\")\n",
    "plt.ylabel(\"Loss\")\n",
    "plt.legend(loc = 'best')\n",
    "plt.show()"
   ]
  },
  {
   "cell_type": "code",
   "execution_count": null,
   "metadata": {},
   "outputs": [],
   "source": []
  },
  {
   "cell_type": "code",
   "execution_count": 70,
   "metadata": {},
   "outputs": [],
   "source": [
    "# Plot number of epochs (Early Stopping) VS percentage of weights pruned-\n",
    "\n",
    "# Python 3 dict to hold number of epochs vs % of weights pruned-\n",
    "# Experiment-1\n",
    "plot_num_epochs = {}\n",
    "# plot_num_epochs_test = {}\n",
    "\n",
    "# populate 'plot_num_epochs'-\n",
    "for k in history_main.keys():\n",
    "    num_epochs = len(history_main[k]['accuracy'])\n",
    "    plot_num_epochs[history_main[k]['percentage_wts_pruned']] = num_epochs\n"
   ]
  },
  {
   "cell_type": "code",
   "execution_count": 71,
   "metadata": {},
   "outputs": [
    {
     "data": {
      "image/png": "[encoded data removed]",
      "text/plain": [
       "<Figure size 800x560 with 1 Axes>"
      ]
     },
     "metadata": {},
     "output_type": "display_data"
    }
   ],
   "source": [
    "# Visualize percentage of weights remaining VS number of epochs (Early Stopping)\n",
    "fig=plt.figure(figsize=(10, 7), dpi= 80, facecolor='w', edgecolor='k')\n",
    "\n",
    "plt.plot(list(plot_num_epochs.keys()), list(plot_num_epochs.values()), label = 'number of epochs')\n",
    "# plt.plot(list(plot_test_accuracy.keys()), list(plot_test_accuracy.values()), label = 'validation accuracy')\n",
    "# plt.plot(list(plot_test_loss.keys()), list(plot_test_loss.values()), label = 'validation loss')\n",
    "\n",
    "plt.title(\"Conv-4 CNN: Percentage of weights pruned VS number of epochs (Early Stopping)\")\n",
    "plt.xlabel(\"percentage of weights pruned\")\n",
    "plt.ylabel(\"number of epochs\")\n",
    "plt.legend(loc = 'best')\n",
    "plt.show()\n"
   ]
  },
  {
   "cell_type": "code",
   "execution_count": null,
   "metadata": {},
   "outputs": [],
   "source": []
  },
  {
   "cell_type": "code",
   "execution_count": 72,
   "metadata": {},
   "outputs": [],
   "source": [
    "# Try to visualize the STARTING training and testing accuracy VS percentage\n",
    "# of remaining weights-\n",
    "\n",
    "# Python 3 dict for visualization-\n",
    "plot_starting_accuracy = {}\n",
    "plot_starting_test_accuracy = {}\n",
    "\n",
    "# Key:    percentage of weights pruned\n",
    "# Value:  starting accuracy\n"
   ]
  },
  {
   "cell_type": "code",
   "execution_count": 73,
   "metadata": {},
   "outputs": [],
   "source": [
    "# populate 'plot_starting_accuracy'-\n",
    "for k in history_main.keys():\n",
    "    epoch_length = len(history_main[k]['loss'])\n",
    "    plot_starting_accuracy[history_main[k]['percentage_wts_pruned']] = history_main[k]['accuracy'][0]\n"
   ]
  },
  {
   "cell_type": "code",
   "execution_count": 74,
   "metadata": {},
   "outputs": [],
   "source": [
    "# populate 'plot_starting_test_accuracy'-\n",
    "for k in history_main.keys():\n",
    "    epoch_length = len(history_main[k]['loss'])\n",
    "    plot_starting_test_accuracy[history_main[k]['percentage_wts_pruned']] = history_main[k]['val_accuracy'][0]\n"
   ]
  },
  {
   "cell_type": "code",
   "execution_count": 75,
   "metadata": {},
   "outputs": [
    {
     "data": {
      "image/png": "[encoded data removed]",
      "text/plain": [
       "<Figure size 800x720 with 1 Axes>"
      ]
     },
     "metadata": {},
     "output_type": "display_data"
    }
   ],
   "source": [
    "# Visualize starting accuracy VS percentage of weights pruned-\n",
    "fig=plt.figure(figsize=(10, 9), dpi= 80, facecolor='w', edgecolor='k')\n",
    "\n",
    "plt.plot(list(plot_starting_accuracy.keys()), list(plot_starting_accuracy.values()), label = 'training starting accuracy')\n",
    "plt.plot(list(plot_starting_test_accuracy.keys()), list(plot_starting_test_accuracy.values()), label = 'testing starting accuracy')\n",
    "\n",
    "plt.title(\"Conv-4 CNN: Percentage of weights pruned VS. Starting Accuracy\")\n",
    "plt.xlabel(\"percentage of weights pruned\")\n",
    "plt.ylabel(\"Accuracy\")\n",
    "plt.legend(loc = 'best')\n",
    "plt.show()\n"
   ]
  },
  {
   "cell_type": "code",
   "execution_count": null,
   "metadata": {},
   "outputs": [],
   "source": []
  },
  {
   "cell_type": "code",
   "execution_count": 76,
   "metadata": {},
   "outputs": [],
   "source": [
    "# Try to visualize the STARTING training and testing loss VS percentage\n",
    "# of remaining weights-\n",
    "\n",
    "# Python 3 dict for visualization-\n",
    "plot_starting_loss = {}\n",
    "plot_starting_test_loss = {}\n",
    "\n",
    "# Key:\t\tpercentage of weights pruned\n",
    "# Value:\tstarting loss\n"
   ]
  },
  {
   "cell_type": "code",
   "execution_count": 77,
   "metadata": {},
   "outputs": [],
   "source": [
    "# Populate 'plot_starting_loss' Python 3 dict-\n",
    "for k in history_main.keys():\n",
    "    epoch_length = len(history_main[k]['loss'])\n",
    "    plot_starting_loss[history_main[k]['percentage_wts_pruned']] = history_main[k]['loss'][0]\n"
   ]
  },
  {
   "cell_type": "code",
   "execution_count": 78,
   "metadata": {},
   "outputs": [],
   "source": [
    "# Populate 'plot_starting_test_loss' Python 3 dict-\n",
    "for k in history_main.keys():\n",
    "    epoch_length = len(history_main[k]['loss'])\n",
    "    plot_starting_test_loss[history_main[k]['percentage_wts_pruned']] = history_main[k]['val_loss'][0]\n"
   ]
  },
  {
   "cell_type": "code",
   "execution_count": 79,
   "metadata": {},
   "outputs": [
    {
     "data": {
      "image/png": "[encoded data removed]",
      "text/plain": [
       "<Figure size 800x720 with 1 Axes>"
      ]
     },
     "metadata": {},
     "output_type": "display_data"
    }
   ],
   "source": [
    "# Visualize Starting training & testing loss VS percentage of weights pruned-\n",
    "fig=plt.figure(figsize=(10, 9), dpi= 80, facecolor='w', edgecolor='k')\n",
    "\n",
    "plt.plot(list(plot_starting_loss.keys()), list(plot_starting_loss.values()), label = 'training starting loss')\n",
    "plt.plot(list(plot_starting_test_loss.keys()), list(plot_starting_test_loss.values()), label = 'testing starting loss')\n",
    "\n",
    "plt.title(\"Conv-4 CNN: Percentage of weights pruned VS. Starting Loss\")\n",
    "plt.xlabel(\"percentage of weights pruned\")\n",
    "plt.ylabel(\"Loss\")\n",
    "plt.legend(loc = 'best')\n",
    "plt.show()"
   ]
  },
  {
   "cell_type": "code",
   "execution_count": null,
   "metadata": {},
   "outputs": [],
   "source": []
  },
  {
   "cell_type": "code",
   "execution_count": null,
   "metadata": {},
   "outputs": [],
   "source": []
  },
  {
   "cell_type": "code",
   "execution_count": 80,
   "metadata": {},
   "outputs": [],
   "source": [
    "# Try to visualize: percentage of weights remaining VS BEST accuracy within each iterative\n",
    "# pruning round\n",
    "\n",
    "# Python 3 dict for visualization-\n",
    "plot_best_accuracy = {}\n",
    "plot_best_test_accuracy = {}\n",
    "\n",
    "# Key:\t\tpercentage of weights pruned\n",
    "# Value:\tbest accuracy"
   ]
  },
  {
   "cell_type": "code",
   "execution_count": 81,
   "metadata": {},
   "outputs": [],
   "source": [
    "# Populate 'plot_best_accuracy' Python 3 dict-\n",
    "for k in history_main.keys():\n",
    "    epoch_length = len(history_main[k]['accuracy'])\n",
    "    plot_best_accuracy[history_main[k]['percentage_wts_pruned']] = np.amax(history_main[k]['accuracy'])\n"
   ]
  },
  {
   "cell_type": "code",
   "execution_count": 82,
   "metadata": {},
   "outputs": [],
   "source": [
    "# Populate 'plot_best_test_accuracy' Python 3 dict-\n",
    "for k in history_main.keys():\n",
    "    epoch_length = len(history_main[k]['accuracy'])\n",
    "    plot_best_test_accuracy[history_main[k]['percentage_wts_pruned']] = np.amax(history_main[k]['val_accuracy'])\n"
   ]
  },
  {
   "cell_type": "code",
   "execution_count": 83,
   "metadata": {},
   "outputs": [
    {
     "data": {
      "image/png": "[encoded data removed]",
      "text/plain": [
       "<Figure size 800x720 with 1 Axes>"
      ]
     },
     "metadata": {},
     "output_type": "display_data"
    }
   ],
   "source": [
    "# Visualize best accuracy VS percentage of weights pruned-\n",
    "fig=plt.figure(figsize=(10, 9), dpi= 80, facecolor='w', edgecolor='k')\n",
    "\n",
    "plt.plot(list(plot_best_accuracy.keys()), list(plot_best_accuracy.values()), label = 'training best accuracy')\n",
    "plt.plot(list(plot_best_test_accuracy.keys()), list(plot_best_test_accuracy.values()), label = 'testing best accuracy')\n",
    "\n",
    "plt.title(\"Conv-4 CNN: Percentage of weights pruned VS. Best Accuracy\")\n",
    "plt.xlabel(\"percentage of weighs pruned\")\n",
    "plt.ylabel(\"Accuracy\")\n",
    "plt.legend(loc = 'best')\n",
    "plt.show()\n"
   ]
  },
  {
   "cell_type": "code",
   "execution_count": null,
   "metadata": {},
   "outputs": [],
   "source": []
  },
  {
   "cell_type": "code",
   "execution_count": 84,
   "metadata": {},
   "outputs": [],
   "source": [
    "# Try to visualize: percentage of weights remaining VS LOWEST loss within each iterative\n",
    "# pruning round\n",
    "\n",
    "# Python 3 dict for visualization-\n",
    "plot_best_loss = {}\n",
    "plot_best_test_loss = {}\n",
    "\n",
    "# Key:\t\tpercentage of weights pruned\n",
    "# Value:\tbest loss"
   ]
  },
  {
   "cell_type": "code",
   "execution_count": 85,
   "metadata": {},
   "outputs": [],
   "source": [
    "# Populate 'plot_best_loss' Python 3 dict-\n",
    "for k in history_main.keys():\n",
    "    epoch_length = len(history_main[k]['loss'])\n",
    "    plot_best_loss[history_main[k]['percentage_wts_pruned']] = np.amin(history_main[k]['loss'])\n"
   ]
  },
  {
   "cell_type": "code",
   "execution_count": 86,
   "metadata": {},
   "outputs": [],
   "source": [
    "# Populate 'plot_best_test_loss' Python 3 dict-\n",
    "for k in history_main.keys():\n",
    "    epoch_length = len(history_main[k]['loss'])\n",
    "    plot_best_test_loss[history_main[k]['percentage_wts_pruned']] = np.amin(history_main[k]['val_loss'])\n"
   ]
  },
  {
   "cell_type": "code",
   "execution_count": 87,
   "metadata": {},
   "outputs": [
    {
     "data": {
      "image/png": "[encoded data removed]",
      "text/plain": [
       "<Figure size 800x720 with 1 Axes>"
      ]
     },
     "metadata": {},
     "output_type": "display_data"
    }
   ],
   "source": [
    "# Visualize best loss VS percentage of weights pruned-\n",
    "fig=plt.figure(figsize=(10, 9), dpi= 80, facecolor='w', edgecolor='k')\n",
    "\n",
    "plt.plot(list(plot_best_loss.keys()), list(plot_best_loss.values()), label = 'training best loss')\n",
    "plt.plot(list(plot_best_test_loss.keys()), list(plot_best_test_loss.values()), label = 'testing best loss')\n",
    "\n",
    "plt.title(\"Conv-4 CNN: Percentage of weights pruned VS. Best Loss\")\n",
    "plt.xlabel(\"percentage of weights pruned\")\n",
    "plt.ylabel(\"Loss\")\n",
    "plt.legend(loc = 'best')\n",
    "plt.show()\n"
   ]
  },
  {
   "cell_type": "code",
   "execution_count": null,
   "metadata": {},
   "outputs": [],
   "source": []
  },
  {
   "cell_type": "code",
   "execution_count": null,
   "metadata": {},
   "outputs": [],
   "source": []
  },
  {
   "cell_type": "markdown",
   "metadata": {},
   "source": [
    "### Finding the _winning ticket_:"
   ]
  },
  {
   "cell_type": "code",
   "execution_count": 88,
   "metadata": {},
   "outputs": [
    {
     "name": "stdout",
     "output_type": "stream",
     "text": [
      "epoch: 1, val_acc = 76.5800% with 0.0000% weights pruned, needs = 7 epochs\n",
      "epoch: 2, val_acc = 75.2600% with 18.9111% weights pruned, needs = 7 epochs\n",
      "epoch: 3, val_acc = 76.8000% with 34.1482% weights pruned, needs = 7 epochs\n",
      "epoch: 4, val_acc = 77.1200% with 46.4352% weights pruned, needs = 8 epochs\n",
      "epoch: 5, val_acc = 77.0100% with 56.3524% weights pruned, needs = 7 epochs\n",
      "epoch: 6, val_acc = 76.2300% with 64.3651% weights pruned, needs = 6 epochs\n",
      "epoch: 7, val_acc = 77.4400% with 70.8470% weights pruned, needs = 5 epochs\n",
      "epoch: 8, val_acc = 77.9800% with 76.0954% weights pruned, needs = 5 epochs\n",
      "epoch: 9, val_acc = 77.2100% with 80.3524% weights pruned, needs = 5 epochs\n",
      "epoch: 10, val_acc = 76.9200% with 83.8092% weights pruned, needs = 5 epochs\n",
      "epoch: 11, val_acc = 76.5200% with 86.6217% weights pruned, needs = 5 epochs\n",
      "epoch: 12, val_acc = 76.8600% with 88.9131% weights pruned, needs = 5 epochs\n",
      "epoch: 13, val_acc = 76.7100% with 90.7836% weights pruned, needs = 5 epochs\n",
      "epoch: 14, val_acc = 75.5400% with 92.3145% weights pruned, needs = 5 epochs\n",
      "epoch: 15, val_acc = 75.9400% with 93.5708% weights pruned, needs = 5 epochs\n",
      "epoch: 16, val_acc = 76.3000% with 94.6028% weights pruned, needs = 5 epochs\n",
      "epoch: 17, val_acc = 76.5700% with 95.4526% weights pruned, needs = 6 epochs\n",
      "epoch: 18, val_acc = 76.3500% with 96.1553% weights pruned, needs = 7 epochs\n",
      "epoch: 19, val_acc = 75.8200% with 96.7381% weights pruned, needs = 7 epochs\n",
      "epoch: 20, val_acc = 75.2800% with 97.2220% weights pruned, needs = 8 epochs\n",
      "epoch: 21, val_acc = 74.9500% with 97.6252% weights pruned, needs = 8 epochs\n",
      "epoch: 22, val_acc = 74.4700% with 97.9638% weights pruned, needs = 10 epochs\n",
      "epoch: 23, val_acc = 74.8600% with 98.2472% weights pruned, needs = 11 epochs\n",
      "epoch: 24, val_acc = 74.3100% with 98.4869% weights pruned, needs = 14 epochs\n",
      "epoch: 25, val_acc = 73.4100% with 98.6891% weights pruned, needs = 16 epochs\n",
      "epoch: 26, val_acc = 73.5900% with 98.8604% weights pruned, needs = 23 epochs\n",
      "epoch: 27, val_acc = 72.3600% with 99.0069% weights pruned, needs = 23 epochs\n",
      "epoch: 28, val_acc = 70.4700% with 99.1317% weights pruned, needs = 22 epochs\n",
      "epoch: 29, val_acc = 70.5900% with 99.2397% weights pruned, needs = 31 epochs\n",
      "epoch: 30, val_acc = 69.6200% with 99.3311% weights pruned, needs = 38 epochs\n",
      "epoch: 31, val_acc = 67.4700% with 99.4106% weights pruned, needs = 55 epochs\n",
      "epoch: 32, val_acc = 64.2300% with 99.4799% weights pruned, needs = 38 epochs\n"
     ]
    }
   ],
   "source": [
    "for k in history_main.keys():\n",
    "\tepoch_length = len(history_main[k]['loss'])\n",
    "\n",
    "\tif k == 1:\n",
    "\t\tprint(\"epoch: {0}, val_acc = {1:.4f}% with {2:.4f}% weights pruned, needs = {3} epochs\".format(\n",
    "\t\t\tk, history_main[k]['val_accuracy'][epoch_length-1],\n",
    "\t\t\t0, epoch_length))\n",
    "\telse:\n",
    "\t\tprint(\"epoch: {0}, val_acc = {1:.4f}% with {2:.4f}% weights pruned, needs = {3} epochs\".format(\n",
    "\t\t\tk, history_main[k]['val_accuracy'][epoch_length-1],\n",
    "\t\t\thistory_main[k - 1]['percentage_wts_pruned'], epoch_length))\n"
   ]
  }
 ],
 "metadata": {
  "kernelspec": {
   "display_name": "Python 3",
   "language": "python",
   "name": "python3"
  },
  "language_info": {
   "codemirror_mode": {
    "name": "ipython",
    "version": 3
   },
   "file_extension": ".py",
   "mimetype": "text/x-python",
   "name": "python",
   "nbconvert_exporter": "python",
   "pygments_lexer": "ipython3",
   "version": "3.7.3"
  }
 },
 "nbformat": 4,
 "nbformat_minor": 4
}
