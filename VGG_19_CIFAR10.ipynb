{
 "cells": [
  {
   "cell_type": "markdown",
   "metadata": {},
   "source": [
    "# VGG-19 Convolutional Neural Networks: CIFAR10 dataset"
   ]
  },
  {
   "cell_type": "code",
   "execution_count": 21,
   "metadata": {},
   "outputs": [],
   "source": [
    "import tensorflow as tf\n",
    "import numpy as np\n",
    "import matplotlib.pyplot as plt\n",
    "import math\n",
    "import tensorflow_model_optimization as tfmot\n",
    "from tensorflow_model_optimization.sparsity import keras as sparsity\n",
    "# from tensorflow.keras import datasets, layers, models\n",
    "import matplotlib.pyplot as plt\n",
    "from tensorflow.keras.layers import AveragePooling2D, Conv2D, MaxPooling2D, ReLU, BatchNormalization\n",
    "from tensorflow.keras import models, layers, datasets\n",
    "from tensorflow.keras.layers import Dense, Flatten, Reshape, Input, InputLayer\n",
    "from tensorflow.keras.models import Sequential, Model\n",
    "from tensorflow.keras.initializers import RandomNormal\n",
    "# import math\n",
    "from sklearn.metrics import accuracy_score, precision_score, recall_score\n",
    "\n",
    "from tensorflow.keras.preprocessing.image import ImageDataGenerator\n"
   ]
  },
  {
   "cell_type": "code",
   "execution_count": null,
   "metadata": {},
   "outputs": [],
   "source": []
  },
  {
   "cell_type": "code",
   "execution_count": null,
   "metadata": {},
   "outputs": [],
   "source": []
  },
  {
   "cell_type": "code",
   "execution_count": 2,
   "metadata": {},
   "outputs": [
    {
     "data": {
      "text/plain": [
       "'2.2.0'"
      ]
     },
     "execution_count": 2,
     "metadata": {},
     "output_type": "execute_result"
    }
   ],
   "source": [
    "tf.__version__"
   ]
  },
  {
   "cell_type": "code",
   "execution_count": null,
   "metadata": {},
   "outputs": [],
   "source": []
  },
  {
   "cell_type": "code",
   "execution_count": 3,
   "metadata": {},
   "outputs": [
    {
     "name": "stdout",
     "output_type": "stream",
     "text": [
      "env: CUDA_DEVICE_ORDER=PCI_BUS_ID\n",
      "env: CUDA_VISIBLE_DEVICES=2\n"
     ]
    }
   ],
   "source": [
    "%env CUDA_DEVICE_ORDER=PCI_BUS_ID\n",
    "%env CUDA_VISIBLE_DEVICES=2"
   ]
  },
  {
   "cell_type": "code",
   "execution_count": 4,
   "metadata": {},
   "outputs": [],
   "source": [
    "batch_size = 64\n",
    "num_classes = 100\n",
    "num_epochs = 145"
   ]
  },
  {
   "cell_type": "code",
   "execution_count": 5,
   "metadata": {},
   "outputs": [],
   "source": [
    "# Data preprocessing and cleaning:\n",
    "# input image dimensions\n",
    "img_rows, img_cols = 32, 32\n",
    "\n",
    "# Load CIFAR-10 dataset-\n",
    "# (X_train, y_train), (X_test, y_test) = tf.keras.datasets.cifar10.load_data()\n",
    "\n",
    "# Load CIFAR-100 dataset-\n",
    "(X_train, y_train), (X_test, y_test) = tf.keras.datasets.cifar100.load_data()"
   ]
  },
  {
   "cell_type": "code",
   "execution_count": 6,
   "metadata": {},
   "outputs": [
    {
     "name": "stdout",
     "output_type": "stream",
     "text": [
      "\n",
      "'input_shape' which will be used = (32, 32, 3)\n",
      "\n"
     ]
    }
   ],
   "source": [
    "if tf.keras.backend.image_data_format() == 'channels_first':\n",
    "    X_train = X_train.reshape(X_train.shape[0], 3, img_rows, img_cols)\n",
    "    X_test = X_test.reshape(X_test.shape[0], 3, img_rows, img_cols)\n",
    "    input_shape = (3, img_rows, img_cols)\n",
    "else:\n",
    "    X_train = X_train.reshape(X_train.shape[0], img_rows, img_cols, 3)\n",
    "    X_test = X_test.reshape(X_test.shape[0], img_rows, img_cols, 3)\n",
    "    input_shape = (img_rows, img_cols, 3)\n",
    "\n",
    "print(\"\\n'input_shape' which will be used = {0}\\n\".format(input_shape))"
   ]
  },
  {
   "cell_type": "code",
   "execution_count": 7,
   "metadata": {},
   "outputs": [],
   "source": [
    "# Convert datasets to floating point types-\n",
    "X_train = X_train.astype('float32')\n",
    "X_test = X_test.astype('float32')\n",
    "\n",
    "# Normalize the training and testing datasets-\n",
    "X_train /= 255.0\n",
    "X_test /= 255.0"
   ]
  },
  {
   "cell_type": "code",
   "execution_count": 8,
   "metadata": {},
   "outputs": [],
   "source": [
    "# convert class vectors/target to binary class matrices or one-hot encoded values-\n",
    "y_train = tf.keras.utils.to_categorical(y_train, num_classes)\n",
    "y_test = tf.keras.utils.to_categorical(y_test, num_classes)"
   ]
  },
  {
   "cell_type": "code",
   "execution_count": 9,
   "metadata": {},
   "outputs": [
    {
     "name": "stdout",
     "output_type": "stream",
     "text": [
      "\n",
      "Dimensions of training and testing sets are:\n",
      "X_train.shape = (50000, 32, 32, 3), y_train.shape = (50000, 100)\n",
      "X_test.shape = (10000, 32, 32, 3), y_test.shape = (10000, 100)\n"
     ]
    }
   ],
   "source": [
    "print(\"\\nDimensions of training and testing sets are:\")\n",
    "print(\"X_train.shape = {0}, y_train.shape = {1}\".format(X_train.shape, y_train.shape))\n",
    "print(\"X_test.shape = {0}, y_test.shape = {1}\".format(X_test.shape, y_test.shape))"
   ]
  },
  {
   "cell_type": "code",
   "execution_count": null,
   "metadata": {},
   "outputs": [],
   "source": []
  },
  {
   "cell_type": "code",
   "execution_count": null,
   "metadata": {},
   "outputs": [],
   "source": []
  },
  {
   "cell_type": "markdown",
   "metadata": {},
   "source": [
    "### Prepare CIFAR10 dataset for _GradientTape_ training:"
   ]
  },
  {
   "cell_type": "code",
   "execution_count": 10,
   "metadata": {},
   "outputs": [],
   "source": [
    "# Create training and testing datasets-\n",
    "train_dataset = tf.data.Dataset.from_tensor_slices((X_train, y_train))\n",
    "test_dataset = tf.data.Dataset.from_tensor_slices((X_test, y_test))"
   ]
  },
  {
   "cell_type": "code",
   "execution_count": 11,
   "metadata": {},
   "outputs": [],
   "source": [
    "train_dataset = train_dataset.shuffle(buffer_size = 20000, reshuffle_each_iteration = True).batch(batch_size = batch_size, drop_remainder = False)"
   ]
  },
  {
   "cell_type": "code",
   "execution_count": 12,
   "metadata": {},
   "outputs": [],
   "source": [
    "test_dataset = test_dataset.batch(batch_size=batch_size, drop_remainder=False)"
   ]
  },
  {
   "cell_type": "code",
   "execution_count": 13,
   "metadata": {},
   "outputs": [],
   "source": [
    "# Choose an optimizer and loss function for training-\n",
    "loss_fn = tf.keras.losses.CategoricalCrossentropy()\n",
    "optimizer = tf.keras.optimizers.SGD(learning_rate=0.01, momentum=0.9)"
   ]
  },
  {
   "cell_type": "code",
   "execution_count": 14,
   "metadata": {},
   "outputs": [],
   "source": [
    "# Select metrics to measure the error & accuracy of model.\n",
    "# These metrics accumulate the values over epochs and then\n",
    "# print the overall result-\n",
    "train_loss = tf.keras.metrics.Mean(name = 'train_loss')\n",
    "train_accuracy = tf.keras.metrics.CategoricalAccuracy(name = 'train_accuracy')\n",
    "\n",
    "test_loss = tf.keras.metrics.Mean(name = 'test_loss')\n",
    "test_accuracy = tf.keras.metrics.CategoricalAccuracy(name = 'test_accuracy')"
   ]
  },
  {
   "cell_type": "code",
   "execution_count": null,
   "metadata": {},
   "outputs": [],
   "source": []
  },
  {
   "cell_type": "code",
   "execution_count": null,
   "metadata": {},
   "outputs": [],
   "source": []
  },
  {
   "cell_type": "code",
   "execution_count": 16,
   "metadata": {},
   "outputs": [],
   "source": [
    "def vgg19_nn():\n",
    "    \"\"\"\n",
    "    Function to define the architecture of a convolutional neural network\n",
    "    model following VGG-19 architecture for CIFAR-10 dataset.\n",
    "    \n",
    "    Vgg-19 architecture-\n",
    "    64, 64, pool                 -- convolutional layers\n",
    "    128, 128, pool               -- convolutional layers\n",
    "    256, 256, 256, 256, max-pool -- convolutional layers\n",
    "    512, 512, 512, 512, max-pool -- convolutional layers\n",
    "    512, 512, 512, 512, avg-pool -- convolutional layers\n",
    "    10                           -- fully connected layers\n",
    "    \n",
    "    Output: Returns designed and compiled convolutional neural network model\n",
    "    \"\"\"\n",
    "\n",
    "    \n",
    "    # l = tf.keras.layers\n",
    "    \n",
    "    model = Sequential()\n",
    "    \n",
    "    model.add(\n",
    "    Conv2D(\n",
    "            filters = 64, kernel_size = (3, 3),\n",
    "            activation='relu', kernel_initializer = tf.initializers.he_normal(),\n",
    "            strides = (1, 1), padding = 'same',\n",
    "            input_shape=(32, 32, 3)\n",
    "        )\n",
    "    )\n",
    "    \n",
    "    model.add(BatchNormalization())\n",
    "    \n",
    "    model.add(\n",
    "    Conv2D(\n",
    "            filters = 64, kernel_size = (3, 3),\n",
    "            activation='relu', kernel_initializer = tf.initializers.he_normal(),\n",
    "            strides = (1, 1), padding = 'same'\n",
    "        )\n",
    "    )\n",
    "    \n",
    "    model.add(BatchNormalization())\n",
    "    \n",
    "    model.add(\n",
    "    MaxPooling2D(\n",
    "            pool_size = (2, 2),\n",
    "            strides = (2, 2)\n",
    "        )\n",
    "    )\n",
    "    \n",
    "    model.add(\n",
    "    Conv2D(\n",
    "            filters = 128, kernel_size = (3, 3),\n",
    "            activation='relu', kernel_initializer = tf.initializers.he_normal(),\n",
    "            strides = (1, 1), padding = 'same'\n",
    "        )\n",
    "    )\n",
    "    \n",
    "    model.add(BatchNormalization())\n",
    "    \n",
    "    model.add(\n",
    "    Conv2D(\n",
    "            filters = 128, kernel_size = (3, 3),\n",
    "            activation='relu', kernel_initializer = tf.initializers.he_normal(),\n",
    "            strides = (1, 1), padding = 'same'\n",
    "        )\n",
    "    )\n",
    "    \n",
    "    model.add(BatchNormalization())\n",
    "    \n",
    "    model.add(\n",
    "    MaxPooling2D(\n",
    "            pool_size = (2, 2),\n",
    "            strides = (2, 2)\n",
    "        )\n",
    "    )\n",
    "    \n",
    "    model.add(\n",
    "    Conv2D(\n",
    "            filters = 256, kernel_size = (3, 3),\n",
    "            activation='relu', kernel_initializer = tf.initializers.he_normal(),\n",
    "            strides = (1, 1), padding = 'same'\n",
    "        )\n",
    "    )\n",
    "    \n",
    "    model.add(BatchNormalization())\n",
    "    \n",
    "    model.add(\n",
    "    Conv2D(\n",
    "            filters = 256, kernel_size = (3, 3),\n",
    "            activation='relu', kernel_initializer = tf.initializers.he_normal(),\n",
    "            strides = (1, 1), padding = 'same'\n",
    "        )\n",
    "    )\n",
    "    \n",
    "    model.add(BatchNormalization())\n",
    "    \n",
    "    model.add(\n",
    "    Conv2D(\n",
    "            filters = 256, kernel_size = (3, 3),\n",
    "            activation='relu', kernel_initializer = tf.initializers.he_normal(),\n",
    "            strides = (1, 1), padding = 'same'\n",
    "        )\n",
    "    )\n",
    "    \n",
    "    model.add(BatchNormalization())\n",
    "    \n",
    "    model.add(\n",
    "    Conv2D(\n",
    "            filters = 256, kernel_size = (3, 3),\n",
    "            activation='relu', kernel_initializer = tf.initializers.he_normal(),\n",
    "            strides = (1, 1), padding = 'same'\n",
    "        )\n",
    "    )\n",
    "    \n",
    "    model.add(BatchNormalization())\n",
    "    \n",
    "    model.add(\n",
    "    MaxPooling2D(\n",
    "            pool_size = (2, 2),\n",
    "            strides = (2, 2)\n",
    "        )\n",
    "    )\n",
    "    \n",
    "    model.add(\n",
    "    Conv2D(\n",
    "            filters = 512, kernel_size = (3, 3),\n",
    "            activation='relu', kernel_initializer = tf.initializers.he_normal(),\n",
    "            strides = (1, 1), padding = 'same'\n",
    "        )\n",
    "    )\n",
    "    \n",
    "    model.add(BatchNormalization())\n",
    "    \n",
    "    model.add(\n",
    "    Conv2D(\n",
    "            filters = 512, kernel_size = (3, 3),\n",
    "            activation='relu', kernel_initializer = tf.initializers.he_normal(),\n",
    "            strides = (1, 1), padding = 'same'\n",
    "        )\n",
    "    )\n",
    "    \n",
    "    model.add(BatchNormalization())\n",
    "    \n",
    "    model.add(\n",
    "    Conv2D(\n",
    "            filters = 512, kernel_size = (3, 3),\n",
    "            activation='relu', kernel_initializer = tf.initializers.he_normal(),\n",
    "            strides = (1, 1), padding = 'same'\n",
    "        )\n",
    "    )\n",
    "    \n",
    "    model.add(BatchNormalization())\n",
    "    \n",
    "    model.add(\n",
    "    Conv2D(\n",
    "            filters = 512, kernel_size = (3, 3),\n",
    "            activation='relu', kernel_initializer = tf.initializers.he_normal(),\n",
    "            strides = (1, 1), padding = 'same'\n",
    "        )\n",
    "    )\n",
    "    \n",
    "    model.add(BatchNormalization())\n",
    "    \n",
    "    model.add(\n",
    "    MaxPooling2D(\n",
    "            pool_size = (2, 2),\n",
    "            strides = (2, 2)\n",
    "        )\n",
    "    )\n",
    "    \n",
    "    model.add(\n",
    "    Conv2D(\n",
    "            filters = 512, kernel_size = (3, 3),\n",
    "            activation='relu', kernel_initializer = tf.initializers.he_normal(),\n",
    "            strides = (1, 1), padding = 'same'\n",
    "        )\n",
    "    )\n",
    "    \n",
    "    model.add(BatchNormalization())\n",
    "    \n",
    "    model.add(\n",
    "    Conv2D(\n",
    "            filters = 512, kernel_size = (3, 3),\n",
    "            activation='relu', kernel_initializer = tf.initializers.he_normal(),\n",
    "            strides = (1, 1), padding = 'same'\n",
    "        )\n",
    "    )\n",
    "    \n",
    "    model.add(BatchNormalization())\n",
    "    \n",
    "    model.add(\n",
    "    Conv2D(\n",
    "            filters = 512, kernel_size = (3, 3),\n",
    "            activation='relu', kernel_initializer = tf.initializers.he_normal(),\n",
    "            strides = (1, 1), padding = 'same'\n",
    "        )\n",
    "    )\n",
    "    \n",
    "    model.add(BatchNormalization())\n",
    "    \n",
    "    model.add(\n",
    "    Conv2D(\n",
    "            filters = 512, kernel_size = (3, 3),\n",
    "            activation='relu', kernel_initializer = tf.initializers.he_normal(),\n",
    "            strides = (1, 1), padding = 'same'\n",
    "        )\n",
    "    )\n",
    "    \n",
    "    model.add(BatchNormalization())\n",
    "    \n",
    "    \n",
    "    model.add(\n",
    "    AveragePooling2D(\n",
    "        pool_size=(2, 2), strides=(2, 2)\n",
    "    )\n",
    "    )\n",
    "    \n",
    "    model.add(Flatten())\n",
    "    \n",
    "    '''\n",
    "    model.add(\n",
    "        MaxPooling2D(\n",
    "            pool_size = (2, 2),\n",
    "            strides = (2, 2)\n",
    "        )\n",
    "    )\n",
    "    \n",
    "    \n",
    "    model.add(\n",
    "    Dense(\n",
    "            units = 1000, activation='relu',\n",
    "            kernel_initializer = tf.initializers.he_normal()\n",
    "        )\n",
    "    )\n",
    "    \n",
    "    model.add(\n",
    "    Dense(\n",
    "            units = 1000, activation='relu',\n",
    "            kernel_initializer = tf.initializers.he_normal()\n",
    "        )\n",
    "    )\n",
    "    '''\n",
    "    \n",
    "    '''\n",
    "    model.add(\n",
    "    Dense(\n",
    "            units = 1000, activation='relu'\n",
    "        )\n",
    "    )\n",
    "    '''\n",
    "    \n",
    "    model.add(\n",
    "    Dense(\n",
    "            units = num_classes, activation='softmax'\n",
    "        )\n",
    "    )\n",
    "    \n",
    "    \n",
    "    # Compile pruned CNN-\n",
    "    model.compile(\n",
    "        loss=tf.keras.losses.categorical_crossentropy,\n",
    "        # optimizer='adam',\n",
    "        optimizer = tf.keras.optimizers.SGD(learning_rate=0.01, momentum=0.9),\n",
    "        metrics=['accuracy']\n",
    "    )\n",
    "    \n",
    "    return model"
   ]
  },
  {
   "cell_type": "code",
   "execution_count": null,
   "metadata": {},
   "outputs": [],
   "source": []
  },
  {
   "cell_type": "code",
   "execution_count": null,
   "metadata": {},
   "outputs": [],
   "source": []
  },
  {
   "cell_type": "code",
   "execution_count": 17,
   "metadata": {},
   "outputs": [],
   "source": [
    "# Add a pruning step callback to peg the pruning step to the optimizer's\n",
    "# step. Also add a callback to add pruning summaries to tensorboard\n",
    "callback = [\n",
    "             # sparsity.UpdatePruningStep(),\n",
    "             # sparsity.PruningSummaries(log_dir = logdir, profile_batch=0),\n",
    "             tf.keras.callbacks.EarlyStopping(\n",
    "                 monitor='val_loss', patience = 3,\n",
    "                 min_delta=0.001\n",
    "             )\n",
    "]"
   ]
  },
  {
   "cell_type": "code",
   "execution_count": null,
   "metadata": {},
   "outputs": [],
   "source": []
  },
  {
   "cell_type": "code",
   "execution_count": 18,
   "metadata": {},
   "outputs": [],
   "source": [
    "# Initialize a CNN model-\n",
    "orig_model = vgg19_nn()"
   ]
  },
  {
   "cell_type": "code",
   "execution_count": 19,
   "metadata": {},
   "outputs": [],
   "source": [
    "# Save random weights of defined CNN-\n",
    "# orig_model.save_weights(\"VGG19_Random_Weights.h5\", overwrite=True)"
   ]
  },
  {
   "cell_type": "code",
   "execution_count": 19,
   "metadata": {},
   "outputs": [
    {
     "name": "stdout",
     "output_type": "stream",
     "text": [
      "Model: \"sequential\"\n",
      "_________________________________________________________________\n",
      "Layer (type)                 Output Shape              Param #   \n",
      "=================================================================\n",
      "conv2d (Conv2D)              (None, 32, 32, 64)        1792      \n",
      "_________________________________________________________________\n",
      "batch_normalization (BatchNo (None, 32, 32, 64)        256       \n",
      "_________________________________________________________________\n",
      "conv2d_1 (Conv2D)            (None, 32, 32, 64)        36928     \n",
      "_________________________________________________________________\n",
      "batch_normalization_1 (Batch (None, 32, 32, 64)        256       \n",
      "_________________________________________________________________\n",
      "max_pooling2d (MaxPooling2D) (None, 16, 16, 64)        0         \n",
      "_________________________________________________________________\n",
      "conv2d_2 (Conv2D)            (None, 16, 16, 128)       73856     \n",
      "_________________________________________________________________\n",
      "batch_normalization_2 (Batch (None, 16, 16, 128)       512       \n",
      "_________________________________________________________________\n",
      "conv2d_3 (Conv2D)            (None, 16, 16, 128)       147584    \n",
      "_________________________________________________________________\n",
      "batch_normalization_3 (Batch (None, 16, 16, 128)       512       \n",
      "_________________________________________________________________\n",
      "max_pooling2d_1 (MaxPooling2 (None, 8, 8, 128)         0         \n",
      "_________________________________________________________________\n",
      "conv2d_4 (Conv2D)            (None, 8, 8, 256)         295168    \n",
      "_________________________________________________________________\n",
      "batch_normalization_4 (Batch (None, 8, 8, 256)         1024      \n",
      "_________________________________________________________________\n",
      "conv2d_5 (Conv2D)            (None, 8, 8, 256)         590080    \n",
      "_________________________________________________________________\n",
      "batch_normalization_5 (Batch (None, 8, 8, 256)         1024      \n",
      "_________________________________________________________________\n",
      "conv2d_6 (Conv2D)            (None, 8, 8, 256)         590080    \n",
      "_________________________________________________________________\n",
      "batch_normalization_6 (Batch (None, 8, 8, 256)         1024      \n",
      "_________________________________________________________________\n",
      "conv2d_7 (Conv2D)            (None, 8, 8, 256)         590080    \n",
      "_________________________________________________________________\n",
      "batch_normalization_7 (Batch (None, 8, 8, 256)         1024      \n",
      "_________________________________________________________________\n",
      "max_pooling2d_2 (MaxPooling2 (None, 4, 4, 256)         0         \n",
      "_________________________________________________________________\n",
      "conv2d_8 (Conv2D)            (None, 4, 4, 512)         1180160   \n",
      "_________________________________________________________________\n",
      "batch_normalization_8 (Batch (None, 4, 4, 512)         2048      \n",
      "_________________________________________________________________\n",
      "conv2d_9 (Conv2D)            (None, 4, 4, 512)         2359808   \n",
      "_________________________________________________________________\n",
      "batch_normalization_9 (Batch (None, 4, 4, 512)         2048      \n",
      "_________________________________________________________________\n",
      "conv2d_10 (Conv2D)           (None, 4, 4, 512)         2359808   \n",
      "_________________________________________________________________\n",
      "batch_normalization_10 (Batc (None, 4, 4, 512)         2048      \n",
      "_________________________________________________________________\n",
      "conv2d_11 (Conv2D)           (None, 4, 4, 512)         2359808   \n",
      "_________________________________________________________________\n",
      "batch_normalization_11 (Batc (None, 4, 4, 512)         2048      \n",
      "_________________________________________________________________\n",
      "max_pooling2d_3 (MaxPooling2 (None, 2, 2, 512)         0         \n",
      "_________________________________________________________________\n",
      "conv2d_12 (Conv2D)           (None, 2, 2, 512)         2359808   \n",
      "_________________________________________________________________\n",
      "batch_normalization_12 (Batc (None, 2, 2, 512)         2048      \n",
      "_________________________________________________________________\n",
      "conv2d_13 (Conv2D)           (None, 2, 2, 512)         2359808   \n",
      "_________________________________________________________________\n",
      "batch_normalization_13 (Batc (None, 2, 2, 512)         2048      \n",
      "_________________________________________________________________\n",
      "conv2d_14 (Conv2D)           (None, 2, 2, 512)         2359808   \n",
      "_________________________________________________________________\n",
      "batch_normalization_14 (Batc (None, 2, 2, 512)         2048      \n",
      "_________________________________________________________________\n",
      "conv2d_15 (Conv2D)           (None, 2, 2, 512)         2359808   \n",
      "_________________________________________________________________\n",
      "batch_normalization_15 (Batc (None, 2, 2, 512)         2048      \n",
      "_________________________________________________________________\n",
      "average_pooling2d (AveragePo (None, 1, 1, 512)         0         \n",
      "_________________________________________________________________\n",
      "flatten (Flatten)            (None, 512)               0         \n",
      "_________________________________________________________________\n",
      "dense (Dense)                (None, 100)               51300     \n",
      "=================================================================\n",
      "Total params: 20,097,700\n",
      "Trainable params: 20,086,692\n",
      "Non-trainable params: 11,008\n",
      "_________________________________________________________________\n"
     ]
    }
   ],
   "source": [
    "# Get CNN model summary-\n",
    "orig_model.summary()"
   ]
  },
  {
   "cell_type": "code",
   "execution_count": null,
   "metadata": {},
   "outputs": [],
   "source": []
  },
  {
   "cell_type": "code",
   "execution_count": null,
   "metadata": {},
   "outputs": [],
   "source": []
  },
  {
   "cell_type": "code",
   "execution_count": 22,
   "metadata": {},
   "outputs": [
    {
     "data": {
      "text/plain": [
       "'\\nfor x, y in datagen.flow(X_train, y_train, batch_size=batch_size, shuffle=True):\\n\\tprint(x.shape, y.shape)\\n'"
      ]
     },
     "execution_count": 22,
     "metadata": {},
     "output_type": "execute_result"
    }
   ],
   "source": [
    "# Example of using 'tf.keras.preprocessing.image import ImageDataGenerator class's - flow(x, y)':\n",
    "\n",
    "datagen = ImageDataGenerator(\n",
    "    # featurewise_center=True,\n",
    "    # featurewise_std_normalization=True,\n",
    "    rotation_range = 20,\n",
    "    width_shift_range = 0.1,\n",
    "    height_shift_range = 0.1,\n",
    "    horizontal_flip = True\n",
    ")\n",
    "\n",
    "\n",
    "# flow():\n",
    "# Takes data & label arrays, generates batches of augmented data.\n",
    "\n",
    "# datagen.flow(X_train, y_train, batch_size=batch_size, shuffle=True)\n",
    "'''\n",
    "for x, y in datagen.flow(X_train, y_train, batch_size=batch_size, shuffle=True):\n",
    "\tprint(x.shape, y.shape)\n",
    "'''"
   ]
  },
  {
   "cell_type": "code",
   "execution_count": null,
   "metadata": {},
   "outputs": [],
   "source": []
  },
  {
   "cell_type": "code",
   "execution_count": 23,
   "metadata": {},
   "outputs": [],
   "source": [
    "# Create mask using winning ticket-\n",
    "\n",
    "# Instantiate a new neural network model for which, the mask is to be created,\n",
    "mask_model = vgg19_nn()\n",
    "    \n",
    "# Load weights of PRUNED model-\n",
    "mask_model.set_weights(orig_model.get_weights())\n",
    "    \n",
    "# For each layer, for each weight which is 0, leave it, as is.\n",
    "# And for weights which survive the pruning,reinitialize it to ONE (1)-\n",
    "for wts in mask_model.trainable_weights:\n",
    "    wts.assign(tf.where(tf.equal(wts, 0.), 0., 1.))\n"
   ]
  },
  {
   "cell_type": "code",
   "execution_count": 24,
   "metadata": {},
   "outputs": [
    {
     "name": "stdout",
     "output_type": "stream",
     "text": [
      "\n",
      "Total # of non-zero masks = 20075581\n",
      "\n"
     ]
    }
   ],
   "source": [
    "# Count number of non-zero masks-\n",
    "mask_params = 0\n",
    "\n",
    "for layer in mask_model.trainable_weights:\n",
    "    nonzeroparams = tf.math.count_nonzero(layer, axis = None).numpy()\n",
    "    # print(\"layer: {0} has {1} non-zero masks\".format(layer.shape, nonzeroparams))\n",
    "    mask_params += nonzeroparams\n",
    "\n",
    "print(\"\\nTotal # of non-zero masks = {0}\\n\".format(mask_params))"
   ]
  },
  {
   "cell_type": "code",
   "execution_count": null,
   "metadata": {},
   "outputs": [],
   "source": []
  },
  {
   "cell_type": "code",
   "execution_count": null,
   "metadata": {},
   "outputs": [],
   "source": []
  },
  {
   "cell_type": "markdown",
   "metadata": {},
   "source": [
    "### Train model using _tf.GradientTape_:"
   ]
  },
  {
   "cell_type": "code",
   "execution_count": 33,
   "metadata": {},
   "outputs": [],
   "source": [
    "# User input parameters for Early Stopping in manual implementation-\n",
    "minimum_delta = 0.001\n",
    "patience = 3"
   ]
  },
  {
   "cell_type": "code",
   "execution_count": 34,
   "metadata": {},
   "outputs": [],
   "source": [
    "best_val_loss = 100\n",
    "loc_patience = 0"
   ]
  },
  {
   "cell_type": "code",
   "execution_count": 48,
   "metadata": {},
   "outputs": [],
   "source": [
    "# best_trained_weights = []"
   ]
  },
  {
   "cell_type": "code",
   "execution_count": 35,
   "metadata": {},
   "outputs": [],
   "source": [
    "# Initialize a new LeNet-300-100 model-\n",
    "winning_ticket_model = vgg19_nn()\n",
    "\n",
    "# Load weights of winning ticket-\n",
    "winning_ticket_model.set_weights(orig_model.get_weights())"
   ]
  },
  {
   "cell_type": "code",
   "execution_count": null,
   "metadata": {},
   "outputs": [],
   "source": []
  },
  {
   "cell_type": "code",
   "execution_count": 36,
   "metadata": {},
   "outputs": [],
   "source": [
    "# Define 'train_one_step()' and 'test_step()' functions here-\n",
    "@tf.function\n",
    "def train_one_step(model, mask_model, optimizer, x, y):\n",
    "    '''\n",
    "    Function to compute one step of gradient descent optimization\n",
    "    '''\n",
    "    with tf.GradientTape() as tape:\n",
    "        # Make predictions using defined model-\n",
    "        y_pred = model(x)\n",
    "\n",
    "        # Compute loss-\n",
    "        loss = loss_fn(y, y_pred)\n",
    "        \n",
    "    # Compute gradients wrt defined loss and weights and biases-\n",
    "    grads = tape.gradient(loss, model.trainable_variables)\n",
    "    \n",
    "    # type(grads)\n",
    "    # list\n",
    "    \n",
    "    # List to hold element-wise multiplication between-\n",
    "    # computed gradient and masks-\n",
    "    grad_mask_mul = []\n",
    "    \n",
    "    # Perform element-wise multiplication between computed gradients and masks-\n",
    "    for grad_layer, mask in zip(grads, mask_model.trainable_weights):\n",
    "        grad_mask_mul.append(tf.math.multiply(grad_layer, mask))\n",
    "    \n",
    "    # Apply computed gradients to model's weights and biases-\n",
    "    optimizer.apply_gradients(zip(grad_mask_mul, model.trainable_variables))\n",
    "\n",
    "    # Compute accuracy-\n",
    "    train_loss(loss)\n",
    "    train_accuracy(y, y_pred)\n",
    "\n",
    "    return None\n",
    "    \n",
    "    \n",
    "@tf.function\n",
    "def test_step(model, optimizer, data, labels):\n",
    "    \"\"\"\n",
    "    Function to test model performance\n",
    "    on testing dataset\n",
    "    \"\"\"\n",
    "    \n",
    "    predictions = model(data)\n",
    "    t_loss = loss_fn(labels, predictions)\n",
    "\n",
    "    test_loss(t_loss)\n",
    "    test_accuracy(labels, predictions)\n",
    "\n",
    "    return None\n",
    "\n"
   ]
  },
  {
   "cell_type": "code",
   "execution_count": null,
   "metadata": {},
   "outputs": [],
   "source": []
  },
  {
   "cell_type": "code",
   "execution_count": null,
   "metadata": {},
   "outputs": [
    {
     "name": "stdout",
     "output_type": "stream",
     "text": [
      "Epoch 1, Loss: 4.4499, Accuracy: 2.0927, Test Loss: 4.1898, Test Accuracy: 4.250000\n",
      "Total number of trainable parameters = 20075581\n",
      "\n",
      "Epoch 2, Loss: 4.0806, Accuracy: 5.9779, Test Loss: 3.8972, Test Accuracy: 8.950000\n",
      "Total number of trainable parameters = 20075581\n",
      "\n",
      "Epoch 3, Loss: 3.7995, Accuracy: 10.8875, Test Loss: 3.5873, Test Accuracy: 15.090000\n",
      "Total number of trainable parameters = 20075581\n",
      "\n",
      "Epoch 4, Loss: 3.5553, Accuracy: 14.9168, Test Loss: 3.3746, Test Accuracy: 17.750000\n",
      "Total number of trainable parameters = 20075581\n",
      "\n",
      "Epoch 5, Loss: 3.3249, Accuracy: 18.8700, Test Loss: 3.2291, Test Accuracy: 21.030001\n",
      "Total number of trainable parameters = 20075581\n",
      "\n",
      "Epoch 6, Loss: 3.1575, Accuracy: 22.1691, Test Loss: 3.0323, Test Accuracy: 24.299999\n",
      "Total number of trainable parameters = 20075581\n",
      "\n",
      "Epoch 7, Loss: 2.9915, Accuracy: 25.2321, Test Loss: 3.0377, Test Accuracy: 25.799999\n",
      "Total number of trainable parameters = 20075581\n",
      "\n",
      "Epoch 8, Loss: 2.8493, Accuracy: 28.0490, Test Loss: 2.8210, Test Accuracy: 29.160000\n",
      "Total number of trainable parameters = 20075581\n",
      "\n",
      "Epoch 9, Loss: 2.7070, Accuracy: 30.8299, Test Loss: 2.7029, Test Accuracy: 32.130001\n",
      "Total number of trainable parameters = 20075581\n",
      "\n",
      "Epoch 10, Loss: 2.5821, Accuracy: 33.4507, Test Loss: 2.4923, Test Accuracy: 35.830002\n",
      "Total number of trainable parameters = 20075581\n",
      "\n",
      "Epoch 11, Loss: 2.4693, Accuracy: 35.5254, Test Loss: 2.4788, Test Accuracy: 36.880001\n",
      "Total number of trainable parameters = 20075581\n",
      "\n",
      "Epoch 12, Loss: 2.3507, Accuracy: 38.2803, Test Loss: 2.3219, Test Accuracy: 40.419998\n",
      "Total number of trainable parameters = 20075581\n",
      "\n",
      "Epoch 13, Loss: 2.2663, Accuracy: 40.1288, Test Loss: 2.2969, Test Accuracy: 40.310001\n",
      "Total number of trainable parameters = 20075581\n",
      "\n",
      "Epoch 14, Loss: 2.1715, Accuracy: 42.0194, Test Loss: 2.2731, Test Accuracy: 41.760002\n",
      "Total number of trainable parameters = 20075581\n",
      "\n",
      "Epoch 15, Loss: 2.0863, Accuracy: 43.8940, Test Loss: 2.1568, Test Accuracy: 43.920002\n",
      "Total number of trainable parameters = 20075581\n",
      "\n",
      "Epoch 16, Loss: 2.0084, Accuracy: 45.6946, Test Loss: 2.2444, Test Accuracy: 43.610001\n",
      "Total number of trainable parameters = 20075581\n",
      "\n",
      "Epoch 17, Loss: 1.9422, Accuracy: 47.6553, Test Loss: 2.2050, Test Accuracy: 44.380001\n",
      "Total number of trainable parameters = 20075581\n",
      "\n",
      "Epoch 18, Loss: 1.8726, Accuracy: 49.0477, Test Loss: 2.1569, Test Accuracy: 45.950001\n",
      "Total number of trainable parameters = 20075581\n",
      "\n",
      "Epoch 19, Loss: 1.8125, Accuracy: 50.5122, Test Loss: 2.0797, Test Accuracy: 46.849998\n",
      "Total number of trainable parameters = 20075581\n",
      "\n",
      "Epoch 20, Loss: 1.7512, Accuracy: 52.0687, Test Loss: 2.1903, Test Accuracy: 46.439999\n",
      "Total number of trainable parameters = 20075581\n",
      "\n",
      "Epoch 21, Loss: 1.6921, Accuracy: 53.1110, Test Loss: 1.9943, Test Accuracy: 48.160000\n",
      "Total number of trainable parameters = 20075581\n",
      "\n",
      "Epoch 22, Loss: 1.6439, Accuracy: 54.2974, Test Loss: 2.0422, Test Accuracy: 48.139999\n",
      "Total number of trainable parameters = 20075581\n",
      "\n",
      "Epoch 23, Loss: 1.5982, Accuracy: 55.4037, Test Loss: 1.9643, Test Accuracy: 49.380001\n",
      "Total number of trainable parameters = 20075581\n",
      "\n",
      "Epoch 24, Loss: 1.5330, Accuracy: 56.8962, Test Loss: 1.9783, Test Accuracy: 50.059998\n",
      "Total number of trainable parameters = 20075581\n",
      "\n",
      "Epoch 25, Loss: 1.4845, Accuracy: 58.3747, Test Loss: 2.0065, Test Accuracy: 49.829998\n",
      "Total number of trainable parameters = 20075581\n",
      "\n",
      "Epoch 26, Loss: 1.4427, Accuracy: 59.1149, Test Loss: 2.0884, Test Accuracy: 50.419998\n",
      "Total number of trainable parameters = 20075581\n",
      "\n",
      "Epoch 27, Loss: 1.4032, Accuracy: 60.0392, Test Loss: 1.9664, Test Accuracy: 50.800003\n",
      "Total number of trainable parameters = 20075581\n",
      "\n",
      "Epoch 28, Loss: 1.3574, Accuracy: 61.1576, Test Loss: 1.9217, Test Accuracy: 51.430000\n",
      "Total number of trainable parameters = 20075581\n",
      "\n",
      "Epoch 29, Loss: 1.3225, Accuracy: 62.1459, Test Loss: 2.0868, Test Accuracy: 51.209999\n",
      "Total number of trainable parameters = 20075581\n",
      "\n",
      "Epoch 30, Loss: 1.2794, Accuracy: 63.1382, Test Loss: 1.9775, Test Accuracy: 52.579998\n",
      "Total number of trainable parameters = 20075581\n",
      "\n",
      "Epoch 31, Loss: 1.2446, Accuracy: 64.0225, Test Loss: 1.9715, Test Accuracy: 51.639999\n",
      "Total number of trainable parameters = 20075581\n",
      "\n",
      "Epoch 32, Loss: 1.2131, Accuracy: 64.8708, Test Loss: 1.8948, Test Accuracy: 52.799999\n",
      "Total number of trainable parameters = 20075581\n",
      "\n",
      "Epoch 33, Loss: 1.1710, Accuracy: 65.8711, Test Loss: 1.8663, Test Accuracy: 54.070004\n",
      "Total number of trainable parameters = 20075581\n",
      "\n",
      "Epoch 34, Loss: 1.1438, Accuracy: 66.6693, Test Loss: 2.1804, Test Accuracy: 51.059998\n",
      "Total number of trainable parameters = 20075581\n",
      "\n",
      "Epoch 35, Loss: 1.1195, Accuracy: 67.5416, Test Loss: 2.0136, Test Accuracy: 53.869999\n",
      "Total number of trainable parameters = 20075581\n",
      "\n",
      "Epoch 36, Loss: 1.0624, Accuracy: 68.7020, Test Loss: 1.9291, Test Accuracy: 52.960003\n",
      "Total number of trainable parameters = 20075581\n",
      "\n",
      "Epoch 37, Loss: 1.0467, Accuracy: 69.4082, Test Loss: 1.7982, Test Accuracy: 54.250000\n",
      "Total number of trainable parameters = 20075581\n",
      "\n",
      "Epoch 38, Loss: 1.0064, Accuracy: 70.3445, Test Loss: 2.0143, Test Accuracy: 53.079998\n",
      "Total number of trainable parameters = 20075581\n",
      "\n",
      "Epoch 39, Loss: 0.9873, Accuracy: 70.6386, Test Loss: 2.0927, Test Accuracy: 53.670002\n",
      "Total number of trainable parameters = 20075581\n",
      "\n",
      "Epoch 40, Loss: 0.9664, Accuracy: 71.2168, Test Loss: 2.0865, Test Accuracy: 53.530003\n",
      "Total number of trainable parameters = 20075581\n",
      "\n",
      "Epoch 41, Loss: 0.9291, Accuracy: 72.3732, Test Loss: 2.1316, Test Accuracy: 54.680000\n",
      "Total number of trainable parameters = 20075581\n",
      "\n",
      "Epoch 42, Loss: 0.9043, Accuracy: 73.1734, Test Loss: 2.1728, Test Accuracy: 53.619999\n",
      "Total number of trainable parameters = 20075581\n",
      "\n",
      "Epoch 43, Loss: 0.8879, Accuracy: 73.4295, Test Loss: 2.2086, Test Accuracy: 53.570004\n",
      "Total number of trainable parameters = 20075581\n",
      "\n",
      "Epoch 44, Loss: 0.8625, Accuracy: 74.0857, Test Loss: 2.0521, Test Accuracy: 54.410000\n",
      "Total number of trainable parameters = 20075581\n",
      "\n",
      "Epoch 45, Loss: 0.8487, Accuracy: 74.5559, Test Loss: 2.0825, Test Accuracy: 54.220001\n",
      "Total number of trainable parameters = 20075581\n",
      "\n",
      "Epoch 46, Loss: 0.8135, Accuracy: 75.4801, Test Loss: 2.1664, Test Accuracy: 53.539997\n",
      "Total number of trainable parameters = 20075581\n",
      "\n",
      "Epoch 47, Loss: 0.7788, Accuracy: 76.3824, Test Loss: 2.2055, Test Accuracy: 55.330002\n",
      "Total number of trainable parameters = 20075581\n",
      "\n",
      "Epoch 48, Loss: 0.7632, Accuracy: 77.0086, Test Loss: 2.2335, Test Accuracy: 53.930004\n",
      "Total number of trainable parameters = 20075581\n",
      "\n",
      "Epoch 49, Loss: 0.7363, Accuracy: 77.7789, Test Loss: 2.2552, Test Accuracy: 54.200001\n",
      "Total number of trainable parameters = 20075581\n",
      "\n",
      "Epoch 50, Loss: 0.7260, Accuracy: 78.2871, Test Loss: 2.0174, Test Accuracy: 56.370003\n",
      "Total number of trainable parameters = 20075581\n",
      "\n",
      "Epoch 51, Loss: 0.6981, Accuracy: 78.6952, Test Loss: 2.1434, Test Accuracy: 55.220001\n",
      "Total number of trainable parameters = 20075581\n",
      "\n",
      "Epoch 52, Loss: 0.6878, Accuracy: 79.1613, Test Loss: 2.2908, Test Accuracy: 52.579998\n",
      "Total number of trainable parameters = 20075581\n",
      "\n",
      "Epoch 53, Loss: 0.6716, Accuracy: 79.4934, Test Loss: 2.2434, Test Accuracy: 55.690002\n",
      "Total number of trainable parameters = 20075581\n",
      "\n",
      "Epoch 54, Loss: 0.6489, Accuracy: 80.2237, Test Loss: 2.2089, Test Accuracy: 54.380001\n",
      "Total number of trainable parameters = 20075581\n",
      "\n",
      "Epoch 55, Loss: 0.6232, Accuracy: 80.8919, Test Loss: 2.1898, Test Accuracy: 55.040001\n",
      "Total number of trainable parameters = 20075581\n",
      "\n"
     ]
    }
   ],
   "source": [
    "# Train model using 'GradientTape'-\n",
    "    \n",
    "# Initialize parameters for Early Stopping manual implementation-\n",
    "# best_val_loss = 100\n",
    "# loc_patience = 0\n",
    "    \n",
    "for epoch in range(num_epochs):\n",
    "    \n",
    "    if loc_patience >= patience:\n",
    "        print(\"\\n'EarlyStopping' called!\\n\")\n",
    "        break\n",
    "        \n",
    "    # Reset the metrics at the start of the next epoch\n",
    "    train_loss.reset_states()\n",
    "    train_accuracy.reset_states()\n",
    "    test_loss.reset_states()\n",
    "    test_accuracy.reset_states()\n",
    "    \n",
    "    curr_step = 0\n",
    "    \n",
    "    for x, y in datagen.flow(X_train, y_train, batch_size = batch_size, shuffle = True):\n",
    "    # for x, y in zip(augmented_train_batches, y_train):\n",
    "        train_one_step(winning_ticket_model, mask_model, optimizer, x, y)\n",
    "        # print(\"current step = \", curr_step)\n",
    "        curr_step += 1\n",
    "        \n",
    "        if curr_step >= X_train.shape[0] // batch_size:\n",
    "            # print(\"\\nTerminating training (datagen.flow())\")\n",
    "            break\n",
    "\n",
    "\n",
    "    for x_t, y_t in test_dataset:\n",
    "    # for x_t, y_t in zip(validation_batches, y_test):\n",
    "        test_step(winning_ticket_model, optimizer, x_t, y_t)\n",
    "    \n",
    "    '''\n",
    "    for x, y in train_dataset:\n",
    "        train_one_step(winning_ticket_model, mask_model, optimizer, x, y)\n",
    "\n",
    "\n",
    "    for x_t, y_t in test_dataset:\n",
    "        test_step(winning_ticket_model, optimizer, x_t, y_t)\n",
    "\n",
    "    '''\n",
    "\n",
    "    \n",
    "    template = 'Epoch {0}, Loss: {1:.4f}, Accuracy: {2:.4f}, Test Loss: {3:.4f}, Test Accuracy: {4:4f}'\n",
    "    \n",
    "    '''\n",
    "    # 'i' is the index for number of pruning rounds-\n",
    "    history_main[i]['accuracy'][epoch] = train_accuracy.result() * 100\n",
    "    history_main[i]['loss'][epoch] = train_loss.result()\n",
    "    history_main[i]['val_loss'][epoch] = test_loss.result()\n",
    "    history_main[i]['val_accuracy'][epoch] = test_accuracy.result() * 100\n",
    "    ''' \n",
    "\n",
    "    print(template.format(\n",
    "        epoch + 1, train_loss.result(),\n",
    "        train_accuracy.result()*100, test_loss.result(),\n",
    "        test_accuracy.result()*100)\n",
    "         )\n",
    "    \n",
    "    # Count number of non-zero parameters in each layer and in total-\n",
    "    # print(\"layer-wise manner model, number of nonzero parameters in each layer are: \\n\")\n",
    "    model_sum_params = 0\n",
    "    \n",
    "    for layer in winning_ticket_model.trainable_weights:\n",
    "        # print(tf.math.count_nonzero(layer, axis = None).numpy())\n",
    "        model_sum_params += tf.math.count_nonzero(layer, axis = None).numpy()\n",
    "    \n",
    "    print(\"Total number of trainable parameters = {0}\\n\".format(model_sum_params))\n",
    "    \n",
    "    '''\n",
    "    if test_loss.result() < best_val_loss:\n",
    "        best_trained_weights = copy.deepcopy(winning_ticket_model.get_weights())\n",
    "        print(\"\\ntest_loss.result = {0:.4f}, best_val_loss = {1:.4f}, copied 'best weights'\\n\".format(test_loss.result(), best_val_loss))\n",
    "    '''\n",
    "    \n",
    "    '''\n",
    "    # Code for manual Early Stopping:\n",
    "    if np.abs(test_loss.result() < best_val_loss) >= minimum_delta:\n",
    "        # update 'best_val_loss' variable to lowest loss encountered so far-\n",
    "        best_val_loss = test_loss.result()\n",
    "        \n",
    "        # reset 'loc_patience' variable-\n",
    "        loc_patience = 0\n",
    "        \n",
    "    else:  # there is no improvement in monitored metric 'val_loss'\n",
    "        loc_patience += 1  # number of epochs without any improvement\n",
    "    '''"
   ]
  },
  {
   "cell_type": "code",
   "execution_count": null,
   "metadata": {},
   "outputs": [],
   "source": []
  },
  {
   "cell_type": "code",
   "execution_count": 38,
   "metadata": {},
   "outputs": [],
   "source": [
    "# Evaluate trained model on validation data-\n",
    "loss, acc = winning_ticket_model.evaluate(X_test, y_test, verbose=0)"
   ]
  },
  {
   "cell_type": "code",
   "execution_count": 39,
   "metadata": {},
   "outputs": [
    {
     "name": "stdout",
     "output_type": "stream",
     "text": [
      "\n",
      "VGG-19 CNN (145 epochs training without early stopping) metrics on validation data:\n",
      "loss = 3.3211 and accuracy = 56.6800%\n",
      "\n"
     ]
    }
   ],
   "source": [
    "print(\"\\nVGG-19 CNN (145 epochs training without early stopping) metrics on validation data:\")\n",
    "print(\"loss = {0:.4f} and accuracy = {1:.4f}%\\n\".format(loss, acc * 100))"
   ]
  },
  {
   "cell_type": "code",
   "execution_count": null,
   "metadata": {},
   "outputs": [],
   "source": []
  },
  {
   "cell_type": "code",
   "execution_count": null,
   "metadata": {},
   "outputs": [],
   "source": []
  },
  {
   "cell_type": "markdown",
   "metadata": {},
   "source": [
    "### Train model using early stopping:"
   ]
  },
  {
   "cell_type": "code",
   "execution_count": 28,
   "metadata": {},
   "outputs": [
    {
     "name": "stdout",
     "output_type": "stream",
     "text": [
      "Epoch 1/145\n",
      "782/782 [==============================] - 79s 101ms/step - loss: 3.7013 - accuracy: 0.1341 - val_loss: 3.3331 - val_accuracy: 0.1959\n",
      "Epoch 2/145\n",
      "782/782 [==============================] - 44s 56ms/step - loss: 2.9167 - accuracy: 0.2651 - val_loss: 2.7362 - val_accuracy: 0.3099\n",
      "Epoch 3/145\n",
      "782/782 [==============================] - 45s 57ms/step - loss: 2.3784 - accuracy: 0.3725 - val_loss: 2.7275 - val_accuracy: 0.3301\n",
      "Epoch 4/145\n",
      "782/782 [==============================] - 45s 57ms/step - loss: 1.9774 - accuracy: 0.4612 - val_loss: 2.1823 - val_accuracy: 0.4310\n",
      "Epoch 5/145\n",
      "782/782 [==============================] - 45s 57ms/step - loss: 1.6434 - accuracy: 0.5371 - val_loss: 2.0752 - val_accuracy: 0.4577\n",
      "Epoch 6/145\n",
      "782/782 [==============================] - 45s 58ms/step - loss: 1.3508 - accuracy: 0.6075 - val_loss: 2.2561 - val_accuracy: 0.4472\n",
      "Epoch 7/145\n",
      "782/782 [==============================] - 45s 58ms/step - loss: 1.0824 - accuracy: 0.6759 - val_loss: 2.1432 - val_accuracy: 0.4694\n",
      "Epoch 8/145\n",
      "782/782 [==============================] - 45s 57ms/step - loss: 0.8313 - accuracy: 0.7457 - val_loss: 2.2816 - val_accuracy: 0.4717\n"
     ]
    }
   ],
   "source": [
    "# Train CNN using early stopping callback-\n",
    "history = orig_model.fit(\n",
    "        x = X_train, y = y_train,\n",
    "        batch_size = batch_size,\n",
    "        epochs = num_epochs,\n",
    "        verbose = 1,\n",
    "        callbacks = callback,\n",
    "        validation_data = (X_test, y_test),\n",
    "        shuffle = True\n",
    "    )\n",
    "    "
   ]
  },
  {
   "cell_type": "code",
   "execution_count": 29,
   "metadata": {},
   "outputs": [
    {
     "name": "stdout",
     "output_type": "stream",
     "text": [
      "\n",
      "Training completed of VGG-19 CNN on CIFAR-100 dataset\n",
      "\n"
     ]
    }
   ],
   "source": [
    "print(\"\\nTraining completed of VGG-19 CNN on CIFAR-100 dataset\\n\")"
   ]
  },
  {
   "cell_type": "code",
   "execution_count": null,
   "metadata": {},
   "outputs": [],
   "source": []
  },
  {
   "cell_type": "code",
   "execution_count": 30,
   "metadata": {},
   "outputs": [],
   "source": [
    "# Evaluate trained model on validation data-\n",
    "loss, acc = orig_model.evaluate(X_test, y_test, verbose=0)"
   ]
  },
  {
   "cell_type": "code",
   "execution_count": 31,
   "metadata": {},
   "outputs": [
    {
     "name": "stdout",
     "output_type": "stream",
     "text": [
      "\n",
      "VGG-19 CNN metrics on validation data:\n",
      "loss = 2.2816 and accuracy = 47.1700%\n",
      "\n"
     ]
    }
   ],
   "source": [
    "print(\"\\nVGG-19 CNN metrics on validation data:\")\n",
    "print(\"loss = {0:.4f} and accuracy = {1:.4f}%\\n\".format(loss, acc * 100))"
   ]
  },
  {
   "cell_type": "code",
   "execution_count": null,
   "metadata": {},
   "outputs": [],
   "source": []
  },
  {
   "cell_type": "code",
   "execution_count": 20,
   "metadata": {},
   "outputs": [],
   "source": [
    "# Save trained weights-\n",
    "# orig_model.save_weights(\"VGG19_EarlyStopping_Trained_Weights.h5\", overwrite = True)\n",
    "# orig_model.save_weights(\"VGG10_CIFAR100_EarlyStopping_Trained_Weights.h5\", overwrite=True)"
   ]
  },
  {
   "cell_type": "code",
   "execution_count": null,
   "metadata": {},
   "outputs": [],
   "source": []
  },
  {
   "cell_type": "code",
   "execution_count": 23,
   "metadata": {},
   "outputs": [
    {
     "name": "stdout",
     "output_type": "stream",
     "text": [
      "WARNING:tensorflow:From /home/majumdar/.local/lib/python3.7/site-packages/tensorflow_core/python/ops/resource_variable_ops.py:1781: calling BaseResourceVariable.__init__ (from tensorflow.python.ops.resource_variable_ops) with constraint is deprecated and will be removed in a future version.\n",
      "Instructions for updating:\n",
      "If using Keras pass *_constraint arguments to layers.\n",
      "INFO:tensorflow:Assets written to: vgg19_cnn_saved_model_dense_layers//vgg19_early_stopping_model_dense_layers/assets\n"
     ]
    }
   ],
   "source": [
    "'''\n",
    "# Save the trained CNN model as a 'SavedModel' format-\n",
    "\n",
    "# Create a directory to save files to-\n",
    "!mkdir -p vgg19_cnn_saved_model_dense_layers\n",
    "\n",
    "orig_model.save('vgg19_cnn_saved_model_dense_layers//vgg19_early_stopping_model_dense_layers')\n",
    "'''"
   ]
  },
  {
   "cell_type": "code",
   "execution_count": null,
   "metadata": {},
   "outputs": [],
   "source": []
  },
  {
   "cell_type": "code",
   "execution_count": null,
   "metadata": {},
   "outputs": [],
   "source": []
  },
  {
   "cell_type": "code",
   "execution_count": null,
   "metadata": {},
   "outputs": [],
   "source": []
  },
  {
   "cell_type": "code",
   "execution_count": null,
   "metadata": {},
   "outputs": [],
   "source": []
  },
  {
   "cell_type": "code",
   "execution_count": null,
   "metadata": {},
   "outputs": [],
   "source": [
    "history.history.keys()"
   ]
  },
  {
   "cell_type": "code",
   "execution_count": 25,
   "metadata": {},
   "outputs": [
    {
     "data": {
      "image/png": "[encoded data removed]",
      "text/plain": [
       "<Figure size 800x720 with 1 Axes>"
      ]
     },
     "metadata": {},
     "output_type": "display_data"
    }
   ],
   "source": [
    "fig=plt.figure(figsize=(10, 9), dpi= 80, facecolor='w', edgecolor='k')\n",
    "\n",
    "plt.plot(history.history['accuracy'], label = 'training accuracy')\n",
    "plt.plot(history.history['val_accuracy'], label = 'testing accuracy')\n",
    "\n",
    "plt.title(\"Training Accuracy Visualizations (Early Stopping used)\")\n",
    "plt.xlabel(\"number of epochs\")\n",
    "plt.ylabel(\"accuracy\")\n",
    "plt.legend(loc = 'best')\n",
    "plt.show()"
   ]
  },
  {
   "cell_type": "code",
   "execution_count": 26,
   "metadata": {},
   "outputs": [
    {
     "data": {
      "image/png": "[encoded data removed]",
      "text/plain": [
       "<Figure size 800x720 with 1 Axes>"
      ]
     },
     "metadata": {},
     "output_type": "display_data"
    }
   ],
   "source": [
    "fig=plt.figure(figsize=(10, 9), dpi= 80, facecolor='w', edgecolor='k')\n",
    "\n",
    "plt.plot(history.history['loss'], label = 'training loss')\n",
    "plt.plot(history.history['val_loss'], label = 'testing loss')\n",
    "\n",
    "plt.title(\"Training Loss Visualizations (Early Stopping used)\")\n",
    "plt.xlabel(\"number of epochs\")\n",
    "plt.ylabel(\"loss\")\n",
    "plt.legend(loc = 'best')\n",
    "plt.show()"
   ]
  },
  {
   "cell_type": "code",
   "execution_count": null,
   "metadata": {},
   "outputs": [],
   "source": []
  },
  {
   "cell_type": "code",
   "execution_count": null,
   "metadata": {},
   "outputs": [],
   "source": []
  },
  {
   "cell_type": "code",
   "execution_count": 27,
   "metadata": {},
   "outputs": [],
   "source": [
    "import os, pickle"
   ]
  },
  {
   "cell_type": "code",
   "execution_count": 30,
   "metadata": {},
   "outputs": [
    {
     "data": {
      "text/plain": [
       "'/home/majumdar/The_Lottery_Ticket_Hypothesis-Resources'"
      ]
     },
     "execution_count": 30,
     "metadata": {},
     "output_type": "execute_result"
    }
   ],
   "source": [
    "os.getcwd()"
   ]
  },
  {
   "cell_type": "code",
   "execution_count": 28,
   "metadata": {},
   "outputs": [],
   "source": [
    "with open(\"/home/majumdar/The_Lottery_Ticket_Hypothesis-Resources/VGG_19_history_main_Early_Stopping.pkl\", 'wb') as f:\n",
    "    pickle.dump(history.history, f)"
   ]
  },
  {
   "cell_type": "code",
   "execution_count": null,
   "metadata": {},
   "outputs": [],
   "source": []
  },
  {
   "cell_type": "code",
   "execution_count": 37,
   "metadata": {},
   "outputs": [
    {
     "data": {
      "text/plain": [
       "dict_keys(['loss', 'accuracy', 'val_loss', 'val_accuracy'])"
      ]
     },
     "execution_count": 37,
     "metadata": {},
     "output_type": "execute_result"
    }
   ],
   "source": [
    "history.history.keys()"
   ]
  },
  {
   "cell_type": "code",
   "execution_count": 29,
   "metadata": {},
   "outputs": [
    {
     "data": {
      "image/png": "[encoded data removed]",
      "text/plain": [
       "<Figure size 432x288 with 1 Axes>"
      ]
     },
     "metadata": {
      "needs_background": "light"
     },
     "output_type": "display_data"
    }
   ],
   "source": [
    "plt.plot(history.history['val_loss'][:10], label = '')\n",
    "\n",
    "plt.xlabel(\"number of epochs\")\n",
    "plt.ylabel(\"loss\")\n",
    "plt.title(\"Training Visualization: Loss\")\n",
    "plt.show()"
   ]
  },
  {
   "cell_type": "code",
   "execution_count": 30,
   "metadata": {},
   "outputs": [
    {
     "data": {
      "text/plain": [
       "[1.499420763015747,\n",
       " 1.0834785243988037,\n",
       " 0.8884287906646728,\n",
       " 0.7677903863906861,\n",
       " 0.7273026642799377,\n",
       " 0.6846639796257019,\n",
       " 0.664302136516571,\n",
       " 0.6901658197402954,\n",
       " 0.6903423344612122,\n",
       " 0.6828631064414978]"
      ]
     },
     "execution_count": 30,
     "metadata": {},
     "output_type": "execute_result"
    }
   ],
   "source": [
    "history.history['val_loss'][:10]"
   ]
  },
  {
   "cell_type": "code",
   "execution_count": null,
   "metadata": {},
   "outputs": [],
   "source": []
  },
  {
   "cell_type": "markdown",
   "metadata": {},
   "source": [
    "### Observation:\n",
    "\n",
    "It seems that (for this particular instance) after the 7th epoch, the CNN could have been stopped from further for the given settings, such as:\n",
    "\n",
    "1. optimizer\n",
    "1. learning rate, momentum, etc\n",
    "\n",
    "We can use _Early Stopping_ criterion for future training!"
   ]
  },
  {
   "cell_type": "code",
   "execution_count": null,
   "metadata": {},
   "outputs": [],
   "source": []
  },
  {
   "cell_type": "code",
   "execution_count": null,
   "metadata": {},
   "outputs": [],
   "source": []
  },
  {
   "cell_type": "code",
   "execution_count": 16,
   "metadata": {},
   "outputs": [],
   "source": [
    "# Load saved model (from before)-\n",
    "saved_vgg19 = tf.keras.models.load_model('vgg19_cnn_saved_model/vgg19_early_stopping_model')"
   ]
  },
  {
   "cell_type": "code",
   "execution_count": 42,
   "metadata": {},
   "outputs": [],
   "source": [
    "# Get loaded model summary-\n",
    "# saved_vgg19.summary()"
   ]
  },
  {
   "cell_type": "code",
   "execution_count": 17,
   "metadata": {},
   "outputs": [
    {
     "name": "stdout",
     "output_type": "stream",
     "text": [
      "\n",
      "Pre-trained VGG-19 CNN model metrics on validation data:\n",
      "loss = 0.6844 & accuracy = 79.5100%\n",
      "\n"
     ]
    }
   ],
   "source": [
    "# Evalaute loaded model on validataion data-\n",
    "loss, acc = saved_vgg19.evaluate(X_test, y_test, verbose=0)\n",
    "\n",
    "print(\"\\nPre-trained VGG-19 CNN model metrics on validation data:\")\n",
    "print(\"loss = {0:.4f} & accuracy = {1:.4f}%\\n\".format(loss, acc * 100))"
   ]
  },
  {
   "cell_type": "code",
   "execution_count": null,
   "metadata": {},
   "outputs": [],
   "source": []
  },
  {
   "cell_type": "code",
   "execution_count": null,
   "metadata": {},
   "outputs": [],
   "source": []
  },
  {
   "cell_type": "markdown",
   "metadata": {},
   "source": [
    "### Global Pruning for VGG-19 CNN:\n",
    "\n",
    "_The Lottery Ticket Hypothesis_ states that for VGG-19 CNN instead of using a _layer-wise_ magnitude based pruning strategy, a __global__ magnitude based pruning strategy is used.\n",
    "\n",
    "This means that for all of the approximately 20 million parameters, prune _p%_ of the smallest magnitude weights, irrespective of the conv layer the weight belongs to.\n",
    "\n",
    "Possible approach to _global pruning_:\n",
    "\n",
    "1. Store all prunable parameters to __one-dimensional__ numpy array using (x, y, z, a) reshaped to (x * y * z * a)\n",
    "1. Prune _p%_ of smallest weight based magnitude from this __one-dimensional__ numpy array\n",
    "1. Restore the pruned parameters for each conv layer following reverse of _step 1_"
   ]
  },
  {
   "cell_type": "code",
   "execution_count": 37,
   "metadata": {},
   "outputs": [],
   "source": [
    "def prune_vgg19(model, pruning_params_conv):\n",
    "    '''\n",
    "    Inputs:\n",
    "\n",
    "    'model' is the TensorFlow 2.0 defined convolutional neural network\n",
    "    'pruning_params_conv' is the percentage of weights to prune for convolutional layer\n",
    "\n",
    "    Returns:\n",
    "    Python list containing pruned layers\n",
    "    '''\n",
    "\n",
    "    # Python 3 list to hold layer-wise weights-\n",
    "    pruned_weights = []\n",
    "\n",
    "    for layer in saved_vgg19.trainable_weights:\n",
    "        x = layer.numpy()\n",
    "        pruned_weights.append(x)\n",
    "\n",
    "    # Flatten all numpy arrays-\n",
    "    pruned_weights_flattened = [layer.flatten() for layer in pruned_weights]\n",
    "\n",
    "    # Compute the smallest weights to prune based on 'p' parameter-\n",
    "    p = 20  # 20% of smallest global weights to be pruned considering ALL conv layers\n",
    "\n",
    "    threshold = np.percentile(abs(np.concatenate(pruned_weights_flattened)), pruning_params_conv)\n",
    "    # print(\"\\nFor p = {0:.2f}% of weights to be pruned, threshold = {1:.4f}\\n\".format(p, threshold))\n",
    "\n",
    "\n",
    "    # np.concatenate(flattened).shape\n",
    "    # (4032,)\n",
    "\n",
    "    # Prune weights (set values to 0) when smaller than threshhold for CONV layers ONLY-\n",
    "    for layer in pruned_weights:\n",
    "        if len(layer.shape) == 4:\n",
    "            layer[abs(layer) < threshold] = 0\n",
    "\n",
    "\n",
    "    return pruned_weights"
   ]
  },
  {
   "cell_type": "code",
   "execution_count": null,
   "metadata": {},
   "outputs": [],
   "source": []
  },
  {
   "cell_type": "code",
   "execution_count": 38,
   "metadata": {},
   "outputs": [],
   "source": [
    "# Initialize a new VGG-19 CNN-\n",
    "pruned_vgg = pruned_nn()"
   ]
  },
  {
   "cell_type": "code",
   "execution_count": 39,
   "metadata": {},
   "outputs": [],
   "source": [
    "# Prune weights based on percentage of weights to prune-\n",
    "pruned_weights = prune_vgg19(pruned_vgg, 20)"
   ]
  },
  {
   "cell_type": "code",
   "execution_count": 40,
   "metadata": {},
   "outputs": [],
   "source": [
    "# Load Python 3 pruned weights as list-\n",
    "pruned_vgg.set_weights(pruned_weights)"
   ]
  },
  {
   "cell_type": "code",
   "execution_count": null,
   "metadata": {},
   "outputs": [],
   "source": []
  },
  {
   "cell_type": "code",
   "execution_count": null,
   "metadata": {},
   "outputs": [],
   "source": []
  },
  {
   "cell_type": "code",
   "execution_count": 35,
   "metadata": {},
   "outputs": [
    {
     "name": "stdout",
     "output_type": "stream",
     "text": [
      "\n",
      "Total number of trainable parameters in pruned VGG-19 CNN = 16024868\n",
      "\n"
     ]
    }
   ],
   "source": [
    "# Sanity check-\n",
    "pruned_sum_params = 0\n",
    "    \n",
    "for layer in pruned_vgg.trainable_weights:\n",
    "    # print(tf.math.count_nonzero(layer, axis = None).numpy())\n",
    "    pruned_sum_params += tf.math.count_nonzero(layer, axis = None).numpy()\n",
    "\n",
    "    \n",
    "print(\"\\nTotal number of trainable parameters in pruned VGG-19 CNN = {0}\\n\".format(pruned_sum_params))"
   ]
  },
  {
   "cell_type": "code",
   "execution_count": 41,
   "metadata": {},
   "outputs": [
    {
     "data": {
      "text/plain": [
       "1257"
      ]
     },
     "execution_count": 41,
     "metadata": {},
     "output_type": "execute_result"
    }
   ],
   "source": [
    "16024868 - 16023611"
   ]
  },
  {
   "cell_type": "code",
   "execution_count": null,
   "metadata": {},
   "outputs": [],
   "source": []
  }
 ],
 "metadata": {
  "kernelspec": {
   "display_name": "Python 3",
   "language": "python",
   "name": "python3"
  },
  "language_info": {
   "codemirror_mode": {
    "name": "ipython",
    "version": 3
   },
   "file_extension": ".py",
   "mimetype": "text/x-python",
   "name": "python",
   "nbconvert_exporter": "python",
   "pygments_lexer": "ipython3",
   "version": "3.7.3"
  }
 },
 "nbformat": 4,
 "nbformat_minor": 4
}
